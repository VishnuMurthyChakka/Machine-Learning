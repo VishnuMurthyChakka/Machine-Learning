{
 "cells": [
  {
   "cell_type": "code",
   "execution_count": 1,
   "metadata": {},
   "outputs": [
    {
     "name": "stdout",
     "output_type": "stream",
     "text": [
      "C:\\Digital Nest\\Linear Regression\n"
     ]
    }
   ],
   "source": [
    "# Linear Regression\n",
    "import numpy as np\n",
    "import pandas as pd\n",
    "from collections import Counter\n",
    "from matplotlib import pyplot as plt\n",
    "import os\n",
    "os.chdir(\"C://Digital Nest/Linear Regression\")\n",
    "print (os.getcwd())"
   ]
  },
  {
   "cell_type": "code",
   "execution_count": 2,
   "metadata": {},
   "outputs": [
    {
     "data": {
      "text/html": [
       "<div>\n",
       "<style scoped>\n",
       "    .dataframe tbody tr th:only-of-type {\n",
       "        vertical-align: middle;\n",
       "    }\n",
       "\n",
       "    .dataframe tbody tr th {\n",
       "        vertical-align: top;\n",
       "    }\n",
       "\n",
       "    .dataframe thead th {\n",
       "        text-align: right;\n",
       "    }\n",
       "</style>\n",
       "<table border=\"1\" class=\"dataframe\">\n",
       "  <thead>\n",
       "    <tr style=\"text-align: right;\">\n",
       "      <th></th>\n",
       "      <th>Id</th>\n",
       "      <th>MSSubClass</th>\n",
       "      <th>MSZoning</th>\n",
       "      <th>LotFrontage</th>\n",
       "      <th>LotArea</th>\n",
       "      <th>Street</th>\n",
       "      <th>Alley</th>\n",
       "      <th>LotShape</th>\n",
       "      <th>LandContour</th>\n",
       "      <th>Utilities</th>\n",
       "      <th>...</th>\n",
       "      <th>PoolArea</th>\n",
       "      <th>PoolQC</th>\n",
       "      <th>Fence</th>\n",
       "      <th>MiscFeature</th>\n",
       "      <th>MiscVal</th>\n",
       "      <th>MoSold</th>\n",
       "      <th>YrSold</th>\n",
       "      <th>SaleType</th>\n",
       "      <th>SaleCondition</th>\n",
       "      <th>SalePrice</th>\n",
       "    </tr>\n",
       "  </thead>\n",
       "  <tbody>\n",
       "    <tr>\n",
       "      <th>0</th>\n",
       "      <td>1</td>\n",
       "      <td>60</td>\n",
       "      <td>RL</td>\n",
       "      <td>65.0</td>\n",
       "      <td>8450</td>\n",
       "      <td>Pave</td>\n",
       "      <td>NaN</td>\n",
       "      <td>Reg</td>\n",
       "      <td>Lvl</td>\n",
       "      <td>AllPub</td>\n",
       "      <td>...</td>\n",
       "      <td>0</td>\n",
       "      <td>NaN</td>\n",
       "      <td>NaN</td>\n",
       "      <td>NaN</td>\n",
       "      <td>0</td>\n",
       "      <td>2</td>\n",
       "      <td>2008</td>\n",
       "      <td>WD</td>\n",
       "      <td>Normal</td>\n",
       "      <td>208500</td>\n",
       "    </tr>\n",
       "    <tr>\n",
       "      <th>1</th>\n",
       "      <td>2</td>\n",
       "      <td>20</td>\n",
       "      <td>RL</td>\n",
       "      <td>80.0</td>\n",
       "      <td>9600</td>\n",
       "      <td>Pave</td>\n",
       "      <td>NaN</td>\n",
       "      <td>Reg</td>\n",
       "      <td>Lvl</td>\n",
       "      <td>AllPub</td>\n",
       "      <td>...</td>\n",
       "      <td>0</td>\n",
       "      <td>NaN</td>\n",
       "      <td>NaN</td>\n",
       "      <td>NaN</td>\n",
       "      <td>0</td>\n",
       "      <td>5</td>\n",
       "      <td>2007</td>\n",
       "      <td>WD</td>\n",
       "      <td>Normal</td>\n",
       "      <td>181500</td>\n",
       "    </tr>\n",
       "    <tr>\n",
       "      <th>2</th>\n",
       "      <td>3</td>\n",
       "      <td>60</td>\n",
       "      <td>RL</td>\n",
       "      <td>68.0</td>\n",
       "      <td>11250</td>\n",
       "      <td>Pave</td>\n",
       "      <td>NaN</td>\n",
       "      <td>IR1</td>\n",
       "      <td>Lvl</td>\n",
       "      <td>AllPub</td>\n",
       "      <td>...</td>\n",
       "      <td>0</td>\n",
       "      <td>NaN</td>\n",
       "      <td>NaN</td>\n",
       "      <td>NaN</td>\n",
       "      <td>0</td>\n",
       "      <td>9</td>\n",
       "      <td>2008</td>\n",
       "      <td>WD</td>\n",
       "      <td>Normal</td>\n",
       "      <td>223500</td>\n",
       "    </tr>\n",
       "    <tr>\n",
       "      <th>3</th>\n",
       "      <td>4</td>\n",
       "      <td>70</td>\n",
       "      <td>RL</td>\n",
       "      <td>60.0</td>\n",
       "      <td>9550</td>\n",
       "      <td>Pave</td>\n",
       "      <td>NaN</td>\n",
       "      <td>IR1</td>\n",
       "      <td>Lvl</td>\n",
       "      <td>AllPub</td>\n",
       "      <td>...</td>\n",
       "      <td>0</td>\n",
       "      <td>NaN</td>\n",
       "      <td>NaN</td>\n",
       "      <td>NaN</td>\n",
       "      <td>0</td>\n",
       "      <td>2</td>\n",
       "      <td>2006</td>\n",
       "      <td>WD</td>\n",
       "      <td>Abnorml</td>\n",
       "      <td>140000</td>\n",
       "    </tr>\n",
       "    <tr>\n",
       "      <th>4</th>\n",
       "      <td>5</td>\n",
       "      <td>60</td>\n",
       "      <td>RL</td>\n",
       "      <td>84.0</td>\n",
       "      <td>14260</td>\n",
       "      <td>Pave</td>\n",
       "      <td>NaN</td>\n",
       "      <td>IR1</td>\n",
       "      <td>Lvl</td>\n",
       "      <td>AllPub</td>\n",
       "      <td>...</td>\n",
       "      <td>0</td>\n",
       "      <td>NaN</td>\n",
       "      <td>NaN</td>\n",
       "      <td>NaN</td>\n",
       "      <td>0</td>\n",
       "      <td>12</td>\n",
       "      <td>2008</td>\n",
       "      <td>WD</td>\n",
       "      <td>Normal</td>\n",
       "      <td>250000</td>\n",
       "    </tr>\n",
       "  </tbody>\n",
       "</table>\n",
       "<p>5 rows × 81 columns</p>\n",
       "</div>"
      ],
      "text/plain": [
       "   Id  MSSubClass MSZoning  LotFrontage  LotArea Street Alley LotShape  \\\n",
       "0   1          60       RL         65.0     8450   Pave   NaN      Reg   \n",
       "1   2          20       RL         80.0     9600   Pave   NaN      Reg   \n",
       "2   3          60       RL         68.0    11250   Pave   NaN      IR1   \n",
       "3   4          70       RL         60.0     9550   Pave   NaN      IR1   \n",
       "4   5          60       RL         84.0    14260   Pave   NaN      IR1   \n",
       "\n",
       "  LandContour Utilities  ... PoolArea PoolQC Fence MiscFeature MiscVal MoSold  \\\n",
       "0         Lvl    AllPub  ...        0    NaN   NaN         NaN       0      2   \n",
       "1         Lvl    AllPub  ...        0    NaN   NaN         NaN       0      5   \n",
       "2         Lvl    AllPub  ...        0    NaN   NaN         NaN       0      9   \n",
       "3         Lvl    AllPub  ...        0    NaN   NaN         NaN       0      2   \n",
       "4         Lvl    AllPub  ...        0    NaN   NaN         NaN       0     12   \n",
       "\n",
       "  YrSold  SaleType  SaleCondition  SalePrice  \n",
       "0   2008        WD         Normal     208500  \n",
       "1   2007        WD         Normal     181500  \n",
       "2   2008        WD         Normal     223500  \n",
       "3   2006        WD        Abnorml     140000  \n",
       "4   2008        WD         Normal     250000  \n",
       "\n",
       "[5 rows x 81 columns]"
      ]
     },
     "execution_count": 2,
     "metadata": {},
     "output_type": "execute_result"
    }
   ],
   "source": [
    "HP = pd.read_csv('House Prices.csv')\n",
    "HP.head()"
   ]
  },
  {
   "cell_type": "code",
   "execution_count": 4,
   "metadata": {},
   "outputs": [
    {
     "name": "stdout",
     "output_type": "stream",
     "text": [
      "['Id' 'MSSubClass' 'MSZoning' 'LotFrontage' 'LotArea' 'Street' 'Alley'\n",
      " 'LotShape' 'LandContour' 'Utilities' 'LotConfig' 'LandSlope'\n",
      " 'Neighborhood' 'Condition1' 'Condition2' 'BldgType' 'HouseStyle'\n",
      " 'OverallQual' 'OverallCond' 'YearBuilt' 'YearRemodAdd' 'RoofStyle'\n",
      " 'RoofMatl' 'Exterior1st' 'Exterior2nd' 'MasVnrType' 'MasVnrArea'\n",
      " 'ExterQual' 'ExterCond' 'Foundation' 'BsmtQual' 'BsmtCond' 'BsmtExposure'\n",
      " 'BsmtFinType1' 'BsmtFinSF1' 'BsmtFinType2' 'BsmtFinSF2' 'BsmtUnfSF'\n",
      " 'TotalBsmtSF' 'Heating' 'HeatingQC' 'CentralAir' 'Electrical' '1stFlrSF'\n",
      " '2ndFlrSF' 'LowQualFinSF' 'GrLivArea' 'BsmtFullBath' 'BsmtHalfBath'\n",
      " 'FullBath' 'HalfBath' 'BedroomAbvGr' 'KitchenAbvGr' 'KitchenQual'\n",
      " 'TotRmsAbvGrd' 'Functional' 'Fireplaces' 'FireplaceQu' 'GarageType'\n",
      " 'GarageYrBlt' 'GarageFinish' 'GarageCars' 'GarageArea' 'GarageQual'\n",
      " 'GarageCond' 'PavedDrive' 'WoodDeckSF' 'OpenPorchSF' 'EnclosedPorch'\n",
      " '3SsnPorch' 'ScreenPorch' 'PoolArea' 'PoolQC' 'Fence' 'MiscFeature'\n",
      " 'MiscVal' 'MoSold' 'YrSold' 'SaleType' 'SaleCondition' 'SalePrice']\n"
     ]
    }
   ],
   "source": [
    "print(HP.columns.values)"
   ]
  },
  {
   "cell_type": "code",
   "execution_count": 5,
   "metadata": {},
   "outputs": [
    {
     "data": {
      "text/plain": [
       "(1460, 81)"
      ]
     },
     "execution_count": 5,
     "metadata": {},
     "output_type": "execute_result"
    }
   ],
   "source": [
    "HP.shape"
   ]
  },
  {
   "cell_type": "markdown",
   "metadata": {},
   "source": [
    "Missing Values Treatment"
   ]
  },
  {
   "cell_type": "markdown",
   "metadata": {},
   "source": [
    "Relation between independent continuous data & Sale Price"
   ]
  },
  {
   "cell_type": "code",
   "execution_count": 6,
   "metadata": {},
   "outputs": [
    {
     "name": "stdout",
     "output_type": "stream",
     "text": [
      "0\n",
      "count    1460.000000\n",
      "mean       36.547945\n",
      "std        30.250152\n",
      "min         0.000000\n",
      "25%         8.000000\n",
      "50%        35.000000\n",
      "75%        54.000000\n",
      "max       136.000000\n",
      "Name: Age, dtype: float64\n",
      "count    1460.000000\n",
      "mean       22.950000\n",
      "std        20.640653\n",
      "min        -1.000000\n",
      "25%         4.000000\n",
      "50%        14.000000\n",
      "75%        41.000000\n",
      "max        60.000000\n",
      "dtype: float64\n"
     ]
    },
    {
     "name": "stderr",
     "output_type": "stream",
     "text": [
      "C:\\Users\\Vishnu Murthy Chakka\\Anaconda3\\lib\\site-packages\\ipykernel_launcher.py:5: UserWarning: Pandas doesn't allow columns to be created via a new attribute name - see https://pandas.pydata.org/pandas-docs/stable/indexing.html#attribute-access\n",
      "  \"\"\"\n"
     ]
    }
   ],
   "source": [
    "# calculate the age of the house\n",
    "HP[\"Age\"] = HP.YrSold - HP.YearBuilt\n",
    "print(HP.Age.isnull().sum())\n",
    "print(HP.Age.describe())\n",
    "HP.Remodage = HP.YrSold - HP.YearRemodAdd\n",
    "print(HP.Remodage.describe())"
   ]
  },
  {
   "cell_type": "code",
   "execution_count": 7,
   "metadata": {},
   "outputs": [
    {
     "data": {
      "text/plain": [
       "array([[ 1.        , -0.52335042],\n",
       "       [-0.52335042,  1.        ]])"
      ]
     },
     "execution_count": 7,
     "metadata": {},
     "output_type": "execute_result"
    }
   ],
   "source": [
    "# correlation between age and sale price\n",
    "np.corrcoef(HP.SalePrice, HP.Age)"
   ]
  },
  {
   "cell_type": "code",
   "execution_count": 8,
   "metadata": {},
   "outputs": [
    {
     "data": {
      "text/plain": [
       "array([[1.        , 0.61358055],\n",
       "       [0.61358055, 1.        ]])"
      ]
     },
     "execution_count": 8,
     "metadata": {},
     "output_type": "execute_result"
    }
   ],
   "source": [
    "np.corrcoef(HP.TotalBsmtSF,HP.SalePrice)"
   ]
  },
  {
   "cell_type": "code",
   "execution_count": 10,
   "metadata": {},
   "outputs": [],
   "source": [
    "# create a list with required columns\n",
    "selcolumns = list(['TotalBsmtSF','GrLivArea','GarageArea','Age','Neighborhood'])"
   ]
  },
  {
   "cell_type": "code",
   "execution_count": 11,
   "metadata": {},
   "outputs": [
    {
     "data": {
      "text/plain": [
       "array([[1.        , 0.70862448],\n",
       "       [0.70862448, 1.        ]])"
      ]
     },
     "execution_count": 11,
     "metadata": {},
     "output_type": "execute_result"
    }
   ],
   "source": [
    "# check correlation between sale price and GrLivArea\n",
    "np.corrcoef(HP.SalePrice,HP.GrLivArea)"
   ]
  },
  {
   "cell_type": "code",
   "execution_count": 12,
   "metadata": {},
   "outputs": [
    {
     "data": {
      "text/plain": [
       "array([[1.        , 0.62343144],\n",
       "       [0.62343144, 1.        ]])"
      ]
     },
     "execution_count": 12,
     "metadata": {},
     "output_type": "execute_result"
    }
   ],
   "source": [
    "# check correlation between sale price and GarageArea\n",
    "np.corrcoef(HP.SalePrice,HP.GarageArea)"
   ]
  },
  {
   "cell_type": "code",
   "execution_count": 33,
   "metadata": {},
   "outputs": [
    {
     "data": {
      "text/plain": [
       "array(['Blmngtn', 'Blueste', 'BrDale', 'BrkSide', 'ClearCr', 'CollgCr',\n",
       "       'Crawfor', 'Edwards', 'Gilbert', 'IDOTRR', 'MeadowV', 'Mitchel',\n",
       "       'NAmes', 'NPkVill', 'NWAmes', 'NoRidge', 'NridgHt', 'OldTown',\n",
       "       'SWISU', 'Sawyer', 'SawyerW', 'Somerst', 'StoneBr', 'Timber',\n",
       "       'Veenker'], dtype=object)"
      ]
     },
     "execution_count": 33,
     "metadata": {},
     "output_type": "execute_result"
    }
   ],
   "source": [
    "np.unique(HP.Neighborhood)"
   ]
  },
  {
   "cell_type": "code",
   "execution_count": 13,
   "metadata": {},
   "outputs": [
    {
     "data": {
      "text/plain": [
       "25"
      ]
     },
     "execution_count": 13,
     "metadata": {},
     "output_type": "execute_result"
    }
   ],
   "source": [
    "len(Counter(HP.Neighborhood))"
   ]
  },
  {
   "cell_type": "code",
   "execution_count": 14,
   "metadata": {},
   "outputs": [
    {
     "data": {
      "text/html": [
       "<div>\n",
       "<style scoped>\n",
       "    .dataframe tbody tr th:only-of-type {\n",
       "        vertical-align: middle;\n",
       "    }\n",
       "\n",
       "    .dataframe tbody tr th {\n",
       "        vertical-align: top;\n",
       "    }\n",
       "\n",
       "    .dataframe thead th {\n",
       "        text-align: right;\n",
       "    }\n",
       "</style>\n",
       "<table border=\"1\" class=\"dataframe\">\n",
       "  <thead>\n",
       "    <tr style=\"text-align: right;\">\n",
       "      <th></th>\n",
       "      <th>TotalBsmtSF</th>\n",
       "      <th>GrLivArea</th>\n",
       "      <th>GarageArea</th>\n",
       "      <th>Age</th>\n",
       "      <th>Neighborhood</th>\n",
       "    </tr>\n",
       "  </thead>\n",
       "  <tbody>\n",
       "    <tr>\n",
       "      <th>0</th>\n",
       "      <td>856</td>\n",
       "      <td>1710</td>\n",
       "      <td>548</td>\n",
       "      <td>5</td>\n",
       "      <td>CollgCr</td>\n",
       "    </tr>\n",
       "    <tr>\n",
       "      <th>1</th>\n",
       "      <td>1262</td>\n",
       "      <td>1262</td>\n",
       "      <td>460</td>\n",
       "      <td>31</td>\n",
       "      <td>Veenker</td>\n",
       "    </tr>\n",
       "    <tr>\n",
       "      <th>2</th>\n",
       "      <td>920</td>\n",
       "      <td>1786</td>\n",
       "      <td>608</td>\n",
       "      <td>7</td>\n",
       "      <td>CollgCr</td>\n",
       "    </tr>\n",
       "    <tr>\n",
       "      <th>3</th>\n",
       "      <td>756</td>\n",
       "      <td>1717</td>\n",
       "      <td>642</td>\n",
       "      <td>91</td>\n",
       "      <td>Crawfor</td>\n",
       "    </tr>\n",
       "    <tr>\n",
       "      <th>4</th>\n",
       "      <td>1145</td>\n",
       "      <td>2198</td>\n",
       "      <td>836</td>\n",
       "      <td>8</td>\n",
       "      <td>NoRidge</td>\n",
       "    </tr>\n",
       "  </tbody>\n",
       "</table>\n",
       "</div>"
      ],
      "text/plain": [
       "   TotalBsmtSF  GrLivArea  GarageArea  Age Neighborhood\n",
       "0          856       1710         548    5      CollgCr\n",
       "1         1262       1262         460   31      Veenker\n",
       "2          920       1786         608    7      CollgCr\n",
       "3          756       1717         642   91      Crawfor\n",
       "4         1145       2198         836    8      NoRidge"
      ]
     },
     "execution_count": 14,
     "metadata": {},
     "output_type": "execute_result"
    }
   ],
   "source": [
    "# create independent and dependent data files\n",
    "selcolumns = list(['TotalBsmtSF','GrLivArea','GarageArea','Age','Neighborhood'])\n",
    "Independent = pd.DataFrame(HP,columns=selcolumns)\n",
    "Independent.head()"
   ]
  },
  {
   "cell_type": "code",
   "execution_count": 15,
   "metadata": {},
   "outputs": [
    {
     "data": {
      "text/html": [
       "<div>\n",
       "<style scoped>\n",
       "    .dataframe tbody tr th:only-of-type {\n",
       "        vertical-align: middle;\n",
       "    }\n",
       "\n",
       "    .dataframe tbody tr th {\n",
       "        vertical-align: top;\n",
       "    }\n",
       "\n",
       "    .dataframe thead th {\n",
       "        text-align: right;\n",
       "    }\n",
       "</style>\n",
       "<table border=\"1\" class=\"dataframe\">\n",
       "  <thead>\n",
       "    <tr style=\"text-align: right;\">\n",
       "      <th></th>\n",
       "      <th>SalePrice</th>\n",
       "    </tr>\n",
       "  </thead>\n",
       "  <tbody>\n",
       "    <tr>\n",
       "      <th>count</th>\n",
       "      <td>1460.000000</td>\n",
       "    </tr>\n",
       "    <tr>\n",
       "      <th>mean</th>\n",
       "      <td>180921.195890</td>\n",
       "    </tr>\n",
       "    <tr>\n",
       "      <th>std</th>\n",
       "      <td>79442.502883</td>\n",
       "    </tr>\n",
       "    <tr>\n",
       "      <th>min</th>\n",
       "      <td>34900.000000</td>\n",
       "    </tr>\n",
       "    <tr>\n",
       "      <th>25%</th>\n",
       "      <td>129975.000000</td>\n",
       "    </tr>\n",
       "    <tr>\n",
       "      <th>50%</th>\n",
       "      <td>163000.000000</td>\n",
       "    </tr>\n",
       "    <tr>\n",
       "      <th>75%</th>\n",
       "      <td>214000.000000</td>\n",
       "    </tr>\n",
       "    <tr>\n",
       "      <th>max</th>\n",
       "      <td>755000.000000</td>\n",
       "    </tr>\n",
       "  </tbody>\n",
       "</table>\n",
       "</div>"
      ],
      "text/plain": [
       "           SalePrice\n",
       "count    1460.000000\n",
       "mean   180921.195890\n",
       "std     79442.502883\n",
       "min     34900.000000\n",
       "25%    129975.000000\n",
       "50%    163000.000000\n",
       "75%    214000.000000\n",
       "max    755000.000000"
      ]
     },
     "execution_count": 15,
     "metadata": {},
     "output_type": "execute_result"
    }
   ],
   "source": [
    "# define dataframe for dependent variable\n",
    "Dependent = pd.DataFrame(HP,columns=[\"SalePrice\"])\n",
    "Dependent.describe()"
   ]
  },
  {
   "cell_type": "code",
   "execution_count": 16,
   "metadata": {},
   "outputs": [
    {
     "name": "stdout",
     "output_type": "stream",
     "text": [
      "(1168, 5)\n",
      "(1168, 1)\n",
      "(292, 5)\n",
      "(292, 1)\n"
     ]
    }
   ],
   "source": [
    "# split the data into train and test\n",
    "from sklearn.model_selection import train_test_split\n",
    "X_train, X_test, Y_train, Y_test = train_test_split(Independent,\n",
    "                                                    Dependent,\n",
    "                                                    test_size=0.20,\n",
    "                                                   random_state=0)\n",
    "print(X_train.shape)\n",
    "print(Y_train.shape)\n",
    "print(X_test.shape)\n",
    "print(Y_test.shape)"
   ]
  },
  {
   "cell_type": "code",
   "execution_count": 17,
   "metadata": {},
   "outputs": [
    {
     "name": "stdout",
     "output_type": "stream",
     "text": [
      "(1168, 4)\n",
      "(292, 4)\n"
     ]
    }
   ],
   "source": [
    "# extract only continuous columns\n",
    "ContColumns = list(['TotalBsmtSF','GrLivArea','GarageArea','Age'])\n",
    "X_train_cont = pd.DataFrame(X_train,columns=ContColumns)\n",
    "X_test_cont = pd.DataFrame(X_test,columns=ContColumns)\n",
    "print(X_train_cont.shape)\n",
    "print(X_test_cont.shape)"
   ]
  },
  {
   "cell_type": "code",
   "execution_count": 18,
   "metadata": {},
   "outputs": [],
   "source": [
    "# apply sclaing on continuous variables\n",
    "from sklearn.preprocessing import StandardScaler\n",
    "SS = StandardScaler()\n",
    "X_train_cont2 = SS.fit_transform(X_train_cont)\n",
    "X_test_cont2 = SS.transform(X_test_cont)"
   ]
  },
  {
   "cell_type": "code",
   "execution_count": 19,
   "metadata": {},
   "outputs": [],
   "source": [
    "# apply sclaing on target data\n",
    "SS2  = StandardScaler()\n",
    "Y_train_SS = SS2.fit_transform(Y_train)\n",
    "Y_test_SS = SS2.transform(Y_test)"
   ]
  },
  {
   "cell_type": "code",
   "execution_count": 20,
   "metadata": {},
   "outputs": [],
   "source": [
    "# convert X_train3 as dataframe\n",
    "X_train_cont3 = pd.DataFrame(X_train_cont2,columns=ContColumns)\n",
    "X_test_cont3 = pd.DataFrame(X_test_cont2,columns=ContColumns)"
   ]
  },
  {
   "cell_type": "code",
   "execution_count": 21,
   "metadata": {},
   "outputs": [],
   "source": [
    "# extract only catgorical columns\n",
    "CatColumns = list(['Neighborhood'])\n",
    "X_train_cat = pd.DataFrame(X_train,columns=CatColumns)\n",
    "X_test_cat = pd.DataFrame(X_test,columns=CatColumns)"
   ]
  },
  {
   "cell_type": "code",
   "execution_count": 22,
   "metadata": {},
   "outputs": [
    {
     "name": "stdout",
     "output_type": "stream",
     "text": [
      "['Blmngtn' 'Blueste' 'BrDale' 'BrkSide' 'ClearCr' 'CollgCr' 'Crawfor'\n",
      " 'Edwards' 'Gilbert' 'IDOTRR' 'MeadowV' 'Mitchel' 'NAmes' 'NPkVill'\n",
      " 'NWAmes' 'NoRidge' 'NridgHt' 'OldTown' 'SWISU' 'Sawyer' 'SawyerW'\n",
      " 'Somerst' 'StoneBr' 'Timber' 'Veenker']\n",
      "25\n"
     ]
    }
   ],
   "source": [
    "Ncols = np.unique(X_train_cat.Neighborhood,return_counts=False)\n",
    "print(Ncols)\n",
    "print(len(Ncols))"
   ]
  },
  {
   "cell_type": "code",
   "execution_count": 23,
   "metadata": {},
   "outputs": [
    {
     "name": "stdout",
     "output_type": "stream",
     "text": [
      "(1168, 25)\n",
      "(292, 25)\n"
     ]
    }
   ],
   "source": [
    "# apply one hot enconding on categorical\n",
    "from sklearn.preprocessing import OneHotEncoder\n",
    "OHE = OneHotEncoder(sparse=False,handle_unknown='error')\n",
    "X_train_cat1 = OHE.fit_transform(X_train_cat)\n",
    "X_test_cat1 = OHE.transform(X_test_cat)\n",
    "print(X_train_cat1.shape)\n",
    "print(X_test_cat1.shape)"
   ]
  },
  {
   "cell_type": "code",
   "execution_count": 25,
   "metadata": {},
   "outputs": [],
   "source": [
    "# convert array to data frame\n",
    "X_train_cat2 = pd.DataFrame(X_train_cat1)\n",
    "X_test_cat2 = pd.DataFrame(X_test_cat1)"
   ]
  },
  {
   "cell_type": "code",
   "execution_count": 26,
   "metadata": {},
   "outputs": [
    {
     "name": "stdout",
     "output_type": "stream",
     "text": [
      "(1168, 29)\n",
      "(292, 29)\n"
     ]
    }
   ],
   "source": [
    "# merge scaled continuous and onehotencoded categorical data\n",
    "X_train_final = pd.concat([X_train_cont3,X_train_cat2],\n",
    "                          axis=1,join='outer',sort=False,\n",
    "                          ignore_index=True)\n",
    "X_test_final = pd.concat([X_test_cont3,X_test_cat2],\n",
    "                         axis=1,join='outer',sort=False,\n",
    "                         ignore_index=True)\n",
    "print(X_train_final.shape)\n",
    "print(X_test_final.shape)"
   ]
  },
  {
   "cell_type": "code",
   "execution_count": 27,
   "metadata": {},
   "outputs": [
    {
     "name": "stdout",
     "output_type": "stream",
     "text": [
      "Fitting 3 folds for each of 16 candidates, totalling 48 fits\n",
      "[CV] C=0.2, epsilon=0.1, gamma=0.2, kernel=linear ....................\n",
      "[CV]  C=0.2, epsilon=0.1, gamma=0.2, kernel=linear, score=(train=0.811, test=0.780), total=   0.1s\n",
      "[CV] C=0.2, epsilon=0.1, gamma=0.2, kernel=linear ....................\n",
      "[CV]  C=0.2, epsilon=0.1, gamma=0.2, kernel=linear, score=(train=0.799, test=0.782), total=   0.0s\n",
      "[CV] C=0.2, epsilon=0.1, gamma=0.2, kernel=linear ....................\n",
      "[CV]  C=0.2, epsilon=0.1, gamma=0.2, kernel=linear, score=(train=0.798, test=0.812), total=   0.0s\n",
      "[CV] C=0.2, epsilon=0.1, gamma=0.2, kernel=rbf .......................\n"
     ]
    },
    {
     "name": "stderr",
     "output_type": "stream",
     "text": [
      "[Parallel(n_jobs=1)]: Using backend SequentialBackend with 1 concurrent workers.\n",
      "C:\\Users\\Vishnu Murthy Chakka\\Anaconda3\\lib\\site-packages\\sklearn\\utils\\validation.py:744: DataConversionWarning: A column-vector y was passed when a 1d array was expected. Please change the shape of y to (n_samples, ), for example using ravel().\n",
      "  y = column_or_1d(y, warn=True)\n",
      "[Parallel(n_jobs=1)]: Done   1 out of   1 | elapsed:    0.0s remaining:    0.0s\n",
      "C:\\Users\\Vishnu Murthy Chakka\\Anaconda3\\lib\\site-packages\\sklearn\\utils\\validation.py:744: DataConversionWarning: A column-vector y was passed when a 1d array was expected. Please change the shape of y to (n_samples, ), for example using ravel().\n",
      "  y = column_or_1d(y, warn=True)\n",
      "[Parallel(n_jobs=1)]: Done   2 out of   2 | elapsed:    0.0s remaining:    0.0s\n",
      "C:\\Users\\Vishnu Murthy Chakka\\Anaconda3\\lib\\site-packages\\sklearn\\utils\\validation.py:744: DataConversionWarning: A column-vector y was passed when a 1d array was expected. Please change the shape of y to (n_samples, ), for example using ravel().\n",
      "  y = column_or_1d(y, warn=True)\n",
      "[Parallel(n_jobs=1)]: Done   3 out of   3 | elapsed:    0.1s remaining:    0.0s\n",
      "C:\\Users\\Vishnu Murthy Chakka\\Anaconda3\\lib\\site-packages\\sklearn\\utils\\validation.py:744: DataConversionWarning: A column-vector y was passed when a 1d array was expected. Please change the shape of y to (n_samples, ), for example using ravel().\n",
      "  y = column_or_1d(y, warn=True)\n"
     ]
    },
    {
     "name": "stdout",
     "output_type": "stream",
     "text": [
      "[CV]  C=0.2, epsilon=0.1, gamma=0.2, kernel=rbf, score=(train=0.762, test=0.773), total=   0.0s\n",
      "[CV] C=0.2, epsilon=0.1, gamma=0.2, kernel=rbf .......................\n",
      "[CV]  C=0.2, epsilon=0.1, gamma=0.2, kernel=rbf, score=(train=0.798, test=0.669), total=   0.1s\n",
      "[CV] C=0.2, epsilon=0.1, gamma=0.2, kernel=rbf .......................\n",
      "[CV]  C=0.2, epsilon=0.1, gamma=0.2, kernel=rbf, score=(train=0.755, test=0.809), total=   0.0s\n",
      "[CV] C=0.2, epsilon=0.1, gamma=0.8, kernel=linear ....................\n",
      "[CV]  C=0.2, epsilon=0.1, gamma=0.8, kernel=linear, score=(train=0.811, test=0.780), total=   0.0s\n",
      "[CV] C=0.2, epsilon=0.1, gamma=0.8, kernel=linear ....................\n"
     ]
    },
    {
     "name": "stderr",
     "output_type": "stream",
     "text": [
      "[Parallel(n_jobs=1)]: Done   4 out of   4 | elapsed:    0.1s remaining:    0.0s\n",
      "C:\\Users\\Vishnu Murthy Chakka\\Anaconda3\\lib\\site-packages\\sklearn\\utils\\validation.py:744: DataConversionWarning: A column-vector y was passed when a 1d array was expected. Please change the shape of y to (n_samples, ), for example using ravel().\n",
      "  y = column_or_1d(y, warn=True)\n",
      "[Parallel(n_jobs=1)]: Done   5 out of   5 | elapsed:    0.2s remaining:    0.0s\n",
      "C:\\Users\\Vishnu Murthy Chakka\\Anaconda3\\lib\\site-packages\\sklearn\\utils\\validation.py:744: DataConversionWarning: A column-vector y was passed when a 1d array was expected. Please change the shape of y to (n_samples, ), for example using ravel().\n",
      "  y = column_or_1d(y, warn=True)\n",
      "[Parallel(n_jobs=1)]: Done   6 out of   6 | elapsed:    0.3s remaining:    0.0s\n",
      "C:\\Users\\Vishnu Murthy Chakka\\Anaconda3\\lib\\site-packages\\sklearn\\utils\\validation.py:744: DataConversionWarning: A column-vector y was passed when a 1d array was expected. Please change the shape of y to (n_samples, ), for example using ravel().\n",
      "  y = column_or_1d(y, warn=True)\n",
      "[Parallel(n_jobs=1)]: Done   7 out of   7 | elapsed:    0.3s remaining:    0.0s\n"
     ]
    },
    {
     "name": "stdout",
     "output_type": "stream",
     "text": [
      "[CV]  C=0.2, epsilon=0.1, gamma=0.8, kernel=linear, score=(train=0.799, test=0.782), total=   0.1s\n",
      "[CV] C=0.2, epsilon=0.1, gamma=0.8, kernel=linear ....................\n",
      "[CV]  C=0.2, epsilon=0.1, gamma=0.8, kernel=linear, score=(train=0.798, test=0.812), total=   0.0s\n",
      "[CV] C=0.2, epsilon=0.1, gamma=0.8, kernel=rbf .......................\n",
      "[CV]  C=0.2, epsilon=0.1, gamma=0.8, kernel=rbf, score=(train=0.622, test=0.577), total=   0.0s\n",
      "[CV] C=0.2, epsilon=0.1, gamma=0.8, kernel=rbf .......................\n",
      "[CV]  C=0.2, epsilon=0.1, gamma=0.8, kernel=rbf, score=(train=0.660, test=0.471), total=   0.0s\n",
      "[CV] C=0.2, epsilon=0.1, gamma=0.8, kernel=rbf .......................\n"
     ]
    },
    {
     "name": "stderr",
     "output_type": "stream",
     "text": [
      "C:\\Users\\Vishnu Murthy Chakka\\Anaconda3\\lib\\site-packages\\sklearn\\utils\\validation.py:744: DataConversionWarning: A column-vector y was passed when a 1d array was expected. Please change the shape of y to (n_samples, ), for example using ravel().\n",
      "  y = column_or_1d(y, warn=True)\n",
      "[Parallel(n_jobs=1)]: Done   8 out of   8 | elapsed:    0.4s remaining:    0.0s\n",
      "C:\\Users\\Vishnu Murthy Chakka\\Anaconda3\\lib\\site-packages\\sklearn\\utils\\validation.py:744: DataConversionWarning: A column-vector y was passed when a 1d array was expected. Please change the shape of y to (n_samples, ), for example using ravel().\n",
      "  y = column_or_1d(y, warn=True)\n",
      "[Parallel(n_jobs=1)]: Done   9 out of   9 | elapsed:    0.4s remaining:    0.0s\n",
      "C:\\Users\\Vishnu Murthy Chakka\\Anaconda3\\lib\\site-packages\\sklearn\\utils\\validation.py:744: DataConversionWarning: A column-vector y was passed when a 1d array was expected. Please change the shape of y to (n_samples, ), for example using ravel().\n",
      "  y = column_or_1d(y, warn=True)\n",
      "C:\\Users\\Vishnu Murthy Chakka\\Anaconda3\\lib\\site-packages\\sklearn\\utils\\validation.py:744: DataConversionWarning: A column-vector y was passed when a 1d array was expected. Please change the shape of y to (n_samples, ), for example using ravel().\n",
      "  y = column_or_1d(y, warn=True)\n",
      "C:\\Users\\Vishnu Murthy Chakka\\Anaconda3\\lib\\site-packages\\sklearn\\utils\\validation.py:744: DataConversionWarning: A column-vector y was passed when a 1d array was expected. Please change the shape of y to (n_samples, ), for example using ravel().\n",
      "  y = column_or_1d(y, warn=True)\n",
      "C:\\Users\\Vishnu Murthy Chakka\\Anaconda3\\lib\\site-packages\\sklearn\\utils\\validation.py:744: DataConversionWarning: A column-vector y was passed when a 1d array was expected. Please change the shape of y to (n_samples, ), for example using ravel().\n",
      "  y = column_or_1d(y, warn=True)\n",
      "C:\\Users\\Vishnu Murthy Chakka\\Anaconda3\\lib\\site-packages\\sklearn\\utils\\validation.py:744: DataConversionWarning: A column-vector y was passed when a 1d array was expected. Please change the shape of y to (n_samples, ), for example using ravel().\n",
      "  y = column_or_1d(y, warn=True)\n",
      "C:\\Users\\Vishnu Murthy Chakka\\Anaconda3\\lib\\site-packages\\sklearn\\utils\\validation.py:744: DataConversionWarning: A column-vector y was passed when a 1d array was expected. Please change the shape of y to (n_samples, ), for example using ravel().\n",
      "  y = column_or_1d(y, warn=True)\n",
      "C:\\Users\\Vishnu Murthy Chakka\\Anaconda3\\lib\\site-packages\\sklearn\\utils\\validation.py:744: DataConversionWarning: A column-vector y was passed when a 1d array was expected. Please change the shape of y to (n_samples, ), for example using ravel().\n",
      "  y = column_or_1d(y, warn=True)\n",
      "C:\\Users\\Vishnu Murthy Chakka\\Anaconda3\\lib\\site-packages\\sklearn\\utils\\validation.py:744: DataConversionWarning: A column-vector y was passed when a 1d array was expected. Please change the shape of y to (n_samples, ), for example using ravel().\n",
      "  y = column_or_1d(y, warn=True)\n",
      "C:\\Users\\Vishnu Murthy Chakka\\Anaconda3\\lib\\site-packages\\sklearn\\utils\\validation.py:744: DataConversionWarning: A column-vector y was passed when a 1d array was expected. Please change the shape of y to (n_samples, ), for example using ravel().\n",
      "  y = column_or_1d(y, warn=True)\n",
      "C:\\Users\\Vishnu Murthy Chakka\\Anaconda3\\lib\\site-packages\\sklearn\\utils\\validation.py:744: DataConversionWarning: A column-vector y was passed when a 1d array was expected. Please change the shape of y to (n_samples, ), for example using ravel().\n",
      "  y = column_or_1d(y, warn=True)\n"
     ]
    },
    {
     "name": "stdout",
     "output_type": "stream",
     "text": [
      "[CV]  C=0.2, epsilon=0.1, gamma=0.8, kernel=rbf, score=(train=0.622, test=0.623), total=   0.1s\n",
      "[CV] C=0.2, epsilon=0.5, gamma=0.2, kernel=linear ....................\n",
      "[CV]  C=0.2, epsilon=0.5, gamma=0.2, kernel=linear, score=(train=0.809, test=0.760), total=   0.0s\n",
      "[CV] C=0.2, epsilon=0.5, gamma=0.2, kernel=linear ....................\n",
      "[CV]  C=0.2, epsilon=0.5, gamma=0.2, kernel=linear, score=(train=0.792, test=0.795), total=   0.0s\n",
      "[CV] C=0.2, epsilon=0.5, gamma=0.2, kernel=linear ....................\n",
      "[CV]  C=0.2, epsilon=0.5, gamma=0.2, kernel=linear, score=(train=0.792, test=0.804), total=   0.0s\n",
      "[CV] C=0.2, epsilon=0.5, gamma=0.2, kernel=rbf .......................\n",
      "[CV]  C=0.2, epsilon=0.5, gamma=0.2, kernel=rbf, score=(train=0.741, test=0.751), total=   0.0s\n",
      "[CV] C=0.2, epsilon=0.5, gamma=0.2, kernel=rbf .......................\n",
      "[CV]  C=0.2, epsilon=0.5, gamma=0.2, kernel=rbf, score=(train=0.773, test=0.658), total=   0.0s\n",
      "[CV] C=0.2, epsilon=0.5, gamma=0.2, kernel=rbf .......................\n",
      "[CV]  C=0.2, epsilon=0.5, gamma=0.2, kernel=rbf, score=(train=0.740, test=0.789), total=   0.0s\n",
      "[CV] C=0.2, epsilon=0.5, gamma=0.8, kernel=linear ....................\n",
      "[CV]  C=0.2, epsilon=0.5, gamma=0.8, kernel=linear, score=(train=0.809, test=0.760), total=   0.0s\n",
      "[CV] C=0.2, epsilon=0.5, gamma=0.8, kernel=linear ....................\n",
      "[CV]  C=0.2, epsilon=0.5, gamma=0.8, kernel=linear, score=(train=0.792, test=0.795), total=   0.0s"
     ]
    },
    {
     "name": "stderr",
     "output_type": "stream",
     "text": [
      "C:\\Users\\Vishnu Murthy Chakka\\Anaconda3\\lib\\site-packages\\sklearn\\utils\\validation.py:744: DataConversionWarning: A column-vector y was passed when a 1d array was expected. Please change the shape of y to (n_samples, ), for example using ravel().\n",
      "  y = column_or_1d(y, warn=True)\n",
      "C:\\Users\\Vishnu Murthy Chakka\\Anaconda3\\lib\\site-packages\\sklearn\\utils\\validation.py:744: DataConversionWarning: A column-vector y was passed when a 1d array was expected. Please change the shape of y to (n_samples, ), for example using ravel().\n",
      "  y = column_or_1d(y, warn=True)\n",
      "C:\\Users\\Vishnu Murthy Chakka\\Anaconda3\\lib\\site-packages\\sklearn\\utils\\validation.py:744: DataConversionWarning: A column-vector y was passed when a 1d array was expected. Please change the shape of y to (n_samples, ), for example using ravel().\n",
      "  y = column_or_1d(y, warn=True)\n",
      "C:\\Users\\Vishnu Murthy Chakka\\Anaconda3\\lib\\site-packages\\sklearn\\utils\\validation.py:744: DataConversionWarning: A column-vector y was passed when a 1d array was expected. Please change the shape of y to (n_samples, ), for example using ravel().\n",
      "  y = column_or_1d(y, warn=True)\n",
      "C:\\Users\\Vishnu Murthy Chakka\\Anaconda3\\lib\\site-packages\\sklearn\\utils\\validation.py:744: DataConversionWarning: A column-vector y was passed when a 1d array was expected. Please change the shape of y to (n_samples, ), for example using ravel().\n",
      "  y = column_or_1d(y, warn=True)\n",
      "C:\\Users\\Vishnu Murthy Chakka\\Anaconda3\\lib\\site-packages\\sklearn\\utils\\validation.py:744: DataConversionWarning: A column-vector y was passed when a 1d array was expected. Please change the shape of y to (n_samples, ), for example using ravel().\n",
      "  y = column_or_1d(y, warn=True)\n",
      "C:\\Users\\Vishnu Murthy Chakka\\Anaconda3\\lib\\site-packages\\sklearn\\utils\\validation.py:744: DataConversionWarning: A column-vector y was passed when a 1d array was expected. Please change the shape of y to (n_samples, ), for example using ravel().\n",
      "  y = column_or_1d(y, warn=True)\n"
     ]
    },
    {
     "name": "stdout",
     "output_type": "stream",
     "text": [
      "\n",
      "[CV] C=0.2, epsilon=0.5, gamma=0.8, kernel=linear ....................\n",
      "[CV]  C=0.2, epsilon=0.5, gamma=0.8, kernel=linear, score=(train=0.792, test=0.804), total=   0.0s\n",
      "[CV] C=0.2, epsilon=0.5, gamma=0.8, kernel=rbf .......................\n",
      "[CV]  C=0.2, epsilon=0.5, gamma=0.8, kernel=rbf, score=(train=0.574, test=0.533), total=   0.0s\n",
      "[CV] C=0.2, epsilon=0.5, gamma=0.8, kernel=rbf .......................\n",
      "[CV]  C=0.2, epsilon=0.5, gamma=0.8, kernel=rbf, score=(train=0.603, test=0.444), total=   0.0s\n",
      "[CV] C=0.2, epsilon=0.5, gamma=0.8, kernel=rbf .......................\n",
      "[CV]  C=0.2, epsilon=0.5, gamma=0.8, kernel=rbf, score=(train=0.579, test=0.563), total=   0.0s\n",
      "[CV] C=0.8, epsilon=0.1, gamma=0.2, kernel=linear ....................\n",
      "[CV]  C=0.8, epsilon=0.1, gamma=0.2, kernel=linear, score=(train=0.813, test=0.780), total=   0.1s\n",
      "[CV] C=0.8, epsilon=0.1, gamma=0.2, kernel=linear ....................\n",
      "[CV]  C=0.8, epsilon=0.1, gamma=0.2, kernel=linear, score=(train=0.801, test=0.789), total=   0.1s\n",
      "[CV] C=0.8, epsilon=0.1, gamma=0.2, kernel=linear ....................\n",
      "[CV]  C=0.8, epsilon=0.1, gamma=0.2, kernel=linear, score=(train=0.800, test=0.810), total=   0.1s\n",
      "[CV] C=0.8, epsilon=0.1, gamma=0.2, kernel=rbf .......................\n",
      "[CV]  C=0.8, epsilon=0.1, gamma=0.2, kernel=rbf, score=(train=0.867, test=0.841), total=   0.1s\n",
      "[CV] C=0.8, epsilon=0.1, gamma=0.2, kernel=rbf .......................\n"
     ]
    },
    {
     "name": "stderr",
     "output_type": "stream",
     "text": [
      "C:\\Users\\Vishnu Murthy Chakka\\Anaconda3\\lib\\site-packages\\sklearn\\utils\\validation.py:744: DataConversionWarning: A column-vector y was passed when a 1d array was expected. Please change the shape of y to (n_samples, ), for example using ravel().\n",
      "  y = column_or_1d(y, warn=True)\n",
      "C:\\Users\\Vishnu Murthy Chakka\\Anaconda3\\lib\\site-packages\\sklearn\\utils\\validation.py:744: DataConversionWarning: A column-vector y was passed when a 1d array was expected. Please change the shape of y to (n_samples, ), for example using ravel().\n",
      "  y = column_or_1d(y, warn=True)\n",
      "C:\\Users\\Vishnu Murthy Chakka\\Anaconda3\\lib\\site-packages\\sklearn\\utils\\validation.py:744: DataConversionWarning: A column-vector y was passed when a 1d array was expected. Please change the shape of y to (n_samples, ), for example using ravel().\n",
      "  y = column_or_1d(y, warn=True)\n"
     ]
    },
    {
     "name": "stdout",
     "output_type": "stream",
     "text": [
      "[CV]  C=0.8, epsilon=0.1, gamma=0.2, kernel=rbf, score=(train=0.881, test=0.747), total=   0.0s\n",
      "[CV] C=0.8, epsilon=0.1, gamma=0.2, kernel=rbf .......................\n",
      "[CV]  C=0.8, epsilon=0.1, gamma=0.2, kernel=rbf, score=(train=0.852, test=0.852), total=   0.1s\n",
      "[CV] C=0.8, epsilon=0.1, gamma=0.8, kernel=linear ....................\n",
      "[CV]  C=0.8, epsilon=0.1, gamma=0.8, kernel=linear, score=(train=0.813, test=0.780), total=   0.1s\n",
      "[CV] C=0.8, epsilon=0.1, gamma=0.8, kernel=linear ....................\n"
     ]
    },
    {
     "name": "stderr",
     "output_type": "stream",
     "text": [
      "C:\\Users\\Vishnu Murthy Chakka\\Anaconda3\\lib\\site-packages\\sklearn\\utils\\validation.py:744: DataConversionWarning: A column-vector y was passed when a 1d array was expected. Please change the shape of y to (n_samples, ), for example using ravel().\n",
      "  y = column_or_1d(y, warn=True)\n",
      "C:\\Users\\Vishnu Murthy Chakka\\Anaconda3\\lib\\site-packages\\sklearn\\utils\\validation.py:744: DataConversionWarning: A column-vector y was passed when a 1d array was expected. Please change the shape of y to (n_samples, ), for example using ravel().\n",
      "  y = column_or_1d(y, warn=True)\n",
      "C:\\Users\\Vishnu Murthy Chakka\\Anaconda3\\lib\\site-packages\\sklearn\\utils\\validation.py:744: DataConversionWarning: A column-vector y was passed when a 1d array was expected. Please change the shape of y to (n_samples, ), for example using ravel().\n",
      "  y = column_or_1d(y, warn=True)\n"
     ]
    },
    {
     "name": "stdout",
     "output_type": "stream",
     "text": [
      "[CV]  C=0.8, epsilon=0.1, gamma=0.8, kernel=linear, score=(train=0.801, test=0.789), total=   0.1s\n",
      "[CV] C=0.8, epsilon=0.1, gamma=0.8, kernel=linear ....................\n",
      "[CV]  C=0.8, epsilon=0.1, gamma=0.8, kernel=linear, score=(train=0.800, test=0.810), total=   0.1s\n",
      "[CV] C=0.8, epsilon=0.1, gamma=0.8, kernel=rbf .......................\n",
      "[CV]  C=0.8, epsilon=0.1, gamma=0.8, kernel=rbf, score=(train=0.820, test=0.719), total=   0.0s\n",
      "[CV] C=0.8, epsilon=0.1, gamma=0.8, kernel=rbf .......................\n"
     ]
    },
    {
     "name": "stderr",
     "output_type": "stream",
     "text": [
      "C:\\Users\\Vishnu Murthy Chakka\\Anaconda3\\lib\\site-packages\\sklearn\\utils\\validation.py:744: DataConversionWarning: A column-vector y was passed when a 1d array was expected. Please change the shape of y to (n_samples, ), for example using ravel().\n",
      "  y = column_or_1d(y, warn=True)\n",
      "C:\\Users\\Vishnu Murthy Chakka\\Anaconda3\\lib\\site-packages\\sklearn\\utils\\validation.py:744: DataConversionWarning: A column-vector y was passed when a 1d array was expected. Please change the shape of y to (n_samples, ), for example using ravel().\n",
      "  y = column_or_1d(y, warn=True)\n",
      "C:\\Users\\Vishnu Murthy Chakka\\Anaconda3\\lib\\site-packages\\sklearn\\utils\\validation.py:744: DataConversionWarning: A column-vector y was passed when a 1d array was expected. Please change the shape of y to (n_samples, ), for example using ravel().\n",
      "  y = column_or_1d(y, warn=True)\n"
     ]
    },
    {
     "name": "stdout",
     "output_type": "stream",
     "text": [
      "[CV]  C=0.8, epsilon=0.1, gamma=0.8, kernel=rbf, score=(train=0.864, test=0.595), total=   0.0s\n",
      "[CV] C=0.8, epsilon=0.1, gamma=0.8, kernel=rbf .......................\n",
      "[CV]  C=0.8, epsilon=0.1, gamma=0.8, kernel=rbf, score=(train=0.819, test=0.733), total=   0.1s\n",
      "[CV] C=0.8, epsilon=0.5, gamma=0.2, kernel=linear ....................\n",
      "[CV]  C=0.8, epsilon=0.5, gamma=0.2, kernel=linear, score=(train=0.810, test=0.763), total=   0.0s\n",
      "[CV] C=0.8, epsilon=0.5, gamma=0.2, kernel=linear ....................\n",
      "[CV]  C=0.8, epsilon=0.5, gamma=0.2, kernel=linear, score=(train=0.796, test=0.794), total=   0.0s\n",
      "[CV] C=0.8, epsilon=0.5, gamma=0.2, kernel=linear ....................\n",
      "[CV]  C=0.8, epsilon=0.5, gamma=0.2, kernel=linear, score=(train=0.798, test=0.801), total=   0.0s\n",
      "[CV] C=0.8, epsilon=0.5, gamma=0.2, kernel=rbf .......................\n",
      "[CV]  C=0.8, epsilon=0.5, gamma=0.2, kernel=rbf, score=(train=0.832, test=0.806), total=   0.0s\n",
      "[CV] C=0.8, epsilon=0.5, gamma=0.2, kernel=rbf .......................\n"
     ]
    },
    {
     "name": "stderr",
     "output_type": "stream",
     "text": [
      "C:\\Users\\Vishnu Murthy Chakka\\Anaconda3\\lib\\site-packages\\sklearn\\utils\\validation.py:744: DataConversionWarning: A column-vector y was passed when a 1d array was expected. Please change the shape of y to (n_samples, ), for example using ravel().\n",
      "  y = column_or_1d(y, warn=True)\n",
      "C:\\Users\\Vishnu Murthy Chakka\\Anaconda3\\lib\\site-packages\\sklearn\\utils\\validation.py:744: DataConversionWarning: A column-vector y was passed when a 1d array was expected. Please change the shape of y to (n_samples, ), for example using ravel().\n",
      "  y = column_or_1d(y, warn=True)\n",
      "C:\\Users\\Vishnu Murthy Chakka\\Anaconda3\\lib\\site-packages\\sklearn\\utils\\validation.py:744: DataConversionWarning: A column-vector y was passed when a 1d array was expected. Please change the shape of y to (n_samples, ), for example using ravel().\n",
      "  y = column_or_1d(y, warn=True)\n",
      "C:\\Users\\Vishnu Murthy Chakka\\Anaconda3\\lib\\site-packages\\sklearn\\utils\\validation.py:744: DataConversionWarning: A column-vector y was passed when a 1d array was expected. Please change the shape of y to (n_samples, ), for example using ravel().\n",
      "  y = column_or_1d(y, warn=True)\n",
      "C:\\Users\\Vishnu Murthy Chakka\\Anaconda3\\lib\\site-packages\\sklearn\\utils\\validation.py:744: DataConversionWarning: A column-vector y was passed when a 1d array was expected. Please change the shape of y to (n_samples, ), for example using ravel().\n",
      "  y = column_or_1d(y, warn=True)\n",
      "C:\\Users\\Vishnu Murthy Chakka\\Anaconda3\\lib\\site-packages\\sklearn\\utils\\validation.py:744: DataConversionWarning: A column-vector y was passed when a 1d array was expected. Please change the shape of y to (n_samples, ), for example using ravel().\n",
      "  y = column_or_1d(y, warn=True)\n"
     ]
    },
    {
     "name": "stdout",
     "output_type": "stream",
     "text": [
      "[CV]  C=0.8, epsilon=0.5, gamma=0.2, kernel=rbf, score=(train=0.857, test=0.745), total=   0.0s\n",
      "[CV] C=0.8, epsilon=0.5, gamma=0.2, kernel=rbf .......................\n",
      "[CV]  C=0.8, epsilon=0.5, gamma=0.2, kernel=rbf, score=(train=0.834, test=0.838), total=   0.0s\n",
      "[CV] C=0.8, epsilon=0.5, gamma=0.8, kernel=linear ....................\n",
      "[CV]  C=0.8, epsilon=0.5, gamma=0.8, kernel=linear, score=(train=0.810, test=0.763), total=   0.0s\n",
      "[CV] C=0.8, epsilon=0.5, gamma=0.8, kernel=linear ....................\n",
      "[CV]  C=0.8, epsilon=0.5, gamma=0.8, kernel=linear, score=(train=0.796, test=0.794), total=   0.0s\n",
      "[CV] C=0.8, epsilon=0.5, gamma=0.8, kernel=linear ....................\n",
      "[CV]  C=0.8, epsilon=0.5, gamma=0.8, kernel=linear, score=(train=0.798, test=0.801), total=   0.0s\n",
      "[CV] C=0.8, epsilon=0.5, gamma=0.8, kernel=rbf .......................\n",
      "[CV]  C=0.8, epsilon=0.5, gamma=0.8, kernel=rbf, score=(train=0.758, test=0.655), total=   0.0s\n",
      "[CV] C=0.8, epsilon=0.5, gamma=0.8, kernel=rbf .......................\n",
      "[CV]  C=0.8, epsilon=0.5, gamma=0.8, kernel=rbf, score=(train=0.787, test=0.563), total=   0.0s\n",
      "[CV] C=0.8, epsilon=0.5, gamma=0.8, kernel=rbf .......................\n",
      "[CV]  C=0.8, epsilon=0.5, gamma=0.8, kernel=rbf, score=(train=0.762, test=0.671), total=   0.0s\n"
     ]
    },
    {
     "name": "stderr",
     "output_type": "stream",
     "text": [
      "C:\\Users\\Vishnu Murthy Chakka\\Anaconda3\\lib\\site-packages\\sklearn\\utils\\validation.py:744: DataConversionWarning: A column-vector y was passed when a 1d array was expected. Please change the shape of y to (n_samples, ), for example using ravel().\n",
      "  y = column_or_1d(y, warn=True)\n",
      "C:\\Users\\Vishnu Murthy Chakka\\Anaconda3\\lib\\site-packages\\sklearn\\utils\\validation.py:744: DataConversionWarning: A column-vector y was passed when a 1d array was expected. Please change the shape of y to (n_samples, ), for example using ravel().\n",
      "  y = column_or_1d(y, warn=True)\n",
      "C:\\Users\\Vishnu Murthy Chakka\\Anaconda3\\lib\\site-packages\\sklearn\\utils\\validation.py:744: DataConversionWarning: A column-vector y was passed when a 1d array was expected. Please change the shape of y to (n_samples, ), for example using ravel().\n",
      "  y = column_or_1d(y, warn=True)\n",
      "C:\\Users\\Vishnu Murthy Chakka\\Anaconda3\\lib\\site-packages\\sklearn\\utils\\validation.py:744: DataConversionWarning: A column-vector y was passed when a 1d array was expected. Please change the shape of y to (n_samples, ), for example using ravel().\n",
      "  y = column_or_1d(y, warn=True)\n",
      "C:\\Users\\Vishnu Murthy Chakka\\Anaconda3\\lib\\site-packages\\sklearn\\utils\\validation.py:744: DataConversionWarning: A column-vector y was passed when a 1d array was expected. Please change the shape of y to (n_samples, ), for example using ravel().\n",
      "  y = column_or_1d(y, warn=True)\n",
      "C:\\Users\\Vishnu Murthy Chakka\\Anaconda3\\lib\\site-packages\\sklearn\\utils\\validation.py:744: DataConversionWarning: A column-vector y was passed when a 1d array was expected. Please change the shape of y to (n_samples, ), for example using ravel().\n",
      "  y = column_or_1d(y, warn=True)\n",
      "C:\\Users\\Vishnu Murthy Chakka\\Anaconda3\\lib\\site-packages\\sklearn\\utils\\validation.py:744: DataConversionWarning: A column-vector y was passed when a 1d array was expected. Please change the shape of y to (n_samples, ), for example using ravel().\n",
      "  y = column_or_1d(y, warn=True)\n",
      "[Parallel(n_jobs=1)]: Done  48 out of  48 | elapsed:    2.1s finished\n",
      "C:\\Users\\Vishnu Murthy Chakka\\Anaconda3\\lib\\site-packages\\sklearn\\utils\\validation.py:744: DataConversionWarning: A column-vector y was passed when a 1d array was expected. Please change the shape of y to (n_samples, ), for example using ravel().\n",
      "  y = column_or_1d(y, warn=True)\n"
     ]
    },
    {
     "data": {
      "text/plain": [
       "GridSearchCV(cv=3, error_score=nan,\n",
       "             estimator=SVR(C=1.0, cache_size=200, coef0=0.0, degree=3,\n",
       "                           epsilon=0.1, gamma='scale', kernel='rbf',\n",
       "                           max_iter=-1, shrinking=True, tol=0.001,\n",
       "                           verbose=False),\n",
       "             iid='deprecated', n_jobs=None,\n",
       "             param_grid={'C': [0.2, 0.8], 'epsilon': [0.1, 0.5],\n",
       "                         'gamma': [0.2, 0.8], 'kernel': ['linear', 'rbf']},\n",
       "             pre_dispatch='2*n_jobs', refit=True, return_train_score=True,\n",
       "             scoring='r2', verbose=10)"
      ]
     },
     "execution_count": 27,
     "metadata": {},
     "output_type": "execute_result"
    }
   ],
   "source": [
    "# build linear model using sklearn\n",
    "from sklearn.svm import SVR\n",
    "# initialize SVR\n",
    "svr = SVR()\n",
    "# apply cross validation\n",
    "from sklearn.model_selection import GridSearchCV\n",
    "params = {'kernel':['linear','rbf'],\n",
    "          'gamma': [0.2,0.8],\n",
    "          'C':[0.2,0.8],\n",
    "          'epsilon':[0.1,0.5]}\n",
    "CV = GridSearchCV(estimator = svr, scoring='r2',cv=3,\n",
    "                  refit=True,return_train_score=True,\n",
    "                  param_grid=params,verbose=10)\n",
    "CV.fit(X_train_final, Y_train_SS)"
   ]
  },
  {
   "cell_type": "code",
   "execution_count": 28,
   "metadata": {},
   "outputs": [],
   "source": [
    "CVResults = pd.DataFrame(CV.cv_results_)\n",
    "CVResults.to_excel('CVResutls_SVM.xlsx')"
   ]
  },
  {
   "cell_type": "code",
   "execution_count": 29,
   "metadata": {},
   "outputs": [
    {
     "name": "stdout",
     "output_type": "stream",
     "text": [
      "0.8137980933448105\n"
     ]
    }
   ],
   "source": [
    "print(CV.best_score_)"
   ]
  },
  {
   "cell_type": "code",
   "execution_count": 30,
   "metadata": {},
   "outputs": [
    {
     "name": "stdout",
     "output_type": "stream",
     "text": [
      "SVR(C=0.8, cache_size=200, coef0=0.0, degree=3, epsilon=0.1, gamma=0.2,\n",
      "    kernel='rbf', max_iter=-1, shrinking=True, tol=0.001, verbose=False)\n"
     ]
    }
   ],
   "source": [
    "print(CV.best_estimator_)"
   ]
  },
  {
   "cell_type": "code",
   "execution_count": 33,
   "metadata": {},
   "outputs": [
    {
     "name": "stdout",
     "output_type": "stream",
     "text": [
      "[[ 2.09741428]\n",
      " [-0.73658931]\n",
      " [-0.62860426]\n",
      " [ 0.88996612]\n",
      " [ 0.4825482 ]]\n",
      "(1168, 1)\n",
      "(1168, 1)\n",
      "(1168, 1)\n"
     ]
    }
   ],
   "source": [
    "# draw histogram of errors\n",
    "train_predict = CV.predict(X_train_final)\n",
    "train_predict.resize(len(train_predict),1)\n",
    "print(train_predict[0:5])\n",
    "print(train_predict.shape)\n",
    "print(Y_train_SS.shape)\n",
    "Error = train_predict - Y_train_SS\n",
    "print(Error.shape)"
   ]
  },
  {
   "cell_type": "code",
   "execution_count": 34,
   "metadata": {},
   "outputs": [
    {
     "data": {
      "image/png": "[encoded data removed]",
      "text/plain": [
       "<Figure size 432x288 with 1 Axes>"
      ]
     },
     "metadata": {
      "needs_background": "light"
     },
     "output_type": "display_data"
    }
   ],
   "source": [
    "#from matplotlib import pyplot as plt\n",
    "plt.hist(Error,bins=20)\n",
    "plt.show()"
   ]
  },
  {
   "cell_type": "code",
   "execution_count": 35,
   "metadata": {},
   "outputs": [
    {
     "data": {
      "image/png": "[encoded data removed]",
      "text/plain": [
       "<Figure size 432x288 with 1 Axes>"
      ]
     },
     "metadata": {
      "needs_background": "light"
     },
     "output_type": "display_data"
    }
   ],
   "source": [
    "# plot error vs predicted\n",
    "plt.scatter(train_predict,Error)\n",
    "plt.xlabel(\"Predicted\")                                 # label for X axis\n",
    "plt.ylabel(\"Error\")   \n",
    "#plt.legend()\n",
    "plt.show()"
   ]
  },
  {
   "cell_type": "code",
   "execution_count": 36,
   "metadata": {},
   "outputs": [
    {
     "name": "stdout",
     "output_type": "stream",
     "text": [
      "0.7490848258804259\n"
     ]
    }
   ],
   "source": [
    "# apply the model on test\n",
    "predict = CV.predict(X_test_final)\n",
    "# calculate r square\n",
    "print(CV.score(X_test_final,Y_test_SS))"
   ]
  },
  {
   "cell_type": "code",
   "execution_count": 37,
   "metadata": {},
   "outputs": [
    {
     "name": "stdout",
     "output_type": "stream",
     "text": [
      "[ 1.34523121 -0.57372829 -0.79666954  0.41820278 -1.06600806 -0.95489873\n",
      "  0.73009516 -0.75224633  1.69140332 -0.43504026]\n",
      "[286364.21452222 135790.5633742  118297.18831512 213623.72329285\n",
      "  97163.19095222 105881.5291857  238096.76435685 121782.91297094\n",
      " 313527.05868841 146672.89990269]\n"
     ]
    }
   ],
   "source": [
    "# get the predicted sale prices to original scale\n",
    "print(predict[0:10])\n",
    "predictfinal = SS2.inverse_transform(predict)\n",
    "print(predictfinal[0:10])"
   ]
  },
  {
   "cell_type": "code",
   "execution_count": null,
   "metadata": {},
   "outputs": [],
   "source": []
  }
 ],
 "metadata": {
  "kernelspec": {
   "display_name": "Python 3",
   "language": "python",
   "name": "python3"
  },
  "language_info": {
   "codemirror_mode": {
    "name": "ipython",
    "version": 3
   },
   "file_extension": ".py",
   "mimetype": "text/x-python",
   "name": "python",
   "nbconvert_exporter": "python",
   "pygments_lexer": "ipython3",
   "version": "3.7.3"
  }
 },
 "nbformat": 4,
 "nbformat_minor": 2
}
