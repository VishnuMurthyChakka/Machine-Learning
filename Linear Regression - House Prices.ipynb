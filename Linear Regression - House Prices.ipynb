{
 "cells": [
  {
   "cell_type": "code",
   "execution_count": 1,
   "metadata": {},
   "outputs": [
    {
     "name": "stdout",
     "output_type": "stream",
     "text": [
      "C:\\Digital Nest\\Linear Regression\n"
     ]
    }
   ],
   "source": [
    "# Linear Regression\n",
    "import numpy as np\n",
    "import pandas as pd\n",
    "from collections import Counter\n",
    "from matplotlib import pyplot as plt\n",
    "import os\n",
    "os.chdir(\"C://Digital Nest/Linear Regression\")\n",
    "print (os.getcwd())"
   ]
  },
  {
   "cell_type": "code",
   "execution_count": 2,
   "metadata": {},
   "outputs": [
    {
     "data": {
      "text/html": [
       "<div>\n",
       "<style scoped>\n",
       "    .dataframe tbody tr th:only-of-type {\n",
       "        vertical-align: middle;\n",
       "    }\n",
       "\n",
       "    .dataframe tbody tr th {\n",
       "        vertical-align: top;\n",
       "    }\n",
       "\n",
       "    .dataframe thead th {\n",
       "        text-align: right;\n",
       "    }\n",
       "</style>\n",
       "<table border=\"1\" class=\"dataframe\">\n",
       "  <thead>\n",
       "    <tr style=\"text-align: right;\">\n",
       "      <th></th>\n",
       "      <th>Id</th>\n",
       "      <th>MSSubClass</th>\n",
       "      <th>MSZoning</th>\n",
       "      <th>LotFrontage</th>\n",
       "      <th>LotArea</th>\n",
       "      <th>Street</th>\n",
       "      <th>Alley</th>\n",
       "      <th>LotShape</th>\n",
       "      <th>LandContour</th>\n",
       "      <th>Utilities</th>\n",
       "      <th>...</th>\n",
       "      <th>PoolArea</th>\n",
       "      <th>PoolQC</th>\n",
       "      <th>Fence</th>\n",
       "      <th>MiscFeature</th>\n",
       "      <th>MiscVal</th>\n",
       "      <th>MoSold</th>\n",
       "      <th>YrSold</th>\n",
       "      <th>SaleType</th>\n",
       "      <th>SaleCondition</th>\n",
       "      <th>SalePrice</th>\n",
       "    </tr>\n",
       "  </thead>\n",
       "  <tbody>\n",
       "    <tr>\n",
       "      <th>0</th>\n",
       "      <td>1</td>\n",
       "      <td>60</td>\n",
       "      <td>RL</td>\n",
       "      <td>65.0</td>\n",
       "      <td>8450</td>\n",
       "      <td>Pave</td>\n",
       "      <td>NaN</td>\n",
       "      <td>Reg</td>\n",
       "      <td>Lvl</td>\n",
       "      <td>AllPub</td>\n",
       "      <td>...</td>\n",
       "      <td>0</td>\n",
       "      <td>NaN</td>\n",
       "      <td>NaN</td>\n",
       "      <td>NaN</td>\n",
       "      <td>0</td>\n",
       "      <td>2</td>\n",
       "      <td>2008</td>\n",
       "      <td>WD</td>\n",
       "      <td>Normal</td>\n",
       "      <td>208500</td>\n",
       "    </tr>\n",
       "    <tr>\n",
       "      <th>1</th>\n",
       "      <td>2</td>\n",
       "      <td>20</td>\n",
       "      <td>RL</td>\n",
       "      <td>80.0</td>\n",
       "      <td>9600</td>\n",
       "      <td>Pave</td>\n",
       "      <td>NaN</td>\n",
       "      <td>Reg</td>\n",
       "      <td>Lvl</td>\n",
       "      <td>AllPub</td>\n",
       "      <td>...</td>\n",
       "      <td>0</td>\n",
       "      <td>NaN</td>\n",
       "      <td>NaN</td>\n",
       "      <td>NaN</td>\n",
       "      <td>0</td>\n",
       "      <td>5</td>\n",
       "      <td>2007</td>\n",
       "      <td>WD</td>\n",
       "      <td>Normal</td>\n",
       "      <td>181500</td>\n",
       "    </tr>\n",
       "    <tr>\n",
       "      <th>2</th>\n",
       "      <td>3</td>\n",
       "      <td>60</td>\n",
       "      <td>RL</td>\n",
       "      <td>68.0</td>\n",
       "      <td>11250</td>\n",
       "      <td>Pave</td>\n",
       "      <td>NaN</td>\n",
       "      <td>IR1</td>\n",
       "      <td>Lvl</td>\n",
       "      <td>AllPub</td>\n",
       "      <td>...</td>\n",
       "      <td>0</td>\n",
       "      <td>NaN</td>\n",
       "      <td>NaN</td>\n",
       "      <td>NaN</td>\n",
       "      <td>0</td>\n",
       "      <td>9</td>\n",
       "      <td>2008</td>\n",
       "      <td>WD</td>\n",
       "      <td>Normal</td>\n",
       "      <td>223500</td>\n",
       "    </tr>\n",
       "    <tr>\n",
       "      <th>3</th>\n",
       "      <td>4</td>\n",
       "      <td>70</td>\n",
       "      <td>RL</td>\n",
       "      <td>60.0</td>\n",
       "      <td>9550</td>\n",
       "      <td>Pave</td>\n",
       "      <td>NaN</td>\n",
       "      <td>IR1</td>\n",
       "      <td>Lvl</td>\n",
       "      <td>AllPub</td>\n",
       "      <td>...</td>\n",
       "      <td>0</td>\n",
       "      <td>NaN</td>\n",
       "      <td>NaN</td>\n",
       "      <td>NaN</td>\n",
       "      <td>0</td>\n",
       "      <td>2</td>\n",
       "      <td>2006</td>\n",
       "      <td>WD</td>\n",
       "      <td>Abnorml</td>\n",
       "      <td>140000</td>\n",
       "    </tr>\n",
       "    <tr>\n",
       "      <th>4</th>\n",
       "      <td>5</td>\n",
       "      <td>60</td>\n",
       "      <td>RL</td>\n",
       "      <td>84.0</td>\n",
       "      <td>14260</td>\n",
       "      <td>Pave</td>\n",
       "      <td>NaN</td>\n",
       "      <td>IR1</td>\n",
       "      <td>Lvl</td>\n",
       "      <td>AllPub</td>\n",
       "      <td>...</td>\n",
       "      <td>0</td>\n",
       "      <td>NaN</td>\n",
       "      <td>NaN</td>\n",
       "      <td>NaN</td>\n",
       "      <td>0</td>\n",
       "      <td>12</td>\n",
       "      <td>2008</td>\n",
       "      <td>WD</td>\n",
       "      <td>Normal</td>\n",
       "      <td>250000</td>\n",
       "    </tr>\n",
       "  </tbody>\n",
       "</table>\n",
       "<p>5 rows × 81 columns</p>\n",
       "</div>"
      ],
      "text/plain": [
       "   Id  MSSubClass MSZoning  LotFrontage  LotArea Street Alley LotShape  \\\n",
       "0   1          60       RL         65.0     8450   Pave   NaN      Reg   \n",
       "1   2          20       RL         80.0     9600   Pave   NaN      Reg   \n",
       "2   3          60       RL         68.0    11250   Pave   NaN      IR1   \n",
       "3   4          70       RL         60.0     9550   Pave   NaN      IR1   \n",
       "4   5          60       RL         84.0    14260   Pave   NaN      IR1   \n",
       "\n",
       "  LandContour Utilities  ... PoolArea PoolQC Fence MiscFeature MiscVal MoSold  \\\n",
       "0         Lvl    AllPub  ...        0    NaN   NaN         NaN       0      2   \n",
       "1         Lvl    AllPub  ...        0    NaN   NaN         NaN       0      5   \n",
       "2         Lvl    AllPub  ...        0    NaN   NaN         NaN       0      9   \n",
       "3         Lvl    AllPub  ...        0    NaN   NaN         NaN       0      2   \n",
       "4         Lvl    AllPub  ...        0    NaN   NaN         NaN       0     12   \n",
       "\n",
       "  YrSold  SaleType  SaleCondition  SalePrice  \n",
       "0   2008        WD         Normal     208500  \n",
       "1   2007        WD         Normal     181500  \n",
       "2   2008        WD         Normal     223500  \n",
       "3   2006        WD        Abnorml     140000  \n",
       "4   2008        WD         Normal     250000  \n",
       "\n",
       "[5 rows x 81 columns]"
      ]
     },
     "execution_count": 2,
     "metadata": {},
     "output_type": "execute_result"
    }
   ],
   "source": [
    "HP = pd.read_csv('House Prices.csv')\n",
    "HP.head()"
   ]
  },
  {
   "cell_type": "code",
   "execution_count": 3,
   "metadata": {},
   "outputs": [
    {
     "name": "stdout",
     "output_type": "stream",
     "text": [
      "['Id' 'MSSubClass' 'MSZoning' 'LotFrontage' 'LotArea' 'Street' 'Alley'\n",
      " 'LotShape' 'LandContour' 'Utilities' 'LotConfig' 'LandSlope'\n",
      " 'Neighborhood' 'Condition1' 'Condition2' 'BldgType' 'HouseStyle'\n",
      " 'OverallQual' 'OverallCond' 'YearBuilt' 'YearRemodAdd' 'RoofStyle'\n",
      " 'RoofMatl' 'Exterior1st' 'Exterior2nd' 'MasVnrType' 'MasVnrArea'\n",
      " 'ExterQual' 'ExterCond' 'Foundation' 'BsmtQual' 'BsmtCond' 'BsmtExposure'\n",
      " 'BsmtFinType1' 'BsmtFinSF1' 'BsmtFinType2' 'BsmtFinSF2' 'BsmtUnfSF'\n",
      " 'TotalBsmtSF' 'Heating' 'HeatingQC' 'CentralAir' 'Electrical' '1stFlrSF'\n",
      " '2ndFlrSF' 'LowQualFinSF' 'GrLivArea' 'BsmtFullBath' 'BsmtHalfBath'\n",
      " 'FullBath' 'HalfBath' 'BedroomAbvGr' 'KitchenAbvGr' 'KitchenQual'\n",
      " 'TotRmsAbvGrd' 'Functional' 'Fireplaces' 'FireplaceQu' 'GarageType'\n",
      " 'GarageYrBlt' 'GarageFinish' 'GarageCars' 'GarageArea' 'GarageQual'\n",
      " 'GarageCond' 'PavedDrive' 'WoodDeckSF' 'OpenPorchSF' 'EnclosedPorch'\n",
      " '3SsnPorch' 'ScreenPorch' 'PoolArea' 'PoolQC' 'Fence' 'MiscFeature'\n",
      " 'MiscVal' 'MoSold' 'YrSold' 'SaleType' 'SaleCondition' 'SalePrice']\n"
     ]
    }
   ],
   "source": [
    "print(HP.columns.values)"
   ]
  },
  {
   "cell_type": "code",
   "execution_count": 4,
   "metadata": {},
   "outputs": [
    {
     "data": {
      "text/plain": [
       "(1460, 81)"
      ]
     },
     "execution_count": 4,
     "metadata": {},
     "output_type": "execute_result"
    }
   ],
   "source": [
    "HP.shape"
   ]
  },
  {
   "cell_type": "markdown",
   "metadata": {},
   "source": [
    "Missing Values Treatment"
   ]
  },
  {
   "cell_type": "code",
   "execution_count": 5,
   "metadata": {},
   "outputs": [
    {
     "name": "stdout",
     "output_type": "stream",
     "text": [
      "             NullCount\n",
      "Id                   0\n",
      "MSSubClass           0\n",
      "MSZoning             0\n",
      "LotFrontage        259\n",
      "LotArea              0\n"
     ]
    }
   ],
   "source": [
    "Nulldf = pd.DataFrame(HP.isnull().sum(),columns=[\"NullCount\"])\n",
    "print(Nulldf.head())"
   ]
  },
  {
   "cell_type": "code",
   "execution_count": 6,
   "metadata": {},
   "outputs": [
    {
     "data": {
      "text/html": [
       "<div>\n",
       "<style scoped>\n",
       "    .dataframe tbody tr th:only-of-type {\n",
       "        vertical-align: middle;\n",
       "    }\n",
       "\n",
       "    .dataframe tbody tr th {\n",
       "        vertical-align: top;\n",
       "    }\n",
       "\n",
       "    .dataframe thead th {\n",
       "        text-align: right;\n",
       "    }\n",
       "</style>\n",
       "<table border=\"1\" class=\"dataframe\">\n",
       "  <thead>\n",
       "    <tr style=\"text-align: right;\">\n",
       "      <th></th>\n",
       "      <th>NullCount</th>\n",
       "    </tr>\n",
       "  </thead>\n",
       "  <tbody>\n",
       "    <tr>\n",
       "      <th>LotFrontage</th>\n",
       "      <td>259</td>\n",
       "    </tr>\n",
       "    <tr>\n",
       "      <th>Alley</th>\n",
       "      <td>1369</td>\n",
       "    </tr>\n",
       "    <tr>\n",
       "      <th>MasVnrType</th>\n",
       "      <td>8</td>\n",
       "    </tr>\n",
       "    <tr>\n",
       "      <th>MasVnrArea</th>\n",
       "      <td>8</td>\n",
       "    </tr>\n",
       "    <tr>\n",
       "      <th>BsmtQual</th>\n",
       "      <td>37</td>\n",
       "    </tr>\n",
       "    <tr>\n",
       "      <th>BsmtCond</th>\n",
       "      <td>37</td>\n",
       "    </tr>\n",
       "    <tr>\n",
       "      <th>BsmtExposure</th>\n",
       "      <td>38</td>\n",
       "    </tr>\n",
       "    <tr>\n",
       "      <th>BsmtFinType1</th>\n",
       "      <td>37</td>\n",
       "    </tr>\n",
       "    <tr>\n",
       "      <th>BsmtFinType2</th>\n",
       "      <td>38</td>\n",
       "    </tr>\n",
       "    <tr>\n",
       "      <th>Electrical</th>\n",
       "      <td>1</td>\n",
       "    </tr>\n",
       "    <tr>\n",
       "      <th>FireplaceQu</th>\n",
       "      <td>690</td>\n",
       "    </tr>\n",
       "    <tr>\n",
       "      <th>GarageType</th>\n",
       "      <td>81</td>\n",
       "    </tr>\n",
       "    <tr>\n",
       "      <th>GarageYrBlt</th>\n",
       "      <td>81</td>\n",
       "    </tr>\n",
       "    <tr>\n",
       "      <th>GarageFinish</th>\n",
       "      <td>81</td>\n",
       "    </tr>\n",
       "    <tr>\n",
       "      <th>GarageQual</th>\n",
       "      <td>81</td>\n",
       "    </tr>\n",
       "    <tr>\n",
       "      <th>GarageCond</th>\n",
       "      <td>81</td>\n",
       "    </tr>\n",
       "    <tr>\n",
       "      <th>PoolQC</th>\n",
       "      <td>1453</td>\n",
       "    </tr>\n",
       "    <tr>\n",
       "      <th>Fence</th>\n",
       "      <td>1179</td>\n",
       "    </tr>\n",
       "    <tr>\n",
       "      <th>MiscFeature</th>\n",
       "      <td>1406</td>\n",
       "    </tr>\n",
       "  </tbody>\n",
       "</table>\n",
       "</div>"
      ],
      "text/plain": [
       "              NullCount\n",
       "LotFrontage         259\n",
       "Alley              1369\n",
       "MasVnrType            8\n",
       "MasVnrArea            8\n",
       "BsmtQual             37\n",
       "BsmtCond             37\n",
       "BsmtExposure         38\n",
       "BsmtFinType1         37\n",
       "BsmtFinType2         38\n",
       "Electrical            1\n",
       "FireplaceQu         690\n",
       "GarageType           81\n",
       "GarageYrBlt          81\n",
       "GarageFinish         81\n",
       "GarageQual           81\n",
       "GarageCond           81\n",
       "PoolQC             1453\n",
       "Fence              1179\n",
       "MiscFeature        1406"
      ]
     },
     "execution_count": 6,
     "metadata": {},
     "output_type": "execute_result"
    }
   ],
   "source": [
    "# get variables with null values\n",
    "Nulldf[Nulldf.NullCount > 0]"
   ]
  },
  {
   "cell_type": "code",
   "execution_count": 7,
   "metadata": {},
   "outputs": [
    {
     "name": "stdout",
     "output_type": "stream",
     "text": [
      "             NullCount  NullPerc\n",
      "Id                   0  0.000000\n",
      "MSSubClass           0  0.000000\n",
      "MSZoning             0  0.000000\n",
      "LotFrontage        259  0.177397\n",
      "LotArea              0  0.000000\n"
     ]
    }
   ],
   "source": [
    "Nulldf[\"NullPerc\"] = Nulldf.NullCount / HP.shape[0]\n",
    "print(Nulldf.head())"
   ]
  },
  {
   "cell_type": "code",
   "execution_count": 8,
   "metadata": {},
   "outputs": [
    {
     "data": {
      "text/html": [
       "<div>\n",
       "<style scoped>\n",
       "    .dataframe tbody tr th:only-of-type {\n",
       "        vertical-align: middle;\n",
       "    }\n",
       "\n",
       "    .dataframe tbody tr th {\n",
       "        vertical-align: top;\n",
       "    }\n",
       "\n",
       "    .dataframe thead th {\n",
       "        text-align: right;\n",
       "    }\n",
       "</style>\n",
       "<table border=\"1\" class=\"dataframe\">\n",
       "  <thead>\n",
       "    <tr style=\"text-align: right;\">\n",
       "      <th></th>\n",
       "      <th>NullCount</th>\n",
       "      <th>NullPerc</th>\n",
       "    </tr>\n",
       "  </thead>\n",
       "  <tbody>\n",
       "    <tr>\n",
       "      <th>LotFrontage</th>\n",
       "      <td>259</td>\n",
       "      <td>0.177397</td>\n",
       "    </tr>\n",
       "    <tr>\n",
       "      <th>Alley</th>\n",
       "      <td>1369</td>\n",
       "      <td>0.937671</td>\n",
       "    </tr>\n",
       "    <tr>\n",
       "      <th>MasVnrType</th>\n",
       "      <td>8</td>\n",
       "      <td>0.005479</td>\n",
       "    </tr>\n",
       "    <tr>\n",
       "      <th>MasVnrArea</th>\n",
       "      <td>8</td>\n",
       "      <td>0.005479</td>\n",
       "    </tr>\n",
       "    <tr>\n",
       "      <th>BsmtQual</th>\n",
       "      <td>37</td>\n",
       "      <td>0.025342</td>\n",
       "    </tr>\n",
       "    <tr>\n",
       "      <th>BsmtCond</th>\n",
       "      <td>37</td>\n",
       "      <td>0.025342</td>\n",
       "    </tr>\n",
       "    <tr>\n",
       "      <th>BsmtExposure</th>\n",
       "      <td>38</td>\n",
       "      <td>0.026027</td>\n",
       "    </tr>\n",
       "    <tr>\n",
       "      <th>BsmtFinType1</th>\n",
       "      <td>37</td>\n",
       "      <td>0.025342</td>\n",
       "    </tr>\n",
       "    <tr>\n",
       "      <th>BsmtFinType2</th>\n",
       "      <td>38</td>\n",
       "      <td>0.026027</td>\n",
       "    </tr>\n",
       "    <tr>\n",
       "      <th>Electrical</th>\n",
       "      <td>1</td>\n",
       "      <td>0.000685</td>\n",
       "    </tr>\n",
       "    <tr>\n",
       "      <th>FireplaceQu</th>\n",
       "      <td>690</td>\n",
       "      <td>0.472603</td>\n",
       "    </tr>\n",
       "    <tr>\n",
       "      <th>GarageType</th>\n",
       "      <td>81</td>\n",
       "      <td>0.055479</td>\n",
       "    </tr>\n",
       "    <tr>\n",
       "      <th>GarageYrBlt</th>\n",
       "      <td>81</td>\n",
       "      <td>0.055479</td>\n",
       "    </tr>\n",
       "    <tr>\n",
       "      <th>GarageFinish</th>\n",
       "      <td>81</td>\n",
       "      <td>0.055479</td>\n",
       "    </tr>\n",
       "    <tr>\n",
       "      <th>GarageQual</th>\n",
       "      <td>81</td>\n",
       "      <td>0.055479</td>\n",
       "    </tr>\n",
       "    <tr>\n",
       "      <th>GarageCond</th>\n",
       "      <td>81</td>\n",
       "      <td>0.055479</td>\n",
       "    </tr>\n",
       "    <tr>\n",
       "      <th>PoolQC</th>\n",
       "      <td>1453</td>\n",
       "      <td>0.995205</td>\n",
       "    </tr>\n",
       "    <tr>\n",
       "      <th>Fence</th>\n",
       "      <td>1179</td>\n",
       "      <td>0.807534</td>\n",
       "    </tr>\n",
       "    <tr>\n",
       "      <th>MiscFeature</th>\n",
       "      <td>1406</td>\n",
       "      <td>0.963014</td>\n",
       "    </tr>\n",
       "  </tbody>\n",
       "</table>\n",
       "</div>"
      ],
      "text/plain": [
       "              NullCount  NullPerc\n",
       "LotFrontage         259  0.177397\n",
       "Alley              1369  0.937671\n",
       "MasVnrType            8  0.005479\n",
       "MasVnrArea            8  0.005479\n",
       "BsmtQual             37  0.025342\n",
       "BsmtCond             37  0.025342\n",
       "BsmtExposure         38  0.026027\n",
       "BsmtFinType1         37  0.025342\n",
       "BsmtFinType2         38  0.026027\n",
       "Electrical            1  0.000685\n",
       "FireplaceQu         690  0.472603\n",
       "GarageType           81  0.055479\n",
       "GarageYrBlt          81  0.055479\n",
       "GarageFinish         81  0.055479\n",
       "GarageQual           81  0.055479\n",
       "GarageCond           81  0.055479\n",
       "PoolQC             1453  0.995205\n",
       "Fence              1179  0.807534\n",
       "MiscFeature        1406  0.963014"
      ]
     },
     "execution_count": 8,
     "metadata": {},
     "output_type": "execute_result"
    }
   ],
   "source": [
    "Nulldf[Nulldf.NullPerc > 0]"
   ]
  },
  {
   "cell_type": "code",
   "execution_count": 9,
   "metadata": {},
   "outputs": [
    {
     "data": {
      "text/html": [
       "<div>\n",
       "<style scoped>\n",
       "    .dataframe tbody tr th:only-of-type {\n",
       "        vertical-align: middle;\n",
       "    }\n",
       "\n",
       "    .dataframe tbody tr th {\n",
       "        vertical-align: top;\n",
       "    }\n",
       "\n",
       "    .dataframe thead th {\n",
       "        text-align: right;\n",
       "    }\n",
       "</style>\n",
       "<table border=\"1\" class=\"dataframe\">\n",
       "  <thead>\n",
       "    <tr style=\"text-align: right;\">\n",
       "      <th></th>\n",
       "      <th>NullCount</th>\n",
       "      <th>NullPerc</th>\n",
       "    </tr>\n",
       "  </thead>\n",
       "  <tbody>\n",
       "    <tr>\n",
       "      <th>LotFrontage</th>\n",
       "      <td>259</td>\n",
       "      <td>0.177397</td>\n",
       "    </tr>\n",
       "    <tr>\n",
       "      <th>Alley</th>\n",
       "      <td>1369</td>\n",
       "      <td>0.937671</td>\n",
       "    </tr>\n",
       "    <tr>\n",
       "      <th>FireplaceQu</th>\n",
       "      <td>690</td>\n",
       "      <td>0.472603</td>\n",
       "    </tr>\n",
       "    <tr>\n",
       "      <th>PoolQC</th>\n",
       "      <td>1453</td>\n",
       "      <td>0.995205</td>\n",
       "    </tr>\n",
       "    <tr>\n",
       "      <th>Fence</th>\n",
       "      <td>1179</td>\n",
       "      <td>0.807534</td>\n",
       "    </tr>\n",
       "    <tr>\n",
       "      <th>MiscFeature</th>\n",
       "      <td>1406</td>\n",
       "      <td>0.963014</td>\n",
       "    </tr>\n",
       "  </tbody>\n",
       "</table>\n",
       "</div>"
      ],
      "text/plain": [
       "             NullCount  NullPerc\n",
       "LotFrontage        259  0.177397\n",
       "Alley             1369  0.937671\n",
       "FireplaceQu        690  0.472603\n",
       "PoolQC            1453  0.995205\n",
       "Fence             1179  0.807534\n",
       "MiscFeature       1406  0.963014"
      ]
     },
     "execution_count": 9,
     "metadata": {},
     "output_type": "execute_result"
    }
   ],
   "source": [
    "Nulldf[Nulldf.NullPerc > 0.10]"
   ]
  },
  {
   "cell_type": "code",
   "execution_count": 10,
   "metadata": {},
   "outputs": [
    {
     "data": {
      "text/html": [
       "<div>\n",
       "<style scoped>\n",
       "    .dataframe tbody tr th:only-of-type {\n",
       "        vertical-align: middle;\n",
       "    }\n",
       "\n",
       "    .dataframe tbody tr th {\n",
       "        vertical-align: top;\n",
       "    }\n",
       "\n",
       "    .dataframe thead th {\n",
       "        text-align: right;\n",
       "    }\n",
       "</style>\n",
       "<table border=\"1\" class=\"dataframe\">\n",
       "  <thead>\n",
       "    <tr style=\"text-align: right;\">\n",
       "      <th></th>\n",
       "      <th>NullCount</th>\n",
       "      <th>NullPerc</th>\n",
       "    </tr>\n",
       "  </thead>\n",
       "  <tbody>\n",
       "    <tr>\n",
       "      <th>MasVnrType</th>\n",
       "      <td>8</td>\n",
       "      <td>0.005479</td>\n",
       "    </tr>\n",
       "    <tr>\n",
       "      <th>MasVnrArea</th>\n",
       "      <td>8</td>\n",
       "      <td>0.005479</td>\n",
       "    </tr>\n",
       "    <tr>\n",
       "      <th>BsmtQual</th>\n",
       "      <td>37</td>\n",
       "      <td>0.025342</td>\n",
       "    </tr>\n",
       "    <tr>\n",
       "      <th>BsmtCond</th>\n",
       "      <td>37</td>\n",
       "      <td>0.025342</td>\n",
       "    </tr>\n",
       "    <tr>\n",
       "      <th>BsmtExposure</th>\n",
       "      <td>38</td>\n",
       "      <td>0.026027</td>\n",
       "    </tr>\n",
       "    <tr>\n",
       "      <th>BsmtFinType1</th>\n",
       "      <td>37</td>\n",
       "      <td>0.025342</td>\n",
       "    </tr>\n",
       "    <tr>\n",
       "      <th>BsmtFinType2</th>\n",
       "      <td>38</td>\n",
       "      <td>0.026027</td>\n",
       "    </tr>\n",
       "    <tr>\n",
       "      <th>Electrical</th>\n",
       "      <td>1</td>\n",
       "      <td>0.000685</td>\n",
       "    </tr>\n",
       "    <tr>\n",
       "      <th>GarageType</th>\n",
       "      <td>81</td>\n",
       "      <td>0.055479</td>\n",
       "    </tr>\n",
       "    <tr>\n",
       "      <th>GarageYrBlt</th>\n",
       "      <td>81</td>\n",
       "      <td>0.055479</td>\n",
       "    </tr>\n",
       "    <tr>\n",
       "      <th>GarageFinish</th>\n",
       "      <td>81</td>\n",
       "      <td>0.055479</td>\n",
       "    </tr>\n",
       "    <tr>\n",
       "      <th>GarageQual</th>\n",
       "      <td>81</td>\n",
       "      <td>0.055479</td>\n",
       "    </tr>\n",
       "    <tr>\n",
       "      <th>GarageCond</th>\n",
       "      <td>81</td>\n",
       "      <td>0.055479</td>\n",
       "    </tr>\n",
       "  </tbody>\n",
       "</table>\n",
       "</div>"
      ],
      "text/plain": [
       "              NullCount  NullPerc\n",
       "MasVnrType            8  0.005479\n",
       "MasVnrArea            8  0.005479\n",
       "BsmtQual             37  0.025342\n",
       "BsmtCond             37  0.025342\n",
       "BsmtExposure         38  0.026027\n",
       "BsmtFinType1         37  0.025342\n",
       "BsmtFinType2         38  0.026027\n",
       "Electrical            1  0.000685\n",
       "GarageType           81  0.055479\n",
       "GarageYrBlt          81  0.055479\n",
       "GarageFinish         81  0.055479\n",
       "GarageQual           81  0.055479\n",
       "GarageCond           81  0.055479"
      ]
     },
     "execution_count": 10,
     "metadata": {},
     "output_type": "execute_result"
    }
   ],
   "source": [
    "Nulldf[(Nulldf.NullPerc > 0) & (Nulldf.NullPerc <= 0.10)]"
   ]
  },
  {
   "cell_type": "code",
   "execution_count": 11,
   "metadata": {},
   "outputs": [
    {
     "name": "stdout",
     "output_type": "stream",
     "text": [
      "Counter({'None': 864, 'BrkFace': 445, 'Stone': 128, 'BrkCmn': 15, nan: 8})\n"
     ]
    }
   ],
   "source": [
    "print(Counter(HP.MasVnrType))"
   ]
  },
  {
   "cell_type": "code",
   "execution_count": 12,
   "metadata": {},
   "outputs": [
    {
     "name": "stdout",
     "output_type": "stream",
     "text": [
      "Counter({'None': 872, 'BrkFace': 445, 'Stone': 128, 'BrkCmn': 15})\n"
     ]
    }
   ],
   "source": [
    "HP.MasVnrType.fillna(value = 'None',inplace=True)\n",
    "print(Counter(HP.MasVnrType))"
   ]
  },
  {
   "cell_type": "code",
   "execution_count": 13,
   "metadata": {},
   "outputs": [
    {
     "data": {
      "text/plain": [
       "count    1452.000000\n",
       "mean      103.685262\n",
       "std       181.066207\n",
       "min         0.000000\n",
       "25%         0.000000\n",
       "50%         0.000000\n",
       "75%       166.000000\n",
       "max      1600.000000\n",
       "Name: MasVnrArea, dtype: float64"
      ]
     },
     "execution_count": 13,
     "metadata": {},
     "output_type": "execute_result"
    }
   ],
   "source": [
    "HP.MasVnrArea.describe()"
   ]
  },
  {
   "cell_type": "code",
   "execution_count": 14,
   "metadata": {},
   "outputs": [
    {
     "data": {
      "image/png": "[encoded data removed]",
      "text/plain": [
       "<Figure size 432x288 with 1 Axes>"
      ]
     },
     "metadata": {
      "needs_background": "light"
     },
     "output_type": "display_data"
    }
   ],
   "source": [
    "plt.hist(HP.MasVnrArea,bins=20)\n",
    "plt.show()"
   ]
  },
  {
   "cell_type": "code",
   "execution_count": 15,
   "metadata": {},
   "outputs": [
    {
     "data": {
      "text/plain": [
       "0.50       0.0\n",
       "0.59       0.0\n",
       "0.60      16.0\n",
       "0.70     117.0\n",
       "0.80     206.0\n",
       "0.90     335.0\n",
       "1.00    1600.0\n",
       "Name: MasVnrArea, dtype: float64"
      ]
     },
     "execution_count": 15,
     "metadata": {},
     "output_type": "execute_result"
    }
   ],
   "source": [
    "HP.MasVnrArea.quantile(q=[0.5,0.59,0.6,0.7,0.8,0.9,1.0])"
   ]
  },
  {
   "cell_type": "code",
   "execution_count": 16,
   "metadata": {},
   "outputs": [
    {
     "name": "stdout",
     "output_type": "stream",
     "text": [
      "count    1460.000000\n",
      "mean      103.117123\n",
      "std       180.731373\n",
      "min         0.000000\n",
      "25%         0.000000\n",
      "50%         0.000000\n",
      "75%       164.250000\n",
      "max      1600.000000\n",
      "Name: MasVnrArea, dtype: float64\n"
     ]
    }
   ],
   "source": [
    "HP.MasVnrArea.fillna(value = 0,inplace=True)\n",
    "print(HP.MasVnrArea.describe())"
   ]
  },
  {
   "cell_type": "code",
   "execution_count": 17,
   "metadata": {},
   "outputs": [
    {
     "data": {
      "text/plain": [
       "Counter({'Gd': 618, 'TA': 649, 'Ex': 121, nan: 37, 'Fa': 35})"
      ]
     },
     "execution_count": 17,
     "metadata": {},
     "output_type": "execute_result"
    }
   ],
   "source": [
    "Counter(HP.BsmtQual)"
   ]
  },
  {
   "cell_type": "code",
   "execution_count": 18,
   "metadata": {},
   "outputs": [
    {
     "name": "stdout",
     "output_type": "stream",
     "text": [
      "Counter({'TA': 649, 'Gd': 618, 'Ex': 121, 'NB': 37, 'Fa': 35})\n"
     ]
    }
   ],
   "source": [
    "HP.BsmtQual.fillna(value = 'NB',inplace=True)\n",
    "print(Counter(HP.BsmtQual))"
   ]
  },
  {
   "cell_type": "code",
   "execution_count": 19,
   "metadata": {},
   "outputs": [
    {
     "data": {
      "text/plain": [
       "Counter({'SBrkr': 1334,\n",
       "         'FuseF': 27,\n",
       "         'FuseA': 94,\n",
       "         'FuseP': 3,\n",
       "         'Mix': 1,\n",
       "         nan: 1})"
      ]
     },
     "execution_count": 19,
     "metadata": {},
     "output_type": "execute_result"
    }
   ],
   "source": [
    "Counter(HP.Electrical)"
   ]
  },
  {
   "cell_type": "code",
   "execution_count": 20,
   "metadata": {},
   "outputs": [
    {
     "name": "stdout",
     "output_type": "stream",
     "text": [
      "Counter({'SBrkr': 1334, 'FuseA': 94, 'FuseF': 27, 'FuseP': 3, 'Mix': 1, 'NB': 1})\n"
     ]
    }
   ],
   "source": [
    "HP.Electrical.fillna(value = 'NB',inplace=True)\n",
    "print(Counter(HP.Electrical))"
   ]
  },
  {
   "cell_type": "markdown",
   "metadata": {},
   "source": [
    "Relation between independent continuous data & Sale Price"
   ]
  },
  {
   "cell_type": "code",
   "execution_count": 21,
   "metadata": {},
   "outputs": [
    {
     "data": {
      "image/png": "[encoded data removed]",
      "text/plain": [
       "<Figure size 432x288 with 1 Axes>"
      ]
     },
     "metadata": {
      "needs_background": "light"
     },
     "output_type": "display_data"
    }
   ],
   "source": [
    "plt.scatter(HP.LotArea, HP.SalePrice)\n",
    "plt.xlabel(\"LotArea\")\n",
    "plt.ylabel(\"SalePrice\")\n",
    "plt.show()"
   ]
  },
  {
   "cell_type": "code",
   "execution_count": 22,
   "metadata": {},
   "outputs": [
    {
     "data": {
      "text/plain": [
       "array([[1.        , 0.26384335],\n",
       "       [0.26384335, 1.        ]])"
      ]
     },
     "execution_count": 22,
     "metadata": {},
     "output_type": "execute_result"
    }
   ],
   "source": [
    "np.corrcoef(HP.LotArea, HP.SalePrice)"
   ]
  },
  {
   "cell_type": "code",
   "execution_count": 23,
   "metadata": {},
   "outputs": [
    {
     "data": {
      "image/png": "[encoded data removed]",
      "text/plain": [
       "<Figure size 432x288 with 1 Axes>"
      ]
     },
     "metadata": {
      "needs_background": "light"
     },
     "output_type": "display_data"
    }
   ],
   "source": [
    "plt.scatter(HP.GrLivArea, HP.SalePrice)\n",
    "plt.xlabel(\"GrLivArea\")\n",
    "plt.ylabel(\"SalePrice\")\n",
    "plt.show()"
   ]
  },
  {
   "cell_type": "code",
   "execution_count": 24,
   "metadata": {},
   "outputs": [
    {
     "data": {
      "text/plain": [
       "array([[1.        , 0.70862448],\n",
       "       [0.70862448, 1.        ]])"
      ]
     },
     "execution_count": 24,
     "metadata": {},
     "output_type": "execute_result"
    }
   ],
   "source": [
    "np.corrcoef(HP.GrLivArea, HP.SalePrice)"
   ]
  },
  {
   "cell_type": "code",
   "execution_count": 25,
   "metadata": {},
   "outputs": [
    {
     "data": {
      "text/plain": [
       "count      1460.000000\n",
       "mean     180921.195890\n",
       "std       79442.502883\n",
       "min       34900.000000\n",
       "25%      129975.000000\n",
       "50%      163000.000000\n",
       "75%      214000.000000\n",
       "max      755000.000000\n",
       "Name: SalePrice, dtype: float64"
      ]
     },
     "execution_count": 25,
     "metadata": {},
     "output_type": "execute_result"
    }
   ],
   "source": [
    "HP.SalePrice.describe()"
   ]
  },
  {
   "cell_type": "code",
   "execution_count": 26,
   "metadata": {},
   "outputs": [
    {
     "data": {
      "text/plain": [
       "0.10    106475.00\n",
       "0.20    124000.00\n",
       "0.30    135500.00\n",
       "0.40    147000.00\n",
       "0.50    163000.00\n",
       "0.60    179280.00\n",
       "0.70    198620.00\n",
       "0.80    230000.00\n",
       "0.90    278000.00\n",
       "0.95    326100.00\n",
       "0.99    442567.01\n",
       "1.00    755000.00\n",
       "Name: SalePrice, dtype: float64"
      ]
     },
     "execution_count": 26,
     "metadata": {},
     "output_type": "execute_result"
    }
   ],
   "source": [
    "HP.SalePrice.quantile(q=[0.1,0.2,0.3,0.4,0.5,0.6,0.7,0.8,0.9,0.95,0.99,1.0])"
   ]
  },
  {
   "cell_type": "code",
   "execution_count": 27,
   "metadata": {},
   "outputs": [
    {
     "data": {
      "image/png": "[encoded data removed]",
      "text/plain": [
       "<Figure size 432x288 with 1 Axes>"
      ]
     },
     "metadata": {
      "needs_background": "light"
     },
     "output_type": "display_data"
    }
   ],
   "source": [
    "plt.hist(HP.SalePrice,bins=20)\n",
    "plt.show()"
   ]
  },
  {
   "cell_type": "code",
   "execution_count": 28,
   "metadata": {},
   "outputs": [
    {
     "data": {
      "image/png": "[encoded data removed]",
      "text/plain": [
       "<Figure size 432x288 with 1 Axes>"
      ]
     },
     "metadata": {
      "needs_background": "light"
     },
     "output_type": "display_data"
    }
   ],
   "source": [
    "plt.boxplot(HP.SalePrice)\n",
    "plt.show()"
   ]
  },
  {
   "cell_type": "code",
   "execution_count": 29,
   "metadata": {},
   "outputs": [
    {
     "data": {
      "text/plain": [
       "Counter({60: 299,\n",
       "         20: 536,\n",
       "         70: 60,\n",
       "         50: 144,\n",
       "         190: 30,\n",
       "         45: 12,\n",
       "         90: 52,\n",
       "         120: 87,\n",
       "         30: 69,\n",
       "         85: 20,\n",
       "         80: 58,\n",
       "         160: 63,\n",
       "         75: 16,\n",
       "         180: 10,\n",
       "         40: 4})"
      ]
     },
     "execution_count": 29,
     "metadata": {},
     "output_type": "execute_result"
    }
   ],
   "source": [
    "Counter(HP.MSSubClass)"
   ]
  },
  {
   "cell_type": "code",
   "execution_count": 30,
   "metadata": {},
   "outputs": [
    {
     "data": {
      "text/plain": [
       "count      1460.000000\n",
       "mean      10516.828082\n",
       "std        9981.264932\n",
       "min        1300.000000\n",
       "25%        7553.500000\n",
       "50%        9478.500000\n",
       "75%       11601.500000\n",
       "max      215245.000000\n",
       "Name: LotArea, dtype: float64"
      ]
     },
     "execution_count": 30,
     "metadata": {},
     "output_type": "execute_result"
    }
   ],
   "source": [
    "HP.LotArea.describe()"
   ]
  },
  {
   "cell_type": "code",
   "execution_count": 32,
   "metadata": {},
   "outputs": [
    {
     "data": {
      "text/plain": [
       "Counter({'Reg': 925, 'IR1': 484, 'IR2': 41, 'IR3': 10})"
      ]
     },
     "execution_count": 32,
     "metadata": {},
     "output_type": "execute_result"
    }
   ],
   "source": [
    "Counter(HP.LotShape)"
   ]
  },
  {
   "cell_type": "code",
   "execution_count": 33,
   "metadata": {},
   "outputs": [
    {
     "name": "stdout",
     "output_type": "stream",
     "text": [
      "count    1201.000000\n",
      "mean       70.049958\n",
      "std        24.284752\n",
      "min        21.000000\n",
      "25%        59.000000\n",
      "50%        69.000000\n",
      "75%        80.000000\n",
      "max       313.000000\n",
      "Name: LotFrontage, dtype: float64\n"
     ]
    }
   ],
   "source": [
    "print(HP.LotFrontage.describe())"
   ]
  },
  {
   "cell_type": "code",
   "execution_count": 34,
   "metadata": {},
   "outputs": [
    {
     "name": "stdout",
     "output_type": "stream",
     "text": [
      "(1460,)\n",
      "(1460, 1)\n"
     ]
    }
   ],
   "source": [
    "print(np.array(HP.LotFrontage).shape)\n",
    "print(np.array(HP.LotFrontage).reshape(-1,1).shape)"
   ]
  },
  {
   "cell_type": "code",
   "execution_count": 35,
   "metadata": {},
   "outputs": [
    {
     "name": "stdout",
     "output_type": "stream",
     "text": [
      "count    1460.000000\n",
      "mean       70.049958\n",
      "std        22.024023\n",
      "min        21.000000\n",
      "25%        60.000000\n",
      "50%        70.049958\n",
      "75%        79.000000\n",
      "max       313.000000\n",
      "Name: LotFrontage, dtype: float64\n"
     ]
    }
   ],
   "source": [
    "from sklearn.impute import SimpleImputer\n",
    "SI = SimpleImputer(strategy='mean')\n",
    "HP.LotFrontage = SI.fit_transform(np.array(HP.LotFrontage).reshape(-1,1))\n",
    "print(HP.LotFrontage.describe())"
   ]
  },
  {
   "cell_type": "code",
   "execution_count": 36,
   "metadata": {},
   "outputs": [
    {
     "name": "stdout",
     "output_type": "stream",
     "text": [
      "0\n",
      "0\n",
      "0\n"
     ]
    }
   ],
   "source": [
    "print(HP.YearBuilt.isnull().sum())\n",
    "print(HP.YrSold.isnull().sum())\n",
    "print(HP.YearRemodAdd.isnull().sum())"
   ]
  },
  {
   "cell_type": "code",
   "execution_count": 37,
   "metadata": {},
   "outputs": [
    {
     "name": "stdout",
     "output_type": "stream",
     "text": [
      "0\n",
      "count    1460.000000\n",
      "mean       36.547945\n",
      "std        30.250152\n",
      "min         0.000000\n",
      "25%         8.000000\n",
      "50%        35.000000\n",
      "75%        54.000000\n",
      "max       136.000000\n",
      "Name: Age, dtype: float64\n",
      "count    1460.000000\n",
      "mean       22.950000\n",
      "std        20.640653\n",
      "min        -1.000000\n",
      "25%         4.000000\n",
      "50%        14.000000\n",
      "75%        41.000000\n",
      "max        60.000000\n",
      "dtype: float64\n"
     ]
    },
    {
     "name": "stderr",
     "output_type": "stream",
     "text": [
      "C:\\Users\\user\\AppData\\Local\\Temp\\ipykernel_12040\\1979275145.py:5: UserWarning: Pandas doesn't allow columns to be created via a new attribute name - see https://pandas.pydata.org/pandas-docs/stable/indexing.html#attribute-access\n",
      "  HP.Remodage = HP.YrSold - HP.YearRemodAdd\n"
     ]
    }
   ],
   "source": [
    "# calculate the age of the house\n",
    "HP[\"Age\"] = HP.YrSold - HP.YearBuilt\n",
    "print(HP.Age.isnull().sum())\n",
    "print(HP.Age.describe())\n",
    "HP.Remodage = HP.YrSold - HP.YearRemodAdd\n",
    "print(HP.Remodage.describe())"
   ]
  },
  {
   "cell_type": "code",
   "execution_count": 38,
   "metadata": {},
   "outputs": [
    {
     "data": {
      "text/plain": [
       "523    2008\n",
       "Name: YearRemodAdd, dtype: int64"
      ]
     },
     "execution_count": 38,
     "metadata": {},
     "output_type": "execute_result"
    }
   ],
   "source": [
    "HP[HP.YrSold < HP.YearRemodAdd].YearRemodAdd"
   ]
  },
  {
   "cell_type": "code",
   "execution_count": 17,
   "metadata": {},
   "outputs": [],
   "source": [
    "#HP.loc[HP.Remodage < 0,HP.Remodage] = 0\n",
    "#print(HP.Remodage.describe())"
   ]
  },
  {
   "cell_type": "code",
   "execution_count": 39,
   "metadata": {},
   "outputs": [
    {
     "data": {
      "text/plain": [
       "array([[ 1.        , -0.52335042],\n",
       "       [-0.52335042,  1.        ]])"
      ]
     },
     "execution_count": 39,
     "metadata": {},
     "output_type": "execute_result"
    }
   ],
   "source": [
    "# correlation between age and sale price\n",
    "np.corrcoef(HP.SalePrice, HP.Age)"
   ]
  },
  {
   "cell_type": "code",
   "execution_count": 40,
   "metadata": {},
   "outputs": [
    {
     "data": {
      "text/plain": [
       "64"
      ]
     },
     "execution_count": 40,
     "metadata": {},
     "output_type": "execute_result"
    }
   ],
   "source": [
    "len(HP.Age[HP.Age==0])"
   ]
  },
  {
   "cell_type": "code",
   "execution_count": 48,
   "metadata": {},
   "outputs": [
    {
     "data": {
      "text/plain": [
       "array([[1.        , 0.61358055],\n",
       "       [0.61358055, 1.        ]])"
      ]
     },
     "execution_count": 48,
     "metadata": {},
     "output_type": "execute_result"
    }
   ],
   "source": [
    "np.corrcoef(HP.TotalBsmtSF,HP.SalePrice)"
   ]
  },
  {
   "cell_type": "code",
   "execution_count": 41,
   "metadata": {},
   "outputs": [
    {
     "data": {
      "image/png": "[encoded data removed]",
      "text/plain": [
       "<Figure size 432x288 with 1 Axes>"
      ]
     },
     "metadata": {
      "needs_background": "light"
     },
     "output_type": "display_data"
    }
   ],
   "source": [
    "plt.scatter(HP.TotalBsmtSF,HP.SalePrice)\n",
    "plt.show()"
   ]
  },
  {
   "cell_type": "code",
   "execution_count": 42,
   "metadata": {},
   "outputs": [
    {
     "data": {
      "text/html": [
       "<div>\n",
       "<style scoped>\n",
       "    .dataframe tbody tr th:only-of-type {\n",
       "        vertical-align: middle;\n",
       "    }\n",
       "\n",
       "    .dataframe tbody tr th {\n",
       "        vertical-align: top;\n",
       "    }\n",
       "\n",
       "    .dataframe thead th {\n",
       "        text-align: right;\n",
       "    }\n",
       "</style>\n",
       "<table border=\"1\" class=\"dataframe\">\n",
       "  <thead>\n",
       "    <tr style=\"text-align: right;\">\n",
       "      <th></th>\n",
       "      <th>GrLivArea</th>\n",
       "    </tr>\n",
       "  </thead>\n",
       "  <tbody>\n",
       "    <tr>\n",
       "      <th>count</th>\n",
       "      <td>1460.000000</td>\n",
       "    </tr>\n",
       "    <tr>\n",
       "      <th>mean</th>\n",
       "      <td>1515.463699</td>\n",
       "    </tr>\n",
       "    <tr>\n",
       "      <th>std</th>\n",
       "      <td>525.480383</td>\n",
       "    </tr>\n",
       "    <tr>\n",
       "      <th>min</th>\n",
       "      <td>334.000000</td>\n",
       "    </tr>\n",
       "    <tr>\n",
       "      <th>25%</th>\n",
       "      <td>1129.500000</td>\n",
       "    </tr>\n",
       "    <tr>\n",
       "      <th>50%</th>\n",
       "      <td>1464.000000</td>\n",
       "    </tr>\n",
       "    <tr>\n",
       "      <th>75%</th>\n",
       "      <td>1776.750000</td>\n",
       "    </tr>\n",
       "    <tr>\n",
       "      <th>max</th>\n",
       "      <td>5642.000000</td>\n",
       "    </tr>\n",
       "  </tbody>\n",
       "</table>\n",
       "</div>"
      ],
      "text/plain": [
       "         GrLivArea\n",
       "count  1460.000000\n",
       "mean   1515.463699\n",
       "std     525.480383\n",
       "min     334.000000\n",
       "25%    1129.500000\n",
       "50%    1464.000000\n",
       "75%    1776.750000\n",
       "max    5642.000000"
      ]
     },
     "execution_count": 42,
     "metadata": {},
     "output_type": "execute_result"
    }
   ],
   "source": [
    "# define dataframe for independent variables\n",
    "Independent = pd.DataFrame(HP,columns=[\"GrLivArea\"])\n",
    "Independent.describe()"
   ]
  },
  {
   "cell_type": "code",
   "execution_count": 43,
   "metadata": {},
   "outputs": [
    {
     "data": {
      "text/html": [
       "<div>\n",
       "<style scoped>\n",
       "    .dataframe tbody tr th:only-of-type {\n",
       "        vertical-align: middle;\n",
       "    }\n",
       "\n",
       "    .dataframe tbody tr th {\n",
       "        vertical-align: top;\n",
       "    }\n",
       "\n",
       "    .dataframe thead th {\n",
       "        text-align: right;\n",
       "    }\n",
       "</style>\n",
       "<table border=\"1\" class=\"dataframe\">\n",
       "  <thead>\n",
       "    <tr style=\"text-align: right;\">\n",
       "      <th></th>\n",
       "      <th>SalePrice</th>\n",
       "    </tr>\n",
       "  </thead>\n",
       "  <tbody>\n",
       "    <tr>\n",
       "      <th>count</th>\n",
       "      <td>1460.000000</td>\n",
       "    </tr>\n",
       "    <tr>\n",
       "      <th>mean</th>\n",
       "      <td>180921.195890</td>\n",
       "    </tr>\n",
       "    <tr>\n",
       "      <th>std</th>\n",
       "      <td>79442.502883</td>\n",
       "    </tr>\n",
       "    <tr>\n",
       "      <th>min</th>\n",
       "      <td>34900.000000</td>\n",
       "    </tr>\n",
       "    <tr>\n",
       "      <th>25%</th>\n",
       "      <td>129975.000000</td>\n",
       "    </tr>\n",
       "    <tr>\n",
       "      <th>50%</th>\n",
       "      <td>163000.000000</td>\n",
       "    </tr>\n",
       "    <tr>\n",
       "      <th>75%</th>\n",
       "      <td>214000.000000</td>\n",
       "    </tr>\n",
       "    <tr>\n",
       "      <th>max</th>\n",
       "      <td>755000.000000</td>\n",
       "    </tr>\n",
       "  </tbody>\n",
       "</table>\n",
       "</div>"
      ],
      "text/plain": [
       "           SalePrice\n",
       "count    1460.000000\n",
       "mean   180921.195890\n",
       "std     79442.502883\n",
       "min     34900.000000\n",
       "25%    129975.000000\n",
       "50%    163000.000000\n",
       "75%    214000.000000\n",
       "max    755000.000000"
      ]
     },
     "execution_count": 43,
     "metadata": {},
     "output_type": "execute_result"
    }
   ],
   "source": [
    "# define dataframe for dependent variables\n",
    "Dependent = pd.DataFrame(HP,columns=[\"SalePrice\"])\n",
    "Dependent.describe()"
   ]
  },
  {
   "cell_type": "code",
   "execution_count": 44,
   "metadata": {},
   "outputs": [
    {
     "name": "stdout",
     "output_type": "stream",
     "text": [
      "coeeficient:  [[107.13035897]]\n",
      "intercept:  [18569.02585649]\n"
     ]
    },
    {
     "name": "stderr",
     "output_type": "stream",
     "text": [
      "C:\\Users\\user\\anaconda3\\lib\\site-packages\\sklearn\\linear_model\\_base.py:148: FutureWarning: 'normalize' was deprecated in version 1.0 and will be removed in 1.2. Please leave the normalize parameter to its default value to silence this warning. The default behavior of this estimator is to not do any normalization. If normalization is needed please use sklearn.preprocessing.StandardScaler instead.\n",
      "  warnings.warn(\n"
     ]
    }
   ],
   "source": [
    "# build linear model using sklearn\n",
    "from sklearn.linear_model import LinearRegression\n",
    "# initialize linear model\n",
    "lm = LinearRegression(fit_intercept=True, normalize=False)\n",
    "# apply linear model\n",
    "lm.fit(Independent, Dependent)\n",
    "print (\"coeeficient: \", lm.coef_)\n",
    "print (\"intercept: \",lm.intercept_)"
   ]
  },
  {
   "cell_type": "code",
   "execution_count": 45,
   "metadata": {},
   "outputs": [
    {
     "name": "stdout",
     "output_type": "stream",
     "text": [
      "0.5021486502718042\n"
     ]
    }
   ],
   "source": [
    "# R square\n",
    "print(lm.score(Independent, Dependent))"
   ]
  },
  {
   "cell_type": "code",
   "execution_count": 46,
   "metadata": {},
   "outputs": [
    {
     "name": "stdout",
     "output_type": "stream",
     "text": [
      "[[201761.93968805]\n",
      " [153767.53887136]\n",
      " [209903.84696945]\n",
      " [202511.85220081]\n",
      " [254041.55486337]\n",
      " [164480.57476794]\n",
      " [200047.8539446 ]\n",
      " [242471.47609506]\n",
      " [208618.28266186]\n",
      " [133948.42246268]]\n"
     ]
    }
   ],
   "source": [
    "predict = lm.predict(Independent)\n",
    "print(predict[0:10])"
   ]
  },
  {
   "cell_type": "code",
   "execution_count": 47,
   "metadata": {},
   "outputs": [
    {
     "data": {
      "image/png": "[encoded data removed]",
      "text/plain": [
       "<Figure size 432x288 with 1 Axes>"
      ]
     },
     "metadata": {
      "needs_background": "light"
     },
     "output_type": "display_data"
    }
   ],
   "source": [
    "plt.scatter(HP.GrLivArea,HP.SalePrice)\n",
    "plt.plot(HP.GrLivArea,predict)\n",
    "plt.show()"
   ]
  },
  {
   "cell_type": "code",
   "execution_count": 48,
   "metadata": {},
   "outputs": [],
   "source": [
    "# create a list with required columns\n",
    "selcolumns = list(['TotalBsmtSF','GrLivArea','GarageArea','MiscVal','Neighborhood'])"
   ]
  },
  {
   "cell_type": "code",
   "execution_count": 49,
   "metadata": {},
   "outputs": [
    {
     "data": {
      "text/plain": [
       "array([[1.        , 0.61358055],\n",
       "       [0.61358055, 1.        ]])"
      ]
     },
     "execution_count": 49,
     "metadata": {},
     "output_type": "execute_result"
    }
   ],
   "source": [
    "# check correlation between sale price and TotalBsmtSF\n",
    "np.corrcoef(HP.SalePrice,HP.TotalBsmtSF)"
   ]
  },
  {
   "cell_type": "code",
   "execution_count": 50,
   "metadata": {},
   "outputs": [
    {
     "data": {
      "text/plain": [
       "array([[1.        , 0.70862448],\n",
       "       [0.70862448, 1.        ]])"
      ]
     },
     "execution_count": 50,
     "metadata": {},
     "output_type": "execute_result"
    }
   ],
   "source": [
    "# check correlation between sale price and GrLivArea\n",
    "np.corrcoef(HP.SalePrice,HP.GrLivArea)"
   ]
  },
  {
   "cell_type": "code",
   "execution_count": 51,
   "metadata": {},
   "outputs": [
    {
     "data": {
      "text/plain": [
       "array([[1.        , 0.62343144],\n",
       "       [0.62343144, 1.        ]])"
      ]
     },
     "execution_count": 51,
     "metadata": {},
     "output_type": "execute_result"
    }
   ],
   "source": [
    "# check correlation between sale price and GarageArea\n",
    "np.corrcoef(HP.SalePrice,HP.GarageArea)"
   ]
  },
  {
   "cell_type": "code",
   "execution_count": 52,
   "metadata": {},
   "outputs": [
    {
     "data": {
      "text/plain": [
       "array([[ 1.        , -0.02118958],\n",
       "       [-0.02118958,  1.        ]])"
      ]
     },
     "execution_count": 52,
     "metadata": {},
     "output_type": "execute_result"
    }
   ],
   "source": [
    "# check correlation between sale price and MiscVal\n",
    "np.corrcoef(HP.SalePrice,HP.MiscVal)"
   ]
  },
  {
   "cell_type": "code",
   "execution_count": 53,
   "metadata": {},
   "outputs": [
    {
     "data": {
      "text/plain": [
       "array(['Blmngtn', 'Blueste', 'BrDale', 'BrkSide', 'ClearCr', 'CollgCr',\n",
       "       'Crawfor', 'Edwards', 'Gilbert', 'IDOTRR', 'MeadowV', 'Mitchel',\n",
       "       'NAmes', 'NPkVill', 'NWAmes', 'NoRidge', 'NridgHt', 'OldTown',\n",
       "       'SWISU', 'Sawyer', 'SawyerW', 'Somerst', 'StoneBr', 'Timber',\n",
       "       'Veenker'], dtype=object)"
      ]
     },
     "execution_count": 53,
     "metadata": {},
     "output_type": "execute_result"
    }
   ],
   "source": [
    "np.unique(HP.Neighborhood)"
   ]
  },
  {
   "cell_type": "code",
   "execution_count": 54,
   "metadata": {},
   "outputs": [
    {
     "name": "stdout",
     "output_type": "stream",
     "text": [
      "                  df        sum_sq       mean_sq          F         PR(>F)\n",
      "Neighborhood    24.0  5.023606e+12  2.093169e+11  71.784865  1.558600e-225\n",
      "Residual      1435.0  4.184305e+12  2.915892e+09        NaN            NaN\n"
     ]
    }
   ],
   "source": [
    "# apply anova f-test on Neighbourhood and sale price\n",
    "import statsmodels.api as sm\n",
    "from statsmodels.formula.api import ols\n",
    "ftest = ols(\"SalePrice ~ Neighborhood\", data=HP).fit()\n",
    "anova = sm.stats.anova_lm(ftest)\n",
    "print(anova)"
   ]
  },
  {
   "cell_type": "code",
   "execution_count": 55,
   "metadata": {},
   "outputs": [
    {
     "data": {
      "text/plain": [
       "25"
      ]
     },
     "execution_count": 55,
     "metadata": {},
     "output_type": "execute_result"
    }
   ],
   "source": [
    "len(Counter(HP.Neighborhood))"
   ]
  },
  {
   "cell_type": "code",
   "execution_count": 56,
   "metadata": {},
   "outputs": [
    {
     "name": "stdout",
     "output_type": "stream",
     "text": [
      "              df        sum_sq       mean_sq          F        PR(>F)\n",
      "LotShape     3.0  7.032607e+11  2.344202e+11  40.132852  6.447524e-25\n",
      "Residual  1456.0  8.504651e+12  5.841106e+09        NaN           NaN\n"
     ]
    }
   ],
   "source": [
    "# apply anova f-test on Lot Shape and sale price\n",
    "import statsmodels.api as sm\n",
    "from statsmodels.formula.api import ols\n",
    "ftest = ols(\"SalePrice ~ LotShape\", data=HP).fit()\n",
    "anova = sm.stats.anova_lm(ftest)\n",
    "print(anova)"
   ]
  },
  {
   "cell_type": "code",
   "execution_count": 57,
   "metadata": {},
   "outputs": [
    {
     "name": "stdout",
     "output_type": "stream",
     "text": [
      "                df        sum_sq       mean_sq          F    PR(>F)\n",
      "MSSubClass     1.0  6.541130e+10  6.541130e+10  10.431466  0.001266\n",
      "Residual    1458.0  9.142500e+12  6.270576e+09        NaN       NaN\n"
     ]
    }
   ],
   "source": [
    "# apply anova f-test on MSSubClass and sale price\n",
    "import statsmodels.api as sm\n",
    "from statsmodels.formula.api import ols\n",
    "ftest = ols(\"SalePrice ~ MSSubClass\", data=HP).fit()\n",
    "anova = sm.stats.anova_lm(ftest)\n",
    "print(anova)"
   ]
  },
  {
   "cell_type": "code",
   "execution_count": 58,
   "metadata": {},
   "outputs": [
    {
     "data": {
      "text/html": [
       "<div>\n",
       "<style scoped>\n",
       "    .dataframe tbody tr th:only-of-type {\n",
       "        vertical-align: middle;\n",
       "    }\n",
       "\n",
       "    .dataframe tbody tr th {\n",
       "        vertical-align: top;\n",
       "    }\n",
       "\n",
       "    .dataframe thead th {\n",
       "        text-align: right;\n",
       "    }\n",
       "</style>\n",
       "<table border=\"1\" class=\"dataframe\">\n",
       "  <thead>\n",
       "    <tr style=\"text-align: right;\">\n",
       "      <th></th>\n",
       "      <th>TotalBsmtSF</th>\n",
       "      <th>GrLivArea</th>\n",
       "      <th>GarageArea</th>\n",
       "      <th>MiscVal</th>\n",
       "      <th>Neighborhood</th>\n",
       "    </tr>\n",
       "  </thead>\n",
       "  <tbody>\n",
       "    <tr>\n",
       "      <th>0</th>\n",
       "      <td>856</td>\n",
       "      <td>1710</td>\n",
       "      <td>548</td>\n",
       "      <td>0</td>\n",
       "      <td>CollgCr</td>\n",
       "    </tr>\n",
       "    <tr>\n",
       "      <th>1</th>\n",
       "      <td>1262</td>\n",
       "      <td>1262</td>\n",
       "      <td>460</td>\n",
       "      <td>0</td>\n",
       "      <td>Veenker</td>\n",
       "    </tr>\n",
       "    <tr>\n",
       "      <th>2</th>\n",
       "      <td>920</td>\n",
       "      <td>1786</td>\n",
       "      <td>608</td>\n",
       "      <td>0</td>\n",
       "      <td>CollgCr</td>\n",
       "    </tr>\n",
       "    <tr>\n",
       "      <th>3</th>\n",
       "      <td>756</td>\n",
       "      <td>1717</td>\n",
       "      <td>642</td>\n",
       "      <td>0</td>\n",
       "      <td>Crawfor</td>\n",
       "    </tr>\n",
       "    <tr>\n",
       "      <th>4</th>\n",
       "      <td>1145</td>\n",
       "      <td>2198</td>\n",
       "      <td>836</td>\n",
       "      <td>0</td>\n",
       "      <td>NoRidge</td>\n",
       "    </tr>\n",
       "  </tbody>\n",
       "</table>\n",
       "</div>"
      ],
      "text/plain": [
       "   TotalBsmtSF  GrLivArea  GarageArea  MiscVal Neighborhood\n",
       "0          856       1710         548        0      CollgCr\n",
       "1         1262       1262         460        0      Veenker\n",
       "2          920       1786         608        0      CollgCr\n",
       "3          756       1717         642        0      Crawfor\n",
       "4         1145       2198         836        0      NoRidge"
      ]
     },
     "execution_count": 58,
     "metadata": {},
     "output_type": "execute_result"
    }
   ],
   "source": [
    "# create independent and dependent data files\n",
    "selcolumns = list(['TotalBsmtSF','GrLivArea','GarageArea','MiscVal','Neighborhood'])\n",
    "#selcolumns = list(['TotalBsmtSF','GrLivArea','GarageArea','Age',\n",
    "#                   'Neighborhood','MSSubClass','MSZoning',\n",
    "#                   'OverallQual'])\n",
    "Independent = pd.DataFrame(HP,columns=selcolumns)\n",
    "Independent.head()"
   ]
  },
  {
   "cell_type": "code",
   "execution_count": 59,
   "metadata": {},
   "outputs": [
    {
     "data": {
      "text/plain": [
       "count    1460.000000\n",
       "mean     1057.429452\n",
       "std       438.705324\n",
       "min         0.000000\n",
       "25%       795.750000\n",
       "50%       991.500000\n",
       "75%      1298.250000\n",
       "max      6110.000000\n",
       "Name: TotalBsmtSF, dtype: float64"
      ]
     },
     "execution_count": 59,
     "metadata": {},
     "output_type": "execute_result"
    }
   ],
   "source": [
    "Independent.TotalBsmtSF.describe()"
   ]
  },
  {
   "cell_type": "code",
   "execution_count": 60,
   "metadata": {},
   "outputs": [
    {
     "data": {
      "text/plain": [
       "(37,)"
      ]
     },
     "execution_count": 60,
     "metadata": {},
     "output_type": "execute_result"
    }
   ],
   "source": [
    "Independent.TotalBsmtSF[Independent.TotalBsmtSF==0].shape"
   ]
  },
  {
   "cell_type": "code",
   "execution_count": 61,
   "metadata": {},
   "outputs": [
    {
     "data": {
      "text/plain": [
       "count    1460.000000\n",
       "mean     1515.463699\n",
       "std       525.480383\n",
       "min       334.000000\n",
       "25%      1129.500000\n",
       "50%      1464.000000\n",
       "75%      1776.750000\n",
       "max      5642.000000\n",
       "Name: GrLivArea, dtype: float64"
      ]
     },
     "execution_count": 61,
     "metadata": {},
     "output_type": "execute_result"
    }
   ],
   "source": [
    "Independent.GrLivArea.describe()"
   ]
  },
  {
   "cell_type": "code",
   "execution_count": 62,
   "metadata": {},
   "outputs": [
    {
     "data": {
      "text/plain": [
       "count    1460.000000\n",
       "mean      472.980137\n",
       "std       213.804841\n",
       "min         0.000000\n",
       "25%       334.500000\n",
       "50%       480.000000\n",
       "75%       576.000000\n",
       "max      1418.000000\n",
       "Name: GarageArea, dtype: float64"
      ]
     },
     "execution_count": 62,
     "metadata": {},
     "output_type": "execute_result"
    }
   ],
   "source": [
    "Independent.GarageArea.describe()"
   ]
  },
  {
   "cell_type": "code",
   "execution_count": 63,
   "metadata": {},
   "outputs": [
    {
     "data": {
      "text/plain": [
       "(81,)"
      ]
     },
     "execution_count": 63,
     "metadata": {},
     "output_type": "execute_result"
    }
   ],
   "source": [
    "Independent.GarageArea[Independent.GarageArea==0].shape"
   ]
  },
  {
   "cell_type": "code",
   "execution_count": 64,
   "metadata": {},
   "outputs": [
    {
     "data": {
      "text/html": [
       "<div>\n",
       "<style scoped>\n",
       "    .dataframe tbody tr th:only-of-type {\n",
       "        vertical-align: middle;\n",
       "    }\n",
       "\n",
       "    .dataframe tbody tr th {\n",
       "        vertical-align: top;\n",
       "    }\n",
       "\n",
       "    .dataframe thead th {\n",
       "        text-align: right;\n",
       "    }\n",
       "</style>\n",
       "<table border=\"1\" class=\"dataframe\">\n",
       "  <thead>\n",
       "    <tr style=\"text-align: right;\">\n",
       "      <th></th>\n",
       "      <th>SalePrice</th>\n",
       "    </tr>\n",
       "  </thead>\n",
       "  <tbody>\n",
       "    <tr>\n",
       "      <th>count</th>\n",
       "      <td>1460.000000</td>\n",
       "    </tr>\n",
       "    <tr>\n",
       "      <th>mean</th>\n",
       "      <td>180921.195890</td>\n",
       "    </tr>\n",
       "    <tr>\n",
       "      <th>std</th>\n",
       "      <td>79442.502883</td>\n",
       "    </tr>\n",
       "    <tr>\n",
       "      <th>min</th>\n",
       "      <td>34900.000000</td>\n",
       "    </tr>\n",
       "    <tr>\n",
       "      <th>25%</th>\n",
       "      <td>129975.000000</td>\n",
       "    </tr>\n",
       "    <tr>\n",
       "      <th>50%</th>\n",
       "      <td>163000.000000</td>\n",
       "    </tr>\n",
       "    <tr>\n",
       "      <th>75%</th>\n",
       "      <td>214000.000000</td>\n",
       "    </tr>\n",
       "    <tr>\n",
       "      <th>max</th>\n",
       "      <td>755000.000000</td>\n",
       "    </tr>\n",
       "  </tbody>\n",
       "</table>\n",
       "</div>"
      ],
      "text/plain": [
       "           SalePrice\n",
       "count    1460.000000\n",
       "mean   180921.195890\n",
       "std     79442.502883\n",
       "min     34900.000000\n",
       "25%    129975.000000\n",
       "50%    163000.000000\n",
       "75%    214000.000000\n",
       "max    755000.000000"
      ]
     },
     "execution_count": 64,
     "metadata": {},
     "output_type": "execute_result"
    }
   ],
   "source": [
    "# define dataframe for dependent variable\n",
    "Dependent = pd.DataFrame(HP,columns=[\"SalePrice\"])\n",
    "Dependent.describe()"
   ]
  },
  {
   "cell_type": "code",
   "execution_count": 65,
   "metadata": {},
   "outputs": [
    {
     "data": {
      "image/png": "[encoded data removed]",
      "text/plain": [
       "<Figure size 432x288 with 1 Axes>"
      ]
     },
     "metadata": {
      "needs_background": "light"
     },
     "output_type": "display_data"
    }
   ],
   "source": [
    "plt.hist(Dependent.SalePrice,bins=20)\n",
    "plt.show()"
   ]
  },
  {
   "cell_type": "code",
   "execution_count": 66,
   "metadata": {},
   "outputs": [
    {
     "name": "stdout",
     "output_type": "stream",
     "text": [
      "(1168, 5)\n",
      "(1168, 1)\n",
      "(292, 5)\n",
      "(292, 1)\n",
      "      SalePrice\n",
      "618      314813\n",
      "870      109500\n",
      "92       163500\n",
      "817      271000\n",
      "302      205000\n",
      "1454     185000\n",
      "40       160000\n",
      "959      155000\n",
      "75        91000\n",
      "1389     131000\n"
     ]
    }
   ],
   "source": [
    "# split the data into train and test\n",
    "from sklearn.model_selection import train_test_split\n",
    "X_train, X_test, Y_train, Y_test = train_test_split(Independent,\n",
    "                                                    Dependent,\n",
    "                                                    test_size=0.20,\n",
    "                                                   random_state=0)\n",
    "print(X_train.shape)\n",
    "print(Y_train.shape)\n",
    "print(X_test.shape)\n",
    "print(Y_test.shape)\n",
    "print(Y_train[0:10])"
   ]
  },
  {
   "cell_type": "code",
   "execution_count": 67,
   "metadata": {},
   "outputs": [
    {
     "name": "stdout",
     "output_type": "stream",
     "text": [
      "(1168, 4)\n",
      "(292, 4)\n",
      "     TotalBsmtSF  GrLivArea  GarageArea  MiscVal\n",
      "618         1822       1828         774        0\n",
      "870          894        894         308        0\n",
      "92           876        964         432        0\n",
      "817         1568       1689         857        0\n",
      "302         1541       1541         843        0\n"
     ]
    }
   ],
   "source": [
    "# extract only continuous columns\n",
    "ContColumns = list(['TotalBsmtSF','GrLivArea','GarageArea','MiscVal'])\n",
    "#ContColumns = list(['TotalBsmtSF','GrLivArea','GarageArea','Age'])\n",
    "X_train_cont = pd.DataFrame(X_train,columns=ContColumns)\n",
    "X_test_cont = pd.DataFrame(X_test,columns=ContColumns)\n",
    "print(X_train_cont.shape)\n",
    "print(X_test_cont.shape)\n",
    "print(X_train_cont.head())"
   ]
  },
  {
   "cell_type": "code",
   "execution_count": 68,
   "metadata": {},
   "outputs": [
    {
     "name": "stdout",
     "output_type": "stream",
     "text": [
      "<class 'numpy.ndarray'>\n",
      "(1168, 4)\n",
      "[[ 1.86572881  0.60188649  1.43474327 -0.09258767]\n",
      " [-0.38726187 -1.21671763 -0.79116606 -0.09258767]\n",
      " [-0.43096212 -1.08041967 -0.19886401 -0.09258767]\n",
      " [ 1.24906972  0.3312377   1.83120352 -0.09258767]\n",
      " [ 1.18351935  0.04306489  1.76433071 -0.09258767]\n",
      " [ 0.40662601 -0.58001147 -0.35171615 -0.09258767]\n",
      " [ 0.08372971 -0.37945877 -0.16065097 -0.09258767]\n",
      " [-0.86796463 -0.20032432  0.04952072 -0.09258767]\n",
      " [-1.43606788 -1.03368895 -0.84370899 -0.09258767]\n",
      " [-0.77328075 -0.58585281 -0.16065097 -0.09258767]]\n"
     ]
    }
   ],
   "source": [
    "# apply sclaing on continuous variables\n",
    "from sklearn.preprocessing import StandardScaler\n",
    "SS = StandardScaler()\n",
    "X_train_cont2 = SS.fit_transform(X_train_cont)\n",
    "X_test_cont2 = SS.transform(X_test_cont)\n",
    "print(type(X_train_cont2))\n",
    "print(X_train_cont2.shape)\n",
    "print(X_train_cont2[0:10])"
   ]
  },
  {
   "cell_type": "code",
   "execution_count": 69,
   "metadata": {},
   "outputs": [
    {
     "name": "stdout",
     "output_type": "stream",
     "text": [
      "<class 'numpy.ndarray'>\n",
      "[[ 1.70779177]\n",
      " [-0.90878376]\n",
      " [-0.22059023]\n",
      " [ 1.14942468]\n",
      " [ 0.30829925]\n",
      " [ 0.05341275]\n",
      " [-0.26519536]\n",
      " [-0.32891699]\n",
      " [-1.14455377]\n",
      " [-0.63478078]]\n"
     ]
    }
   ],
   "source": [
    "# apply sclaing on target data\n",
    "SS2  = StandardScaler()\n",
    "Y_train_SS = SS2.fit_transform(Y_train)\n",
    "Y_test_SS = SS2.transform(Y_test)\n",
    "print(type(Y_train_SS))\n",
    "print(Y_train_SS[0:10])"
   ]
  },
  {
   "cell_type": "code",
   "execution_count": 70,
   "metadata": {},
   "outputs": [
    {
     "name": "stdout",
     "output_type": "stream",
     "text": [
      "   TotalBsmtSF  GrLivArea  GarageArea   MiscVal\n",
      "0     1.865729   0.601886    1.434743 -0.092588\n",
      "1    -0.387262  -1.216718   -0.791166 -0.092588\n",
      "2    -0.430962  -1.080420   -0.198864 -0.092588\n",
      "3     1.249070   0.331238    1.831204 -0.092588\n",
      "4     1.183519   0.043065    1.764331 -0.092588\n"
     ]
    }
   ],
   "source": [
    "# convert X_train3 as dataframe\n",
    "X_train_cont3 = pd.DataFrame(X_train_cont2,columns=ContColumns)\n",
    "X_test_cont3 = pd.DataFrame(X_test_cont2,columns=ContColumns)\n",
    "print(X_train_cont3.head())"
   ]
  },
  {
   "cell_type": "code",
   "execution_count": 71,
   "metadata": {},
   "outputs": [
    {
     "name": "stdout",
     "output_type": "stream",
     "text": [
      "(1168, 1)\n",
      "    Neighborhood\n",
      "618      NridgHt\n",
      "870        NAmes\n",
      "92       Crawfor\n",
      "817      Mitchel\n",
      "302      CollgCr\n"
     ]
    }
   ],
   "source": [
    "# extract only catgorical columns\n",
    "CatColumns = list(['Neighborhood'])\n",
    "#,'MSSubClass','MSZoning','OverallQual'])\n",
    "X_train_cat = pd.DataFrame(X_train,columns=CatColumns)\n",
    "X_test_cat = pd.DataFrame(X_test,columns=CatColumns)\n",
    "print(X_train_cat.shape)\n",
    "print(X_train_cat.head())"
   ]
  },
  {
   "cell_type": "code",
   "execution_count": 72,
   "metadata": {},
   "outputs": [
    {
     "name": "stdout",
     "output_type": "stream",
     "text": [
      "['Blmngtn' 'Blueste' 'BrDale' 'BrkSide' 'ClearCr' 'CollgCr' 'Crawfor'\n",
      " 'Edwards' 'Gilbert' 'IDOTRR' 'MeadowV' 'Mitchel' 'NAmes' 'NPkVill'\n",
      " 'NWAmes' 'NoRidge' 'NridgHt' 'OldTown' 'SWISU' 'Sawyer' 'SawyerW'\n",
      " 'Somerst' 'StoneBr' 'Timber' 'Veenker']\n",
      "25\n"
     ]
    }
   ],
   "source": [
    "Ncols = np.unique(X_train_cat.Neighborhood,return_counts=False)\n",
    "print(Ncols)\n",
    "print(len(Ncols))"
   ]
  },
  {
   "cell_type": "code",
   "execution_count": 73,
   "metadata": {},
   "outputs": [
    {
     "name": "stdout",
     "output_type": "stream",
     "text": [
      "[ 20  30  40  45  50  60  70  75  80  85  90 120 160 180 190]\n",
      "15\n"
     ]
    }
   ],
   "source": [
    "MScols = np.unique(HP.MSSubClass,return_counts=False)\n",
    "print(MScols)\n",
    "print(len(MScols))"
   ]
  },
  {
   "cell_type": "code",
   "execution_count": 74,
   "metadata": {},
   "outputs": [
    {
     "name": "stdout",
     "output_type": "stream",
     "text": [
      "['C (all)' 'FV' 'RH' 'RL' 'RM']\n",
      "5\n"
     ]
    }
   ],
   "source": [
    "MSZcols = np.unique(HP.MSZoning,return_counts=False)\n",
    "print(MSZcols)\n",
    "print(len(MSZcols))"
   ]
  },
  {
   "cell_type": "code",
   "execution_count": 75,
   "metadata": {},
   "outputs": [
    {
     "name": "stdout",
     "output_type": "stream",
     "text": [
      "[ 1  2  3  4  5  6  7  8  9 10]\n",
      "10\n"
     ]
    }
   ],
   "source": [
    "OQcols = np.unique(HP.OverallQual,return_counts=False)\n",
    "print(OQcols)\n",
    "print(len(OQcols))"
   ]
  },
  {
   "cell_type": "code",
   "execution_count": 76,
   "metadata": {},
   "outputs": [
    {
     "name": "stdout",
     "output_type": "stream",
     "text": [
      "(1168, 25)\n",
      "(292, 25)\n",
      "[[0. 0. 0. 0. 0. 0. 0. 0. 0. 0. 0. 0. 0. 0. 0. 0. 1. 0. 0. 0. 0. 0. 0. 0.\n",
      "  0.]\n",
      " [0. 0. 0. 0. 0. 0. 0. 0. 0. 0. 0. 0. 1. 0. 0. 0. 0. 0. 0. 0. 0. 0. 0. 0.\n",
      "  0.]\n",
      " [0. 0. 0. 0. 0. 0. 1. 0. 0. 0. 0. 0. 0. 0. 0. 0. 0. 0. 0. 0. 0. 0. 0. 0.\n",
      "  0.]\n",
      " [0. 0. 0. 0. 0. 0. 0. 0. 0. 0. 0. 1. 0. 0. 0. 0. 0. 0. 0. 0. 0. 0. 0. 0.\n",
      "  0.]\n",
      " [0. 0. 0. 0. 0. 1. 0. 0. 0. 0. 0. 0. 0. 0. 0. 0. 0. 0. 0. 0. 0. 0. 0. 0.\n",
      "  0.]]\n"
     ]
    }
   ],
   "source": [
    "# apply one hot enconding on categorical\n",
    "from sklearn.preprocessing import OneHotEncoder\n",
    "OHE = OneHotEncoder(sparse=False,handle_unknown='error')\n",
    "X_train_cat1 = OHE.fit_transform(X_train_cat)\n",
    "X_test_cat1 = OHE.transform(X_test_cat)\n",
    "print(X_train_cat1.shape)\n",
    "print(X_test_cat1.shape)\n",
    "print(X_train_cat1[0:5])"
   ]
  },
  {
   "cell_type": "code",
   "execution_count": 77,
   "metadata": {},
   "outputs": [
    {
     "name": "stdout",
     "output_type": "stream",
     "text": [
      "    0    1    2    3    4    5    6    7    8    9   ...   15   16   17   18  \\\n",
      "0  0.0  0.0  0.0  0.0  0.0  0.0  0.0  0.0  0.0  0.0  ...  0.0  1.0  0.0  0.0   \n",
      "1  0.0  0.0  0.0  0.0  0.0  0.0  0.0  0.0  0.0  0.0  ...  0.0  0.0  0.0  0.0   \n",
      "2  0.0  0.0  0.0  0.0  0.0  0.0  1.0  0.0  0.0  0.0  ...  0.0  0.0  0.0  0.0   \n",
      "3  0.0  0.0  0.0  0.0  0.0  0.0  0.0  0.0  0.0  0.0  ...  0.0  0.0  0.0  0.0   \n",
      "4  0.0  0.0  0.0  0.0  0.0  1.0  0.0  0.0  0.0  0.0  ...  0.0  0.0  0.0  0.0   \n",
      "\n",
      "    19   20   21   22   23   24  \n",
      "0  0.0  0.0  0.0  0.0  0.0  0.0  \n",
      "1  0.0  0.0  0.0  0.0  0.0  0.0  \n",
      "2  0.0  0.0  0.0  0.0  0.0  0.0  \n",
      "3  0.0  0.0  0.0  0.0  0.0  0.0  \n",
      "4  0.0  0.0  0.0  0.0  0.0  0.0  \n",
      "\n",
      "[5 rows x 25 columns]\n"
     ]
    }
   ],
   "source": [
    "# convert array to data frame\n",
    "X_train_cat2 = pd.DataFrame(X_train_cat1)\n",
    "X_test_cat2 = pd.DataFrame(X_test_cat1)\n",
    "print(X_train_cat2.head())"
   ]
  },
  {
   "cell_type": "code",
   "execution_count": 78,
   "metadata": {},
   "outputs": [
    {
     "name": "stdout",
     "output_type": "stream",
     "text": [
      "(1168, 29)\n",
      "(292, 29)\n"
     ]
    }
   ],
   "source": [
    "# merge scaled continuous and onehotencoded categorical data\n",
    "X_train_final = pd.concat([X_train_cont3,X_train_cat2],\n",
    "                          axis=1,join='outer',sort=False,\n",
    "                          ignore_index=True)\n",
    "X_test_final = pd.concat([X_test_cont3,X_test_cat2],\n",
    "                         axis=1,join='outer',sort=False,\n",
    "                         ignore_index=True)\n",
    "print(X_train_final.shape)\n",
    "print(X_test_final.shape)"
   ]
  },
  {
   "cell_type": "code",
   "execution_count": 79,
   "metadata": {},
   "outputs": [
    {
     "data": {
      "text/plain": [
       "RangeIndex(start=0, stop=1168, step=1)"
      ]
     },
     "execution_count": 79,
     "metadata": {},
     "output_type": "execute_result"
    }
   ],
   "source": [
    "X_train_cat2.index"
   ]
  },
  {
   "cell_type": "code",
   "execution_count": 80,
   "metadata": {},
   "outputs": [
    {
     "data": {
      "text/html": [
       "<div>\n",
       "<style scoped>\n",
       "    .dataframe tbody tr th:only-of-type {\n",
       "        vertical-align: middle;\n",
       "    }\n",
       "\n",
       "    .dataframe tbody tr th {\n",
       "        vertical-align: top;\n",
       "    }\n",
       "\n",
       "    .dataframe thead th {\n",
       "        text-align: right;\n",
       "    }\n",
       "</style>\n",
       "<table border=\"1\" class=\"dataframe\">\n",
       "  <thead>\n",
       "    <tr style=\"text-align: right;\">\n",
       "      <th></th>\n",
       "      <th>0</th>\n",
       "      <th>1</th>\n",
       "      <th>2</th>\n",
       "      <th>3</th>\n",
       "      <th>4</th>\n",
       "      <th>5</th>\n",
       "      <th>6</th>\n",
       "      <th>7</th>\n",
       "      <th>8</th>\n",
       "      <th>9</th>\n",
       "      <th>...</th>\n",
       "      <th>19</th>\n",
       "      <th>20</th>\n",
       "      <th>21</th>\n",
       "      <th>22</th>\n",
       "      <th>23</th>\n",
       "      <th>24</th>\n",
       "      <th>25</th>\n",
       "      <th>26</th>\n",
       "      <th>27</th>\n",
       "      <th>28</th>\n",
       "    </tr>\n",
       "  </thead>\n",
       "  <tbody>\n",
       "    <tr>\n",
       "      <th>0</th>\n",
       "      <td>1.865729</td>\n",
       "      <td>0.601886</td>\n",
       "      <td>1.434743</td>\n",
       "      <td>-0.092588</td>\n",
       "      <td>0.0</td>\n",
       "      <td>0.0</td>\n",
       "      <td>0.0</td>\n",
       "      <td>0.0</td>\n",
       "      <td>0.0</td>\n",
       "      <td>0.0</td>\n",
       "      <td>...</td>\n",
       "      <td>0.0</td>\n",
       "      <td>1.0</td>\n",
       "      <td>0.0</td>\n",
       "      <td>0.0</td>\n",
       "      <td>0.0</td>\n",
       "      <td>0.0</td>\n",
       "      <td>0.0</td>\n",
       "      <td>0.0</td>\n",
       "      <td>0.0</td>\n",
       "      <td>0.0</td>\n",
       "    </tr>\n",
       "    <tr>\n",
       "      <th>1</th>\n",
       "      <td>-0.387262</td>\n",
       "      <td>-1.216718</td>\n",
       "      <td>-0.791166</td>\n",
       "      <td>-0.092588</td>\n",
       "      <td>0.0</td>\n",
       "      <td>0.0</td>\n",
       "      <td>0.0</td>\n",
       "      <td>0.0</td>\n",
       "      <td>0.0</td>\n",
       "      <td>0.0</td>\n",
       "      <td>...</td>\n",
       "      <td>0.0</td>\n",
       "      <td>0.0</td>\n",
       "      <td>0.0</td>\n",
       "      <td>0.0</td>\n",
       "      <td>0.0</td>\n",
       "      <td>0.0</td>\n",
       "      <td>0.0</td>\n",
       "      <td>0.0</td>\n",
       "      <td>0.0</td>\n",
       "      <td>0.0</td>\n",
       "    </tr>\n",
       "    <tr>\n",
       "      <th>2</th>\n",
       "      <td>-0.430962</td>\n",
       "      <td>-1.080420</td>\n",
       "      <td>-0.198864</td>\n",
       "      <td>-0.092588</td>\n",
       "      <td>0.0</td>\n",
       "      <td>0.0</td>\n",
       "      <td>0.0</td>\n",
       "      <td>0.0</td>\n",
       "      <td>0.0</td>\n",
       "      <td>0.0</td>\n",
       "      <td>...</td>\n",
       "      <td>0.0</td>\n",
       "      <td>0.0</td>\n",
       "      <td>0.0</td>\n",
       "      <td>0.0</td>\n",
       "      <td>0.0</td>\n",
       "      <td>0.0</td>\n",
       "      <td>0.0</td>\n",
       "      <td>0.0</td>\n",
       "      <td>0.0</td>\n",
       "      <td>0.0</td>\n",
       "    </tr>\n",
       "    <tr>\n",
       "      <th>3</th>\n",
       "      <td>1.249070</td>\n",
       "      <td>0.331238</td>\n",
       "      <td>1.831204</td>\n",
       "      <td>-0.092588</td>\n",
       "      <td>0.0</td>\n",
       "      <td>0.0</td>\n",
       "      <td>0.0</td>\n",
       "      <td>0.0</td>\n",
       "      <td>0.0</td>\n",
       "      <td>0.0</td>\n",
       "      <td>...</td>\n",
       "      <td>0.0</td>\n",
       "      <td>0.0</td>\n",
       "      <td>0.0</td>\n",
       "      <td>0.0</td>\n",
       "      <td>0.0</td>\n",
       "      <td>0.0</td>\n",
       "      <td>0.0</td>\n",
       "      <td>0.0</td>\n",
       "      <td>0.0</td>\n",
       "      <td>0.0</td>\n",
       "    </tr>\n",
       "    <tr>\n",
       "      <th>4</th>\n",
       "      <td>1.183519</td>\n",
       "      <td>0.043065</td>\n",
       "      <td>1.764331</td>\n",
       "      <td>-0.092588</td>\n",
       "      <td>0.0</td>\n",
       "      <td>0.0</td>\n",
       "      <td>0.0</td>\n",
       "      <td>0.0</td>\n",
       "      <td>0.0</td>\n",
       "      <td>1.0</td>\n",
       "      <td>...</td>\n",
       "      <td>0.0</td>\n",
       "      <td>0.0</td>\n",
       "      <td>0.0</td>\n",
       "      <td>0.0</td>\n",
       "      <td>0.0</td>\n",
       "      <td>0.0</td>\n",
       "      <td>0.0</td>\n",
       "      <td>0.0</td>\n",
       "      <td>0.0</td>\n",
       "      <td>0.0</td>\n",
       "    </tr>\n",
       "  </tbody>\n",
       "</table>\n",
       "<p>5 rows × 29 columns</p>\n",
       "</div>"
      ],
      "text/plain": [
       "         0         1         2         3    4    5    6    7    8    9   ...  \\\n",
       "0  1.865729  0.601886  1.434743 -0.092588  0.0  0.0  0.0  0.0  0.0  0.0  ...   \n",
       "1 -0.387262 -1.216718 -0.791166 -0.092588  0.0  0.0  0.0  0.0  0.0  0.0  ...   \n",
       "2 -0.430962 -1.080420 -0.198864 -0.092588  0.0  0.0  0.0  0.0  0.0  0.0  ...   \n",
       "3  1.249070  0.331238  1.831204 -0.092588  0.0  0.0  0.0  0.0  0.0  0.0  ...   \n",
       "4  1.183519  0.043065  1.764331 -0.092588  0.0  0.0  0.0  0.0  0.0  1.0  ...   \n",
       "\n",
       "    19   20   21   22   23   24   25   26   27   28  \n",
       "0  0.0  1.0  0.0  0.0  0.0  0.0  0.0  0.0  0.0  0.0  \n",
       "1  0.0  0.0  0.0  0.0  0.0  0.0  0.0  0.0  0.0  0.0  \n",
       "2  0.0  0.0  0.0  0.0  0.0  0.0  0.0  0.0  0.0  0.0  \n",
       "3  0.0  0.0  0.0  0.0  0.0  0.0  0.0  0.0  0.0  0.0  \n",
       "4  0.0  0.0  0.0  0.0  0.0  0.0  0.0  0.0  0.0  0.0  \n",
       "\n",
       "[5 rows x 29 columns]"
      ]
     },
     "execution_count": 80,
     "metadata": {},
     "output_type": "execute_result"
    }
   ],
   "source": [
    "X_train_final.head()"
   ]
  },
  {
   "cell_type": "code",
   "execution_count": 81,
   "metadata": {},
   "outputs": [
    {
     "name": "stdout",
     "output_type": "stream",
     "text": [
      "Fitting 5 folds for each of 2 candidates, totalling 10 fits\n",
      "[CV 1/5; 1/2] START fit_intercept=True..........................................\n"
     ]
    },
    {
     "name": "stderr",
     "output_type": "stream",
     "text": [
      "C:\\Users\\user\\anaconda3\\lib\\site-packages\\sklearn\\linear_model\\_base.py:148: FutureWarning: 'normalize' was deprecated in version 1.0 and will be removed in 1.2. Please leave the normalize parameter to its default value to silence this warning. The default behavior of this estimator is to not do any normalization. If normalization is needed please use sklearn.preprocessing.StandardScaler instead.\n",
      "  warnings.warn(\n"
     ]
    },
    {
     "name": "stdout",
     "output_type": "stream",
     "text": [
      "[CV 1/5; 1/2] END fit_intercept=True;, score=(train=0.799, test=0.826) total time=   0.1s\n",
      "[CV 2/5; 1/2] START fit_intercept=True..........................................\n",
      "[CV 2/5; 1/2] END fit_intercept=True;, score=(train=0.820, test=0.732) total time=   0.0s\n",
      "[CV 3/5; 1/2] START fit_intercept=True..........................................\n",
      "[CV 3/5; 1/2] END fit_intercept=True;, score=(train=0.799, test=0.808) total time=   0.0s\n",
      "[CV 4/5; 1/2] START fit_intercept=True..........................................\n",
      "[CV 4/5; 1/2] END fit_intercept=True;, score=(train=0.814, test=0.767) total time=   0.0s\n",
      "[CV 5/5; 1/2] START fit_intercept=True..........................................\n",
      "[CV 5/5; 1/2] END fit_intercept=True;, score=(train=0.799, test=-24946934180415788810240.000) total time=   0.0s\n",
      "[CV 1/5; 2/2] START fit_intercept=False.........................................\n",
      "[CV 1/5; 2/2] END fit_intercept=False;, score=(train=0.799, test=0.826) total time=   0.0s\n",
      "[CV 2/5; 2/2] START fit_intercept=False.........................................\n",
      "[CV 2/5; 2/2] END fit_intercept=False;, score=(train=0.820, test=0.732) total time=   0.0s\n",
      "[CV 3/5; 2/2] START fit_intercept=False.........................................\n",
      "[CV 3/5; 2/2] END fit_intercept=False;, score=(train=0.799, test=0.808) total time=   0.0s\n",
      "[CV 4/5; 2/2] START fit_intercept=False.........................................\n",
      "[CV 4/5; 2/2] END fit_intercept=False;, score=(train=0.814, test=0.767) total time=   0.0s\n",
      "[CV 5/5; 2/2] START fit_intercept=False.........................................\n",
      "[CV 5/5; 2/2] END fit_intercept=False;, score=(train=0.799, test=0.823) total time=   0.0s\n"
     ]
    },
    {
     "name": "stderr",
     "output_type": "stream",
     "text": [
      "C:\\Users\\user\\anaconda3\\lib\\site-packages\\sklearn\\linear_model\\_base.py:148: FutureWarning: 'normalize' was deprecated in version 1.0 and will be removed in 1.2. Please leave the normalize parameter to its default value to silence this warning. The default behavior of this estimator is to not do any normalization. If normalization is needed please use sklearn.preprocessing.StandardScaler instead.\n",
      "  warnings.warn(\n",
      "C:\\Users\\user\\anaconda3\\lib\\site-packages\\sklearn\\linear_model\\_base.py:148: FutureWarning: 'normalize' was deprecated in version 1.0 and will be removed in 1.2. Please leave the normalize parameter to its default value to silence this warning. The default behavior of this estimator is to not do any normalization. If normalization is needed please use sklearn.preprocessing.StandardScaler instead.\n",
      "  warnings.warn(\n",
      "C:\\Users\\user\\anaconda3\\lib\\site-packages\\sklearn\\linear_model\\_base.py:148: FutureWarning: 'normalize' was deprecated in version 1.0 and will be removed in 1.2. Please leave the normalize parameter to its default value to silence this warning. The default behavior of this estimator is to not do any normalization. If normalization is needed please use sklearn.preprocessing.StandardScaler instead.\n",
      "  warnings.warn(\n",
      "C:\\Users\\user\\anaconda3\\lib\\site-packages\\sklearn\\linear_model\\_base.py:148: FutureWarning: 'normalize' was deprecated in version 1.0 and will be removed in 1.2. Please leave the normalize parameter to its default value to silence this warning. The default behavior of this estimator is to not do any normalization. If normalization is needed please use sklearn.preprocessing.StandardScaler instead.\n",
      "  warnings.warn(\n",
      "C:\\Users\\user\\anaconda3\\lib\\site-packages\\sklearn\\linear_model\\_base.py:148: FutureWarning: 'normalize' was deprecated in version 1.0 and will be removed in 1.2. Please leave the normalize parameter to its default value to silence this warning. The default behavior of this estimator is to not do any normalization. If normalization is needed please use sklearn.preprocessing.StandardScaler instead.\n",
      "  warnings.warn(\n",
      "C:\\Users\\user\\anaconda3\\lib\\site-packages\\sklearn\\linear_model\\_base.py:148: FutureWarning: 'normalize' was deprecated in version 1.0 and will be removed in 1.2. Please leave the normalize parameter to its default value to silence this warning. The default behavior of this estimator is to not do any normalization. If normalization is needed please use sklearn.preprocessing.StandardScaler instead.\n",
      "  warnings.warn(\n",
      "C:\\Users\\user\\anaconda3\\lib\\site-packages\\sklearn\\linear_model\\_base.py:148: FutureWarning: 'normalize' was deprecated in version 1.0 and will be removed in 1.2. Please leave the normalize parameter to its default value to silence this warning. The default behavior of this estimator is to not do any normalization. If normalization is needed please use sklearn.preprocessing.StandardScaler instead.\n",
      "  warnings.warn(\n",
      "C:\\Users\\user\\anaconda3\\lib\\site-packages\\sklearn\\linear_model\\_base.py:148: FutureWarning: 'normalize' was deprecated in version 1.0 and will be removed in 1.2. Please leave the normalize parameter to its default value to silence this warning. The default behavior of this estimator is to not do any normalization. If normalization is needed please use sklearn.preprocessing.StandardScaler instead.\n",
      "  warnings.warn(\n",
      "C:\\Users\\user\\anaconda3\\lib\\site-packages\\sklearn\\linear_model\\_base.py:148: FutureWarning: 'normalize' was deprecated in version 1.0 and will be removed in 1.2. Please leave the normalize parameter to its default value to silence this warning. The default behavior of this estimator is to not do any normalization. If normalization is needed please use sklearn.preprocessing.StandardScaler instead.\n",
      "  warnings.warn(\n",
      "C:\\Users\\user\\anaconda3\\lib\\site-packages\\sklearn\\linear_model\\_base.py:148: FutureWarning: 'normalize' was deprecated in version 1.0 and will be removed in 1.2. Please leave the normalize parameter to its default value to silence this warning. The default behavior of this estimator is to not do any normalization. If normalization is needed please use sklearn.preprocessing.StandardScaler instead.\n",
      "  warnings.warn(\n"
     ]
    },
    {
     "data": {
      "text/plain": [
       "GridSearchCV(cv=5, estimator=LinearRegression(normalize=False),\n",
       "             param_grid={'fit_intercept': [True, False]},\n",
       "             return_train_score=True, scoring='r2', verbose=10)"
      ]
     },
     "execution_count": 81,
     "metadata": {},
     "output_type": "execute_result"
    }
   ],
   "source": [
    "# build linear model using sklearn\n",
    "from sklearn.linear_model import LinearRegression\n",
    "# initialize linear model\n",
    "lm = LinearRegression(normalize=False)\n",
    "# apply cross validation\n",
    "from sklearn.model_selection import GridSearchCV\n",
    "params = {'fit_intercept':[True,False]}\n",
    "CV = GridSearchCV(estimator = lm, scoring='r2',cv=5,\n",
    "                  refit=True,return_train_score=True,\n",
    "                  param_grid=params,verbose=10)\n",
    "# apply linear model\n",
    "CV.fit(X_train_final, Y_train_SS)"
   ]
  },
  {
   "cell_type": "code",
   "execution_count": 82,
   "metadata": {},
   "outputs": [],
   "source": [
    "# store the CV model\n",
    "import pickle\n",
    "pickle.dump(CV, open('CV_Logistic1.sav', 'wb'))\n",
    "pickle.dump(OHE, open('OHE_Logistic1.sav', 'wb'))\n",
    "pickle.dump(SS, open('SS_Logistic1.sav', 'wb'))"
   ]
  },
  {
   "cell_type": "code",
   "execution_count": 83,
   "metadata": {},
   "outputs": [],
   "source": [
    "# read CV file\n",
    "import pickle\n",
    "CV = pickle.load(open('CV_Logistic1.sav', 'rb'))\n",
    "OHE = pickle.load(open('OHE_Logistic1.sav', 'rb'))\n",
    "SS = pickle.load(open('SS_Logistic1.sav', 'rb'))"
   ]
  },
  {
   "cell_type": "code",
   "execution_count": 84,
   "metadata": {},
   "outputs": [],
   "source": [
    "CVResults = pd.DataFrame(CV.cv_results_)\n",
    "CVResults.to_excel('CVResutls_Linear.xlsx')"
   ]
  },
  {
   "cell_type": "code",
   "execution_count": 85,
   "metadata": {},
   "outputs": [
    {
     "name": "stdout",
     "output_type": "stream",
     "text": [
      "0.7911121666091316\n"
     ]
    }
   ],
   "source": [
    "print(CV.best_score_)"
   ]
  },
  {
   "cell_type": "code",
   "execution_count": 86,
   "metadata": {},
   "outputs": [
    {
     "name": "stdout",
     "output_type": "stream",
     "text": [
      "LinearRegression(fit_intercept=False, normalize=False)\n"
     ]
    }
   ],
   "source": [
    "print(CV.best_estimator_)"
   ]
  },
  {
   "cell_type": "code",
   "execution_count": 87,
   "metadata": {},
   "outputs": [
    {
     "name": "stdout",
     "output_type": "stream",
     "text": [
      "[[ 0.22601465  0.41125525  0.14240675  0.00645581  0.12725265 -0.21110475\n",
      "  -0.28469357 -0.18691279  0.15633537  0.15404367  0.2469016  -0.32193539\n",
      "   0.15776785 -0.49155503 -0.36839313 -0.17573423 -0.21446125 -0.18222398\n",
      "  -0.1101798   0.76707991  0.92205378 -0.47030602 -0.52893605 -0.22125815\n",
      "  -0.03185749  0.35738849  0.93051159  0.3506743   0.34363885]]\n"
     ]
    }
   ],
   "source": [
    "print(CV.best_estimator_.coef_)"
   ]
  },
  {
   "cell_type": "code",
   "execution_count": 88,
   "metadata": {},
   "outputs": [
    {
     "name": "stdout",
     "output_type": "stream",
     "text": [
      "0.0\n"
     ]
    }
   ],
   "source": [
    "print(CV.best_estimator_.intercept_)"
   ]
  },
  {
   "cell_type": "code",
   "execution_count": 89,
   "metadata": {},
   "outputs": [
    {
     "name": "stdout",
     "output_type": "stream",
     "text": [
      "[[ 1.79498419]\n",
      " [-0.91563474]\n",
      " [-0.32374772]\n",
      " [ 0.50297508]\n",
      " [ 0.68990192]]\n",
      "(1168, 1)\n",
      "(1168, 1)\n",
      "(1168, 1)\n"
     ]
    }
   ],
   "source": [
    "# draw histogram of errors\n",
    "train_predict = CV.predict(X_train_final)\n",
    "print(train_predict[0:5])\n",
    "print(train_predict.shape)\n",
    "print(Y_train_SS.shape)\n",
    "Error = train_predict - Y_train_SS\n",
    "print(Error.shape)"
   ]
  },
  {
   "cell_type": "code",
   "execution_count": 90,
   "metadata": {},
   "outputs": [
    {
     "data": {
      "image/png": "[encoded data removed]",
      "text/plain": [
       "<Figure size 432x288 with 1 Axes>"
      ]
     },
     "metadata": {
      "needs_background": "light"
     },
     "output_type": "display_data"
    }
   ],
   "source": [
    "#from matplotlib import pyplot as plt\n",
    "plt.hist(Error,bins=20)\n",
    "plt.show()"
   ]
  },
  {
   "cell_type": "code",
   "execution_count": 91,
   "metadata": {},
   "outputs": [
    {
     "data": {
      "image/png": "[encoded data removed]",
      "text/plain": [
       "<Figure size 432x288 with 1 Axes>"
      ]
     },
     "metadata": {
      "needs_background": "light"
     },
     "output_type": "display_data"
    }
   ],
   "source": [
    "# plot error vs predicted\n",
    "plt.scatter(train_predict,Error)\n",
    "plt.xlabel(\"Predicted\")                                 # label for X axis\n",
    "plt.ylabel(\"Error\")   \n",
    "#plt.legend()\n",
    "plt.show()"
   ]
  },
  {
   "cell_type": "code",
   "execution_count": 92,
   "metadata": {},
   "outputs": [
    {
     "name": "stdout",
     "output_type": "stream",
     "text": [
      "0.6547289567323272\n"
     ]
    }
   ],
   "source": [
    "# apply the model on test\n",
    "predict = CV.predict(X_test_final)\n",
    "# calculate r square\n",
    "print(CV.score(X_test_final,Y_test_SS))"
   ]
  },
  {
   "cell_type": "code",
   "execution_count": 93,
   "metadata": {},
   "outputs": [
    {
     "name": "stdout",
     "output_type": "stream",
     "text": [
      "[[1.         0.63553525]\n",
      " [0.63553525 1.        ]]\n",
      "[[1.         0.55850995]\n",
      " [0.55850995 1.        ]]\n"
     ]
    }
   ],
   "source": [
    "# check correlation between independent and dependent in test\n",
    "print(np.corrcoef(Y_train.SalePrice,X_train.TotalBsmtSF))\n",
    "print(np.corrcoef(Y_test.SalePrice,X_test.TotalBsmtSF))"
   ]
  },
  {
   "cell_type": "code",
   "execution_count": 94,
   "metadata": {},
   "outputs": [
    {
     "name": "stdout",
     "output_type": "stream",
     "text": [
      "[[1.         0.72170652]\n",
      " [0.72170652 1.        ]]\n",
      "[[1.         0.66509277]\n",
      " [0.66509277 1.        ]]\n"
     ]
    }
   ],
   "source": [
    "print(np.corrcoef(Y_train.SalePrice,X_train.GrLivArea))\n",
    "print(np.corrcoef(Y_test.SalePrice,X_test.GrLivArea))"
   ]
  },
  {
   "cell_type": "code",
   "execution_count": 95,
   "metadata": {},
   "outputs": [
    {
     "name": "stdout",
     "output_type": "stream",
     "text": [
      "[[1.         0.64660265]\n",
      " [0.64660265 1.        ]]\n",
      "[[1.         0.54440532]\n",
      " [0.54440532 1.        ]]\n"
     ]
    }
   ],
   "source": [
    "print(np.corrcoef(Y_train.SalePrice,X_train.GarageArea))\n",
    "print(np.corrcoef(Y_test.SalePrice,X_test.GarageArea))"
   ]
  },
  {
   "cell_type": "code",
   "execution_count": 96,
   "metadata": {},
   "outputs": [
    {
     "name": "stdout",
     "output_type": "stream",
     "text": [
      "[[ 1.58956619]\n",
      " [-0.46245672]\n",
      " [-0.7122339 ]\n",
      " [ 0.63838272]\n",
      " [-1.05972269]\n",
      " [-1.01779271]\n",
      " [ 0.74032007]\n",
      " [-0.70958336]\n",
      " [ 4.10191667]\n",
      " [-0.24843795]]\n",
      "[[305536.27572845]\n",
      " [144521.63148347]\n",
      " [124922.54037865]\n",
      " [230900.42909263]\n",
      " [ 97656.38117697]\n",
      " [100946.47125176]\n",
      " [238899.07548188]\n",
      " [125130.51802569]\n",
      " [502671.12175959]\n",
      " [161314.89243689]]\n"
     ]
    }
   ],
   "source": [
    "# get the predicted sale prices to original scale\n",
    "print(predict[0:10])\n",
    "predictfinal = SS2.inverse_transform(predict)\n",
    "print(predictfinal[0:10])"
   ]
  },
  {
   "cell_type": "code",
   "execution_count": 20,
   "metadata": {},
   "outputs": [
    {
     "name": "stdout",
     "output_type": "stream",
     "text": [
      "Fitting 5 folds for each of 8 candidates, totalling 40 fits\n",
      "[CV] alpha=0.01, fit_intercept=True ..................................\n"
     ]
    },
    {
     "name": "stderr",
     "output_type": "stream",
     "text": [
      "[Parallel(n_jobs=1)]: Using backend SequentialBackend with 1 concurrent workers.\n"
     ]
    },
    {
     "name": "stdout",
     "output_type": "stream",
     "text": [
      "[CV]  alpha=0.01, fit_intercept=True, score=(train=0.752, test=0.795), total=   0.3s\n",
      "[CV] alpha=0.01, fit_intercept=True ..................................\n",
      "[CV]  alpha=0.01, fit_intercept=True, score=(train=0.777, test=0.639), total=   0.0s\n",
      "[CV] alpha=0.01, fit_intercept=True ..................................\n",
      "[CV]  alpha=0.01, fit_intercept=True, score=(train=0.751, test=0.776), total=   0.0s\n",
      "[CV] alpha=0.01, fit_intercept=True ..................................\n",
      "[CV]  alpha=0.01, fit_intercept=True, score=(train=0.761, test=0.736), total=   0.0s\n",
      "[CV] alpha=0.01, fit_intercept=True ..................................\n",
      "[CV]  alpha=0.01, fit_intercept=True, score=(train=0.751, test=0.817), total=   0.0s\n",
      "[CV] alpha=0.01, fit_intercept=False .................................\n",
      "[CV]  alpha=0.01, fit_intercept=False, score=(train=0.752, test=0.795), total=   0.0s\n",
      "[CV] alpha=0.01, fit_intercept=False .................................\n",
      "[CV]  alpha=0.01, fit_intercept=False, score=(train=0.777, test=0.639), total=   0.0s\n",
      "[CV] alpha=0.01, fit_intercept=False .................................\n",
      "[CV]  alpha=0.01, fit_intercept=False, score=(train=0.751, test=0.776), total=   0.0s\n",
      "[CV] alpha=0.01, fit_intercept=False .................................\n",
      "[CV]  alpha=0.01, fit_intercept=False, score=(train=0.761, test=0.736), total=   0.0s\n",
      "[CV] alpha=0.01, fit_intercept=False .................................\n",
      "[CV]  alpha=0.01, fit_intercept=False, score=(train=0.751, test=0.817), total=   0.0s\n",
      "[CV] alpha=0.1, fit_intercept=True ...................................\n",
      "[CV]  alpha=0.1, fit_intercept=True, score=(train=0.688, test=0.718), total=   0.0s\n",
      "[CV] alpha=0.1, fit_intercept=True ...................................\n",
      "[CV]  alpha=0.1, fit_intercept=True, score=(train=0.723, test=0.608), total=   0.0s\n",
      "[CV] alpha=0.1, fit_intercept=True ...................................\n",
      "[CV]  alpha=0.1, fit_intercept=True, score=(train=0.688, test=0.707), total=   0.0s\n",
      "[CV] alpha=0.1, fit_intercept=True ...................................\n",
      "[CV]  alpha=0.1, fit_intercept=True, score=(train=0.694, test=0.689), total=   0.0s\n",
      "[CV] alpha=0.1, fit_intercept=True ...................................\n",
      "[CV]  alpha=0.1, fit_intercept=True, score=(train=0.687, test=0.758), total=   0.0s\n",
      "[CV] alpha=0.1, fit_intercept=False ..................................\n",
      "[CV]  alpha=0.1, fit_intercept=False, score=(train=0.688, test=0.718), total=   0.0s\n",
      "[CV] alpha=0.1, fit_intercept=False ..................................\n",
      "[CV]  alpha=0.1, fit_intercept=False, score=(train=0.723, test=0.608), total=   0.0s\n",
      "[CV] alpha=0.1, fit_intercept=False ..................................\n",
      "[CV]  alpha=0.1, fit_intercept=False, score=(train=0.688, test=0.707), total=   0.0s\n",
      "[CV] alpha=0.1, fit_intercept=False ..................................\n",
      "[CV]  alpha=0.1, fit_intercept=False, score=(train=0.694, test=0.689), total=   0.0s\n",
      "[CV] alpha=0.1, fit_intercept=False ..................................\n",
      "[CV]  alpha=0.1, fit_intercept=False, score=(train=0.687, test=0.758), total=   0.0s\n",
      "[CV] alpha=0.5, fit_intercept=True ...................................\n",
      "[CV]  alpha=0.5, fit_intercept=True, score=(train=0.319, test=0.315), total=   0.0s\n",
      "[CV] alpha=0.5, fit_intercept=True ...................................\n",
      "[CV]  alpha=0.5, fit_intercept=True, score=(train=0.340, test=0.310), total=   0.0s\n",
      "[CV] alpha=0.5, fit_intercept=True ...................................\n",
      "[CV]  alpha=0.5, fit_intercept=True, score=(train=0.284, test=0.253), total=   0.0s\n",
      "[CV] alpha=0.5, fit_intercept=True ...................................\n",
      "[CV]  alpha=0.5, fit_intercept=True, score=(train=0.294, test=0.290), total=   0.0s\n",
      "[CV] alpha=0.5, fit_intercept=True ...................................\n",
      "[CV]  alpha=0.5, fit_intercept=True, score=(train=0.348, test=0.377), total=   0.0s\n",
      "[CV] alpha=0.5, fit_intercept=False ..................................\n",
      "[CV]  alpha=0.5, fit_intercept=False, score=(train=0.319, test=0.315), total=   0.0s\n",
      "[CV] alpha=0.5, fit_intercept=False ..................................\n",
      "[CV]  alpha=0.5, fit_intercept=False, score=(train=0.340, test=0.310), total=   0.0s\n",
      "[CV] alpha=0.5, fit_intercept=False ..................................\n",
      "[CV]  alpha=0.5, fit_intercept=False, score=(train=0.284, test=0.253), total=   0.0s"
     ]
    },
    {
     "name": "stderr",
     "output_type": "stream",
     "text": [
      "[Parallel(n_jobs=1)]: Done   1 out of   1 | elapsed:    0.2s remaining:    0.0s\n",
      "[Parallel(n_jobs=1)]: Done   2 out of   2 | elapsed:    0.2s remaining:    0.0s\n",
      "[Parallel(n_jobs=1)]: Done   3 out of   3 | elapsed:    0.2s remaining:    0.0s\n",
      "[Parallel(n_jobs=1)]: Done   4 out of   4 | elapsed:    0.2s remaining:    0.0s\n",
      "[Parallel(n_jobs=1)]: Done   5 out of   5 | elapsed:    0.2s remaining:    0.0s\n",
      "[Parallel(n_jobs=1)]: Done   6 out of   6 | elapsed:    0.2s remaining:    0.0s\n",
      "[Parallel(n_jobs=1)]: Done   7 out of   7 | elapsed:    0.2s remaining:    0.0s\n",
      "[Parallel(n_jobs=1)]: Done   8 out of   8 | elapsed:    0.2s remaining:    0.0s\n",
      "[Parallel(n_jobs=1)]: Done   9 out of   9 | elapsed:    0.2s remaining:    0.0s\n"
     ]
    },
    {
     "name": "stdout",
     "output_type": "stream",
     "text": [
      "\n",
      "[CV] alpha=0.5, fit_intercept=False ..................................\n",
      "[CV]  alpha=0.5, fit_intercept=False, score=(train=0.294, test=0.290), total=   0.0s\n",
      "[CV] alpha=0.5, fit_intercept=False ..................................\n",
      "[CV]  alpha=0.5, fit_intercept=False, score=(train=0.348, test=0.377), total=   0.0s\n",
      "[CV] alpha=1.0, fit_intercept=True ...................................\n",
      "[CV]  alpha=1.0, fit_intercept=True, score=(train=0.000, test=-0.000), total=   0.0s\n",
      "[CV] alpha=1.0, fit_intercept=True ...................................\n",
      "[CV]  alpha=1.0, fit_intercept=True, score=(train=0.000, test=-0.001), total=   0.0s\n",
      "[CV] alpha=1.0, fit_intercept=True ...................................\n",
      "[CV]  alpha=1.0, fit_intercept=True, score=(train=0.000, test=-0.009), total=   0.0s\n",
      "[CV] alpha=1.0, fit_intercept=True ...................................\n",
      "[CV]  alpha=1.0, fit_intercept=True, score=(train=0.000, test=-0.001), total=   0.0s\n",
      "[CV] alpha=1.0, fit_intercept=True ...................................\n",
      "[CV]  alpha=1.0, fit_intercept=True, score=(train=0.000, test=-0.033), total=   0.0s\n",
      "[CV] alpha=1.0, fit_intercept=False ..................................\n",
      "[CV]  alpha=1.0, fit_intercept=False, score=(train=0.000, test=-0.000), total=   0.0s\n",
      "[CV] alpha=1.0, fit_intercept=False ..................................\n",
      "[CV]  alpha=1.0, fit_intercept=False, score=(train=0.000, test=-0.001), total=   0.0s\n",
      "[CV] alpha=1.0, fit_intercept=False ..................................\n",
      "[CV]  alpha=1.0, fit_intercept=False, score=(train=0.000, test=-0.009), total=   0.0s\n",
      "[CV] alpha=1.0, fit_intercept=False ..................................\n",
      "[CV]  alpha=1.0, fit_intercept=False, score=(train=0.000, test=-0.001), total=   0.0s\n",
      "[CV] alpha=1.0, fit_intercept=False ..................................\n",
      "[CV]  alpha=1.0, fit_intercept=False, score=(train=0.000, test=-0.033), total=   0.0s\n"
     ]
    },
    {
     "name": "stderr",
     "output_type": "stream",
     "text": [
      "[Parallel(n_jobs=1)]: Done  40 out of  40 | elapsed:    0.5s finished\n"
     ]
    },
    {
     "data": {
      "text/plain": [
       "GridSearchCV(cv=5, error_score=nan,\n",
       "             estimator=Lasso(alpha=1.0, copy_X=True, fit_intercept=True,\n",
       "                             max_iter=100, normalize=False, positive=False,\n",
       "                             precompute=False, random_state=None,\n",
       "                             selection='cyclic', tol=0.0001, warm_start=False),\n",
       "             iid='deprecated', n_jobs=None,\n",
       "             param_grid={'alpha': [0.01, 0.1, 0.5, 1.0],\n",
       "                         'fit_intercept': ['True', 'False']},\n",
       "             pre_dispatch='2*n_jobs', refit=True, return_train_score=True,\n",
       "             scoring='r2', verbose=10)"
      ]
     },
     "execution_count": 20,
     "metadata": {},
     "output_type": "execute_result"
    }
   ],
   "source": [
    "# LASSO regression\n",
    "# build linear model using sklearn\n",
    "from sklearn.linear_model import Lasso\n",
    "# initialize linear model\n",
    "LASSO = Lasso(normalize=False,max_iter=100)\n",
    "# apply cross validation\n",
    "from sklearn.model_selection import GridSearchCV\n",
    "params = {\"alpha\": [0.01,0.10,0.50,1.0],\n",
    "          \"fit_intercept\":['True','False']}\n",
    "CV2 = GridSearchCV(estimator = LASSO, scoring='r2',cv=5,refit=True,\n",
    "                  return_train_score=True,param_grid=params,verbose=10)\n",
    "# apply linear model\n",
    "CV2.fit(X_train_final, Y_train_SS)"
   ]
  },
  {
   "cell_type": "code",
   "execution_count": 22,
   "metadata": {},
   "outputs": [
    {
     "name": "stdout",
     "output_type": "stream",
     "text": [
      "11\n",
      "Lasso(alpha=0.01, copy_X=True, fit_intercept='True', max_iter=100,\n",
      "      normalize=False, positive=False, precompute=False, random_state=None,\n",
      "      selection='cyclic', tol=0.0001, warm_start=False)\n"
     ]
    }
   ],
   "source": [
    "print(CV2.best_estimator_.n_iter_)\n",
    "print(CV2.best_estimator_)"
   ]
  },
  {
   "cell_type": "code",
   "execution_count": 23,
   "metadata": {},
   "outputs": [
    {
     "name": "stdout",
     "output_type": "stream",
     "text": [
      "[ 0.27872839  0.44774373  0.22414956 -0.          0.         -0.\n",
      " -0.         -0.          0.          0.          0.         -0.07697116\n",
      "  0.         -0.         -0.         -0.         -0.11210105 -0.\n",
      " -0.          0.18668956  0.5257667  -0.28299635 -0.         -0.\n",
      " -0.          0.10343323  0.08280842  0.          0.        ]\n",
      "[0.00386346]\n"
     ]
    }
   ],
   "source": [
    "print(CV2.best_estimator_.coef_)\n",
    "print(CV2.best_estimator_.intercept_)"
   ]
  },
  {
   "cell_type": "code",
   "execution_count": 24,
   "metadata": {},
   "outputs": [
    {
     "name": "stdout",
     "output_type": "stream",
     "text": [
      "0.7526538003111525\n"
     ]
    }
   ],
   "source": [
    "print(CV2.best_score_)"
   ]
  },
  {
   "cell_type": "code",
   "execution_count": 26,
   "metadata": {},
   "outputs": [],
   "source": [
    "CVResults = pd.DataFrame(CV2.cv_results_)\n",
    "CVResults.to_excel('CVResults_Lasso.xlsx')"
   ]
  },
  {
   "cell_type": "code",
   "execution_count": 47,
   "metadata": {},
   "outputs": [
    {
     "name": "stdout",
     "output_type": "stream",
     "text": [
      "(1168,)\n",
      "[[ 1.64074973]\n",
      " [-0.93829567]\n",
      " [-0.64458433]\n",
      " [ 0.91078772]\n",
      " [ 0.74849989]]\n",
      "(1168, 1)\n",
      "(1168, 1)\n"
     ]
    }
   ],
   "source": [
    "# draw histogram of errors\n",
    "train_predict2 = CV2.predict(X_train_final)\n",
    "print(train_predict2.shape)\n",
    "train_predict2.resize(len(train_predict2),1)\n",
    "print(train_predict2[0:5])\n",
    "print(Y_train_SS.shape)\n",
    "Error2 = train_predict2 - Y_train_SS\n",
    "print(Error2.shape)"
   ]
  },
  {
   "cell_type": "code",
   "execution_count": 48,
   "metadata": {},
   "outputs": [
    {
     "data": {
      "image/png": "[encoded data removed]",
      "text/plain": [
       "<Figure size 432x288 with 1 Axes>"
      ]
     },
     "metadata": {
      "needs_background": "light"
     },
     "output_type": "display_data"
    }
   ],
   "source": [
    "plt.hist(Error2,bins=20)\n",
    "plt.show()"
   ]
  },
  {
   "cell_type": "code",
   "execution_count": 50,
   "metadata": {},
   "outputs": [
    {
     "data": {
      "image/png": "[encoded data removed]",
      "text/plain": [
       "<Figure size 432x288 with 1 Axes>"
      ]
     },
     "metadata": {
      "needs_background": "light"
     },
     "output_type": "display_data"
    }
   ],
   "source": [
    "# plot error vs predicted\n",
    "plt.scatter(train_predict2,Error2)\n",
    "plt.xlabel(\"Predicted\")                             \n",
    "plt.ylabel(\"Error\") \n",
    "plt.show()"
   ]
  },
  {
   "cell_type": "code",
   "execution_count": 51,
   "metadata": {},
   "outputs": [
    {
     "name": "stdout",
     "output_type": "stream",
     "text": [
      "0.5493896612612837\n"
     ]
    }
   ],
   "source": [
    "# apply the model on test\n",
    "#predict2 = CV2.predict(X_test_final)\n",
    "# calculate r square\n",
    "print(CV2.score(X_test_final,Y_test_SS))"
   ]
  },
  {
   "cell_type": "code",
   "execution_count": 52,
   "metadata": {},
   "outputs": [
    {
     "name": "stdout",
     "output_type": "stream",
     "text": [
      "Fitting 5 folds for each of 5 candidates, totalling 25 fits\n",
      "[CV] alpha=0.2 .......................................................\n"
     ]
    },
    {
     "name": "stderr",
     "output_type": "stream",
     "text": [
      "[Parallel(n_jobs=1)]: Using backend SequentialBackend with 1 concurrent workers.\n"
     ]
    },
    {
     "name": "stdout",
     "output_type": "stream",
     "text": [
      "[CV] ....... alpha=0.2, score=(train=0.798, test=0.826), total=   0.3s\n",
      "[CV] alpha=0.2 .......................................................\n",
      "[CV] ....... alpha=0.2, score=(train=0.820, test=0.731), total=   0.0s\n",
      "[CV] alpha=0.2 .......................................................\n",
      "[CV] ....... alpha=0.2, score=(train=0.799, test=0.808), total=   0.0s\n",
      "[CV] alpha=0.2 .......................................................\n",
      "[CV] ....... alpha=0.2, score=(train=0.814, test=0.767), total=   0.0s\n",
      "[CV] alpha=0.2 .......................................................\n",
      "[CV] ....... alpha=0.2, score=(train=0.799, test=0.823), total=   0.0s\n",
      "[CV] alpha=0.4 .......................................................\n",
      "[CV] ....... alpha=0.4, score=(train=0.798, test=0.826), total=   0.0s\n",
      "[CV] alpha=0.4 .......................................................\n",
      "[CV] ....... alpha=0.4, score=(train=0.820, test=0.731), total=   0.0s\n",
      "[CV] alpha=0.4 .......................................................\n",
      "[CV] ....... alpha=0.4, score=(train=0.799, test=0.808), total=   0.0s\n",
      "[CV] alpha=0.4 .......................................................\n",
      "[CV] ....... alpha=0.4, score=(train=0.814, test=0.767), total=   0.0s\n",
      "[CV] alpha=0.4 .......................................................\n",
      "[CV] ....... alpha=0.4, score=(train=0.799, test=0.824), total=   0.0s\n",
      "[CV] alpha=0.6 .......................................................\n",
      "[CV] ....... alpha=0.6, score=(train=0.798, test=0.827), total=   0.0s\n",
      "[CV] alpha=0.6 .......................................................\n",
      "[CV] ....... alpha=0.6, score=(train=0.820, test=0.730), total=   0.0s\n",
      "[CV] alpha=0.6 .......................................................\n",
      "[CV] ....... alpha=0.6, score=(train=0.799, test=0.809), total=   0.0s\n",
      "[CV] alpha=0.6 .......................................................\n",
      "[CV] ....... alpha=0.6, score=(train=0.814, test=0.768), total=   0.0s\n",
      "[CV] alpha=0.6 .......................................................\n"
     ]
    },
    {
     "name": "stderr",
     "output_type": "stream",
     "text": [
      "[Parallel(n_jobs=1)]: Done   1 out of   1 | elapsed:    0.2s remaining:    0.0s\n",
      "[Parallel(n_jobs=1)]: Done   2 out of   2 | elapsed:    0.3s remaining:    0.0s\n",
      "[Parallel(n_jobs=1)]: Done   3 out of   3 | elapsed:    0.3s remaining:    0.0s\n",
      "[Parallel(n_jobs=1)]: Done   4 out of   4 | elapsed:    0.3s remaining:    0.0s\n",
      "[Parallel(n_jobs=1)]: Done   5 out of   5 | elapsed:    0.3s remaining:    0.0s\n",
      "[Parallel(n_jobs=1)]: Done   6 out of   6 | elapsed:    0.3s remaining:    0.0s\n",
      "[Parallel(n_jobs=1)]: Done   7 out of   7 | elapsed:    0.3s remaining:    0.0s\n",
      "[Parallel(n_jobs=1)]: Done   8 out of   8 | elapsed:    0.3s remaining:    0.0s\n",
      "[Parallel(n_jobs=1)]: Done   9 out of   9 | elapsed:    0.3s remaining:    0.0s\n"
     ]
    },
    {
     "name": "stdout",
     "output_type": "stream",
     "text": [
      "[CV] ....... alpha=0.6, score=(train=0.799, test=0.824), total=   1.8s\n",
      "[CV] alpha=0.8 .......................................................\n",
      "[CV] ....... alpha=0.8, score=(train=0.798, test=0.827), total=   0.0s\n",
      "[CV] alpha=0.8 .......................................................\n",
      "[CV] ....... alpha=0.8, score=(train=0.820, test=0.729), total=   0.0s\n",
      "[CV] alpha=0.8 .......................................................\n",
      "[CV] ....... alpha=0.8, score=(train=0.799, test=0.809), total=   0.0s\n",
      "[CV] alpha=0.8 .......................................................\n",
      "[CV] ....... alpha=0.8, score=(train=0.814, test=0.768), total=   0.0s\n",
      "[CV] alpha=0.8 .......................................................\n",
      "[CV] ....... alpha=0.8, score=(train=0.799, test=0.825), total=   0.0s\n",
      "[CV] alpha=1.0 .......................................................\n",
      "[CV] ....... alpha=1.0, score=(train=0.798, test=0.827), total=   0.0s\n",
      "[CV] alpha=1.0 .......................................................\n",
      "[CV] ....... alpha=1.0, score=(train=0.820, test=0.729), total=   0.0s\n",
      "[CV] alpha=1.0 .......................................................\n",
      "[CV] ....... alpha=1.0, score=(train=0.799, test=0.809), total=   0.0s\n",
      "[CV] alpha=1.0 .......................................................\n",
      "[CV] ....... alpha=1.0, score=(train=0.814, test=0.768), total=   0.0s\n",
      "[CV] alpha=1.0 .......................................................\n",
      "[CV] ....... alpha=1.0, score=(train=0.799, test=0.825), total=   0.0s\n"
     ]
    },
    {
     "name": "stderr",
     "output_type": "stream",
     "text": [
      "[Parallel(n_jobs=1)]: Done  25 out of  25 | elapsed:    2.3s finished\n"
     ]
    },
    {
     "data": {
      "text/plain": [
       "GridSearchCV(cv=5, error_score=nan,\n",
       "             estimator=Ridge(alpha=1.0, copy_X=True, fit_intercept=True,\n",
       "                             max_iter=10, normalize=False, random_state=None,\n",
       "                             solver='auto', tol=0.001),\n",
       "             iid='deprecated', n_jobs=None,\n",
       "             param_grid={'alpha': [0.2, 0.4, 0.6, 0.8, 1.0]},\n",
       "             pre_dispatch='2*n_jobs', refit=True, return_train_score=True,\n",
       "             scoring='r2', verbose=10)"
      ]
     },
     "execution_count": 52,
     "metadata": {},
     "output_type": "execute_result"
    }
   ],
   "source": [
    "# Ridge regression\n",
    "# build linear model using sklearn\n",
    "from sklearn.linear_model import Ridge\n",
    "# initialize linear model\n",
    "RIDGE = Ridge(fit_intercept=True, normalize=False,\n",
    "              max_iter=10,solver='auto')\n",
    "# apply cross validation\n",
    "from sklearn.model_selection import GridSearchCV\n",
    "params = {\"alpha\": [0.2,0.4,0.6,0.8,1.0]}\n",
    "CV3 = GridSearchCV(estimator = RIDGE, scoring='r2',cv=5,refit=True,\n",
    "                  return_train_score=True,param_grid=params,verbose=10)\n",
    "# apply linear model\n",
    "CV3.fit(X_train_final, Y_train_SS)"
   ]
  },
  {
   "cell_type": "code",
   "execution_count": 53,
   "metadata": {},
   "outputs": [
    {
     "name": "stdout",
     "output_type": "stream",
     "text": [
      "Ridge(alpha=1.0, copy_X=True, fit_intercept=True, max_iter=10, normalize=False,\n",
      "      random_state=None, solver='auto', tol=0.001)\n",
      "[[ 0.2305061   0.41282737  0.14730158  0.00623219  0.0863617  -0.15824278\n",
      "  -0.2817312  -0.20626005  0.11759865  0.11819624  0.21040393 -0.34272175\n",
      "   0.12641834 -0.49721907 -0.36431112 -0.20263736 -0.24240097 -0.18749736\n",
      "  -0.14221683  0.7006114   0.86319822 -0.49200954 -0.53089403 -0.24525959\n",
      "  -0.06231792  0.31638182  0.83903065  0.30269612  0.27482251]]\n",
      "[0.03153989]\n"
     ]
    }
   ],
   "source": [
    "print(CV3.best_estimator_)\n",
    "print(CV3.best_estimator_.coef_)\n",
    "print(CV3.best_estimator_.intercept_)"
   ]
  },
  {
   "cell_type": "code",
   "execution_count": 54,
   "metadata": {},
   "outputs": [
    {
     "data": {
      "text/plain": [
       "0.7914863614319423"
      ]
     },
     "execution_count": 54,
     "metadata": {},
     "output_type": "execute_result"
    }
   ],
   "source": [
    "CV3.best_score_"
   ]
  },
  {
   "cell_type": "code",
   "execution_count": 55,
   "metadata": {},
   "outputs": [],
   "source": [
    "CV3Results = pd.DataFrame(CV3.cv_results_)\n",
    "CV3Results.to_excel('CV3Results_Ridge.xlsx')"
   ]
  },
  {
   "cell_type": "code",
   "execution_count": 57,
   "metadata": {},
   "outputs": [
    {
     "name": "stdout",
     "output_type": "stream",
     "text": [
      "(1168, 1)\n",
      "(1168, 1)\n"
     ]
    }
   ],
   "source": [
    "# draw histogram of errors\n",
    "train_predict3 = CV3.predict(X_train_final)\n",
    "print(train_predict3.shape)\n",
    "#print(Y_train.SalePrice.shape)\n",
    "Error3 = train_predict3 - Y_train_SS\n",
    "print(Error3.shape)"
   ]
  },
  {
   "cell_type": "code",
   "execution_count": 58,
   "metadata": {},
   "outputs": [
    {
     "data": {
      "image/png": "[encoded data removed]",
      "text/plain": [
       "<Figure size 432x288 with 1 Axes>"
      ]
     },
     "metadata": {
      "needs_background": "light"
     },
     "output_type": "display_data"
    }
   ],
   "source": [
    "# plot error vs predicted\n",
    "plt.scatter(train_predict3,Error3)\n",
    "plt.show()"
   ]
  },
  {
   "cell_type": "code",
   "execution_count": 59,
   "metadata": {},
   "outputs": [
    {
     "name": "stdout",
     "output_type": "stream",
     "text": [
      "0.650830162810248\n"
     ]
    }
   ],
   "source": [
    "# R square on test\n",
    "print(CV3.score(X_test_final, Y_test_SS))"
   ]
  },
  {
   "cell_type": "code",
   "execution_count": 60,
   "metadata": {},
   "outputs": [
    {
     "name": "stdout",
     "output_type": "stream",
     "text": [
      "Fitting 5 folds for each of 25 candidates, totalling 125 fits\n",
      "[CV] alpha=0.2, l1_ratio=0.2 .........................................\n",
      "[CV]  alpha=0.2, l1_ratio=0.2, score=(train=0.691, test=0.722), total=   0.0s\n",
      "[CV] alpha=0.2, l1_ratio=0.2 .........................................\n",
      "[CV]  alpha=0.2, l1_ratio=0.2, score=(train=0.725, test=0.608), total=   0.0s\n",
      "[CV] alpha=0.2, l1_ratio=0.2 .........................................\n",
      "[CV]  alpha=0.2, l1_ratio=0.2, score=(train=0.691, test=0.716), total=   0.0s\n",
      "[CV] alpha=0.2, l1_ratio=0.2 .........................................\n",
      "[CV]  alpha=0.2, l1_ratio=0.2, score=(train=0.699, test=0.691), total=   0.0s\n",
      "[CV] alpha=0.2, l1_ratio=0.2 .........................................\n",
      "[CV]  alpha=0.2, l1_ratio=0.2, score=(train=0.689, test=0.760), total=   0.0s\n",
      "[CV] alpha=0.2, l1_ratio=0.4 .........................................\n",
      "[CV]  alpha=0.2, l1_ratio=0.4, score=(train=0.683, test=0.711), total=   0.0s\n",
      "[CV] alpha=0.2, l1_ratio=0.4 .........................................\n",
      "[CV]  alpha=0.2, l1_ratio=0.4, score=(train=0.717, test=0.605), total=   0.0s\n",
      "[CV] alpha=0.2, l1_ratio=0.4 .........................................\n",
      "[CV]  alpha=0.2, l1_ratio=0.4, score=(train=0.683, test=0.705), total=   0.0s\n",
      "[CV] alpha=0.2, l1_ratio=0.4 .........................................\n",
      "[CV]  alpha=0.2, l1_ratio=0.4, score=(train=0.689, test=0.681), total=   0.0s\n",
      "[CV] alpha=0.2, l1_ratio=0.4 .........................................\n",
      "[CV]  alpha=0.2, l1_ratio=0.4, score=(train=0.682, test=0.753), total=   0.0s\n",
      "[CV] alpha=0.2, l1_ratio=0.6 .........................................\n",
      "[CV]  alpha=0.2, l1_ratio=0.6, score=(train=0.672, test=0.698), total=   0.0s\n",
      "[CV] alpha=0.2, l1_ratio=0.6 .........................................\n",
      "[CV]  alpha=0.2, l1_ratio=0.6, score=(train=0.706, test=0.599), total=   0.0s\n",
      "[CV] alpha=0.2, l1_ratio=0.6 .........................................\n",
      "[CV]  alpha=0.2, l1_ratio=0.6, score=(train=0.671, test=0.690), total=   0.0s\n",
      "[CV] alpha=0.2, l1_ratio=0.6 .........................................\n",
      "[CV]  alpha=0.2, l1_ratio=0.6, score=(train=0.677, test=0.668), total=   0.0s\n",
      "[CV] alpha=0.2, l1_ratio=0.6 .........................................\n",
      "[CV]  alpha=0.2, l1_ratio=0.6, score=(train=0.672, test=0.743), total=   0.0s"
     ]
    },
    {
     "name": "stderr",
     "output_type": "stream",
     "text": [
      "[Parallel(n_jobs=1)]: Using backend SequentialBackend with 1 concurrent workers.\n",
      "[Parallel(n_jobs=1)]: Done   1 out of   1 | elapsed:    0.0s remaining:    0.0s\n",
      "[Parallel(n_jobs=1)]: Done   2 out of   2 | elapsed:    0.0s remaining:    0.0s\n",
      "[Parallel(n_jobs=1)]: Done   3 out of   3 | elapsed:    0.0s remaining:    0.0s\n",
      "[Parallel(n_jobs=1)]: Done   4 out of   4 | elapsed:    0.0s remaining:    0.0s\n",
      "[Parallel(n_jobs=1)]: Done   5 out of   5 | elapsed:    0.0s remaining:    0.0s\n",
      "[Parallel(n_jobs=1)]: Done   6 out of   6 | elapsed:    0.0s remaining:    0.0s\n",
      "[Parallel(n_jobs=1)]: Done   7 out of   7 | elapsed:    0.0s remaining:    0.0s\n",
      "[Parallel(n_jobs=1)]: Done   8 out of   8 | elapsed:    0.0s remaining:    0.0s\n",
      "[Parallel(n_jobs=1)]: Done   9 out of   9 | elapsed:    0.0s remaining:    0.0s\n"
     ]
    },
    {
     "name": "stdout",
     "output_type": "stream",
     "text": [
      "\n",
      "[CV] alpha=0.2, l1_ratio=0.8 .........................................\n",
      "[CV]  alpha=0.2, l1_ratio=0.8, score=(train=0.659, test=0.682), total=   0.0s\n",
      "[CV] alpha=0.2, l1_ratio=0.8 .........................................\n",
      "[CV]  alpha=0.2, l1_ratio=0.8, score=(train=0.692, test=0.591), total=   0.0s\n",
      "[CV] alpha=0.2, l1_ratio=0.8 .........................................\n",
      "[CV]  alpha=0.2, l1_ratio=0.8, score=(train=0.656, test=0.671), total=   0.0s\n",
      "[CV] alpha=0.2, l1_ratio=0.8 .........................................\n",
      "[CV]  alpha=0.2, l1_ratio=0.8, score=(train=0.663, test=0.653), total=   0.0s\n",
      "[CV] alpha=0.2, l1_ratio=0.8 .........................................\n",
      "[CV]  alpha=0.2, l1_ratio=0.8, score=(train=0.660, test=0.730), total=   0.0s\n",
      "[CV] alpha=0.2, l1_ratio=1.0 .........................................\n",
      "[CV]  alpha=0.2, l1_ratio=1.0, score=(train=0.642, test=0.662), total=   0.0s\n",
      "[CV] alpha=0.2, l1_ratio=1.0 .........................................\n",
      "[CV]  alpha=0.2, l1_ratio=1.0, score=(train=0.675, test=0.580), total=   0.0s\n",
      "[CV] alpha=0.2, l1_ratio=1.0 .........................................\n",
      "[CV]  alpha=0.2, l1_ratio=1.0, score=(train=0.638, test=0.648), total=   0.0s\n",
      "[CV] alpha=0.2, l1_ratio=1.0 .........................................\n",
      "[CV]  alpha=0.2, l1_ratio=1.0, score=(train=0.644, test=0.635), total=   0.0s\n",
      "[CV] alpha=0.2, l1_ratio=1.0 .........................................\n",
      "[CV]  alpha=0.2, l1_ratio=1.0, score=(train=0.644, test=0.714), total=   0.0s\n",
      "[CV] alpha=0.4, l1_ratio=0.2 .........................................\n",
      "[CV]  alpha=0.4, l1_ratio=0.2, score=(train=0.661, test=0.685), total=   0.0s\n",
      "[CV] alpha=0.4, l1_ratio=0.2 .........................................\n",
      "[CV]  alpha=0.4, l1_ratio=0.2, score=(train=0.693, test=0.589), total=   0.0s\n",
      "[CV] alpha=0.4, l1_ratio=0.2 .........................................\n",
      "[CV]  alpha=0.4, l1_ratio=0.2, score=(train=0.658, test=0.682), total=   0.0s\n",
      "[CV] alpha=0.4, l1_ratio=0.2 .........................................\n",
      "[CV]  alpha=0.4, l1_ratio=0.2, score=(train=0.665, test=0.653), total=   0.0s\n",
      "[CV] alpha=0.4, l1_ratio=0.2 .........................................\n",
      "[CV]  alpha=0.4, l1_ratio=0.2, score=(train=0.660, test=0.730), total=   0.0s\n",
      "[CV] alpha=0.4, l1_ratio=0.4 .........................................\n",
      "[CV]  alpha=0.4, l1_ratio=0.4, score=(train=0.630, test=0.650), total=   0.0s\n",
      "[CV] alpha=0.4, l1_ratio=0.4 .........................................\n",
      "[CV]  alpha=0.4, l1_ratio=0.4, score=(train=0.661, test=0.567), total=   0.0s\n",
      "[CV] alpha=0.4, l1_ratio=0.4 .........................................\n",
      "[CV]  alpha=0.4, l1_ratio=0.4, score=(train=0.626, test=0.643), total=   0.0s\n",
      "[CV] alpha=0.4, l1_ratio=0.4 .........................................\n",
      "[CV]  alpha=0.4, l1_ratio=0.4, score=(train=0.632, test=0.620), total=   0.0s\n",
      "[CV] alpha=0.4, l1_ratio=0.4 .........................................\n",
      "[CV]  alpha=0.4, l1_ratio=0.4, score=(train=0.632, test=0.700), total=   0.0s\n",
      "[CV] alpha=0.4, l1_ratio=0.6 .........................................\n",
      "[CV]  alpha=0.4, l1_ratio=0.6, score=(train=0.588, test=0.603), total=   0.0s\n",
      "[CV] alpha=0.4, l1_ratio=0.6 .........................................\n",
      "[CV]  alpha=0.4, l1_ratio=0.6, score=(train=0.618, test=0.536), total=   0.0s\n",
      "[CV] alpha=0.4, l1_ratio=0.6 .........................................\n",
      "[CV]  alpha=0.4, l1_ratio=0.6, score=(train=0.580, test=0.589), total=   0.0s\n",
      "[CV] alpha=0.4, l1_ratio=0.6 .........................................\n",
      "[CV]  alpha=0.4, l1_ratio=0.6, score=(train=0.587, test=0.574), total=   0.0s\n",
      "[CV] alpha=0.4, l1_ratio=0.6 .........................................\n",
      "[CV]  alpha=0.4, l1_ratio=0.6, score=(train=0.594, test=0.658), total=   0.0s\n",
      "[CV] alpha=0.4, l1_ratio=0.8 .........................................\n",
      "[CV]  alpha=0.4, l1_ratio=0.8, score=(train=0.532, test=0.541), total=   0.0s\n",
      "[CV] alpha=0.4, l1_ratio=0.8 .........................................\n",
      "[CV]  alpha=0.4, l1_ratio=0.8, score=(train=0.560, test=0.491), total=   0.0s\n",
      "[CV] alpha=0.4, l1_ratio=0.8 .........................................\n",
      "[CV]  alpha=0.4, l1_ratio=0.8, score=(train=0.518, test=0.517), total=   0.0s\n",
      "[CV] alpha=0.4, l1_ratio=0.8 .........................................\n",
      "[CV]  alpha=0.4, l1_ratio=0.8, score=(train=0.525, test=0.514), total=   0.0s\n",
      "[CV] alpha=0.4, l1_ratio=0.8 .........................................\n",
      "[CV]  alpha=0.4, l1_ratio=0.8, score=(train=0.542, test=0.600), total=   0.0s\n",
      "[CV] alpha=0.4, l1_ratio=1.0 .........................................\n",
      "[CV]  alpha=0.4, l1_ratio=1.0, score=(train=0.457, test=0.461), total=   0.0s\n",
      "[CV] alpha=0.4, l1_ratio=1.0 .........................................\n",
      "[CV]  alpha=0.4, l1_ratio=1.0, score=(train=0.483, test=0.430), total=   0.0s\n",
      "[CV] alpha=0.4, l1_ratio=1.0 .........................................\n",
      "[CV]  alpha=0.4, l1_ratio=1.0, score=(train=0.436, test=0.421), total=   0.0s\n",
      "[CV] alpha=0.4, l1_ratio=1.0 .........................................\n",
      "[CV]  alpha=0.4, l1_ratio=1.0, score=(train=0.444, test=0.436), total=   0.0s\n",
      "[CV] alpha=0.4, l1_ratio=1.0 .........................................\n",
      "[CV]  alpha=0.4, l1_ratio=1.0, score=(train=0.475, test=0.524), total=   0.0s\n",
      "[CV] alpha=0.6, l1_ratio=0.2 .........................................\n",
      "[CV]  alpha=0.6, l1_ratio=0.2, score=(train=0.620, test=0.639), total=   0.0s\n",
      "[CV] alpha=0.6, l1_ratio=0.2 .........................................\n",
      "[CV]  alpha=0.6, l1_ratio=0.2, score=(train=0.650, test=0.557), total=   0.0s\n",
      "[CV] alpha=0.6, l1_ratio=0.2 .........................................\n",
      "[CV]  alpha=0.6, l1_ratio=0.2, score=(train=0.615, test=0.635), total=   0.0s\n",
      "[CV] alpha=0.6, l1_ratio=0.2 .........................................\n",
      "[CV]  alpha=0.6, l1_ratio=0.2, score=(train=0.622, test=0.608), total=   0.0s\n",
      "[CV] alpha=0.6, l1_ratio=0.2 .........................................\n",
      "[CV]  alpha=0.6, l1_ratio=0.2, score=(train=0.622, test=0.688), total=   0.0s\n",
      "[CV] alpha=0.6, l1_ratio=0.4 .........................................\n",
      "[CV]  alpha=0.6, l1_ratio=0.4, score=(train=0.556, test=0.569), total=   0.0s\n",
      "[CV] alpha=0.6, l1_ratio=0.4 .........................................\n",
      "[CV]  alpha=0.6, l1_ratio=0.4, score=(train=0.583, test=0.507), total=   0.0s\n",
      "[CV] alpha=0.6, l1_ratio=0.4 .........................................\n",
      "[CV]  alpha=0.6, l1_ratio=0.4, score=(train=0.546, test=0.557), total=   0.0s\n",
      "[CV] alpha=0.6, l1_ratio=0.4 .........................................\n",
      "[CV]  alpha=0.6, l1_ratio=0.4, score=(train=0.553, test=0.539), total=   0.0s\n",
      "[CV] alpha=0.6, l1_ratio=0.4 .........................................\n",
      "[CV]  alpha=0.6, l1_ratio=0.4, score=(train=0.563, test=0.622), total=   0.0s\n",
      "[CV] alpha=0.6, l1_ratio=0.6 .........................................\n",
      "[CV]  alpha=0.6, l1_ratio=0.6, score=(train=0.463, test=0.469), total=   0.0s\n",
      "[CV] alpha=0.6, l1_ratio=0.6 .........................................\n",
      "[CV]  alpha=0.6, l1_ratio=0.6, score=(train=0.487, test=0.430), total=   0.0s\n",
      "[CV] alpha=0.6, l1_ratio=0.6 .........................................\n",
      "[CV]  alpha=0.6, l1_ratio=0.6, score=(train=0.445, test=0.442), total=   0.0s\n",
      "[CV] alpha=0.6, l1_ratio=0.6 .........................................\n",
      "[CV]  alpha=0.6, l1_ratio=0.6, score=(train=0.452, test=0.441), total=   0.0s\n",
      "[CV] alpha=0.6, l1_ratio=0.6 .........................................\n",
      "[CV]  alpha=0.6, l1_ratio=0.6, score=(train=0.477, test=0.525), total=   0.0s\n",
      "[CV] alpha=0.6, l1_ratio=0.8 .........................................\n",
      "[CV]  alpha=0.6, l1_ratio=0.8, score=(train=0.332, test=0.331), total=   0.0s\n",
      "[CV] alpha=0.6, l1_ratio=0.8 .........................................\n",
      "[CV]  alpha=0.6, l1_ratio=0.8, score=(train=0.352, test=0.318), total=   0.0s\n",
      "[CV] alpha=0.6, l1_ratio=0.8 .........................................\n",
      "[CV]  alpha=0.6, l1_ratio=0.8, score=(train=0.301, test=0.278), total=   0.0s\n",
      "[CV] alpha=0.6, l1_ratio=0.8 .........................................\n",
      "[CV]  alpha=0.6, l1_ratio=0.8, score=(train=0.309, test=0.303), total=   0.0s\n",
      "[CV] alpha=0.6, l1_ratio=0.8 .........................................\n",
      "[CV]  alpha=0.6, l1_ratio=0.8, score=(train=0.358, test=0.388), total=   0.0s\n",
      "[CV] alpha=0.6, l1_ratio=1.0 .........................................\n",
      "[CV]  alpha=0.6, l1_ratio=1.0, score=(train=0.172, test=0.166), total=   0.0s\n",
      "[CV] alpha=0.6, l1_ratio=1.0 .........................................\n",
      "[CV]  alpha=0.6, l1_ratio=1.0, score=(train=0.164, test=0.159), total=   0.0s\n",
      "[CV] alpha=0.6, l1_ratio=1.0 .........................................\n",
      "[CV]  alpha=0.6, l1_ratio=1.0, score=(train=0.162, test=0.138), total=   0.0s\n",
      "[CV] alpha=0.6, l1_ratio=1.0 .........................................\n",
      "[CV]  alpha=0.6, l1_ratio=1.0, score=(train=0.124, test=0.127), total=   0.0s\n",
      "[CV] alpha=0.6, l1_ratio=1.0 .........................................\n",
      "[CV]  alpha=0.6, l1_ratio=1.0, score=(train=0.194, test=0.198), total=   0.0s\n",
      "[CV] alpha=0.8, l1_ratio=0.2 .........................................\n",
      "[CV]  alpha=0.8, l1_ratio=0.2, score=(train=0.574, test=0.588), total=   0.0s\n",
      "[CV] alpha=0.8, l1_ratio=0.2 .........................................\n",
      "[CV]  alpha=0.8, l1_ratio=0.2, score=(train=0.601, test=0.519), total=   0.0s\n",
      "[CV] alpha=0.8, l1_ratio=0.2 .........................................\n",
      "[CV]  alpha=0.8, l1_ratio=0.2, score=(train=0.565, test=0.583), total=   0.0s\n",
      "[CV] alpha=0.8, l1_ratio=0.2 .........................................\n",
      "[CV]  alpha=0.8, l1_ratio=0.2, score=(train=0.573, test=0.557), total=   0.0s\n",
      "[CV] alpha=0.8, l1_ratio=0.2 .........................................\n",
      "[CV]  alpha=0.8, l1_ratio=0.2, score=(train=0.578, test=0.638), total=   0.0s\n",
      "[CV] alpha=0.8, l1_ratio=0.4 .........................................\n",
      "[CV]  alpha=0.8, l1_ratio=0.4, score=(train=0.468, test=0.475), total=   0.0s\n",
      "[CV] alpha=0.8, l1_ratio=0.4 .........................................\n",
      "[CV]  alpha=0.8, l1_ratio=0.4, score=(train=0.491, test=0.430), total=   0.0s\n",
      "[CV] alpha=0.8, l1_ratio=0.4 .........................................\n",
      "[CV]  alpha=0.8, l1_ratio=0.4, score=(train=0.451, test=0.455), total=   0.0s\n",
      "[CV] alpha=0.8, l1_ratio=0.4 .........................................\n",
      "[CV]  alpha=0.8, l1_ratio=0.4, score=(train=0.458, test=0.445), total=   0.0s\n",
      "[CV] alpha=0.8, l1_ratio=0.4 .........................................\n",
      "[CV]  alpha=0.8, l1_ratio=0.4, score=(train=0.479, test=0.526), total=   0.0s\n",
      "[CV] alpha=0.8, l1_ratio=0.6 .........................................\n"
     ]
    },
    {
     "name": "stdout",
     "output_type": "stream",
     "text": [
      "[CV]  alpha=0.8, l1_ratio=0.6, score=(train=0.307, test=0.306), total=   0.0s\n",
      "[CV] alpha=0.8, l1_ratio=0.6 .........................................\n",
      "[CV]  alpha=0.8, l1_ratio=0.6, score=(train=0.324, test=0.291), total=   0.0s\n",
      "[CV] alpha=0.8, l1_ratio=0.6 .........................................\n",
      "[CV]  alpha=0.8, l1_ratio=0.6, score=(train=0.276, test=0.259), total=   0.0s\n",
      "[CV] alpha=0.8, l1_ratio=0.6 .........................................\n",
      "[CV]  alpha=0.8, l1_ratio=0.6, score=(train=0.284, test=0.277), total=   0.0s\n",
      "[CV] alpha=0.8, l1_ratio=0.6 .........................................\n",
      "[CV]  alpha=0.8, l1_ratio=0.6, score=(train=0.331, test=0.356), total=   0.0s\n",
      "[CV] alpha=0.8, l1_ratio=0.8 .........................................\n",
      "[CV]  alpha=0.8, l1_ratio=0.8, score=(train=0.108, test=0.104), total=   0.0s\n",
      "[CV] alpha=0.8, l1_ratio=0.8 .........................................\n",
      "[CV]  alpha=0.8, l1_ratio=0.8, score=(train=0.088, test=0.087), total=   0.0s\n",
      "[CV] alpha=0.8, l1_ratio=0.8 .........................................\n",
      "[CV]  alpha=0.8, l1_ratio=0.8, score=(train=0.097, test=0.079), total=   0.0s\n",
      "[CV] alpha=0.8, l1_ratio=0.8 .........................................\n",
      "[CV]  alpha=0.8, l1_ratio=0.8, score=(train=0.061, test=0.062), total=   0.0s\n",
      "[CV] alpha=0.8, l1_ratio=0.8 .........................................\n",
      "[CV]  alpha=0.8, l1_ratio=0.8, score=(train=0.125, test=0.117), total=   0.0s\n",
      "[CV] alpha=0.8, l1_ratio=1.0 .........................................\n",
      "[CV]  alpha=0.8, l1_ratio=1.0, score=(train=0.000, test=-0.000), total=   0.0s\n",
      "[CV] alpha=0.8, l1_ratio=1.0 .........................................\n",
      "[CV]  alpha=0.8, l1_ratio=1.0, score=(train=0.000, test=-0.001), total=   0.0s\n",
      "[CV] alpha=0.8, l1_ratio=1.0 .........................................\n",
      "[CV]  alpha=0.8, l1_ratio=1.0, score=(train=0.000, test=-0.009), total=   0.0s\n",
      "[CV] alpha=0.8, l1_ratio=1.0 .........................................\n",
      "[CV]  alpha=0.8, l1_ratio=1.0, score=(train=0.000, test=-0.001), total=   0.0s\n",
      "[CV] alpha=0.8, l1_ratio=1.0 .........................................\n",
      "[CV]  alpha=0.8, l1_ratio=1.0, score=(train=0.000, test=-0.033), total=   0.0s\n",
      "[CV] alpha=1.0, l1_ratio=0.2 .........................................\n",
      "[CV]  alpha=1.0, l1_ratio=0.2, score=(train=0.524, test=0.536), total=   0.0s\n",
      "[CV] alpha=1.0, l1_ratio=0.2 .........................................\n",
      "[CV]  alpha=1.0, l1_ratio=0.2, score=(train=0.549, test=0.477), total=   0.0s\n",
      "[CV] alpha=1.0, l1_ratio=0.2 .........................................\n",
      "[CV]  alpha=1.0, l1_ratio=0.2, score=(train=0.513, test=0.527), total=   0.0s\n",
      "[CV] alpha=1.0, l1_ratio=0.2 .........................................\n",
      "[CV]  alpha=1.0, l1_ratio=0.2, score=(train=0.521, test=0.505), total=   0.0s\n",
      "[CV] alpha=1.0, l1_ratio=0.2 .........................................\n",
      "[CV]  alpha=1.0, l1_ratio=0.2, score=(train=0.531, test=0.584), total=   0.0s\n",
      "[CV] alpha=1.0, l1_ratio=0.4 .........................................\n",
      "[CV]  alpha=1.0, l1_ratio=0.4, score=(train=0.369, test=0.373), total=   0.0s\n",
      "[CV] alpha=1.0, l1_ratio=0.4 .........................................\n",
      "[CV]  alpha=1.0, l1_ratio=0.4, score=(train=0.388, test=0.343), total=   0.0s\n",
      "[CV] alpha=1.0, l1_ratio=0.4 .........................................\n",
      "[CV]  alpha=1.0, l1_ratio=0.4, score=(train=0.347, test=0.343), total=   0.0s\n",
      "[CV] alpha=1.0, l1_ratio=0.4 .........................................\n",
      "[CV]  alpha=1.0, l1_ratio=0.4, score=(train=0.354, test=0.343), total=   0.0s\n",
      "[CV] alpha=1.0, l1_ratio=0.4 .........................................\n",
      "[CV]  alpha=1.0, l1_ratio=0.4, score=(train=0.387, test=0.419), total=   0.0s\n",
      "[CV] alpha=1.0, l1_ratio=0.6 .........................................\n",
      "[CV]  alpha=1.0, l1_ratio=0.6, score=(train=0.130, test=0.126), total=   0.0s\n",
      "[CV] alpha=1.0, l1_ratio=0.6 .........................................\n",
      "[CV]  alpha=1.0, l1_ratio=0.6, score=(train=0.135, test=0.127), total=   0.0s\n",
      "[CV] alpha=1.0, l1_ratio=0.6 .........................................\n",
      "[CV]  alpha=1.0, l1_ratio=0.6, score=(train=0.119, test=0.099), total=   0.0s\n",
      "[CV] alpha=1.0, l1_ratio=0.6 .........................................\n",
      "[CV]  alpha=1.0, l1_ratio=0.6, score=(train=0.094, test=0.094), total=   0.0s\n",
      "[CV] alpha=1.0, l1_ratio=0.6 .........................................\n",
      "[CV]  alpha=1.0, l1_ratio=0.6, score=(train=0.162, test=0.159), total=   0.0s\n",
      "[CV] alpha=1.0, l1_ratio=0.8 .........................................\n",
      "[CV]  alpha=1.0, l1_ratio=0.8, score=(train=0.000, test=-0.000), total=   0.0s\n",
      "[CV] alpha=1.0, l1_ratio=0.8 .........................................\n",
      "[CV]  alpha=1.0, l1_ratio=0.8, score=(train=0.000, test=-0.001), total=   0.0s\n",
      "[CV] alpha=1.0, l1_ratio=0.8 .........................................\n",
      "[CV]  alpha=1.0, l1_ratio=0.8, score=(train=0.000, test=-0.009), total=   0.0s\n",
      "[CV] alpha=1.0, l1_ratio=0.8 .........................................\n",
      "[CV]  alpha=1.0, l1_ratio=0.8, score=(train=0.000, test=-0.001), total=   0.0s\n",
      "[CV] alpha=1.0, l1_ratio=0.8 .........................................\n",
      "[CV]  alpha=1.0, l1_ratio=0.8, score=(train=0.000, test=-0.033), total=   0.0s\n",
      "[CV] alpha=1.0, l1_ratio=1.0 .........................................\n",
      "[CV]  alpha=1.0, l1_ratio=1.0, score=(train=0.000, test=-0.000), total=   0.0s\n",
      "[CV] alpha=1.0, l1_ratio=1.0 .........................................\n",
      "[CV]  alpha=1.0, l1_ratio=1.0, score=(train=0.000, test=-0.001), total=   0.0s\n",
      "[CV] alpha=1.0, l1_ratio=1.0 .........................................\n",
      "[CV]  alpha=1.0, l1_ratio=1.0, score=(train=0.000, test=-0.009), total=   0.0s\n",
      "[CV] alpha=1.0, l1_ratio=1.0 .........................................\n",
      "[CV]  alpha=1.0, l1_ratio=1.0, score=(train=0.000, test=-0.001), total=   0.0s\n",
      "[CV] alpha=1.0, l1_ratio=1.0 .........................................\n",
      "[CV]  alpha=1.0, l1_ratio=1.0, score=(train=0.000, test=-0.033), total=   0.0s\n"
     ]
    },
    {
     "name": "stderr",
     "output_type": "stream",
     "text": [
      "[Parallel(n_jobs=1)]: Done 125 out of 125 | elapsed:    0.9s finished\n"
     ]
    },
    {
     "data": {
      "text/plain": [
       "GridSearchCV(cv=5, error_score=nan,\n",
       "             estimator=ElasticNet(alpha=1.0, copy_X=True, fit_intercept=True,\n",
       "                                  l1_ratio=0.5, max_iter=10000, normalize=False,\n",
       "                                  positive=False, precompute=False,\n",
       "                                  random_state=None, selection='cyclic',\n",
       "                                  tol=0.0001, warm_start=False),\n",
       "             iid='deprecated', n_jobs=None,\n",
       "             param_grid={'alpha': [0.2, 0.4, 0.6, 0.8, 1.0],\n",
       "                         'l1_ratio': [0.2, 0.4, 0.6, 0.8, 1.0]},\n",
       "             pre_dispatch='2*n_jobs', refit=True, return_train_score=True,\n",
       "             scoring='r2', verbose=10)"
      ]
     },
     "execution_count": 60,
     "metadata": {},
     "output_type": "execute_result"
    }
   ],
   "source": [
    "# Elasticnet\n",
    "# build elasticnet using sklearn\n",
    "from sklearn.linear_model import ElasticNet\n",
    "# initialize ElasticNet\n",
    "EN = ElasticNet(fit_intercept=True, normalize=False,\n",
    "              max_iter=10000)\n",
    "# apply cross validation\n",
    "from sklearn.model_selection import GridSearchCV\n",
    "params = {\"alpha\": [0.2,0.4,0.6,0.8,1.0],\n",
    "          \"l1_ratio\": [0.2,0.4,0.6,0.8,1.0]}\n",
    "CV4 = GridSearchCV(estimator = EN, scoring='r2',cv=5,refit=True,\n",
    "                  return_train_score=True,param_grid=params,verbose=10)\n",
    "# apply linear model\n",
    "CV4.fit(X_train_final, Y_train_SS)"
   ]
  },
  {
   "cell_type": "code",
   "execution_count": 61,
   "metadata": {},
   "outputs": [
    {
     "name": "stdout",
     "output_type": "stream",
     "text": [
      "ElasticNet(alpha=0.2, copy_X=True, fit_intercept=True, l1_ratio=0.2,\n",
      "           max_iter=10000, normalize=False, positive=False, precompute=False,\n",
      "           random_state=None, selection='cyclic', tol=0.0001, warm_start=False)\n",
      "[ 0.27463224  0.38907617  0.24822668 -0.          0.         -0.\n",
      " -0.         -0.          0.          0.          0.         -0.\n",
      "  0.         -0.         -0.         -0.         -0.         -0.\n",
      " -0.          0.          0.         -0.         -0.         -0.\n",
      " -0.          0.          0.          0.          0.        ]\n"
     ]
    }
   ],
   "source": [
    "print(CV4.best_estimator_)\n",
    "print(CV4.best_estimator_.coef_)"
   ]
  },
  {
   "cell_type": "code",
   "execution_count": 62,
   "metadata": {},
   "outputs": [
    {
     "name": "stdout",
     "output_type": "stream",
     "text": [
      "0.69923101773848\n"
     ]
    }
   ],
   "source": [
    "print(CV4.best_score_)"
   ]
  },
  {
   "cell_type": "code",
   "execution_count": 63,
   "metadata": {},
   "outputs": [],
   "source": [
    "CV4Results = pd.DataFrame(CV4.cv_results_)\n",
    "CV4Results.to_excel('CV4Results_Elasticnet.xlsx')"
   ]
  },
  {
   "cell_type": "code",
   "execution_count": 65,
   "metadata": {},
   "outputs": [
    {
     "name": "stdout",
     "output_type": "stream",
     "text": [
      "(1168, 1)\n",
      "(1168,)\n",
      "(1168, 1)\n"
     ]
    }
   ],
   "source": [
    "# draw histogram of errors\n",
    "train_predict4 = CV4.predict(X_train_final)\n",
    "train_predict4.resize(len(train_predict4),1)\n",
    "print(train_predict4.shape)\n",
    "print(Y_train.SalePrice.shape)\n",
    "Error4 = train_predict4 - Y_train_SS\n",
    "print(Error4.shape)"
   ]
  },
  {
   "cell_type": "code",
   "execution_count": 66,
   "metadata": {},
   "outputs": [
    {
     "data": {
      "image/png": "[encoded data removed]",
      "text/plain": [
       "<Figure size 432x288 with 1 Axes>"
      ]
     },
     "metadata": {
      "needs_background": "light"
     },
     "output_type": "display_data"
    }
   ],
   "source": [
    "# plot error vs predicted\n",
    "plt.scatter(train_predict4,Error4)\n",
    "plt.show()"
   ]
  },
  {
   "cell_type": "code",
   "execution_count": 67,
   "metadata": {},
   "outputs": [
    {
     "name": "stdout",
     "output_type": "stream",
     "text": [
      "0.5096553977603134\n"
     ]
    }
   ],
   "source": [
    "# R square on test\n",
    "print(CV4.score(X_test_final, Y_test_SS))"
   ]
  },
  {
   "cell_type": "code",
   "execution_count": null,
   "metadata": {},
   "outputs": [],
   "source": []
  }
 ],
 "metadata": {
  "kernelspec": {
   "display_name": "Python 3 (ipykernel)",
   "language": "python",
   "name": "python3"
  },
  "language_info": {
   "codemirror_mode": {
    "name": "ipython",
    "version": 3
   },
   "file_extension": ".py",
   "mimetype": "text/x-python",
   "name": "python",
   "nbconvert_exporter": "python",
   "pygments_lexer": "ipython3",
   "version": "3.9.12"
  }
 },
 "nbformat": 4,
 "nbformat_minor": 2
}
