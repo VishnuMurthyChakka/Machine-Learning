{
 "cells": [
  {
   "cell_type": "code",
   "execution_count": 16,
   "metadata": {},
   "outputs": [
    {
     "name": "stdout",
     "output_type": "stream",
     "text": [
      "C:\\Digital Nest\\Logistic Regression\n",
      "C:\\Digital Nest\\Logistic Regression\n"
     ]
    }
   ],
   "source": [
    "import numpy as np\n",
    "import pandas as pd\n",
    "import matplotlib.pyplot as plt\n",
    "from collections import Counter\n",
    "import os\n",
    "print (os.getcwd())\n",
    "os.chdir(\"C://Digital Nest/Logistic Regression\")\n",
    "print (os.getcwd())"
   ]
  },
  {
   "cell_type": "code",
   "execution_count": 2,
   "metadata": {},
   "outputs": [
    {
     "data": {
      "text/html": [
       "<div>\n",
       "<style scoped>\n",
       "    .dataframe tbody tr th:only-of-type {\n",
       "        vertical-align: middle;\n",
       "    }\n",
       "\n",
       "    .dataframe tbody tr th {\n",
       "        vertical-align: top;\n",
       "    }\n",
       "\n",
       "    .dataframe thead th {\n",
       "        text-align: right;\n",
       "    }\n",
       "</style>\n",
       "<table border=\"1\" class=\"dataframe\">\n",
       "  <thead>\n",
       "    <tr style=\"text-align: right;\">\n",
       "      <th></th>\n",
       "      <th>AccountLength</th>\n",
       "      <th>VMailMessage</th>\n",
       "      <th>DayMins</th>\n",
       "      <th>EveMins</th>\n",
       "      <th>NightMins</th>\n",
       "      <th>IntlMins</th>\n",
       "      <th>CustServCalls</th>\n",
       "      <th>Churn</th>\n",
       "      <th>IntlPlan</th>\n",
       "      <th>VMailPlan</th>\n",
       "      <th>...</th>\n",
       "      <th>DayCharge</th>\n",
       "      <th>EveCalls</th>\n",
       "      <th>EveCharge</th>\n",
       "      <th>NightCalls</th>\n",
       "      <th>NightCharge</th>\n",
       "      <th>IntlCalls</th>\n",
       "      <th>IntlCharge</th>\n",
       "      <th>State</th>\n",
       "      <th>AreaCode</th>\n",
       "      <th>Phone</th>\n",
       "    </tr>\n",
       "  </thead>\n",
       "  <tbody>\n",
       "    <tr>\n",
       "      <th>0</th>\n",
       "      <td>128</td>\n",
       "      <td>25</td>\n",
       "      <td>265.1</td>\n",
       "      <td>197.4</td>\n",
       "      <td>244.7</td>\n",
       "      <td>10.0</td>\n",
       "      <td>1</td>\n",
       "      <td>0</td>\n",
       "      <td>0</td>\n",
       "      <td>1</td>\n",
       "      <td>...</td>\n",
       "      <td>45.07</td>\n",
       "      <td>99</td>\n",
       "      <td>16.78</td>\n",
       "      <td>91</td>\n",
       "      <td>11.01</td>\n",
       "      <td>3</td>\n",
       "      <td>2.70</td>\n",
       "      <td>KS</td>\n",
       "      <td>415</td>\n",
       "      <td>382-4657</td>\n",
       "    </tr>\n",
       "    <tr>\n",
       "      <th>1</th>\n",
       "      <td>107</td>\n",
       "      <td>26</td>\n",
       "      <td>161.6</td>\n",
       "      <td>195.5</td>\n",
       "      <td>254.4</td>\n",
       "      <td>13.7</td>\n",
       "      <td>1</td>\n",
       "      <td>0</td>\n",
       "      <td>0</td>\n",
       "      <td>1</td>\n",
       "      <td>...</td>\n",
       "      <td>27.47</td>\n",
       "      <td>103</td>\n",
       "      <td>16.62</td>\n",
       "      <td>103</td>\n",
       "      <td>11.45</td>\n",
       "      <td>3</td>\n",
       "      <td>3.70</td>\n",
       "      <td>OH</td>\n",
       "      <td>415</td>\n",
       "      <td>371-7191</td>\n",
       "    </tr>\n",
       "    <tr>\n",
       "      <th>2</th>\n",
       "      <td>137</td>\n",
       "      <td>0</td>\n",
       "      <td>243.4</td>\n",
       "      <td>121.2</td>\n",
       "      <td>162.6</td>\n",
       "      <td>12.2</td>\n",
       "      <td>0</td>\n",
       "      <td>0</td>\n",
       "      <td>0</td>\n",
       "      <td>0</td>\n",
       "      <td>...</td>\n",
       "      <td>41.38</td>\n",
       "      <td>110</td>\n",
       "      <td>10.30</td>\n",
       "      <td>104</td>\n",
       "      <td>7.32</td>\n",
       "      <td>5</td>\n",
       "      <td>3.29</td>\n",
       "      <td>NJ</td>\n",
       "      <td>415</td>\n",
       "      <td>358-1921</td>\n",
       "    </tr>\n",
       "    <tr>\n",
       "      <th>3</th>\n",
       "      <td>84</td>\n",
       "      <td>0</td>\n",
       "      <td>299.4</td>\n",
       "      <td>61.9</td>\n",
       "      <td>196.9</td>\n",
       "      <td>6.6</td>\n",
       "      <td>2</td>\n",
       "      <td>0</td>\n",
       "      <td>1</td>\n",
       "      <td>0</td>\n",
       "      <td>...</td>\n",
       "      <td>50.90</td>\n",
       "      <td>88</td>\n",
       "      <td>5.26</td>\n",
       "      <td>89</td>\n",
       "      <td>8.86</td>\n",
       "      <td>7</td>\n",
       "      <td>1.78</td>\n",
       "      <td>OH</td>\n",
       "      <td>408</td>\n",
       "      <td>375-9999</td>\n",
       "    </tr>\n",
       "    <tr>\n",
       "      <th>4</th>\n",
       "      <td>75</td>\n",
       "      <td>0</td>\n",
       "      <td>166.7</td>\n",
       "      <td>148.3</td>\n",
       "      <td>186.9</td>\n",
       "      <td>10.1</td>\n",
       "      <td>3</td>\n",
       "      <td>0</td>\n",
       "      <td>1</td>\n",
       "      <td>0</td>\n",
       "      <td>...</td>\n",
       "      <td>28.34</td>\n",
       "      <td>122</td>\n",
       "      <td>12.61</td>\n",
       "      <td>121</td>\n",
       "      <td>8.41</td>\n",
       "      <td>3</td>\n",
       "      <td>2.73</td>\n",
       "      <td>OK</td>\n",
       "      <td>415</td>\n",
       "      <td>330-6626</td>\n",
       "    </tr>\n",
       "  </tbody>\n",
       "</table>\n",
       "<p>5 rows × 21 columns</p>\n",
       "</div>"
      ],
      "text/plain": [
       "   AccountLength  VMailMessage  DayMins  EveMins  NightMins  IntlMins  \\\n",
       "0            128            25    265.1    197.4      244.7      10.0   \n",
       "1            107            26    161.6    195.5      254.4      13.7   \n",
       "2            137             0    243.4    121.2      162.6      12.2   \n",
       "3             84             0    299.4     61.9      196.9       6.6   \n",
       "4             75             0    166.7    148.3      186.9      10.1   \n",
       "\n",
       "   CustServCalls  Churn  IntlPlan  VMailPlan  ...  DayCharge  EveCalls  \\\n",
       "0              1      0         0          1  ...      45.07        99   \n",
       "1              1      0         0          1  ...      27.47       103   \n",
       "2              0      0         0          0  ...      41.38       110   \n",
       "3              2      0         1          0  ...      50.90        88   \n",
       "4              3      0         1          0  ...      28.34       122   \n",
       "\n",
       "   EveCharge  NightCalls  NightCharge  IntlCalls  IntlCharge  State AreaCode  \\\n",
       "0      16.78          91        11.01          3        2.70     KS      415   \n",
       "1      16.62         103        11.45          3        3.70     OH      415   \n",
       "2      10.30         104         7.32          5        3.29     NJ      415   \n",
       "3       5.26          89         8.86          7        1.78     OH      408   \n",
       "4      12.61         121         8.41          3        2.73     OK      415   \n",
       "\n",
       "      Phone  \n",
       "0  382-4657  \n",
       "1  371-7191  \n",
       "2  358-1921  \n",
       "3  375-9999  \n",
       "4  330-6626  \n",
       "\n",
       "[5 rows x 21 columns]"
      ]
     },
     "execution_count": 2,
     "metadata": {},
     "output_type": "execute_result"
    }
   ],
   "source": [
    "churn = pd.read_csv('Churn.csv')\n",
    "churn.head()"
   ]
  },
  {
   "cell_type": "code",
   "execution_count": 3,
   "metadata": {},
   "outputs": [
    {
     "name": "stdout",
     "output_type": "stream",
     "text": [
      "(3333, 21)\n",
      "['AccountLength' 'VMailMessage' 'DayMins' 'EveMins' 'NightMins' 'IntlMins'\n",
      " 'CustServCalls' 'Churn' 'IntlPlan' 'VMailPlan' 'DayCalls' 'DayCharge'\n",
      " 'EveCalls' 'EveCharge' 'NightCalls' 'NightCharge' 'IntlCalls'\n",
      " 'IntlCharge' 'State' 'AreaCode' 'Phone']\n"
     ]
    }
   ],
   "source": [
    "print(churn.shape)\n",
    "print(churn.columns.values)"
   ]
  },
  {
   "cell_type": "code",
   "execution_count": 4,
   "metadata": {},
   "outputs": [
    {
     "data": {
      "text/plain": [
       "AccountLength    0\n",
       "VMailMessage     0\n",
       "DayMins          0\n",
       "EveMins          0\n",
       "NightMins        0\n",
       "IntlMins         0\n",
       "CustServCalls    0\n",
       "Churn            0\n",
       "IntlPlan         0\n",
       "VMailPlan        0\n",
       "DayCalls         0\n",
       "DayCharge        0\n",
       "EveCalls         0\n",
       "EveCharge        0\n",
       "NightCalls       0\n",
       "NightCharge      0\n",
       "IntlCalls        0\n",
       "IntlCharge       0\n",
       "State            0\n",
       "AreaCode         0\n",
       "Phone            0\n",
       "dtype: int64"
      ]
     },
     "execution_count": 4,
     "metadata": {},
     "output_type": "execute_result"
    }
   ],
   "source": [
    "churn.isnull().sum()"
   ]
  },
  {
   "cell_type": "code",
   "execution_count": 5,
   "metadata": {},
   "outputs": [
    {
     "name": "stdout",
     "output_type": "stream",
     "text": [
      "count    3333.000000\n",
      "mean      101.064806\n",
      "std        39.822106\n",
      "min         1.000000\n",
      "25%        74.000000\n",
      "50%       101.000000\n",
      "75%       127.000000\n",
      "max       243.000000\n",
      "Name: AccountLength, dtype: float64\n"
     ]
    }
   ],
   "source": [
    "print(churn.AccountLength.describe())"
   ]
  },
  {
   "cell_type": "code",
   "execution_count": 6,
   "metadata": {},
   "outputs": [
    {
     "data": {
      "image/png": "[encoded data removed]",
      "text/plain": [
       "<Figure size 432x288 with 1 Axes>"
      ]
     },
     "metadata": {
      "needs_background": "light"
     },
     "output_type": "display_data"
    }
   ],
   "source": [
    "plt.hist(churn.AccountLength,bins=50)\n",
    "plt.show()"
   ]
  },
  {
   "cell_type": "code",
   "execution_count": 7,
   "metadata": {},
   "outputs": [
    {
     "name": "stdout",
     "output_type": "stream",
     "text": [
      "count    3333.000000\n",
      "mean        8.099010\n",
      "std        13.688365\n",
      "min         0.000000\n",
      "25%         0.000000\n",
      "50%         0.000000\n",
      "75%        20.000000\n",
      "max        51.000000\n",
      "Name: VMailMessage, dtype: float64\n"
     ]
    }
   ],
   "source": [
    "print(churn.VMailMessage.describe())"
   ]
  },
  {
   "cell_type": "code",
   "execution_count": 8,
   "metadata": {},
   "outputs": [
    {
     "data": {
      "image/png": "[encoded data removed]",
      "text/plain": [
       "<Figure size 432x288 with 1 Axes>"
      ]
     },
     "metadata": {
      "needs_background": "light"
     },
     "output_type": "display_data"
    }
   ],
   "source": [
    "plt.hist(churn.VMailMessage,bins=10)\n",
    "plt.show()"
   ]
  },
  {
   "cell_type": "code",
   "execution_count": 9,
   "metadata": {},
   "outputs": [
    {
     "data": {
      "text/plain": [
       "(2411,)"
      ]
     },
     "execution_count": 9,
     "metadata": {},
     "output_type": "execute_result"
    }
   ],
   "source": [
    "# count of people who have not used voice message\n",
    "churn.VMailMessage[churn.VMailMessage==0].shape"
   ]
  },
  {
   "cell_type": "code",
   "execution_count": 10,
   "metadata": {},
   "outputs": [
    {
     "data": {
      "text/plain": [
       "count    3333.000000\n",
       "mean      179.775098\n",
       "std        54.467389\n",
       "min         0.000000\n",
       "25%       143.700000\n",
       "50%       179.400000\n",
       "75%       216.400000\n",
       "max       350.800000\n",
       "Name: DayMins, dtype: float64"
      ]
     },
     "execution_count": 10,
     "metadata": {},
     "output_type": "execute_result"
    }
   ],
   "source": [
    "churn.DayMins.describe()"
   ]
  },
  {
   "cell_type": "code",
   "execution_count": 11,
   "metadata": {},
   "outputs": [
    {
     "data": {
      "image/png": "[encoded data removed]",
      "text/plain": [
       "<Figure size 432x288 with 1 Axes>"
      ]
     },
     "metadata": {
      "needs_background": "light"
     },
     "output_type": "display_data"
    }
   ],
   "source": [
    "plt.hist(churn.DayMins,bins=25)\n",
    "plt.show()"
   ]
  },
  {
   "cell_type": "code",
   "execution_count": 12,
   "metadata": {},
   "outputs": [
    {
     "data": {
      "image/png": "[encoded data removed]",
      "text/plain": [
       "<Figure size 432x288 with 1 Axes>"
      ]
     },
     "metadata": {
      "needs_background": "light"
     },
     "output_type": "display_data"
    }
   ],
   "source": [
    "plt.hist(churn.EveMins,bins=25)\n",
    "plt.show()"
   ]
  },
  {
   "cell_type": "code",
   "execution_count": 13,
   "metadata": {},
   "outputs": [
    {
     "data": {
      "image/png": "[encoded data removed]",
      "text/plain": [
       "<Figure size 432x288 with 1 Axes>"
      ]
     },
     "metadata": {
      "needs_background": "light"
     },
     "output_type": "display_data"
    }
   ],
   "source": [
    "plt.hist(churn.IntlMins,bins=25)\n",
    "plt.show()"
   ]
  },
  {
   "cell_type": "code",
   "execution_count": 14,
   "metadata": {},
   "outputs": [
    {
     "data": {
      "image/png": "[encoded data removed]",
      "text/plain": [
       "<Figure size 432x288 with 1 Axes>"
      ]
     },
     "metadata": {
      "needs_background": "light"
     },
     "output_type": "display_data"
    }
   ],
   "source": [
    "plt.hist(churn.CustServCalls,bins=25)\n",
    "plt.show()"
   ]
  },
  {
   "cell_type": "code",
   "execution_count": 26,
   "metadata": {},
   "outputs": [
    {
     "name": "stdout",
     "output_type": "stream",
     "text": [
      "Counter({0: 2850, 1: 483})\n"
     ]
    }
   ],
   "source": [
    "churncount = Counter(churn.Churn)\n",
    "print(churncount)"
   ]
  },
  {
   "cell_type": "code",
   "execution_count": 28,
   "metadata": {},
   "outputs": [
    {
     "data": {
      "text/plain": [
       "(3333, 21)"
      ]
     },
     "execution_count": 28,
     "metadata": {},
     "output_type": "execute_result"
    }
   ],
   "source": [
    "churn.shape"
   ]
  },
  {
   "cell_type": "code",
   "execution_count": 27,
   "metadata": {},
   "outputs": [
    {
     "name": "stdout",
     "output_type": "stream",
     "text": [
      "0.8550855085508551\n",
      "0.14491449144914492\n"
     ]
    }
   ],
   "source": [
    "print(churncount.get(0)/churn.shape[0])\n",
    "print(churncount.get(1)/churn.shape[0])"
   ]
  },
  {
   "cell_type": "code",
   "execution_count": 29,
   "metadata": {},
   "outputs": [
    {
     "name": "stdout",
     "output_type": "stream",
     "text": [
      "Counter({0: 3010, 1: 323})\n",
      "0.903090309030903\n",
      "0.0969096909690969\n"
     ]
    }
   ],
   "source": [
    "intplncount = Counter(churn.IntlPlan)\n",
    "print(intplncount)\n",
    "print(intplncount.get(0)/churn.shape[0])\n",
    "print(intplncount.get(1)/churn.shape[0])"
   ]
  },
  {
   "cell_type": "code",
   "execution_count": 32,
   "metadata": {},
   "outputs": [
    {
     "data": {
      "image/png": "[encoded data removed]",
      "text/plain": [
       "<Figure size 432x288 with 1 Axes>"
      ]
     },
     "metadata": {
      "needs_background": "light"
     },
     "output_type": "display_data"
    }
   ],
   "source": [
    "plt.hist(churn.IntlCalls,bins=20)\n",
    "plt.show()"
   ]
  },
  {
   "cell_type": "code",
   "execution_count": 36,
   "metadata": {},
   "outputs": [
    {
     "name": "stdout",
     "output_type": "stream",
     "text": [
      "Counter({'WV': 106, 'MN': 84, 'NY': 83, 'AL': 80, 'OH': 78, 'WI': 78, 'OR': 78, 'VA': 77, 'WY': 77, 'CT': 74, 'ID': 73, 'VT': 73, 'MI': 73, 'TX': 72, 'UT': 72, 'IN': 71, 'KS': 70, 'MD': 70, 'NJ': 68, 'MT': 68, 'NC': 68, 'CO': 66, 'WA': 66, 'NV': 66, 'MA': 65, 'RI': 65, 'MS': 65, 'AZ': 64, 'MO': 63, 'FL': 63, 'NM': 62, 'ME': 62, 'ND': 62, 'OK': 61, 'NE': 61, 'DE': 61, 'SC': 60, 'SD': 60, 'KY': 59, 'IL': 58, 'NH': 56, 'AR': 55, 'GA': 54, 'DC': 54, 'HI': 53, 'TN': 53, 'AK': 52, 'LA': 51, 'PA': 45, 'IA': 44, 'CA': 34})\n",
      "51\n"
     ]
    }
   ],
   "source": [
    "print(Counter(churn.State))\n",
    "print(len(Counter(churn.State)))"
   ]
  },
  {
   "cell_type": "code",
   "execution_count": 35,
   "metadata": {},
   "outputs": [
    {
     "data": {
      "text/plain": [
       "Counter({415: 1655, 408: 838, 510: 840})"
      ]
     },
     "execution_count": 35,
     "metadata": {},
     "output_type": "execute_result"
    }
   ],
   "source": [
    "Counter(churn.AreaCode)"
   ]
  },
  {
   "cell_type": "code",
   "execution_count": 38,
   "metadata": {},
   "outputs": [
    {
     "name": "stdout",
     "output_type": "stream",
     "text": [
      "Churn        0    1\n",
      "AreaCode           \n",
      "408        716  122\n",
      "415       1419  236\n",
      "510        715  125\n",
      "dof:  2\n",
      "chisquare:  0.17754069117425395\n",
      "p:  0.9150556960243712\n",
      "expected:  [[ 716.56165617  121.43834383]\n",
      " [1415.16651665  239.83348335]\n",
      " [ 718.27182718  121.72817282]]\n"
     ]
    }
   ],
   "source": [
    "# apply chi square between area code and churn\n",
    "table = pd.crosstab(churn.AreaCode,churn.Churn)\n",
    "print(table)\n",
    "from scipy.stats import chi2_contingency\n",
    "from scipy.stats import chi2\n",
    "chisquare, p, dof, expected = chi2_contingency(table)\n",
    "print('dof: ', dof)\n",
    "print('chisquare: ', chisquare)\n",
    "print('p: ' , p)\n",
    "print('expected: ', expected)"
   ]
  },
  {
   "cell_type": "code",
   "execution_count": 39,
   "metadata": {},
   "outputs": [
    {
     "name": "stdout",
     "output_type": "stream",
     "text": [
      "Churn   0   1\n",
      "State        \n",
      "AK     49   3\n",
      "AL     72   8\n",
      "AR     44  11\n",
      "AZ     60   4\n",
      "CA     25   9\n",
      "CO     57   9\n",
      "CT     62  12\n",
      "DC     49   5\n",
      "DE     52   9\n",
      "FL     55   8\n",
      "GA     46   8\n",
      "HI     50   3\n",
      "IA     41   3\n",
      "ID     64   9\n",
      "IL     53   5\n",
      "IN     62   9\n",
      "KS     57  13\n",
      "KY     51   8\n",
      "LA     47   4\n",
      "MA     54  11\n",
      "MD     53  17\n",
      "ME     49  13\n",
      "MI     57  16\n",
      "MN     69  15\n",
      "MO     56   7\n",
      "MS     51  14\n",
      "MT     54  14\n",
      "NC     57  11\n",
      "ND     56   6\n",
      "NE     56   5\n",
      "NH     47   9\n",
      "NJ     50  18\n",
      "NM     56   6\n",
      "NV     52  14\n",
      "NY     68  15\n",
      "OH     68  10\n",
      "OK     52   9\n",
      "OR     67  11\n",
      "PA     37   8\n",
      "RI     59   6\n",
      "SC     46  14\n",
      "SD     52   8\n",
      "TN     48   5\n",
      "TX     54  18\n",
      "UT     62  10\n",
      "VA     72   5\n",
      "VT     65   8\n",
      "WA     52  14\n",
      "WI     71   7\n",
      "WV     96  10\n",
      "WY     68   9\n",
      "dof:  50\n",
      "chisquare:  83.04379191019663\n",
      "p:  0.002296221552011188\n"
     ]
    }
   ],
   "source": [
    "# apply chi square between state and churn\n",
    "table = pd.crosstab(churn.State,churn.Churn)\n",
    "print(table)\n",
    "from scipy.stats import chi2_contingency\n",
    "from scipy.stats import chi2\n",
    "chisquare, p, dof, expected = chi2_contingency(table)\n",
    "print('dof: ', dof)\n",
    "print('chisquare: ', chisquare)\n",
    "print('p: ' , p)"
   ]
  },
  {
   "cell_type": "code",
   "execution_count": 40,
   "metadata": {},
   "outputs": [
    {
     "name": "stdout",
     "output_type": "stream",
     "text": [
      "Churn        0    1\n",
      "IntlPlan           \n",
      "0         2664  346\n",
      "1          186  137\n",
      "dof:  1\n",
      "chisquare:  222.5657566499376\n",
      "p:  2.4931077033159556e-50\n"
     ]
    }
   ],
   "source": [
    "# apply chi square between international plan and churn\n",
    "table = pd.crosstab(churn.IntlPlan,churn.Churn)\n",
    "print(table)\n",
    "from scipy.stats import chi2_contingency\n",
    "from scipy.stats import chi2\n",
    "chisquare, p, dof, expected = chi2_contingency(table)\n",
    "print('dof: ', dof)\n",
    "print('chisquare: ', chisquare)\n",
    "print('p: ' , p)"
   ]
  },
  {
   "cell_type": "code",
   "execution_count": 41,
   "metadata": {},
   "outputs": [
    {
     "name": "stdout",
     "output_type": "stream",
     "text": [
      "Churn         0    1\n",
      "VMailPlan           \n",
      "0          2008  403\n",
      "1           842   80\n",
      "dof:  1\n",
      "chisquare:  34.13166001075673\n",
      "p:  5.15063965903898e-09\n"
     ]
    }
   ],
   "source": [
    "# apply chi square between vmail plan and churn\n",
    "table = pd.crosstab(churn.VMailPlan,churn.Churn)\n",
    "print(table)\n",
    "from scipy.stats import chi2_contingency\n",
    "from scipy.stats import chi2\n",
    "chisquare, p, dof, expected = chi2_contingency(table)\n",
    "print('dof: ', dof)\n",
    "print('chisquare: ', chisquare)\n",
    "print('p: ' , p)"
   ]
  },
  {
   "cell_type": "code",
   "execution_count": 42,
   "metadata": {},
   "outputs": [
    {
     "data": {
      "image/png": "[encoded data removed]",
      "text/plain": [
       "<Figure size 432x288 with 1 Axes>"
      ]
     },
     "metadata": {
      "needs_background": "light"
     },
     "output_type": "display_data"
    }
   ],
   "source": [
    "# DayMins vs Churn\n",
    "plt.scatter(churn.DayMins,churn.Churn)\n",
    "plt.show()"
   ]
  },
  {
   "cell_type": "code",
   "execution_count": 25,
   "metadata": {},
   "outputs": [
    {
     "data": {
      "image/png": "[encoded data removed]",
      "text/plain": [
       "<Figure size 432x288 with 1 Axes>"
      ]
     },
     "metadata": {
      "needs_background": "light"
     },
     "output_type": "display_data"
    }
   ],
   "source": [
    "# EveMins vs Churn\n",
    "plt.scatter(churn.EveMins,churn.Churn)\n",
    "plt.show()"
   ]
  },
  {
   "cell_type": "code",
   "execution_count": 26,
   "metadata": {},
   "outputs": [
    {
     "data": {
      "image/png": "[encoded data removed]",
      "text/plain": [
       "<Figure size 432x288 with 1 Axes>"
      ]
     },
     "metadata": {
      "needs_background": "light"
     },
     "output_type": "display_data"
    }
   ],
   "source": [
    "# NightMins vs Churn\n",
    "plt.scatter(churn.NightMins,churn.Churn)\n",
    "plt.show()"
   ]
  },
  {
   "cell_type": "code",
   "execution_count": 27,
   "metadata": {},
   "outputs": [
    {
     "data": {
      "image/png": "[encoded data removed]",
      "text/plain": [
       "<Figure size 432x288 with 1 Axes>"
      ]
     },
     "metadata": {
      "needs_background": "light"
     },
     "output_type": "display_data"
    }
   ],
   "source": [
    "# IntlMins vs Churn\n",
    "plt.scatter(churn.IntlMins,churn.Churn)\n",
    "plt.show()"
   ]
  },
  {
   "cell_type": "code",
   "execution_count": 28,
   "metadata": {},
   "outputs": [
    {
     "data": {
      "image/png": "[encoded data removed]",
      "text/plain": [
       "<Figure size 432x288 with 1 Axes>"
      ]
     },
     "metadata": {
      "needs_background": "light"
     },
     "output_type": "display_data"
    }
   ],
   "source": [
    "# customer service calls vs Churn\n",
    "plt.scatter(churn.CustServCalls,churn.Churn)\n",
    "plt.show()"
   ]
  },
  {
   "cell_type": "code",
   "execution_count": 29,
   "metadata": {},
   "outputs": [
    {
     "data": {
      "image/png": "[encoded data removed]",
      "text/plain": [
       "<Figure size 432x288 with 1 Axes>"
      ]
     },
     "metadata": {
      "needs_background": "light"
     },
     "output_type": "display_data"
    }
   ],
   "source": [
    "# account length vs Churn\n",
    "plt.scatter(churn.AccountLength,churn.Churn)\n",
    "plt.show()"
   ]
  },
  {
   "cell_type": "code",
   "execution_count": 43,
   "metadata": {},
   "outputs": [
    {
     "data": {
      "text/plain": [
       "array([[1.        , 0.99999995],\n",
       "       [0.99999995, 1.        ]])"
      ]
     },
     "execution_count": 43,
     "metadata": {},
     "output_type": "execute_result"
    }
   ],
   "source": [
    "# find out corrleation between day charge and day minutes\n",
    "np.corrcoef(churn.DayMins,churn.DayCharge)"
   ]
  },
  {
   "cell_type": "code",
   "execution_count": 44,
   "metadata": {},
   "outputs": [
    {
     "data": {
      "text/plain": [
       "array([[1.        , 0.99999978],\n",
       "       [0.99999978, 1.        ]])"
      ]
     },
     "execution_count": 44,
     "metadata": {},
     "output_type": "execute_result"
    }
   ],
   "source": [
    "np.corrcoef(churn.EveMins,churn.EveCharge)"
   ]
  },
  {
   "cell_type": "code",
   "execution_count": 45,
   "metadata": {},
   "outputs": [
    {
     "data": {
      "text/plain": [
       "array([[1.        , 0.99999921],\n",
       "       [0.99999921, 1.        ]])"
      ]
     },
     "execution_count": 45,
     "metadata": {},
     "output_type": "execute_result"
    }
   ],
   "source": [
    "np.corrcoef(churn.NightMins,churn.NightCharge)"
   ]
  },
  {
   "cell_type": "code",
   "execution_count": 46,
   "metadata": {},
   "outputs": [
    {
     "data": {
      "text/plain": [
       "array([[1.        , 0.99999274],\n",
       "       [0.99999274, 1.        ]])"
      ]
     },
     "execution_count": 46,
     "metadata": {},
     "output_type": "execute_result"
    }
   ],
   "source": [
    "np.corrcoef(churn.IntlMins,churn.IntlCharge)"
   ]
  },
  {
   "cell_type": "code",
   "execution_count": 47,
   "metadata": {},
   "outputs": [
    {
     "data": {
      "text/plain": [
       "array([[1.        , 0.00675296],\n",
       "       [0.00675296, 1.        ]])"
      ]
     },
     "execution_count": 47,
     "metadata": {},
     "output_type": "execute_result"
    }
   ],
   "source": [
    "np.corrcoef(churn.DayCalls,churn.DayCharge)"
   ]
  },
  {
   "cell_type": "code",
   "execution_count": 25,
   "metadata": {},
   "outputs": [
    {
     "data": {
      "text/plain": [
       "Index(['AccountLength', 'VMailMessage', 'DayMins', 'EveMins', 'NightMins',\n",
       "       'IntlMins', 'CustServCalls', 'Churn', 'IntlPlan', 'VMailPlan',\n",
       "       'DayCalls', 'DayCharge', 'EveCalls', 'EveCharge', 'NightCalls',\n",
       "       'NightCharge', 'IntlCalls', 'IntlCharge', 'State', 'AreaCode', 'Phone'],\n",
       "      dtype='object')"
      ]
     },
     "execution_count": 25,
     "metadata": {},
     "output_type": "execute_result"
    }
   ],
   "source": [
    "churn.columns"
   ]
  },
  {
   "cell_type": "code",
   "execution_count": 48,
   "metadata": {},
   "outputs": [
    {
     "name": "stdout",
     "output_type": "stream",
     "text": [
      "(3333, 1)\n",
      "   Churn\n",
      "0      0\n",
      "1      0\n",
      "2      0\n",
      "3      0\n",
      "4      0\n"
     ]
    }
   ],
   "source": [
    "# Create file with dependent \n",
    "churnY = pd.DataFrame(churn,columns=['Churn'])\n",
    "print(churnY.shape)\n",
    "print(churnY.head())"
   ]
  },
  {
   "cell_type": "code",
   "execution_count": 49,
   "metadata": {},
   "outputs": [
    {
     "name": "stdout",
     "output_type": "stream",
     "text": [
      "2316577657912\n",
      "2316583942856\n",
      "(3333, 15)\n"
     ]
    }
   ],
   "source": [
    "# Create file with independent \n",
    "# ignoring day min, eve mings, night mins, int mins\n",
    "import copy\n",
    "churnX = copy.copy(churn)\n",
    "print(id(churn))\n",
    "print(id(churnX))\n",
    "churnX.drop(columns=['DayMins', 'EveMins', 'NightMins','IntlMins',\n",
    "                     'Churn','Phone'],\n",
    "            inplace=True)\n",
    "print(churnX.shape)"
   ]
  },
  {
   "cell_type": "code",
   "execution_count": 50,
   "metadata": {},
   "outputs": [
    {
     "name": "stdout",
     "output_type": "stream",
     "text": [
      "(2666, 15)\n",
      "(2666, 1)\n",
      "(667, 15)\n",
      "(667, 1)\n",
      "      Churn\n",
      "1460      0\n",
      "2000      0\n",
      "666       0\n",
      "2962      0\n",
      "2773      1\n",
      "961       0\n",
      "3079      1\n",
      "1120      0\n",
      "962       0\n",
      "2293      0\n"
     ]
    }
   ],
   "source": [
    "# splitting the data into Train and Test\n",
    "from sklearn.model_selection import train_test_split\n",
    "X_train, X_test, Y_train, Y_test = train_test_split(churnX, churnY,\n",
    "                                                    test_size = 0.20,\n",
    "                                                    random_state = 0)\n",
    "print(X_train.shape)\n",
    "print(Y_train.shape)\n",
    "print(X_test.shape)\n",
    "print(Y_test.shape)\n",
    "print(Y_train[0:10])"
   ]
  },
  {
   "cell_type": "code",
   "execution_count": 51,
   "metadata": {},
   "outputs": [
    {
     "name": "stdout",
     "output_type": "stream",
     "text": [
      "Counter({0: 2271, 1: 395})\n",
      "Counter({0: 579, 1: 88})\n"
     ]
    }
   ],
   "source": [
    "print(Counter(Y_train.Churn))\n",
    "print(Counter(Y_test.Churn))"
   ]
  },
  {
   "cell_type": "code",
   "execution_count": 52,
   "metadata": {},
   "outputs": [
    {
     "name": "stdout",
     "output_type": "stream",
     "text": [
      "0.8518379594898725\n",
      "0.8680659670164917\n"
     ]
    }
   ],
   "source": [
    "print(2271/2666)\n",
    "print(579/667)"
   ]
  },
  {
   "cell_type": "code",
   "execution_count": 54,
   "metadata": {},
   "outputs": [
    {
     "name": "stdout",
     "output_type": "stream",
     "text": [
      "Counter({'WV': 82, 'MN': 69, 'WY': 66, 'NY': 63, 'AL': 63, 'OR': 62, 'KS': 62, 'OH': 62, 'WI': 62, 'VA': 62, 'MT': 60, 'MI': 59, 'CT': 59, 'ID': 58, 'UT': 55, 'MA': 54, 'NC': 54, 'WA': 54, 'NE': 53, 'VT': 52, 'DE': 52, 'OK': 52, 'NJ': 51, 'NM': 51, 'MS': 51, 'IN': 51, 'MO': 51, 'FL': 51, 'NV': 50, 'MD': 50, 'RI': 50, 'TX': 50, 'ME': 50, 'CO': 49, 'SC': 49, 'SD': 48, 'ND': 48, 'AZ': 48, 'NH': 48, 'GA': 47, 'AR': 47, 'IL': 46, 'KY': 45, 'HI': 45, 'AK': 45, 'TN': 44, 'DC': 43, 'LA': 41, 'IA': 38, 'PA': 37, 'CA': 27})\n"
     ]
    }
   ],
   "source": [
    "print(Counter(X_train.State))"
   ]
  },
  {
   "cell_type": "code",
   "execution_count": 55,
   "metadata": {},
   "outputs": [
    {
     "data": {
      "text/plain": [
       "Counter({415: 1314, 510: 677, 408: 675})"
      ]
     },
     "execution_count": 55,
     "metadata": {},
     "output_type": "execute_result"
    }
   ],
   "source": [
    "Counter(X_train.AreaCode)"
   ]
  },
  {
   "cell_type": "code",
   "execution_count": 56,
   "metadata": {},
   "outputs": [
    {
     "data": {
      "text/plain": [
       "Index(['AccountLength', 'VMailMessage', 'CustServCalls', 'IntlPlan',\n",
       "       'VMailPlan', 'DayCalls', 'DayCharge', 'EveCalls', 'EveCharge',\n",
       "       'NightCalls', 'NightCharge', 'IntlCalls', 'IntlCharge', 'State',\n",
       "       'AreaCode'],\n",
       "      dtype='object')"
      ]
     },
     "execution_count": 56,
     "metadata": {},
     "output_type": "execute_result"
    }
   ],
   "source": [
    "X_train.columns"
   ]
  },
  {
   "cell_type": "code",
   "execution_count": 57,
   "metadata": {},
   "outputs": [
    {
     "name": "stdout",
     "output_type": "stream",
     "text": [
      "(2666, 11)\n",
      "(667, 11)\n"
     ]
    }
   ],
   "source": [
    "# extract only continuous columns\n",
    "ContColumns = list(['AccountLength', 'VMailMessage', 'CustServCalls',\n",
    "                    'DayCalls', 'DayCharge','EveCalls','EveCharge',\n",
    "                    'NightCalls', 'NightCharge', 'IntlCalls', 'IntlCharge'])\n",
    "X_train_cont = pd.DataFrame(X_train,columns=ContColumns)\n",
    "print(X_train_cont.shape)\n",
    "X_test_cont = pd.DataFrame(X_test,columns=ContColumns)\n",
    "print(X_test_cont.shape)"
   ]
  },
  {
   "cell_type": "code",
   "execution_count": 58,
   "metadata": {},
   "outputs": [],
   "source": [
    "# apply sclaing on continuous variables\n",
    "from sklearn.preprocessing import MinMaxScaler\n",
    "MMS = MinMaxScaler()\n",
    "X_train_cont2 = MMS.fit_transform(X_train_cont)\n",
    "X_test_cont2 = MMS.transform(X_test_cont)"
   ]
  },
  {
   "cell_type": "code",
   "execution_count": 59,
   "metadata": {},
   "outputs": [],
   "source": [
    "# convert X_train3 as dataframe\n",
    "X_train_cont3 = pd.DataFrame(X_train_cont2)\n",
    "X_test_cont3 = pd.DataFrame(X_test_cont2)"
   ]
  },
  {
   "cell_type": "code",
   "execution_count": 59,
   "metadata": {},
   "outputs": [
    {
     "data": {
      "text/plain": [
       "RangeIndex(start=0, stop=2666, step=1)"
      ]
     },
     "execution_count": 59,
     "metadata": {},
     "output_type": "execute_result"
    }
   ],
   "source": [
    "X_train_cont3.index"
   ]
  },
  {
   "cell_type": "code",
   "execution_count": 60,
   "metadata": {},
   "outputs": [
    {
     "name": "stdout",
     "output_type": "stream",
     "text": [
      "(2666, 4)\n",
      "(667, 4)\n"
     ]
    }
   ],
   "source": [
    "# extract only categorical columns\n",
    "CatColumns = list(['IntlPlan','VMailPlan','State','AreaCode'])\n",
    "X_train_cat = pd.DataFrame(X_train,columns=CatColumns)\n",
    "print(X_train_cat.shape)\n",
    "X_test_cat = pd.DataFrame(X_test,columns=CatColumns)\n",
    "print(X_test_cat.shape)"
   ]
  },
  {
   "cell_type": "code",
   "execution_count": 61,
   "metadata": {},
   "outputs": [
    {
     "name": "stdout",
     "output_type": "stream",
     "text": [
      "[ 0  1  2  3  4  5  6  7  8  9 10 11 12 13 14 15 16 17 18 19 20 21 22 23\n",
      " 24 25 26 27 28 29 30 31 32 33 34 35 36 37 38 39 40 41 42 43 44 45 46 47\n",
      " 48 49 50]\n",
      "51\n"
     ]
    }
   ],
   "source": [
    "# lable encoding for strings\n",
    "from sklearn.preprocessing import LabelEncoder\n",
    "le = LabelEncoder()\n",
    "X_train_cat.State = le.fit_transform(X_train_cat.State)\n",
    "X_test_cat.State = le.transform(X_test_cat.State)\n",
    "print((np.unique(X_train_cat.State)))\n",
    "print(len(np.unique(X_train_cat.State)))"
   ]
  },
  {
   "cell_type": "code",
   "execution_count": 62,
   "metadata": {},
   "outputs": [
    {
     "name": "stdout",
     "output_type": "stream",
     "text": [
      "(2666, 58)\n",
      "(667, 58)\n"
     ]
    }
   ],
   "source": [
    "# apply one hot encoding on state and area\n",
    "from sklearn.preprocessing import OneHotEncoder\n",
    "# columns 2,3represent state and area code\n",
    "OHE = OneHotEncoder(categories = 'auto', sparse = False,\n",
    "                    handle_unknown = 'error')\n",
    "X_train_cat2 = OHE.fit_transform(X_train_cat)\n",
    "print(X_train_cat2.shape)\n",
    "X_test_cat2 = OHE.transform(X_test_cat)\n",
    "print(X_test_cat2.shape)"
   ]
  },
  {
   "cell_type": "code",
   "execution_count": 57,
   "metadata": {},
   "outputs": [
    {
     "data": {
      "text/plain": [
       "array([  45.,   63.,   47.,   48.,   27.,   49.,   59.,   43.,   52.,\n",
       "         51.,   47.,   45.,   38.,   58.,   46.,   51.,   62.,   45.,\n",
       "         41.,   54.,   50.,   50.,   59.,   69.,   51.,   51.,   60.,\n",
       "         54.,   48.,   53.,   48.,   51.,   51.,   50.,   63.,   62.,\n",
       "         52.,   62.,   37.,   50.,   49.,   48.,   44.,   50.,   55.,\n",
       "         62.,   52.,   54.,   62.,   82.,   66.,  675., 1314.,  677.,\n",
       "        249.,  733.])"
      ]
     },
     "execution_count": 57,
     "metadata": {},
     "output_type": "execute_result"
    }
   ],
   "source": [
    "np.sum(X_train_cat2,axis=0)"
   ]
  },
  {
   "cell_type": "code",
   "execution_count": null,
   "metadata": {},
   "outputs": [],
   "source": [
    "# order of columns X_train_cat2\n",
    "# state, AreaCode, IntlPlan, vmailPlan"
   ]
  },
  {
   "cell_type": "code",
   "execution_count": 64,
   "metadata": {},
   "outputs": [
    {
     "name": "stdout",
     "output_type": "stream",
     "text": [
      "RangeIndex(start=0, stop=2666, step=1)\n",
      "(2666, 58)\n",
      "(667, 58)\n"
     ]
    }
   ],
   "source": [
    "# convert array as dataframe\n",
    "X_train_cat3 = pd.DataFrame(X_train_cat2)\n",
    "print(X_train_cat3.index)\n",
    "print(X_train_cat3.shape)\n",
    "X_test_cat3 = pd.DataFrame(X_test_cat2)\n",
    "print(X_test_cat3.shape)"
   ]
  },
  {
   "cell_type": "code",
   "execution_count": 65,
   "metadata": {},
   "outputs": [
    {
     "name": "stdout",
     "output_type": "stream",
     "text": [
      "(2666, 69)\n",
      "(667, 69)\n"
     ]
    }
   ],
   "source": [
    "# merge scaled continuous and onehotencoded categorical data\n",
    "X_train_final = pd.concat([X_train_cont3,X_train_cat3],axis=1,join='outer',ignore_index=True)\n",
    "X_test_final = pd.concat([X_test_cont3,X_test_cat3],axis=1,join='outer',ignore_index=True)\n",
    "print(X_train_final.shape)\n",
    "print(X_test_final.shape)"
   ]
  },
  {
   "cell_type": "code",
   "execution_count": 66,
   "metadata": {},
   "outputs": [
    {
     "name": "stdout",
     "output_type": "stream",
     "text": [
      "Fitting 5 folds for each of 5 candidates, totalling 25 fits\n",
      "[CV] C=0.05 ..........................................................\n",
      "[CV] .......... C=0.05, score=(train=0.681, test=0.648), total=   0.1s\n",
      "[CV] C=0.05 ..........................................................\n",
      "[CV] .......... C=0.05, score=(train=0.675, test=0.690), total=   0.1s\n",
      "[CV] C=0.05 ..........................................................\n"
     ]
    },
    {
     "name": "stderr",
     "output_type": "stream",
     "text": [
      "[Parallel(n_jobs=1)]: Using backend SequentialBackend with 1 concurrent workers.\n",
      "[Parallel(n_jobs=1)]: Done   1 out of   1 | elapsed:    0.0s remaining:    0.0s\n",
      "[Parallel(n_jobs=1)]: Done   2 out of   2 | elapsed:    0.1s remaining:    0.0s\n"
     ]
    },
    {
     "name": "stdout",
     "output_type": "stream",
     "text": [
      "[CV] .......... C=0.05, score=(train=0.669, test=0.701), total=   0.1s\n",
      "[CV] C=0.05 ..........................................................\n",
      "[CV] .......... C=0.05, score=(train=0.684, test=0.665), total=   0.1s\n",
      "[CV] C=0.05 ..........................................................\n",
      "[CV] .......... C=0.05, score=(train=0.681, test=0.675), total=   0.1s\n",
      "[CV] C=0.2 ...........................................................\n"
     ]
    },
    {
     "name": "stderr",
     "output_type": "stream",
     "text": [
      "[Parallel(n_jobs=1)]: Done   3 out of   3 | elapsed:    0.2s remaining:    0.0s\n",
      "[Parallel(n_jobs=1)]: Done   4 out of   4 | elapsed:    0.3s remaining:    0.0s\n",
      "[Parallel(n_jobs=1)]: Done   5 out of   5 | elapsed:    0.3s remaining:    0.0s\n"
     ]
    },
    {
     "name": "stdout",
     "output_type": "stream",
     "text": [
      "[CV] ........... C=0.2, score=(train=0.682, test=0.673), total=   0.1s\n",
      "[CV] C=0.2 ...........................................................\n",
      "[CV] ........... C=0.2, score=(train=0.693, test=0.676), total=   0.1s\n",
      "[CV] C=0.2 ...........................................................\n",
      "[CV] ........... C=0.2, score=(train=0.679, test=0.695), total=   0.1s"
     ]
    },
    {
     "name": "stderr",
     "output_type": "stream",
     "text": [
      "[Parallel(n_jobs=1)]: Done   6 out of   6 | elapsed:    0.5s remaining:    0.0s\n",
      "[Parallel(n_jobs=1)]: Done   7 out of   7 | elapsed:    0.5s remaining:    0.0s\n"
     ]
    },
    {
     "name": "stdout",
     "output_type": "stream",
     "text": [
      "\n",
      "[CV] C=0.2 ...........................................................\n",
      "[CV] ........... C=0.2, score=(train=0.685, test=0.674), total=   0.1s\n",
      "[CV] C=0.2 ...........................................................\n"
     ]
    },
    {
     "name": "stderr",
     "output_type": "stream",
     "text": [
      "[Parallel(n_jobs=1)]: Done   8 out of   8 | elapsed:    0.6s remaining:    0.0s\n",
      "[Parallel(n_jobs=1)]: Done   9 out of   9 | elapsed:    0.8s remaining:    0.0s\n"
     ]
    },
    {
     "name": "stdout",
     "output_type": "stream",
     "text": [
      "[CV] ........... C=0.2, score=(train=0.689, test=0.665), total=   0.1s\n",
      "[CV] C=0.5 ...........................................................\n",
      "[CV] ........... C=0.5, score=(train=0.689, test=0.680), total=   0.1s\n",
      "[CV] C=0.5 ...........................................................\n",
      "[CV] ........... C=0.5, score=(train=0.697, test=0.669), total=   0.1s\n",
      "[CV] C=0.5 ...........................................................\n",
      "[CV] ........... C=0.5, score=(train=0.682, test=0.683), total=   0.1s\n",
      "[CV] C=0.5 ...........................................................\n",
      "[CV] ........... C=0.5, score=(train=0.695, test=0.667), total=   0.1s\n",
      "[CV] C=0.5 ...........................................................\n",
      "[CV] ........... C=0.5, score=(train=0.702, test=0.663), total=   0.1s\n",
      "[CV] C=1 .............................................................\n",
      "[CV] ............. C=1, score=(train=0.686, test=0.681), total=   0.1s\n",
      "[CV] C=1 .............................................................\n",
      "[CV] ............. C=1, score=(train=0.696, test=0.667), total=   0.1s\n",
      "[CV] C=1 .............................................................\n",
      "[CV] ............. C=1, score=(train=0.683, test=0.681), total=   0.1s\n",
      "[CV] C=1 .............................................................\n",
      "[CV] ............. C=1, score=(train=0.692, test=0.668), total=   0.1s\n",
      "[CV] C=1 .............................................................\n",
      "[CV] ............. C=1, score=(train=0.703, test=0.657), total=   0.1s\n",
      "[CV] C=2 .............................................................\n",
      "[CV] ............. C=2, score=(train=0.687, test=0.676), total=   0.1s\n",
      "[CV] C=2 .............................................................\n",
      "[CV] ............. C=2, score=(train=0.696, test=0.662), total=   0.1s\n",
      "[CV] C=2 .............................................................\n",
      "[CV] ............. C=2, score=(train=0.680, test=0.674), total=   0.1s\n",
      "[CV] C=2 .............................................................\n",
      "[CV] ............. C=2, score=(train=0.692, test=0.654), total=   0.1s\n",
      "[CV] C=2 .............................................................\n",
      "[CV] ............. C=2, score=(train=0.706, test=0.666), total=   0.1s\n"
     ]
    },
    {
     "name": "stderr",
     "output_type": "stream",
     "text": [
      "[Parallel(n_jobs=1)]: Done  25 out of  25 | elapsed:    2.6s finished\n"
     ]
    },
    {
     "data": {
      "text/plain": [
       "GridSearchCV(cv=5, error_score=nan,\n",
       "             estimator=LogisticRegression(C=1.0, class_weight='balanced',\n",
       "                                          dual=False, fit_intercept=True,\n",
       "                                          intercept_scaling=1, l1_ratio=None,\n",
       "                                          max_iter=500, multi_class='auto',\n",
       "                                          n_jobs=None, penalty='l1',\n",
       "                                          random_state=None, solver='saga',\n",
       "                                          tol=0.0001, verbose=0,\n",
       "                                          warm_start=False),\n",
       "             iid='deprecated', n_jobs=None,\n",
       "             param_grid={'C': [0.05, 0.2, 0.5, 1, 2]}, pre_dispatch='2*n_jobs',\n",
       "             refit=True, return_train_score=True, scoring='f1_macro',\n",
       "             verbose=10)"
      ]
     },
     "execution_count": 66,
     "metadata": {},
     "output_type": "execute_result"
    }
   ],
   "source": [
    "# logistic model\n",
    "from sklearn.linear_model import LogisticRegression\n",
    "lgr = LogisticRegression(class_weight = 'balanced',solver='saga',\n",
    "                         max_iter=500,penalty = 'l1')\n",
    "parms = {'C': [0.05,0.2,0.5,1,2]} \n",
    "# perform grid search with cross validation\n",
    "from sklearn.model_selection import GridSearchCV\n",
    "CV = GridSearchCV(estimator = lgr,param_grid = parms, scoring = 'f1_macro',\n",
    "                  cv=5,refit=True,return_train_score = True,verbose=10)\n",
    "CV.fit(X_train_final,Y_train.Churn)"
   ]
  },
  {
   "cell_type": "code",
   "execution_count": 67,
   "metadata": {},
   "outputs": [],
   "source": [
    "CVResults = pd.DataFrame(CV.cv_results_)\n",
    "CVResults.to_excel('CVResutls_Logistic.xlsx')"
   ]
  },
  {
   "cell_type": "code",
   "execution_count": 68,
   "metadata": {},
   "outputs": [
    {
     "name": "stdout",
     "output_type": "stream",
     "text": [
      "LogisticRegression(C=0.2, class_weight='balanced', dual=False,\n",
      "                   fit_intercept=True, intercept_scaling=1, l1_ratio=None,\n",
      "                   max_iter=500, multi_class='auto', n_jobs=None, penalty='l1',\n",
      "                   random_state=None, solver='saga', tol=0.0001, verbose=0,\n",
      "                   warm_start=False)\n"
     ]
    }
   ],
   "source": [
    "print(CV.best_estimator_)"
   ]
  },
  {
   "cell_type": "code",
   "execution_count": 47,
   "metadata": {},
   "outputs": [
    {
     "data": {
      "text/plain": [
       "Index(['AccountLength', 'VMailMessage', 'CustServCalls', 'DayCalls',\n",
       "       'DayCharge', 'EveCalls', 'EveCharge', 'NightCalls', 'NightCharge',\n",
       "       'IntlCalls', 'IntlCharge'],\n",
       "      dtype='object')"
      ]
     },
     "execution_count": 47,
     "metadata": {},
     "output_type": "execute_result"
    }
   ],
   "source": [
    "X_train_cont.columns"
   ]
  },
  {
   "cell_type": "code",
   "execution_count": 70,
   "metadata": {},
   "outputs": [
    {
     "data": {
      "text/plain": [
       "Index(['IntlPlan', 'VMailPlan', 'State', 'AreaCode'], dtype='object')"
      ]
     },
     "execution_count": 70,
     "metadata": {},
     "output_type": "execute_result"
    }
   ],
   "source": [
    "X_train_cat.columns"
   ]
  },
  {
   "cell_type": "code",
   "execution_count": 69,
   "metadata": {},
   "outputs": [
    {
     "name": "stdout",
     "output_type": "stream",
     "text": [
      "[[ 0.          0.          4.70019589  0.          4.23616667  0.\n",
      "   1.45975802  0.          0.57175765 -0.18013323  0.40450598 -1.99823306\n",
      "   0.21169953  0.26674652 -0.49565312  0.         -0.12586456  0.\n",
      "  -0.26151779  0.52125353  0.          0.          0.          0.\n",
      "   0.          0.         -0.07866484  0.          0.          0.\n",
      "   0.          0.          0.          0.          0.          0.01697806\n",
      "   0.29831472  0.          0.          0.          0.59735465  0.74414336\n",
      "  -0.07611933  0.          0.          0.          0.57899647  0.\n",
      "   0.          0.          0.          0.          0.          0.01157936\n",
      "   0.          0.69000162  0.          0.          0.04575465  0.\n",
      "  -0.21878168 -0.36238986  0.12305243  0.          0.          0.\n",
      "   0.08662004  0.          0.        ]]\n",
      "[-3.07957059]\n"
     ]
    }
   ],
   "source": [
    "print(CV.best_estimator_.coef_)\n",
    "print(CV.best_estimator_.intercept_)"
   ]
  },
  {
   "cell_type": "code",
   "execution_count": 66,
   "metadata": {},
   "outputs": [
    {
     "name": "stdout",
     "output_type": "stream",
     "text": [
      "0.6766994318033281\n",
      "{'C': 0.2}\n"
     ]
    }
   ],
   "source": [
    "print(CV.best_score_)\n",
    "print(CV.best_params_)"
   ]
  },
  {
   "cell_type": "code",
   "execution_count": 71,
   "metadata": {},
   "outputs": [
    {
     "name": "stdout",
     "output_type": "stream",
     "text": [
      "[1 0 1 0 1 1 1 0 1 1]\n"
     ]
    }
   ],
   "source": [
    "# Preidct on Test data and check the confusion matrix\n",
    "predictTest = CV.predict(X_test_final)\n",
    "print(predictTest[0:10])"
   ]
  },
  {
   "cell_type": "code",
   "execution_count": 72,
   "metadata": {},
   "outputs": [
    {
     "name": "stdout",
     "output_type": "stream",
     "text": [
      "[[0.16121261 0.83878739]\n",
      " [0.89195507 0.10804493]\n",
      " [0.36234137 0.63765863]\n",
      " [0.72663934 0.27336066]\n",
      " [0.03315005 0.96684995]\n",
      " [0.0346361  0.9653639 ]\n",
      " [0.22516704 0.77483296]\n",
      " [0.75428732 0.24571268]\n",
      " [0.36040231 0.63959769]\n",
      " [0.23561097 0.76438903]]\n"
     ]
    }
   ],
   "source": [
    "PredictProb = CV.predict_proba(X_test_final)\n",
    "print(PredictProb[0:10])\n",
    "PProb = pd.DataFrame(PredictProb)"
   ]
  },
  {
   "cell_type": "code",
   "execution_count": 69,
   "metadata": {},
   "outputs": [
    {
     "data": {
      "text/plain": [
       "array([0, 1], dtype=int64)"
      ]
     },
     "execution_count": 69,
     "metadata": {},
     "output_type": "execute_result"
    }
   ],
   "source": [
    "PProb.columns.values"
   ]
  },
  {
   "cell_type": "code",
   "execution_count": 70,
   "metadata": {},
   "outputs": [
    {
     "data": {
      "text/plain": [
       "0    0.829130\n",
       "1    0.120912\n",
       "2    0.620084\n",
       "3    0.282964\n",
       "4    0.956990\n",
       "Name: 1, dtype: float64"
      ]
     },
     "execution_count": 70,
     "metadata": {},
     "output_type": "execute_result"
    }
   ],
   "source": [
    "PProb[1][0:5]"
   ]
  },
  {
   "cell_type": "code",
   "execution_count": 73,
   "metadata": {},
   "outputs": [
    {
     "name": "stdout",
     "output_type": "stream",
     "text": [
      "[[437 142]\n",
      " [ 19  69]]\n",
      "              precision    recall  f1-score   support\n",
      "\n",
      "           0       0.96      0.75      0.84       579\n",
      "           1       0.33      0.78      0.46        88\n",
      "\n",
      "    accuracy                           0.76       667\n",
      "   macro avg       0.64      0.77      0.65       667\n",
      "weighted avg       0.88      0.76      0.79       667\n",
      "\n"
     ]
    }
   ],
   "source": [
    "# generate confusion matrix\n",
    "# import confusion matrix and classification report\n",
    "from sklearn.metrics import confusion_matrix, classification_report\n",
    "print (confusion_matrix(Y_test,predictTest))\n",
    "print (classification_report(Y_test,predictTest))"
   ]
  },
  {
   "cell_type": "code",
   "execution_count": 74,
   "metadata": {},
   "outputs": [
    {
     "name": "stdout",
     "output_type": "stream",
     "text": [
      "0.7986732611084942\n"
     ]
    }
   ],
   "source": [
    "# generate ROC curve\n",
    "from sklearn.metrics import roc_auc_score, roc_curve\n",
    "AUC = roc_auc_score(Y_test, PProb[1])\n",
    "print(AUC)\n",
    "# define variables for True Positive Rate and Falst Positive Rate & threshold value\n",
    "FPR, TPR, THR = roc_curve(Y_test, PProb[1])"
   ]
  },
  {
   "cell_type": "code",
   "execution_count": 73,
   "metadata": {},
   "outputs": [
    {
     "data": {
      "text/plain": [
       "(1000, 1)"
      ]
     },
     "execution_count": 73,
     "metadata": {},
     "output_type": "execute_result"
    }
   ],
   "source": [
    "Y_test.shape"
   ]
  },
  {
   "cell_type": "code",
   "execution_count": 71,
   "metadata": {},
   "outputs": [
    {
     "data": {
      "text/plain": [
       "(128,)"
      ]
     },
     "execution_count": 71,
     "metadata": {},
     "output_type": "execute_result"
    }
   ],
   "source": [
    "THR.shape"
   ]
  },
  {
   "cell_type": "code",
   "execution_count": 73,
   "metadata": {},
   "outputs": [
    {
     "name": "stdout",
     "output_type": "stream",
     "text": [
      "[0.17332454 0.16981389 0.169607   0.11591407 0.11371367 0.10806339\n",
      " 0.10791301 0.01698973]\n",
      "[0.96590909 0.96590909 0.97727273 0.97727273 0.98863636 0.98863636\n",
      " 1.         1.        ]\n",
      "[0.77374784 0.7806563  0.7806563  0.90500864 0.90500864 0.92055268\n",
      " 0.92055268 1.        ]\n"
     ]
    }
   ],
   "source": [
    "print(THR[120:128])\n",
    "print(TPR[120:128])\n",
    "print(FPR[120:128])"
   ]
  },
  {
   "cell_type": "code",
   "execution_count": 75,
   "metadata": {},
   "outputs": [
    {
     "data": {
      "image/png": "[encoded data removed]",
      "text/plain": [
       "<Figure size 432x288 with 1 Axes>"
      ]
     },
     "metadata": {
      "needs_background": "light"
     },
     "output_type": "display_data"
    }
   ],
   "source": [
    "import matplotlib.pyplot as plt\n",
    "plt.figure()\n",
    "# plot the FPR as X-axis and TPR as Y-axis\n",
    "plt.plot(FPR, TPR)\n",
    "# plot the minimum line \n",
    "plt.plot([0,1], [0,1], color='navy', linestyle = '--')\n",
    "# set X and Y limits\n",
    "plt.xlim([0.0, 1.05])\n",
    "plt.ylim([0.0, 1.05])\n",
    "# mention lables for X and Y\n",
    "plt.xlabel('False Positive Rate')\n",
    "plt.ylabel('True Positive Rate')\n",
    "plt.title('ROC')\n",
    "plt.show()"
   ]
  },
  {
   "cell_type": "code",
   "execution_count": 76,
   "metadata": {},
   "outputs": [],
   "source": [
    "ROC = pd.DataFrame({'THR': THR,\n",
    "                    'TPR': TPR,\n",
    "                    'FPR': FPR})\n",
    "ROC.to_excel(\"ROC.xlsx\")"
   ]
  }
 ],
 "metadata": {
  "kernelspec": {
   "display_name": "Python 3 (ipykernel)",
   "language": "python",
   "name": "python3"
  },
  "language_info": {
   "codemirror_mode": {
    "name": "ipython",
    "version": 3
   },
   "file_extension": ".py",
   "mimetype": "text/x-python",
   "name": "python",
   "nbconvert_exporter": "python",
   "pygments_lexer": "ipython3",
   "version": "3.9.12"
  }
 },
 "nbformat": 4,
 "nbformat_minor": 2
}
