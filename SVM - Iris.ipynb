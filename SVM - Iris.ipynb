{
 "cells": [
  {
   "cell_type": "code",
   "execution_count": 1,
   "metadata": {},
   "outputs": [],
   "source": [
    "import numpy as np\n",
    "import matplotlib.pyplot as plt\n",
    "import pandas as pd\n",
    "import os\n",
    "os.chdir(\"C://Digital Nest/Logistic Regression\")"
   ]
  },
  {
   "cell_type": "code",
   "execution_count": 2,
   "metadata": {},
   "outputs": [
    {
     "name": "stdout",
     "output_type": "stream",
     "text": [
      "   SepalLength  SepalWidth  PetalLength  PetalWidth Species\n",
      "0          5.1         3.5          1.4         0.2  setosa\n",
      "1          4.9         3.0          1.4         0.2  setosa\n",
      "2          4.7         3.2          1.3         0.2  setosa\n",
      "3          4.6         3.1          1.5         0.2  setosa\n",
      "4          5.0         3.6          1.4         0.2  setosa\n"
     ]
    }
   ],
   "source": [
    "# Importing the dataset\n",
    "iris = pd.read_csv('iris.csv')\n",
    "print(iris.head())"
   ]
  },
  {
   "cell_type": "code",
   "execution_count": 3,
   "metadata": {},
   "outputs": [
    {
     "name": "stdout",
     "output_type": "stream",
     "text": [
      "Index(['PetalLength', 'PetalWidth'], dtype='object')\n"
     ]
    }
   ],
   "source": [
    "X = iris.iloc[::,2:4:1]\n",
    "print(X.columns)\n",
    "Y = iris.Species"
   ]
  },
  {
   "cell_type": "code",
   "execution_count": 4,
   "metadata": {},
   "outputs": [
    {
     "name": "stdout",
     "output_type": "stream",
     "text": [
      "[0 1 2]\n"
     ]
    }
   ],
   "source": [
    "# apply one hot enconding on target\n",
    "from sklearn.preprocessing import LabelEncoder\n",
    "LE = LabelEncoder()\n",
    "Y2 = LE.fit_transform(Y)\n",
    "print(np.unique(Y2))"
   ]
  },
  {
   "cell_type": "code",
   "execution_count": 81,
   "metadata": {},
   "outputs": [
    {
     "name": "stdout",
     "output_type": "stream",
     "text": [
      "(array([0, 1]), array([ 50, 100], dtype=int64))\n"
     ]
    }
   ],
   "source": [
    "# convert the target into binary\n",
    "Y2[Y2==2] = 1\n",
    "print(np.unique(Y2,return_counts=True))"
   ]
  },
  {
   "cell_type": "code",
   "execution_count": 5,
   "metadata": {},
   "outputs": [
    {
     "data": {
      "image/png": "[encoded data removed]",
      "text/plain": [
       "<Figure size 432x288 with 1 Axes>"
      ]
     },
     "metadata": {
      "needs_background": "light"
     },
     "output_type": "display_data"
    }
   ],
   "source": [
    "# draw graph between dependent and independent\n",
    "plt.scatter(X.PetalLength,\n",
    "            X.PetalWidth,\n",
    "            c = Y2,\n",
    "           cmap = 'viridis')\n",
    "plt.show()"
   ]
  },
  {
   "cell_type": "code",
   "execution_count": 85,
   "metadata": {},
   "outputs": [
    {
     "name": "stdout",
     "output_type": "stream",
     "text": [
      "[[3.58585212]]\n",
      "[-19.83876425]\n"
     ]
    }
   ],
   "source": [
    "# apply logistic regression\n",
    "from sklearn.linear_model import LogisticRegression\n",
    "LR = LogisticRegression(penalty='l2',C = 1.0, solver='lbfgs',class_weight='balanced')\n",
    "LR.fit(X,Y2)\n",
    "print(LR.coef_)\n",
    "print(LR.intercept_)"
   ]
  },
  {
   "cell_type": "code",
   "execution_count": 86,
   "metadata": {},
   "outputs": [],
   "source": [
    "# define sigmoid function\n",
    "import math\n",
    "def sigmoid(x):\n",
    "    return math.exp(x) / (1 + math.exp(x))"
   ]
  },
  {
   "cell_type": "code",
   "execution_count": 92,
   "metadata": {},
   "outputs": [
    {
     "name": "stdout",
     "output_type": "stream",
     "text": [
      "0   -1.550918\n",
      "1   -2.268089\n",
      "2   -2.985259\n",
      "3   -3.343844\n",
      "4   -1.909504\n",
      "Name: SepalLength, dtype: float64\n",
      "<class 'pandas.core.series.Series'>\n",
      "<class 'pandas.core.series.Series'>\n",
      "0    0.174954\n",
      "1    0.093801\n",
      "2    0.048096\n",
      "3    0.034097\n",
      "4    0.129037\n",
      "dtype: float64\n"
     ]
    }
   ],
   "source": [
    "# predicted\n",
    "Y_line = pd.Series((X.SepalLength * LR.coef_[0]) + LR.intercept_)\n",
    "print(Y_line[0:5])\n",
    "print(type(Y_line))\n",
    "Y_Pred = pd.Series([sigmoid(x) for x in Y_line])\n",
    "print(type(Y_Pred))\n",
    "print(Y_Pred[0:5])"
   ]
  },
  {
   "cell_type": "code",
   "execution_count": 93,
   "metadata": {},
   "outputs": [
    {
     "name": "stdout",
     "output_type": "stream",
     "text": [
      "0.9997944195513516\n",
      "0.011895831012968537\n"
     ]
    }
   ],
   "source": [
    "print(Y_Pred.max())\n",
    "print(Y_Pred.min())"
   ]
  },
  {
   "cell_type": "code",
   "execution_count": 103,
   "metadata": {},
   "outputs": [
    {
     "name": "stdout",
     "output_type": "stream",
     "text": [
      "[[0.82504634 0.17495366]\n",
      " [0.90619946 0.09380054]\n",
      " [0.95190373 0.04809627]\n",
      " [0.96590269 0.03409731]\n",
      " [0.87096337 0.12903663]]\n"
     ]
    }
   ],
   "source": [
    "Y_Pred_Prob = LR.predict_proba(X)\n",
    "print(Y_Pred_Prob[0:5])"
   ]
  },
  {
   "cell_type": "code",
   "execution_count": 94,
   "metadata": {},
   "outputs": [
    {
     "data": {
      "image/png": "[encoded data removed]",
      "text/plain": [
       "<Figure size 432x288 with 1 Axes>"
      ]
     },
     "metadata": {
      "needs_background": "light"
     },
     "output_type": "display_data"
    }
   ],
   "source": [
    "# scatter plot for predicted and independent\n",
    "plt.scatter(X,Y2)\n",
    "plt.scatter(X,Y_Pred)\n",
    "plt.show()"
   ]
  },
  {
   "cell_type": "code",
   "execution_count": 9,
   "metadata": {},
   "outputs": [
    {
     "data": {
      "text/plain": [
       "array([0, 1], dtype=int64)"
      ]
     },
     "execution_count": 9,
     "metadata": {},
     "output_type": "execute_result"
    }
   ],
   "source": [
    "np.unique(y_train)"
   ]
  },
  {
   "cell_type": "code",
   "execution_count": 6,
   "metadata": {},
   "outputs": [
    {
     "data": {
      "text/plain": [
       "SVC(C=1.0, cache_size=200, class_weight=None, coef0=0.0,\n",
       "  decision_function_shape='ovr', degree=3, gamma='auto_deprecated',\n",
       "  kernel='linear', max_iter=-1, probability=False, random_state=None,\n",
       "  shrinking=True, tol=0.001, verbose=False)"
      ]
     },
     "execution_count": 6,
     "metadata": {},
     "output_type": "execute_result"
    }
   ],
   "source": [
    "# Fitting Kernel SVM to the Training set\n",
    "from sklearn.svm import SVC\n",
    "SVM = SVC(kernel = 'linear')\n",
    "SVM.fit(X,Y2)"
   ]
  },
  {
   "cell_type": "code",
   "execution_count": 7,
   "metadata": {},
   "outputs": [
    {
     "name": "stdout",
     "output_type": "stream",
     "text": [
      "26\n"
     ]
    }
   ],
   "source": [
    "print(len(SVM.support_vectors_))"
   ]
  },
  {
   "cell_type": "code",
   "execution_count": 13,
   "metadata": {},
   "outputs": [
    {
     "name": "stdout",
     "output_type": "stream",
     "text": [
      "[[-1.1        -0.7       ]\n",
      " [-0.61538458 -0.30769229]\n",
      " [-2.1829247  -2.25365588]]\n",
      "[ 3.27999997  2.2923075  14.41486828]\n"
     ]
    }
   ],
   "source": [
    "print(SVM.coef_)\n",
    "print(SVM.intercept_)"
   ]
  },
  {
   "cell_type": "code",
   "execution_count": 97,
   "metadata": {},
   "outputs": [],
   "source": [
    "# predict\n",
    "Y_Pred2 = SVM.predict(X)"
   ]
  },
  {
   "cell_type": "code",
   "execution_count": 101,
   "metadata": {},
   "outputs": [
    {
     "data": {
      "image/png": "[encoded data removed]",
      "text/plain": [
       "<Figure size 432x288 with 1 Axes>"
      ]
     },
     "metadata": {
      "needs_background": "light"
     },
     "output_type": "display_data"
    }
   ],
   "source": [
    "# scatter plot for predicted and independent\n",
    "plt.scatter(X,Y2)\n",
    "plt.scatter(X,Y_Pred2)\n",
    "plt.show()"
   ]
  },
  {
   "cell_type": "code",
   "execution_count": 8,
   "metadata": {},
   "outputs": [
    {
     "name": "stdout",
     "output_type": "stream",
     "text": [
      "(290, 640)\n",
      "(290, 640)\n",
      "(185600, 2)\n"
     ]
    }
   ],
   "source": [
    "X1_Min = X.iloc[:, 0].min() - 0.25\n",
    "X1_Max = X.iloc[:, 0].max() + 0.25\n",
    "X1_Range = np.arange(start = X1_Min, stop = X1_Max, step = 0.01)\n",
    "X2_Min = X.iloc[:, 1].min() - 0.25\n",
    "X2_Max = X.iloc[:, 1].max() + 0.25\n",
    "X2_Range = np.arange(start = X2_Min, stop = X2_Max, step = 0.01)\n",
    "X1, X2 = np.meshgrid(X1_Range,X2_Range)\n",
    "print(X1.shape)\n",
    "print(X2.shape)\n",
    "X12 = np.array([X1.ravel(), X2.ravel()]).T\n",
    "print(X12.shape)"
   ]
  },
  {
   "cell_type": "code",
   "execution_count": 9,
   "metadata": {},
   "outputs": [
    {
     "name": "stdout",
     "output_type": "stream",
     "text": [
      "(290, 640)\n"
     ]
    }
   ],
   "source": [
    "Z = SVM.predict(X12).reshape(X1.shape)\n",
    "print(Z.shape)"
   ]
  },
  {
   "cell_type": "code",
   "execution_count": 11,
   "metadata": {},
   "outputs": [
    {
     "data": {
      "text/plain": [
       "array([0, 1, 2])"
      ]
     },
     "execution_count": 11,
     "metadata": {},
     "output_type": "execute_result"
    }
   ],
   "source": [
    "np.unique(Y2)"
   ]
  },
  {
   "cell_type": "code",
   "execution_count": 12,
   "metadata": {},
   "outputs": [
    {
     "name": "stderr",
     "output_type": "stream",
     "text": [
      "'c' argument looks like a single numeric RGB or RGBA sequence, which should be avoided as value-mapping will have precedence in case its length matches with 'x' & 'y'.  Please use a 2-D array with a single row if you really want to specify the same RGB or RGBA value for all points.\n",
      "'c' argument looks like a single numeric RGB or RGBA sequence, which should be avoided as value-mapping will have precedence in case its length matches with 'x' & 'y'.  Please use a 2-D array with a single row if you really want to specify the same RGB or RGBA value for all points.\n",
      "'c' argument looks like a single numeric RGB or RGBA sequence, which should be avoided as value-mapping will have precedence in case its length matches with 'x' & 'y'.  Please use a 2-D array with a single row if you really want to specify the same RGB or RGBA value for all points.\n"
     ]
    },
    {
     "data": {
      "image/png": "[encoded data removed]",
      "text/plain": [
       "<Figure size 432x288 with 1 Axes>"
      ]
     },
     "metadata": {
      "needs_background": "light"
     },
     "output_type": "display_data"
    }
   ],
   "source": [
    "# Visualising the results\n",
    "from matplotlib.colors import ListedColormap\n",
    "plt.contourf(X1, X2, Z,\n",
    "             alpha = 0.50,cmap = ListedColormap(('red', 'green','blue')))\n",
    "plt.xlim(X1.min(), X1.max())\n",
    "plt.ylim(X2.min(), X2.max())\n",
    "for i in np.unique(Y2):\n",
    "    plt.scatter(X.iloc[Y2 == i, 0], X.iloc[Y2 == i, 1],\n",
    "                c = ListedColormap(('red', 'green','blue'))(i), label = i)\n",
    "plt.title('Kernel SVM for circles')\n",
    "plt.xlabel('PetalLength')\n",
    "plt.ylabel('PetalWidth')\n",
    "plt.legend()\n",
    "plt.show()"
   ]
  },
  {
   "cell_type": "code",
   "execution_count": null,
   "metadata": {},
   "outputs": [],
   "source": []
  }
 ],
 "metadata": {
  "kernelspec": {
   "display_name": "Python 3",
   "language": "python",
   "name": "python3"
  },
  "language_info": {
   "codemirror_mode": {
    "name": "ipython",
    "version": 3
   },
   "file_extension": ".py",
   "mimetype": "text/x-python",
   "name": "python",
   "nbconvert_exporter": "python",
   "pygments_lexer": "ipython3",
   "version": "3.7.3"
  }
 },
 "nbformat": 4,
 "nbformat_minor": 2
}
