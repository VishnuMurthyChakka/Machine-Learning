{
 "cells": [
  {
   "cell_type": "code",
   "execution_count": 1,
   "metadata": {},
   "outputs": [],
   "source": [
    "# The following code includes Random forest\n",
    "# best parameters are identified using grid search with cross validation"
   ]
  },
  {
   "cell_type": "code",
   "execution_count": 2,
   "metadata": {},
   "outputs": [
    {
     "name": "stdout",
     "output_type": "stream",
     "text": [
      "C:\\Digital Nest\\Decision Trees\n"
     ]
    }
   ],
   "source": [
    "import numpy as np\n",
    "import pandas as pd\n",
    "import matplotlib.pyplot as plt\n",
    "import os\n",
    "os.chdir(\"C:\\Digital Nest\\Decision Trees\")\n",
    "print (os.getcwd())"
   ]
  },
  {
   "cell_type": "code",
   "execution_count": 3,
   "metadata": {},
   "outputs": [
    {
     "data": {
      "text/html": [
       "<div>\n",
       "<style scoped>\n",
       "    .dataframe tbody tr th:only-of-type {\n",
       "        vertical-align: middle;\n",
       "    }\n",
       "\n",
       "    .dataframe tbody tr th {\n",
       "        vertical-align: top;\n",
       "    }\n",
       "\n",
       "    .dataframe thead th {\n",
       "        text-align: right;\n",
       "    }\n",
       "</style>\n",
       "<table border=\"1\" class=\"dataframe\">\n",
       "  <thead>\n",
       "    <tr style=\"text-align: right;\">\n",
       "      <th></th>\n",
       "      <th>AccountLength</th>\n",
       "      <th>VMailMessage</th>\n",
       "      <th>DayMins</th>\n",
       "      <th>EveMins</th>\n",
       "      <th>NightMins</th>\n",
       "      <th>IntlMins</th>\n",
       "      <th>CustServCalls</th>\n",
       "      <th>Churn</th>\n",
       "      <th>IntlPlan</th>\n",
       "      <th>VMailPlan</th>\n",
       "      <th>...</th>\n",
       "      <th>DayCharge</th>\n",
       "      <th>EveCalls</th>\n",
       "      <th>EveCharge</th>\n",
       "      <th>NightCalls</th>\n",
       "      <th>NightCharge</th>\n",
       "      <th>IntlCalls</th>\n",
       "      <th>IntlCharge</th>\n",
       "      <th>State</th>\n",
       "      <th>AreaCode</th>\n",
       "      <th>Phone</th>\n",
       "    </tr>\n",
       "  </thead>\n",
       "  <tbody>\n",
       "    <tr>\n",
       "      <th>0</th>\n",
       "      <td>128</td>\n",
       "      <td>25</td>\n",
       "      <td>265.1</td>\n",
       "      <td>197.4</td>\n",
       "      <td>244.7</td>\n",
       "      <td>10.0</td>\n",
       "      <td>1</td>\n",
       "      <td>0</td>\n",
       "      <td>0</td>\n",
       "      <td>1</td>\n",
       "      <td>...</td>\n",
       "      <td>45.07</td>\n",
       "      <td>99</td>\n",
       "      <td>16.78</td>\n",
       "      <td>91</td>\n",
       "      <td>11.01</td>\n",
       "      <td>3</td>\n",
       "      <td>2.70</td>\n",
       "      <td>KS</td>\n",
       "      <td>415</td>\n",
       "      <td>382-4657</td>\n",
       "    </tr>\n",
       "    <tr>\n",
       "      <th>1</th>\n",
       "      <td>107</td>\n",
       "      <td>26</td>\n",
       "      <td>161.6</td>\n",
       "      <td>195.5</td>\n",
       "      <td>254.4</td>\n",
       "      <td>13.7</td>\n",
       "      <td>1</td>\n",
       "      <td>0</td>\n",
       "      <td>0</td>\n",
       "      <td>1</td>\n",
       "      <td>...</td>\n",
       "      <td>27.47</td>\n",
       "      <td>103</td>\n",
       "      <td>16.62</td>\n",
       "      <td>103</td>\n",
       "      <td>11.45</td>\n",
       "      <td>3</td>\n",
       "      <td>3.70</td>\n",
       "      <td>OH</td>\n",
       "      <td>415</td>\n",
       "      <td>371-7191</td>\n",
       "    </tr>\n",
       "    <tr>\n",
       "      <th>2</th>\n",
       "      <td>137</td>\n",
       "      <td>0</td>\n",
       "      <td>243.4</td>\n",
       "      <td>121.2</td>\n",
       "      <td>162.6</td>\n",
       "      <td>12.2</td>\n",
       "      <td>0</td>\n",
       "      <td>0</td>\n",
       "      <td>0</td>\n",
       "      <td>0</td>\n",
       "      <td>...</td>\n",
       "      <td>41.38</td>\n",
       "      <td>110</td>\n",
       "      <td>10.30</td>\n",
       "      <td>104</td>\n",
       "      <td>7.32</td>\n",
       "      <td>5</td>\n",
       "      <td>3.29</td>\n",
       "      <td>NJ</td>\n",
       "      <td>415</td>\n",
       "      <td>358-1921</td>\n",
       "    </tr>\n",
       "    <tr>\n",
       "      <th>3</th>\n",
       "      <td>84</td>\n",
       "      <td>0</td>\n",
       "      <td>299.4</td>\n",
       "      <td>61.9</td>\n",
       "      <td>196.9</td>\n",
       "      <td>6.6</td>\n",
       "      <td>2</td>\n",
       "      <td>0</td>\n",
       "      <td>1</td>\n",
       "      <td>0</td>\n",
       "      <td>...</td>\n",
       "      <td>50.90</td>\n",
       "      <td>88</td>\n",
       "      <td>5.26</td>\n",
       "      <td>89</td>\n",
       "      <td>8.86</td>\n",
       "      <td>7</td>\n",
       "      <td>1.78</td>\n",
       "      <td>OH</td>\n",
       "      <td>408</td>\n",
       "      <td>375-9999</td>\n",
       "    </tr>\n",
       "    <tr>\n",
       "      <th>4</th>\n",
       "      <td>75</td>\n",
       "      <td>0</td>\n",
       "      <td>166.7</td>\n",
       "      <td>148.3</td>\n",
       "      <td>186.9</td>\n",
       "      <td>10.1</td>\n",
       "      <td>3</td>\n",
       "      <td>0</td>\n",
       "      <td>1</td>\n",
       "      <td>0</td>\n",
       "      <td>...</td>\n",
       "      <td>28.34</td>\n",
       "      <td>122</td>\n",
       "      <td>12.61</td>\n",
       "      <td>121</td>\n",
       "      <td>8.41</td>\n",
       "      <td>3</td>\n",
       "      <td>2.73</td>\n",
       "      <td>OK</td>\n",
       "      <td>415</td>\n",
       "      <td>330-6626</td>\n",
       "    </tr>\n",
       "  </tbody>\n",
       "</table>\n",
       "<p>5 rows × 21 columns</p>\n",
       "</div>"
      ],
      "text/plain": [
       "   AccountLength  VMailMessage  DayMins  EveMins  NightMins  IntlMins  \\\n",
       "0            128            25    265.1    197.4      244.7      10.0   \n",
       "1            107            26    161.6    195.5      254.4      13.7   \n",
       "2            137             0    243.4    121.2      162.6      12.2   \n",
       "3             84             0    299.4     61.9      196.9       6.6   \n",
       "4             75             0    166.7    148.3      186.9      10.1   \n",
       "\n",
       "   CustServCalls  Churn  IntlPlan  VMailPlan  ...  DayCharge  EveCalls  \\\n",
       "0              1      0         0          1  ...      45.07        99   \n",
       "1              1      0         0          1  ...      27.47       103   \n",
       "2              0      0         0          0  ...      41.38       110   \n",
       "3              2      0         1          0  ...      50.90        88   \n",
       "4              3      0         1          0  ...      28.34       122   \n",
       "\n",
       "   EveCharge  NightCalls  NightCharge  IntlCalls  IntlCharge  State AreaCode  \\\n",
       "0      16.78          91        11.01          3        2.70     KS      415   \n",
       "1      16.62         103        11.45          3        3.70     OH      415   \n",
       "2      10.30         104         7.32          5        3.29     NJ      415   \n",
       "3       5.26          89         8.86          7        1.78     OH      408   \n",
       "4      12.61         121         8.41          3        2.73     OK      415   \n",
       "\n",
       "      Phone  \n",
       "0  382-4657  \n",
       "1  371-7191  \n",
       "2  358-1921  \n",
       "3  375-9999  \n",
       "4  330-6626  \n",
       "\n",
       "[5 rows x 21 columns]"
      ]
     },
     "execution_count": 3,
     "metadata": {},
     "output_type": "execute_result"
    }
   ],
   "source": [
    "churn = pd.read_csv('Churn.csv')\n",
    "churn.head()"
   ]
  },
  {
   "cell_type": "code",
   "execution_count": 4,
   "metadata": {},
   "outputs": [
    {
     "data": {
      "text/plain": [
       "(3333, 21)"
      ]
     },
     "execution_count": 4,
     "metadata": {},
     "output_type": "execute_result"
    }
   ],
   "source": [
    "churn.shape"
   ]
  },
  {
   "cell_type": "code",
   "execution_count": 5,
   "metadata": {},
   "outputs": [
    {
     "data": {
      "text/plain": [
       "(array([0, 1], dtype=int64), array([2850,  483], dtype=int64))"
      ]
     },
     "execution_count": 5,
     "metadata": {},
     "output_type": "execute_result"
    }
   ],
   "source": [
    "# target class ratio\n",
    "np.unique(churn.Churn,return_counts=True)"
   ]
  },
  {
   "cell_type": "code",
   "execution_count": 6,
   "metadata": {},
   "outputs": [
    {
     "data": {
      "text/plain": [
       "0.8550855085508551"
      ]
     },
     "execution_count": 6,
     "metadata": {},
     "output_type": "execute_result"
    }
   ],
   "source": [
    "2850/(2850+483)"
   ]
  },
  {
   "cell_type": "code",
   "execution_count": 7,
   "metadata": {},
   "outputs": [
    {
     "data": {
      "text/plain": [
       "array(['AccountLength', 'VMailMessage', 'DayMins', 'EveMins', 'NightMins',\n",
       "       'IntlMins', 'CustServCalls', 'Churn', 'IntlPlan', 'VMailPlan',\n",
       "       'DayCalls', 'DayCharge', 'EveCalls', 'EveCharge', 'NightCalls',\n",
       "       'NightCharge', 'IntlCalls', 'IntlCharge', 'State', 'AreaCode',\n",
       "       'Phone'], dtype=object)"
      ]
     },
     "execution_count": 7,
     "metadata": {},
     "output_type": "execute_result"
    }
   ],
   "source": [
    "churn.columns.values"
   ]
  },
  {
   "cell_type": "code",
   "execution_count": 8,
   "metadata": {},
   "outputs": [
    {
     "data": {
      "text/plain": [
       "False"
      ]
     },
     "execution_count": 8,
     "metadata": {},
     "output_type": "execute_result"
    }
   ],
   "source": [
    "# check if any NA values\n",
    "churn.isnull().values.any()"
   ]
  },
  {
   "cell_type": "code",
   "execution_count": 9,
   "metadata": {},
   "outputs": [
    {
     "name": "stdout",
     "output_type": "stream",
     "text": [
      "(3333, 1)\n",
      "(3333, 19)\n"
     ]
    }
   ],
   "source": [
    "# split the file into Independent and dependent variables\n",
    "churnY = pd.DataFrame(churn,columns=['Churn'])\n",
    "print(churnY.shape)\n",
    "churnX = churn.copy()\n",
    "churnX.drop(columns=['Churn','Phone'],axis=1,inplace=True)\n",
    "print(churnX.shape)"
   ]
  },
  {
   "cell_type": "code",
   "execution_count": 10,
   "metadata": {},
   "outputs": [
    {
     "name": "stdout",
     "output_type": "stream",
     "text": [
      "(2666, 19)\n",
      "(2666, 1)\n",
      "(667, 19)\n",
      "(667, 1)\n"
     ]
    }
   ],
   "source": [
    "# splitting the data into Train and Test\n",
    "from sklearn.model_selection import train_test_split\n",
    "X_train, X_test, Y_train, Y_test = train_test_split(churnX, churnY, \n",
    "                                                    test_size = 0.20, \n",
    "                                                    random_state = 0)\n",
    "print(X_train.shape)\n",
    "print(Y_train.shape)\n",
    "print(X_test.shape)\n",
    "print(Y_test.shape)"
   ]
  },
  {
   "cell_type": "code",
   "execution_count": 11,
   "metadata": {},
   "outputs": [
    {
     "data": {
      "text/plain": [
       "(array([408, 415, 510], dtype=int64), array([ 838, 1655,  840], dtype=int64))"
      ]
     },
     "execution_count": 11,
     "metadata": {},
     "output_type": "execute_result"
    }
   ],
   "source": [
    "np.unique(churn.AreaCode,return_counts=True)"
   ]
  },
  {
   "cell_type": "code",
   "execution_count": 12,
   "metadata": {},
   "outputs": [
    {
     "data": {
      "text/plain": [
       "(array(['AK', 'AL', 'AR', 'AZ', 'CA', 'CO', 'CT', 'DC', 'DE', 'FL', 'GA',\n",
       "        'HI', 'IA', 'ID', 'IL', 'IN', 'KS', 'KY', 'LA', 'MA', 'MD', 'ME',\n",
       "        'MI', 'MN', 'MO', 'MS', 'MT', 'NC', 'ND', 'NE', 'NH', 'NJ', 'NM',\n",
       "        'NV', 'NY', 'OH', 'OK', 'OR', 'PA', 'RI', 'SC', 'SD', 'TN', 'TX',\n",
       "        'UT', 'VA', 'VT', 'WA', 'WI', 'WV', 'WY'], dtype=object),\n",
       " array([ 52,  80,  55,  64,  34,  66,  74,  54,  61,  63,  54,  53,  44,\n",
       "         73,  58,  71,  70,  59,  51,  65,  70,  62,  73,  84,  63,  65,\n",
       "         68,  68,  62,  61,  56,  68,  62,  66,  83,  78,  61,  78,  45,\n",
       "         65,  60,  60,  53,  72,  72,  77,  73,  66,  78, 106,  77],\n",
       "       dtype=int64))"
      ]
     },
     "execution_count": 12,
     "metadata": {},
     "output_type": "execute_result"
    }
   ],
   "source": [
    "np.unique(churn.State,return_counts=True)"
   ]
  },
  {
   "cell_type": "code",
   "execution_count": 13,
   "metadata": {},
   "outputs": [
    {
     "name": "stderr",
     "output_type": "stream",
     "text": [
      "C:\\Users\\Vishnu Murthy Chakka\\Anaconda3\\lib\\site-packages\\pandas\\core\\generic.py:5292: SettingWithCopyWarning: \n",
      "A value is trying to be set on a copy of a slice from a DataFrame.\n",
      "Try using .loc[row_indexer,col_indexer] = value instead\n",
      "\n",
      "See the caveats in the documentation: https://pandas.pydata.org/pandas-docs/stable/user_guide/indexing.html#returning-a-view-versus-a-copy\n",
      "  self[name] = value\n"
     ]
    },
    {
     "data": {
      "text/plain": [
       "(array([ 0,  1,  2,  3,  4,  5,  6,  7,  8,  9, 10, 11, 12, 13, 14, 15, 16,\n",
       "        17, 18, 19, 20, 21, 22, 23, 24, 25, 26, 27, 28, 29, 30, 31, 32, 33,\n",
       "        34, 35, 36, 37, 38, 39, 40, 41, 42, 43, 44, 45, 46, 47, 48, 49, 50]),\n",
       " array([45, 63, 47, 48, 27, 49, 59, 43, 52, 51, 47, 45, 38, 58, 46, 51, 62,\n",
       "        45, 41, 54, 50, 50, 59, 69, 51, 51, 60, 54, 48, 53, 48, 51, 51, 50,\n",
       "        63, 62, 52, 62, 37, 50, 49, 48, 44, 50, 55, 62, 52, 54, 62, 82, 66],\n",
       "       dtype=int64))"
      ]
     },
     "execution_count": 13,
     "metadata": {},
     "output_type": "execute_result"
    }
   ],
   "source": [
    "# lable encoding for strings - state\n",
    "from sklearn.preprocessing import LabelEncoder\n",
    "le = LabelEncoder()\n",
    "X_train.State = le.fit_transform(X_train.State)\n",
    "X_test.State = le.transform(X_test.State)\n",
    "np.unique(X_train.State,return_counts=True)"
   ]
  },
  {
   "cell_type": "code",
   "execution_count": 14,
   "metadata": {},
   "outputs": [
    {
     "name": "stdout",
     "output_type": "stream",
     "text": [
      "(2666, 2)\n",
      "(2666, 17)\n"
     ]
    }
   ],
   "source": [
    "# split the Train data into Categorical and non-categorical\n",
    "catcols = ['State', 'AreaCode']\n",
    "X_train_cat = pd.DataFrame(X_train, columns=catcols)\n",
    "print(X_train_cat.shape)\n",
    "X_train_cont = X_train.copy()\n",
    "X_train_cont.drop(columns=['State', 'AreaCode'],axis=1,inplace=True)\n",
    "print(X_train_cont.shape)\n",
    "X_train_cont.reset_index(drop=True,inplace=True)"
   ]
  },
  {
   "cell_type": "code",
   "execution_count": 15,
   "metadata": {},
   "outputs": [
    {
     "name": "stdout",
     "output_type": "stream",
     "text": [
      "(667, 2)\n",
      "Index(['AccountLength', 'VMailMessage', 'DayMins', 'EveMins', 'NightMins',\n",
      "       'IntlMins', 'CustServCalls', 'IntlPlan', 'VMailPlan', 'DayCalls',\n",
      "       'DayCharge', 'EveCalls', 'EveCharge', 'NightCalls', 'NightCharge',\n",
      "       'IntlCalls', 'IntlCharge', 'State', 'AreaCode'],\n",
      "      dtype='object')\n",
      "(667, 17)\n"
     ]
    }
   ],
   "source": [
    "# split the Test data into Categorical and non-categorical\n",
    "X_test_cat = pd.DataFrame(X_test, columns=catcols)\n",
    "print(X_test_cat.shape)\n",
    "X_test_cont = X_test.copy()\n",
    "print(X_test_cont.columns)\n",
    "X_test_cont.drop(columns=['State', 'AreaCode'],axis=1,inplace=True)\n",
    "print(X_test_cont.shape)\n",
    "X_test_cont.reset_index(drop=True,inplace=True)"
   ]
  },
  {
   "cell_type": "code",
   "execution_count": 16,
   "metadata": {},
   "outputs": [
    {
     "name": "stdout",
     "output_type": "stream",
     "text": [
      "(2666, 54)\n",
      "(667, 54)\n"
     ]
    }
   ],
   "source": [
    "# apply one hot encoding on state and area\n",
    "from sklearn.preprocessing import OneHotEncoder\n",
    "OHE = OneHotEncoder(sparse = False, handle_unknown = 'error')\n",
    "X_train_cat2 = OHE.fit_transform(X_train_cat)\n",
    "print(X_train_cat2.shape)\n",
    "X_test_cat2 = OHE.transform(X_test_cat)\n",
    "print(X_test_cat2.shape)"
   ]
  },
  {
   "cell_type": "code",
   "execution_count": 17,
   "metadata": {},
   "outputs": [
    {
     "name": "stdout",
     "output_type": "stream",
     "text": [
      "(2666, 54)\n",
      "(667, 54)\n"
     ]
    }
   ],
   "source": [
    "# convert back array into data frame\n",
    "X_train_cat3 = pd.DataFrame(X_train_cat2)\n",
    "print(X_train_cat3.shape)\n",
    "X_test_cat3 = pd.DataFrame(X_test_cat2)\n",
    "print(X_test_cat3.shape)"
   ]
  },
  {
   "cell_type": "code",
   "execution_count": 18,
   "metadata": {},
   "outputs": [
    {
     "name": "stdout",
     "output_type": "stream",
     "text": [
      "(2666, 71)\n",
      "(667, 71)\n"
     ]
    }
   ],
   "source": [
    "# merge continuous and onehotencoded categorical data\n",
    "X_train_final = pd.concat([X_train_cont,X_train_cat3],axis=1,join='outer',ignore_index=False)\n",
    "X_test_final = pd.concat([X_test_cont,X_test_cat3],axis=1,join='outer',ignore_index=False)\n",
    "print(X_train_final.shape)\n",
    "print(X_test_final.shape)"
   ]
  },
  {
   "cell_type": "code",
   "execution_count": 19,
   "metadata": {},
   "outputs": [
    {
     "name": "stdout",
     "output_type": "stream",
     "text": [
      "Fitting 3 folds for each of 54 candidates, totalling 162 fits\n",
      "[CV] bootstrap=True, max_depth=3, max_features=0.3, n_estimators=10 ..\n",
      "[CV]  bootstrap=True, max_depth=3, max_features=0.3, n_estimators=10, score=(train=0.791, test=0.763), total=   0.1s\n",
      "[CV] bootstrap=True, max_depth=3, max_features=0.3, n_estimators=10 ..\n",
      "[CV]  bootstrap=True, max_depth=3, max_features=0.3, n_estimators=10, score=(train=0.814, test=0.765), total=   0.1s\n",
      "[CV] bootstrap=True, max_depth=3, max_features=0.3, n_estimators=10 ..\n"
     ]
    },
    {
     "name": "stderr",
     "output_type": "stream",
     "text": [
      "[Parallel(n_jobs=1)]: Using backend SequentialBackend with 1 concurrent workers.\n",
      "[Parallel(n_jobs=1)]: Done   1 out of   1 | elapsed:    0.0s remaining:    0.0s\n",
      "[Parallel(n_jobs=1)]: Done   2 out of   2 | elapsed:    0.1s remaining:    0.0s\n"
     ]
    },
    {
     "name": "stdout",
     "output_type": "stream",
     "text": [
      "[CV]  bootstrap=True, max_depth=3, max_features=0.3, n_estimators=10, score=(train=0.800, test=0.788), total=   0.1s\n",
      "[CV] bootstrap=True, max_depth=3, max_features=0.3, n_estimators=20 ..\n",
      "[CV]  bootstrap=True, max_depth=3, max_features=0.3, n_estimators=20, score=(train=0.807, test=0.791), total=   0.1s\n",
      "[CV] bootstrap=True, max_depth=3, max_features=0.3, n_estimators=20 ..\n"
     ]
    },
    {
     "name": "stderr",
     "output_type": "stream",
     "text": [
      "[Parallel(n_jobs=1)]: Done   3 out of   3 | elapsed:    0.2s remaining:    0.0s\n",
      "[Parallel(n_jobs=1)]: Done   4 out of   4 | elapsed:    0.3s remaining:    0.0s\n"
     ]
    },
    {
     "name": "stdout",
     "output_type": "stream",
     "text": [
      "[CV]  bootstrap=True, max_depth=3, max_features=0.3, n_estimators=20, score=(train=0.817, test=0.768), total=   0.1s\n",
      "[CV] bootstrap=True, max_depth=3, max_features=0.3, n_estimators=20 ..\n",
      "[CV]  bootstrap=True, max_depth=3, max_features=0.3, n_estimators=20, score=(train=0.814, test=0.792), total=   0.1s\n",
      "[CV] bootstrap=True, max_depth=3, max_features=0.3, n_estimators=30 ..\n"
     ]
    },
    {
     "name": "stderr",
     "output_type": "stream",
     "text": [
      "[Parallel(n_jobs=1)]: Done   5 out of   5 | elapsed:    0.4s remaining:    0.0s\n",
      "[Parallel(n_jobs=1)]: Done   6 out of   6 | elapsed:    0.6s remaining:    0.0s\n"
     ]
    },
    {
     "name": "stdout",
     "output_type": "stream",
     "text": [
      "[CV]  bootstrap=True, max_depth=3, max_features=0.3, n_estimators=30, score=(train=0.804, test=0.773), total=   0.2s\n",
      "[CV] bootstrap=True, max_depth=3, max_features=0.3, n_estimators=30 ..\n",
      "[CV]  bootstrap=True, max_depth=3, max_features=0.3, n_estimators=30, score=(train=0.820, test=0.779), total=   0.2s\n",
      "[CV] bootstrap=True, max_depth=3, max_features=0.3, n_estimators=30 ..\n"
     ]
    },
    {
     "name": "stderr",
     "output_type": "stream",
     "text": [
      "[Parallel(n_jobs=1)]: Done   7 out of   7 | elapsed:    0.8s remaining:    0.0s\n",
      "[Parallel(n_jobs=1)]: Done   8 out of   8 | elapsed:    1.0s remaining:    0.0s\n"
     ]
    },
    {
     "name": "stdout",
     "output_type": "stream",
     "text": [
      "[CV]  bootstrap=True, max_depth=3, max_features=0.3, n_estimators=30, score=(train=0.804, test=0.794), total=   0.2s\n",
      "[CV] bootstrap=True, max_depth=3, max_features=0.6, n_estimators=10 ..\n",
      "[CV]  bootstrap=True, max_depth=3, max_features=0.6, n_estimators=10, score=(train=0.800, test=0.772), total=   0.1s\n",
      "[CV] bootstrap=True, max_depth=3, max_features=0.6, n_estimators=10 ..\n"
     ]
    },
    {
     "name": "stderr",
     "output_type": "stream",
     "text": [
      "[Parallel(n_jobs=1)]: Done   9 out of   9 | elapsed:    1.2s remaining:    0.0s\n"
     ]
    },
    {
     "name": "stdout",
     "output_type": "stream",
     "text": [
      "[CV]  bootstrap=True, max_depth=3, max_features=0.6, n_estimators=10, score=(train=0.776, test=0.772), total=   0.1s\n",
      "[CV] bootstrap=True, max_depth=3, max_features=0.6, n_estimators=10 ..\n",
      "[CV]  bootstrap=True, max_depth=3, max_features=0.6, n_estimators=10, score=(train=0.796, test=0.776), total=   0.1s\n",
      "[CV] bootstrap=True, max_depth=3, max_features=0.6, n_estimators=20 ..\n",
      "[CV]  bootstrap=True, max_depth=3, max_features=0.6, n_estimators=20, score=(train=0.770, test=0.753), total=   0.2s\n",
      "[CV] bootstrap=True, max_depth=3, max_features=0.6, n_estimators=20 ..\n",
      "[CV]  bootstrap=True, max_depth=3, max_features=0.6, n_estimators=20, score=(train=0.779, test=0.776), total=   0.2s\n",
      "[CV] bootstrap=True, max_depth=3, max_features=0.6, n_estimators=20 ..\n",
      "[CV]  bootstrap=True, max_depth=3, max_features=0.6, n_estimators=20, score=(train=0.784, test=0.767), total=   0.2s\n",
      "[CV] bootstrap=True, max_depth=3, max_features=0.6, n_estimators=30 ..\n",
      "[CV]  bootstrap=True, max_depth=3, max_features=0.6, n_estimators=30, score=(train=0.765, test=0.743), total=   0.2s\n",
      "[CV] bootstrap=True, max_depth=3, max_features=0.6, n_estimators=30 ..\n",
      "[CV]  bootstrap=True, max_depth=3, max_features=0.6, n_estimators=30, score=(train=0.778, test=0.774), total=   0.2s\n",
      "[CV] bootstrap=True, max_depth=3, max_features=0.6, n_estimators=30 ..\n",
      "[CV]  bootstrap=True, max_depth=3, max_features=0.6, n_estimators=30, score=(train=0.776, test=0.764), total=   0.2s\n",
      "[CV] bootstrap=True, max_depth=3, max_features=0.9, n_estimators=10 ..\n",
      "[CV]  bootstrap=True, max_depth=3, max_features=0.9, n_estimators=10, score=(train=0.770, test=0.745), total=   0.1s\n",
      "[CV] bootstrap=True, max_depth=3, max_features=0.9, n_estimators=10 ..\n",
      "[CV]  bootstrap=True, max_depth=3, max_features=0.9, n_estimators=10, score=(train=0.776, test=0.769), total=   0.1s\n",
      "[CV] bootstrap=True, max_depth=3, max_features=0.9, n_estimators=10 ..\n",
      "[CV]  bootstrap=True, max_depth=3, max_features=0.9, n_estimators=10, score=(train=0.781, test=0.766), total=   0.1s\n",
      "[CV] bootstrap=True, max_depth=3, max_features=0.9, n_estimators=20 ..\n",
      "[CV]  bootstrap=True, max_depth=3, max_features=0.9, n_estimators=20, score=(train=0.764, test=0.743), total=   0.2s\n",
      "[CV] bootstrap=True, max_depth=3, max_features=0.9, n_estimators=20 ..\n",
      "[CV]  bootstrap=True, max_depth=3, max_features=0.9, n_estimators=20, score=(train=0.782, test=0.773), total=   0.2s\n",
      "[CV] bootstrap=True, max_depth=3, max_features=0.9, n_estimators=20 ..\n",
      "[CV]  bootstrap=True, max_depth=3, max_features=0.9, n_estimators=20, score=(train=0.796, test=0.770), total=   0.2s\n",
      "[CV] bootstrap=True, max_depth=3, max_features=0.9, n_estimators=30 ..\n",
      "[CV]  bootstrap=True, max_depth=3, max_features=0.9, n_estimators=30, score=(train=0.759, test=0.740), total=   0.3s\n",
      "[CV] bootstrap=True, max_depth=3, max_features=0.9, n_estimators=30 ..\n",
      "[CV]  bootstrap=True, max_depth=3, max_features=0.9, n_estimators=30, score=(train=0.785, test=0.780), total=   0.3s\n",
      "[CV] bootstrap=True, max_depth=3, max_features=0.9, n_estimators=30 ..\n",
      "[CV]  bootstrap=True, max_depth=3, max_features=0.9, n_estimators=30, score=(train=0.789, test=0.785), total=   0.3s\n",
      "[CV] bootstrap=True, max_depth=4, max_features=0.3, n_estimators=10 ..\n",
      "[CV]  bootstrap=True, max_depth=4, max_features=0.3, n_estimators=10, score=(train=0.850, test=0.784), total=   0.1s\n",
      "[CV] bootstrap=True, max_depth=4, max_features=0.3, n_estimators=10 ..\n",
      "[CV]  bootstrap=True, max_depth=4, max_features=0.3, n_estimators=10, score=(train=0.868, test=0.782), total=   0.1s\n",
      "[CV] bootstrap=True, max_depth=4, max_features=0.3, n_estimators=10 ..\n",
      "[CV]  bootstrap=True, max_depth=4, max_features=0.3, n_estimators=10, score=(train=0.850, test=0.827), total=   0.1s\n",
      "[CV] bootstrap=True, max_depth=4, max_features=0.3, n_estimators=20 ..\n",
      "[CV]  bootstrap=True, max_depth=4, max_features=0.3, n_estimators=20, score=(train=0.845, test=0.801), total=   0.1s\n",
      "[CV] bootstrap=True, max_depth=4, max_features=0.3, n_estimators=20 ..\n",
      "[CV]  bootstrap=True, max_depth=4, max_features=0.3, n_estimators=20, score=(train=0.862, test=0.808), total=   0.1s\n",
      "[CV] bootstrap=True, max_depth=4, max_features=0.3, n_estimators=20 ..\n",
      "[CV]  bootstrap=True, max_depth=4, max_features=0.3, n_estimators=20, score=(train=0.857, test=0.837), total=   0.1s\n",
      "[CV] bootstrap=True, max_depth=4, max_features=0.3, n_estimators=30 ..\n",
      "[CV]  bootstrap=True, max_depth=4, max_features=0.3, n_estimators=30, score=(train=0.830, test=0.786), total=   0.2s\n",
      "[CV] bootstrap=True, max_depth=4, max_features=0.3, n_estimators=30 ..\n",
      "[CV]  bootstrap=True, max_depth=4, max_features=0.3, n_estimators=30, score=(train=0.869, test=0.809), total=   0.2s\n",
      "[CV] bootstrap=True, max_depth=4, max_features=0.3, n_estimators=30 ..\n",
      "[CV]  bootstrap=True, max_depth=4, max_features=0.3, n_estimators=30, score=(train=0.861, test=0.829), total=   0.2s\n",
      "[CV] bootstrap=True, max_depth=4, max_features=0.6, n_estimators=10 ..\n",
      "[CV]  bootstrap=True, max_depth=4, max_features=0.6, n_estimators=10, score=(train=0.844, test=0.799), total=   0.1s\n",
      "[CV] bootstrap=True, max_depth=4, max_features=0.6, n_estimators=10 ..\n",
      "[CV]  bootstrap=True, max_depth=4, max_features=0.6, n_estimators=10, score=(train=0.880, test=0.847), total=   0.1s\n",
      "[CV] bootstrap=True, max_depth=4, max_features=0.6, n_estimators=10 ..\n",
      "[CV]  bootstrap=True, max_depth=4, max_features=0.6, n_estimators=10, score=(train=0.816, test=0.805), total=   0.1s\n",
      "[CV] bootstrap=True, max_depth=4, max_features=0.6, n_estimators=20 ..\n",
      "[CV]  bootstrap=True, max_depth=4, max_features=0.6, n_estimators=20, score=(train=0.831, test=0.784), total=   0.2s\n",
      "[CV] bootstrap=True, max_depth=4, max_features=0.6, n_estimators=20 ..\n",
      "[CV]  bootstrap=True, max_depth=4, max_features=0.6, n_estimators=20, score=(train=0.864, test=0.837), total=   0.2s\n",
      "[CV] bootstrap=True, max_depth=4, max_features=0.6, n_estimators=20 ..\n",
      "[CV]  bootstrap=True, max_depth=4, max_features=0.6, n_estimators=20, score=(train=0.841, test=0.826), total=   0.2s\n",
      "[CV] bootstrap=True, max_depth=4, max_features=0.6, n_estimators=30 ..\n",
      "[CV]  bootstrap=True, max_depth=4, max_features=0.6, n_estimators=30, score=(train=0.830, test=0.782), total=   0.3s\n",
      "[CV] bootstrap=True, max_depth=4, max_features=0.6, n_estimators=30 ..\n",
      "[CV]  bootstrap=True, max_depth=4, max_features=0.6, n_estimators=30, score=(train=0.866, test=0.842), total=   0.3s\n",
      "[CV] bootstrap=True, max_depth=4, max_features=0.6, n_estimators=30 ..\n",
      "[CV]  bootstrap=True, max_depth=4, max_features=0.6, n_estimators=30, score=(train=0.829, test=0.802), total=   0.3s\n",
      "[CV] bootstrap=True, max_depth=4, max_features=0.9, n_estimators=10 ..\n",
      "[CV]  bootstrap=True, max_depth=4, max_features=0.9, n_estimators=10, score=(train=0.849, test=0.812), total=   0.1s\n",
      "[CV] bootstrap=True, max_depth=4, max_features=0.9, n_estimators=10 ..\n",
      "[CV]  bootstrap=True, max_depth=4, max_features=0.9, n_estimators=10, score=(train=0.886, test=0.850), total=   0.1s\n",
      "[CV] bootstrap=True, max_depth=4, max_features=0.9, n_estimators=10 ..\n",
      "[CV]  bootstrap=True, max_depth=4, max_features=0.9, n_estimators=10, score=(train=0.846, test=0.842), total=   0.1s\n",
      "[CV] bootstrap=True, max_depth=4, max_features=0.9, n_estimators=20 ..\n",
      "[CV]  bootstrap=True, max_depth=4, max_features=0.9, n_estimators=20, score=(train=0.819, test=0.784), total=   0.3s\n",
      "[CV] bootstrap=True, max_depth=4, max_features=0.9, n_estimators=20 ..\n",
      "[CV]  bootstrap=True, max_depth=4, max_features=0.9, n_estimators=20, score=(train=0.882, test=0.835), total=   0.2s\n",
      "[CV] bootstrap=True, max_depth=4, max_features=0.9, n_estimators=20 ..\n",
      "[CV]  bootstrap=True, max_depth=4, max_features=0.9, n_estimators=20, score=(train=0.810, test=0.807), total=   0.3s\n",
      "[CV] bootstrap=True, max_depth=4, max_features=0.9, n_estimators=30 ..\n",
      "[CV]  bootstrap=True, max_depth=4, max_features=0.9, n_estimators=30, score=(train=0.821, test=0.784), total=   0.4s\n",
      "[CV] bootstrap=True, max_depth=4, max_features=0.9, n_estimators=30 ..\n",
      "[CV]  bootstrap=True, max_depth=4, max_features=0.9, n_estimators=30, score=(train=0.873, test=0.837), total=   0.4s\n",
      "[CV] bootstrap=True, max_depth=4, max_features=0.9, n_estimators=30 ..\n",
      "[CV]  bootstrap=True, max_depth=4, max_features=0.9, n_estimators=30, score=(train=0.814, test=0.800), total=   0.4s\n",
      "[CV] bootstrap=True, max_depth=5, max_features=0.3, n_estimators=10 ..\n",
      "[CV]  bootstrap=True, max_depth=5, max_features=0.3, n_estimators=10, score=(train=0.862, test=0.803), total=   0.1s\n",
      "[CV] bootstrap=True, max_depth=5, max_features=0.3, n_estimators=10 ..\n"
     ]
    },
    {
     "name": "stdout",
     "output_type": "stream",
     "text": [
      "[CV]  bootstrap=True, max_depth=5, max_features=0.3, n_estimators=10, score=(train=0.884, test=0.817), total=   0.1s\n",
      "[CV] bootstrap=True, max_depth=5, max_features=0.3, n_estimators=10 ..\n",
      "[CV]  bootstrap=True, max_depth=5, max_features=0.3, n_estimators=10, score=(train=0.873, test=0.841), total=   0.1s\n",
      "[CV] bootstrap=True, max_depth=5, max_features=0.3, n_estimators=20 ..\n",
      "[CV]  bootstrap=True, max_depth=5, max_features=0.3, n_estimators=20, score=(train=0.861, test=0.808), total=   0.2s\n",
      "[CV] bootstrap=True, max_depth=5, max_features=0.3, n_estimators=20 ..\n",
      "[CV]  bootstrap=True, max_depth=5, max_features=0.3, n_estimators=20, score=(train=0.907, test=0.836), total=   0.1s\n",
      "[CV] bootstrap=True, max_depth=5, max_features=0.3, n_estimators=20 ..\n",
      "[CV]  bootstrap=True, max_depth=5, max_features=0.3, n_estimators=20, score=(train=0.895, test=0.853), total=   0.1s\n",
      "[CV] bootstrap=True, max_depth=5, max_features=0.3, n_estimators=30 ..\n",
      "[CV]  bootstrap=True, max_depth=5, max_features=0.3, n_estimators=30, score=(train=0.863, test=0.802), total=   0.2s\n",
      "[CV] bootstrap=True, max_depth=5, max_features=0.3, n_estimators=30 ..\n",
      "[CV]  bootstrap=True, max_depth=5, max_features=0.3, n_estimators=30, score=(train=0.906, test=0.839), total=   0.2s\n",
      "[CV] bootstrap=True, max_depth=5, max_features=0.3, n_estimators=30 ..\n",
      "[CV]  bootstrap=True, max_depth=5, max_features=0.3, n_estimators=30, score=(train=0.891, test=0.866), total=   0.2s\n",
      "[CV] bootstrap=True, max_depth=5, max_features=0.6, n_estimators=10 ..\n",
      "[CV]  bootstrap=True, max_depth=5, max_features=0.6, n_estimators=10, score=(train=0.887, test=0.838), total=   0.1s\n",
      "[CV] bootstrap=True, max_depth=5, max_features=0.6, n_estimators=10 ..\n",
      "[CV]  bootstrap=True, max_depth=5, max_features=0.6, n_estimators=10, score=(train=0.913, test=0.858), total=   0.1s\n",
      "[CV] bootstrap=True, max_depth=5, max_features=0.6, n_estimators=10 ..\n",
      "[CV]  bootstrap=True, max_depth=5, max_features=0.6, n_estimators=10, score=(train=0.883, test=0.859), total=   0.1s\n",
      "[CV] bootstrap=True, max_depth=5, max_features=0.6, n_estimators=20 ..\n",
      "[CV]  bootstrap=True, max_depth=5, max_features=0.6, n_estimators=20, score=(train=0.885, test=0.844), total=   0.2s\n",
      "[CV] bootstrap=True, max_depth=5, max_features=0.6, n_estimators=20 ..\n",
      "[CV]  bootstrap=True, max_depth=5, max_features=0.6, n_estimators=20, score=(train=0.903, test=0.849), total=   0.3s\n",
      "[CV] bootstrap=True, max_depth=5, max_features=0.6, n_estimators=20 ..\n",
      "[CV]  bootstrap=True, max_depth=5, max_features=0.6, n_estimators=20, score=(train=0.891, test=0.881), total=   0.3s\n",
      "[CV] bootstrap=True, max_depth=5, max_features=0.6, n_estimators=30 ..\n",
      "[CV]  bootstrap=True, max_depth=5, max_features=0.6, n_estimators=30, score=(train=0.882, test=0.836), total=   0.3s\n",
      "[CV] bootstrap=True, max_depth=5, max_features=0.6, n_estimators=30 ..\n",
      "[CV]  bootstrap=True, max_depth=5, max_features=0.6, n_estimators=30, score=(train=0.905, test=0.852), total=   0.4s\n",
      "[CV] bootstrap=True, max_depth=5, max_features=0.6, n_estimators=30 ..\n",
      "[CV]  bootstrap=True, max_depth=5, max_features=0.6, n_estimators=30, score=(train=0.890, test=0.878), total=   0.4s\n",
      "[CV] bootstrap=True, max_depth=5, max_features=0.9, n_estimators=10 ..\n",
      "[CV]  bootstrap=True, max_depth=5, max_features=0.9, n_estimators=10, score=(train=0.901, test=0.853), total=   0.2s\n",
      "[CV] bootstrap=True, max_depth=5, max_features=0.9, n_estimators=10 ..\n",
      "[CV]  bootstrap=True, max_depth=5, max_features=0.9, n_estimators=10, score=(train=0.902, test=0.841), total=   0.2s\n",
      "[CV] bootstrap=True, max_depth=5, max_features=0.9, n_estimators=10 ..\n",
      "[CV]  bootstrap=True, max_depth=5, max_features=0.9, n_estimators=10, score=(train=0.891, test=0.872), total=   0.2s\n",
      "[CV] bootstrap=True, max_depth=5, max_features=0.9, n_estimators=20 ..\n",
      "[CV]  bootstrap=True, max_depth=5, max_features=0.9, n_estimators=20, score=(train=0.893, test=0.851), total=   0.3s\n",
      "[CV] bootstrap=True, max_depth=5, max_features=0.9, n_estimators=20 ..\n",
      "[CV]  bootstrap=True, max_depth=5, max_features=0.9, n_estimators=20, score=(train=0.902, test=0.840), total=   0.4s\n",
      "[CV] bootstrap=True, max_depth=5, max_features=0.9, n_estimators=20 ..\n",
      "[CV]  bootstrap=True, max_depth=5, max_features=0.9, n_estimators=20, score=(train=0.890, test=0.878), total=   0.3s\n",
      "[CV] bootstrap=True, max_depth=5, max_features=0.9, n_estimators=30 ..\n",
      "[CV]  bootstrap=True, max_depth=5, max_features=0.9, n_estimators=30, score=(train=0.896, test=0.851), total=   0.5s\n",
      "[CV] bootstrap=True, max_depth=5, max_features=0.9, n_estimators=30 ..\n",
      "[CV]  bootstrap=True, max_depth=5, max_features=0.9, n_estimators=30, score=(train=0.903, test=0.851), total=   0.6s\n",
      "[CV] bootstrap=True, max_depth=5, max_features=0.9, n_estimators=30 ..\n",
      "[CV]  bootstrap=True, max_depth=5, max_features=0.9, n_estimators=30, score=(train=0.893, test=0.867), total=   0.5s\n",
      "[CV] bootstrap=False, max_depth=3, max_features=0.3, n_estimators=10 .\n",
      "[CV]  bootstrap=False, max_depth=3, max_features=0.3, n_estimators=10, score=(train=0.769, test=0.735), total=   0.1s\n",
      "[CV] bootstrap=False, max_depth=3, max_features=0.3, n_estimators=10 .\n",
      "[CV]  bootstrap=False, max_depth=3, max_features=0.3, n_estimators=10, score=(train=0.822, test=0.797), total=   0.1s\n",
      "[CV] bootstrap=False, max_depth=3, max_features=0.3, n_estimators=10 .\n",
      "[CV]  bootstrap=False, max_depth=3, max_features=0.3, n_estimators=10, score=(train=0.774, test=0.770), total=   0.1s\n",
      "[CV] bootstrap=False, max_depth=3, max_features=0.3, n_estimators=20 .\n",
      "[CV]  bootstrap=False, max_depth=3, max_features=0.3, n_estimators=20, score=(train=0.768, test=0.746), total=   0.2s\n",
      "[CV] bootstrap=False, max_depth=3, max_features=0.3, n_estimators=20 .\n",
      "[CV]  bootstrap=False, max_depth=3, max_features=0.3, n_estimators=20, score=(train=0.847, test=0.807), total=   0.1s\n",
      "[CV] bootstrap=False, max_depth=3, max_features=0.3, n_estimators=20 .\n",
      "[CV]  bootstrap=False, max_depth=3, max_features=0.3, n_estimators=20, score=(train=0.793, test=0.795), total=   0.1s\n",
      "[CV] bootstrap=False, max_depth=3, max_features=0.3, n_estimators=30 .\n",
      "[CV]  bootstrap=False, max_depth=3, max_features=0.3, n_estimators=30, score=(train=0.797, test=0.770), total=   0.2s\n",
      "[CV] bootstrap=False, max_depth=3, max_features=0.3, n_estimators=30 .\n",
      "[CV]  bootstrap=False, max_depth=3, max_features=0.3, n_estimators=30, score=(train=0.834, test=0.806), total=   0.2s\n",
      "[CV] bootstrap=False, max_depth=3, max_features=0.3, n_estimators=30 .\n",
      "[CV]  bootstrap=False, max_depth=3, max_features=0.3, n_estimators=30, score=(train=0.784, test=0.776), total=   0.2s\n",
      "[CV] bootstrap=False, max_depth=3, max_features=0.6, n_estimators=10 .\n",
      "[CV]  bootstrap=False, max_depth=3, max_features=0.6, n_estimators=10, score=(train=0.753, test=0.733), total=   0.1s\n",
      "[CV] bootstrap=False, max_depth=3, max_features=0.6, n_estimators=10 .\n",
      "[CV]  bootstrap=False, max_depth=3, max_features=0.6, n_estimators=10, score=(train=0.758, test=0.746), total=   0.1s\n",
      "[CV] bootstrap=False, max_depth=3, max_features=0.6, n_estimators=10 .\n",
      "[CV]  bootstrap=False, max_depth=3, max_features=0.6, n_estimators=10, score=(train=0.797, test=0.791), total=   0.2s\n",
      "[CV] bootstrap=False, max_depth=3, max_features=0.6, n_estimators=20 .\n",
      "[CV]  bootstrap=False, max_depth=3, max_features=0.6, n_estimators=20, score=(train=0.750, test=0.731), total=   0.2s\n",
      "[CV] bootstrap=False, max_depth=3, max_features=0.6, n_estimators=20 .\n",
      "[CV]  bootstrap=False, max_depth=3, max_features=0.6, n_estimators=20, score=(train=0.759, test=0.747), total=   0.2s\n",
      "[CV] bootstrap=False, max_depth=3, max_features=0.6, n_estimators=20 .\n",
      "[CV]  bootstrap=False, max_depth=3, max_features=0.6, n_estimators=20, score=(train=0.761, test=0.744), total=   0.2s\n",
      "[CV] bootstrap=False, max_depth=3, max_features=0.6, n_estimators=30 .\n",
      "[CV]  bootstrap=False, max_depth=3, max_features=0.6, n_estimators=30, score=(train=0.751, test=0.733), total=   0.3s\n",
      "[CV] bootstrap=False, max_depth=3, max_features=0.6, n_estimators=30 .\n",
      "[CV]  bootstrap=False, max_depth=3, max_features=0.6, n_estimators=30, score=(train=0.764, test=0.764), total=   0.3s\n",
      "[CV] bootstrap=False, max_depth=3, max_features=0.6, n_estimators=30 .\n",
      "[CV]  bootstrap=False, max_depth=3, max_features=0.6, n_estimators=30, score=(train=0.767, test=0.753), total=   0.4s\n",
      "[CV] bootstrap=False, max_depth=3, max_features=0.9, n_estimators=10 .\n"
     ]
    },
    {
     "name": "stdout",
     "output_type": "stream",
     "text": [
      "[CV]  bootstrap=False, max_depth=3, max_features=0.9, n_estimators=10, score=(train=0.760, test=0.738), total=   0.2s\n",
      "[CV] bootstrap=False, max_depth=3, max_features=0.9, n_estimators=10 .\n",
      "[CV]  bootstrap=False, max_depth=3, max_features=0.9, n_estimators=10, score=(train=0.758, test=0.746), total=   0.2s\n",
      "[CV] bootstrap=False, max_depth=3, max_features=0.9, n_estimators=10 .\n",
      "[CV]  bootstrap=False, max_depth=3, max_features=0.9, n_estimators=10, score=(train=0.779, test=0.776), total=   0.2s\n",
      "[CV] bootstrap=False, max_depth=3, max_features=0.9, n_estimators=20 .\n",
      "[CV]  bootstrap=False, max_depth=3, max_features=0.9, n_estimators=20, score=(train=0.760, test=0.738), total=   0.3s\n",
      "[CV] bootstrap=False, max_depth=3, max_features=0.9, n_estimators=20 .\n",
      "[CV]  bootstrap=False, max_depth=3, max_features=0.9, n_estimators=20, score=(train=0.758, test=0.746), total=   0.3s\n",
      "[CV] bootstrap=False, max_depth=3, max_features=0.9, n_estimators=20 .\n",
      "[CV]  bootstrap=False, max_depth=3, max_features=0.9, n_estimators=20, score=(train=0.779, test=0.776), total=   0.3s\n",
      "[CV] bootstrap=False, max_depth=3, max_features=0.9, n_estimators=30 .\n",
      "[CV]  bootstrap=False, max_depth=3, max_features=0.9, n_estimators=30, score=(train=0.760, test=0.738), total=   0.4s\n",
      "[CV] bootstrap=False, max_depth=3, max_features=0.9, n_estimators=30 .\n",
      "[CV]  bootstrap=False, max_depth=3, max_features=0.9, n_estimators=30, score=(train=0.758, test=0.746), total=   0.5s\n",
      "[CV] bootstrap=False, max_depth=3, max_features=0.9, n_estimators=30 .\n",
      "[CV]  bootstrap=False, max_depth=3, max_features=0.9, n_estimators=30, score=(train=0.779, test=0.776), total=   0.5s\n",
      "[CV] bootstrap=False, max_depth=4, max_features=0.3, n_estimators=10 .\n",
      "[CV]  bootstrap=False, max_depth=4, max_features=0.3, n_estimators=10, score=(train=0.824, test=0.791), total=   0.1s\n",
      "[CV] bootstrap=False, max_depth=4, max_features=0.3, n_estimators=10 .\n",
      "[CV]  bootstrap=False, max_depth=4, max_features=0.3, n_estimators=10, score=(train=0.885, test=0.836), total=   0.1s\n",
      "[CV] bootstrap=False, max_depth=4, max_features=0.3, n_estimators=10 .\n",
      "[CV]  bootstrap=False, max_depth=4, max_features=0.3, n_estimators=10, score=(train=0.837, test=0.810), total=   0.1s\n",
      "[CV] bootstrap=False, max_depth=4, max_features=0.3, n_estimators=20 .\n",
      "[CV]  bootstrap=False, max_depth=4, max_features=0.3, n_estimators=20, score=(train=0.820, test=0.773), total=   0.2s\n",
      "[CV] bootstrap=False, max_depth=4, max_features=0.3, n_estimators=20 .\n",
      "[CV]  bootstrap=False, max_depth=4, max_features=0.3, n_estimators=20, score=(train=0.864, test=0.843), total=   0.2s\n",
      "[CV] bootstrap=False, max_depth=4, max_features=0.3, n_estimators=20 .\n",
      "[CV]  bootstrap=False, max_depth=4, max_features=0.3, n_estimators=20, score=(train=0.836, test=0.815), total=   0.2s\n",
      "[CV] bootstrap=False, max_depth=4, max_features=0.3, n_estimators=30 .\n",
      "[CV]  bootstrap=False, max_depth=4, max_features=0.3, n_estimators=30, score=(train=0.824, test=0.794), total=   0.2s\n",
      "[CV] bootstrap=False, max_depth=4, max_features=0.3, n_estimators=30 .\n",
      "[CV]  bootstrap=False, max_depth=4, max_features=0.3, n_estimators=30, score=(train=0.875, test=0.845), total=   0.3s\n",
      "[CV] bootstrap=False, max_depth=4, max_features=0.3, n_estimators=30 .\n",
      "[CV]  bootstrap=False, max_depth=4, max_features=0.3, n_estimators=30, score=(train=0.828, test=0.792), total=   0.3s\n",
      "[CV] bootstrap=False, max_depth=4, max_features=0.6, n_estimators=10 .\n",
      "[CV]  bootstrap=False, max_depth=4, max_features=0.6, n_estimators=10, score=(train=0.783, test=0.751), total=   0.2s\n",
      "[CV] bootstrap=False, max_depth=4, max_features=0.6, n_estimators=10 .\n",
      "[CV]  bootstrap=False, max_depth=4, max_features=0.6, n_estimators=10, score=(train=0.780, test=0.773), total=   0.2s\n",
      "[CV] bootstrap=False, max_depth=4, max_features=0.6, n_estimators=10 .\n",
      "[CV]  bootstrap=False, max_depth=4, max_features=0.6, n_estimators=10, score=(train=0.794, test=0.774), total=   0.2s\n",
      "[CV] bootstrap=False, max_depth=4, max_features=0.6, n_estimators=20 .\n",
      "[CV]  bootstrap=False, max_depth=4, max_features=0.6, n_estimators=20, score=(train=0.774, test=0.744), total=   0.3s\n",
      "[CV] bootstrap=False, max_depth=4, max_features=0.6, n_estimators=20 .\n",
      "[CV]  bootstrap=False, max_depth=4, max_features=0.6, n_estimators=20, score=(train=0.827, test=0.800), total=   0.3s\n",
      "[CV] bootstrap=False, max_depth=4, max_features=0.6, n_estimators=20 .\n",
      "[CV]  bootstrap=False, max_depth=4, max_features=0.6, n_estimators=20, score=(train=0.792, test=0.781), total=   0.3s\n",
      "[CV] bootstrap=False, max_depth=4, max_features=0.6, n_estimators=30 .\n",
      "[CV]  bootstrap=False, max_depth=4, max_features=0.6, n_estimators=30, score=(train=0.777, test=0.754), total=   0.5s\n",
      "[CV] bootstrap=False, max_depth=4, max_features=0.6, n_estimators=30 .\n",
      "[CV]  bootstrap=False, max_depth=4, max_features=0.6, n_estimators=30, score=(train=0.849, test=0.821), total=   0.4s\n",
      "[CV] bootstrap=False, max_depth=4, max_features=0.6, n_estimators=30 .\n",
      "[CV]  bootstrap=False, max_depth=4, max_features=0.6, n_estimators=30, score=(train=0.794, test=0.777), total=   0.5s\n",
      "[CV] bootstrap=False, max_depth=4, max_features=0.9, n_estimators=10 .\n",
      "[CV]  bootstrap=False, max_depth=4, max_features=0.9, n_estimators=10, score=(train=0.772, test=0.736), total=   0.2s\n",
      "[CV] bootstrap=False, max_depth=4, max_features=0.9, n_estimators=10 .\n",
      "[CV]  bootstrap=False, max_depth=4, max_features=0.9, n_estimators=10, score=(train=0.808, test=0.786), total=   0.2s\n",
      "[CV] bootstrap=False, max_depth=4, max_features=0.9, n_estimators=10 .\n",
      "[CV]  bootstrap=False, max_depth=4, max_features=0.9, n_estimators=10, score=(train=0.790, test=0.774), total=   0.2s\n",
      "[CV] bootstrap=False, max_depth=4, max_features=0.9, n_estimators=20 .\n",
      "[CV]  bootstrap=False, max_depth=4, max_features=0.9, n_estimators=20, score=(train=0.772, test=0.736), total=   0.4s\n",
      "[CV] bootstrap=False, max_depth=4, max_features=0.9, n_estimators=20 .\n",
      "[CV]  bootstrap=False, max_depth=4, max_features=0.9, n_estimators=20, score=(train=0.824, test=0.787), total=   0.4s\n",
      "[CV] bootstrap=False, max_depth=4, max_features=0.9, n_estimators=20 .\n",
      "[CV]  bootstrap=False, max_depth=4, max_features=0.9, n_estimators=20, score=(train=0.790, test=0.774), total=   0.4s\n",
      "[CV] bootstrap=False, max_depth=4, max_features=0.9, n_estimators=30 .\n",
      "[CV]  bootstrap=False, max_depth=4, max_features=0.9, n_estimators=30, score=(train=0.772, test=0.743), total=   0.6s\n",
      "[CV] bootstrap=False, max_depth=4, max_features=0.9, n_estimators=30 .\n",
      "[CV]  bootstrap=False, max_depth=4, max_features=0.9, n_estimators=30, score=(train=0.838, test=0.803), total=   0.6s\n",
      "[CV] bootstrap=False, max_depth=4, max_features=0.9, n_estimators=30 .\n",
      "[CV]  bootstrap=False, max_depth=4, max_features=0.9, n_estimators=30, score=(train=0.790, test=0.774), total=   0.6s\n",
      "[CV] bootstrap=False, max_depth=5, max_features=0.3, n_estimators=10 .\n",
      "[CV]  bootstrap=False, max_depth=5, max_features=0.3, n_estimators=10, score=(train=0.859, test=0.816), total=   0.1s\n",
      "[CV] bootstrap=False, max_depth=5, max_features=0.3, n_estimators=10 .\n",
      "[CV]  bootstrap=False, max_depth=5, max_features=0.3, n_estimators=10, score=(train=0.889, test=0.816), total=   0.1s\n",
      "[CV] bootstrap=False, max_depth=5, max_features=0.3, n_estimators=10 .\n",
      "[CV]  bootstrap=False, max_depth=5, max_features=0.3, n_estimators=10, score=(train=0.876, test=0.846), total=   0.1s\n",
      "[CV] bootstrap=False, max_depth=5, max_features=0.3, n_estimators=20 .\n",
      "[CV]  bootstrap=False, max_depth=5, max_features=0.3, n_estimators=20, score=(train=0.866, test=0.813), total=   0.2s\n",
      "[CV] bootstrap=False, max_depth=5, max_features=0.3, n_estimators=20 .\n",
      "[CV]  bootstrap=False, max_depth=5, max_features=0.3, n_estimators=20, score=(train=0.897, test=0.853), total=   0.2s\n",
      "[CV] bootstrap=False, max_depth=5, max_features=0.3, n_estimators=20 .\n",
      "[CV]  bootstrap=False, max_depth=5, max_features=0.3, n_estimators=20, score=(train=0.865, test=0.837), total=   0.2s\n",
      "[CV] bootstrap=False, max_depth=5, max_features=0.3, n_estimators=30 .\n",
      "[CV]  bootstrap=False, max_depth=5, max_features=0.3, n_estimators=30, score=(train=0.863, test=0.815), total=   0.3s\n",
      "[CV] bootstrap=False, max_depth=5, max_features=0.3, n_estimators=30 .\n",
      "[CV]  bootstrap=False, max_depth=5, max_features=0.3, n_estimators=30, score=(train=0.909, test=0.857), total=   0.3s\n",
      "[CV] bootstrap=False, max_depth=5, max_features=0.3, n_estimators=30 .\n"
     ]
    },
    {
     "name": "stdout",
     "output_type": "stream",
     "text": [
      "[CV]  bootstrap=False, max_depth=5, max_features=0.3, n_estimators=30, score=(train=0.865, test=0.839), total=   0.3s\n",
      "[CV] bootstrap=False, max_depth=5, max_features=0.6, n_estimators=10 .\n",
      "[CV]  bootstrap=False, max_depth=5, max_features=0.6, n_estimators=10, score=(train=0.893, test=0.844), total=   0.2s\n",
      "[CV] bootstrap=False, max_depth=5, max_features=0.6, n_estimators=10 .\n",
      "[CV]  bootstrap=False, max_depth=5, max_features=0.6, n_estimators=10, score=(train=0.913, test=0.840), total=   0.2s\n",
      "[CV] bootstrap=False, max_depth=5, max_features=0.6, n_estimators=10 .\n",
      "[CV]  bootstrap=False, max_depth=5, max_features=0.6, n_estimators=10, score=(train=0.850, test=0.834), total=   0.2s\n",
      "[CV] bootstrap=False, max_depth=5, max_features=0.6, n_estimators=20 .\n",
      "[CV]  bootstrap=False, max_depth=5, max_features=0.6, n_estimators=20, score=(train=0.896, test=0.846), total=   0.3s\n",
      "[CV] bootstrap=False, max_depth=5, max_features=0.6, n_estimators=20 .\n",
      "[CV]  bootstrap=False, max_depth=5, max_features=0.6, n_estimators=20, score=(train=0.912, test=0.859), total=   0.3s\n",
      "[CV] bootstrap=False, max_depth=5, max_features=0.6, n_estimators=20 .\n",
      "[CV]  bootstrap=False, max_depth=5, max_features=0.6, n_estimators=20, score=(train=0.852, test=0.843), total=   0.4s\n",
      "[CV] bootstrap=False, max_depth=5, max_features=0.6, n_estimators=30 .\n",
      "[CV]  bootstrap=False, max_depth=5, max_features=0.6, n_estimators=30, score=(train=0.896, test=0.844), total=   0.5s\n",
      "[CV] bootstrap=False, max_depth=5, max_features=0.6, n_estimators=30 .\n",
      "[CV]  bootstrap=False, max_depth=5, max_features=0.6, n_estimators=30, score=(train=0.909, test=0.855), total=   0.5s\n",
      "[CV] bootstrap=False, max_depth=5, max_features=0.6, n_estimators=30 .\n",
      "[CV]  bootstrap=False, max_depth=5, max_features=0.6, n_estimators=30, score=(train=0.844, test=0.827), total=   0.5s\n",
      "[CV] bootstrap=False, max_depth=5, max_features=0.9, n_estimators=10 .\n",
      "[CV]  bootstrap=False, max_depth=5, max_features=0.9, n_estimators=10, score=(train=0.878, test=0.832), total=   0.2s\n",
      "[CV] bootstrap=False, max_depth=5, max_features=0.9, n_estimators=10 .\n",
      "[CV]  bootstrap=False, max_depth=5, max_features=0.9, n_estimators=10, score=(train=0.907, test=0.857), total=   0.2s\n",
      "[CV] bootstrap=False, max_depth=5, max_features=0.9, n_estimators=10 .\n",
      "[CV]  bootstrap=False, max_depth=5, max_features=0.9, n_estimators=10, score=(train=0.843, test=0.825), total=   0.2s\n",
      "[CV] bootstrap=False, max_depth=5, max_features=0.9, n_estimators=20 .\n",
      "[CV]  bootstrap=False, max_depth=5, max_features=0.9, n_estimators=20, score=(train=0.886, test=0.832), total=   0.5s\n",
      "[CV] bootstrap=False, max_depth=5, max_features=0.9, n_estimators=20 .\n",
      "[CV]  bootstrap=False, max_depth=5, max_features=0.9, n_estimators=20, score=(train=0.907, test=0.857), total=   0.5s\n",
      "[CV] bootstrap=False, max_depth=5, max_features=0.9, n_estimators=20 .\n",
      "[CV]  bootstrap=False, max_depth=5, max_features=0.9, n_estimators=20, score=(train=0.843, test=0.825), total=   0.5s\n",
      "[CV] bootstrap=False, max_depth=5, max_features=0.9, n_estimators=30 .\n",
      "[CV]  bootstrap=False, max_depth=5, max_features=0.9, n_estimators=30, score=(train=0.885, test=0.832), total=   0.9s\n",
      "[CV] bootstrap=False, max_depth=5, max_features=0.9, n_estimators=30 .\n",
      "[CV]  bootstrap=False, max_depth=5, max_features=0.9, n_estimators=30, score=(train=0.907, test=0.857), total=   0.7s\n",
      "[CV] bootstrap=False, max_depth=5, max_features=0.9, n_estimators=30 .\n",
      "[CV]  bootstrap=False, max_depth=5, max_features=0.9, n_estimators=30, score=(train=0.843, test=0.825), total=   0.8s\n"
     ]
    },
    {
     "name": "stderr",
     "output_type": "stream",
     "text": [
      "[Parallel(n_jobs=1)]: Done 162 out of 162 | elapsed:   42.9s finished\n"
     ]
    },
    {
     "data": {
      "text/plain": [
       "GridSearchCV(cv=3, error_score=nan,\n",
       "             estimator=RandomForestClassifier(bootstrap=True, ccp_alpha=0.0,\n",
       "                                              class_weight='balanced',\n",
       "                                              criterion='gini', max_depth=None,\n",
       "                                              max_features='auto',\n",
       "                                              max_leaf_nodes=None,\n",
       "                                              max_samples=None,\n",
       "                                              min_impurity_decrease=0.0,\n",
       "                                              min_impurity_split=None,\n",
       "                                              min_samples_leaf=1,\n",
       "                                              min_samples_split=2,\n",
       "                                              min_weight_fraction_leaf=0.0,\n",
       "                                              n_estimators=100, n_jobs=None,\n",
       "                                              oob_score=False, random_state=0,\n",
       "                                              verbose=0, warm_start=False),\n",
       "             iid='deprecated', n_jobs=None,\n",
       "             param_grid={'bootstrap': [True, False], 'max_depth': [3, 4, 5],\n",
       "                         'max_features': [0.3, 0.6, 0.9],\n",
       "                         'n_estimators': [10, 20, 30]},\n",
       "             pre_dispatch='2*n_jobs', refit=True, return_train_score=True,\n",
       "             scoring='f1_macro', verbose=10)"
      ]
     },
     "execution_count": 19,
     "metadata": {},
     "output_type": "execute_result"
    }
   ],
   "source": [
    "# Random Forest\n",
    "from sklearn.ensemble import RandomForestClassifier\n",
    "RF = RandomForestClassifier(random_state=0, class_weight='balanced')\n",
    "# build grid search parameters\n",
    "parms = { 'max_depth': [3,4,5],\n",
    "          'max_features' : [0.3,0.6,0.9],\n",
    "          'n_estimators' : [10,20,30],\n",
    "          'bootstrap':[True, False]} \n",
    "# perform grid search\n",
    "from sklearn.model_selection import GridSearchCV\n",
    "CV = GridSearchCV(estimator = RF,param_grid = parms, scoring = 'f1_macro',\n",
    "                  cv=3, refit=True,return_train_score = True,\n",
    "                  verbose=10)\n",
    "CV.fit(X_train_final,Y_train.Churn)"
   ]
  },
  {
   "cell_type": "code",
   "execution_count": 20,
   "metadata": {},
   "outputs": [],
   "source": [
    "# check the results\n",
    "CVResults = pd.DataFrame(CV.cv_results_)\n",
    "CVResults.to_excel('CVResutls_RF1.xlsx')"
   ]
  },
  {
   "cell_type": "code",
   "execution_count": 21,
   "metadata": {},
   "outputs": [
    {
     "name": "stdout",
     "output_type": "stream",
     "text": [
      "0.8581402281850751\n",
      "{'bootstrap': True, 'max_depth': 5, 'max_features': 0.6, 'n_estimators': 20}\n"
     ]
    }
   ],
   "source": [
    "print(CV.best_score_)\n",
    "print(CV.best_params_)"
   ]
  },
  {
   "cell_type": "code",
   "execution_count": 22,
   "metadata": {},
   "outputs": [
    {
     "name": "stdout",
     "output_type": "stream",
     "text": [
      "[6.46404815e-03 3.62524948e-02 1.66987871e-01 3.45040724e-02\n",
      " 1.34557183e-02 1.61196092e-02 2.47380523e-01 1.63309058e-01\n",
      " 1.66271141e-02 5.44879364e-03 1.52297359e-01 5.27413083e-03\n",
      " 4.29962355e-02 5.92607078e-03 1.48937148e-02 2.66623947e-02\n",
      " 2.99643361e-02 0.00000000e+00 1.28469062e-04 0.00000000e+00\n",
      " 0.00000000e+00 0.00000000e+00 0.00000000e+00 3.56977887e-04\n",
      " 0.00000000e+00 5.18480781e-04 0.00000000e+00 0.00000000e+00\n",
      " 2.93523452e-05 0.00000000e+00 0.00000000e+00 2.80426139e-04\n",
      " 0.00000000e+00 2.16595754e-04 0.00000000e+00 0.00000000e+00\n",
      " 5.95215506e-04 2.15830996e-04 0.00000000e+00 0.00000000e+00\n",
      " 2.90621788e-04 0.00000000e+00 1.06337265e-03 1.33285076e-03\n",
      " 0.00000000e+00 6.15159713e-04 0.00000000e+00 8.74562254e-04\n",
      " 2.63926272e-03 0.00000000e+00 0.00000000e+00 0.00000000e+00\n",
      " 1.08361380e-03 0.00000000e+00 0.00000000e+00 3.07599700e-04\n",
      " 1.28412725e-04 5.11325517e-04 0.00000000e+00 0.00000000e+00\n",
      " 2.21608767e-03 3.97382302e-04 3.42358470e-04 0.00000000e+00\n",
      " 0.00000000e+00 0.00000000e+00 0.00000000e+00 0.00000000e+00\n",
      " 8.08087227e-04 4.84410775e-04 0.00000000e+00]\n"
     ]
    }
   ],
   "source": [
    "print(CV.best_estimator_.feature_importances_)"
   ]
  },
  {
   "cell_type": "code",
   "execution_count": 23,
   "metadata": {},
   "outputs": [
    {
     "name": "stdout",
     "output_type": "stream",
     "text": [
      "[1.]\n",
      "[1.]\n",
      "[1.]\n",
      "[0.]\n",
      "[0.]\n",
      "[1.]\n",
      "[1.]\n",
      "[0.]\n",
      "[1.]\n",
      "[1.]\n",
      "[0.]\n",
      "[0.]\n",
      "[1.]\n",
      "[1.]\n",
      "[1.]\n",
      "[1.]\n",
      "[0.]\n",
      "[0.]\n",
      "[1.]\n",
      "[0.]\n",
      "final Prediction:  [1]\n"
     ]
    }
   ],
   "source": [
    "for model in CV.best_estimator_.estimators_:\n",
    "    print(model.predict(X_test_final[0:1]))\n",
    "print(\"final Prediction: \", CV.best_estimator_.predict(X_test_final[0:1]))"
   ]
  },
  {
   "cell_type": "code",
   "execution_count": 24,
   "metadata": {},
   "outputs": [
    {
     "name": "stdout",
     "output_type": "stream",
     "text": [
      "[[0.01179572 0.98820428]\n",
      " [0.09804895 0.90195105]\n",
      " [0.19097178 0.80902822]\n",
      " [0.83454757 0.16545243]\n",
      " [0.86858399 0.13141601]\n",
      " [0.36113651 0.63886349]\n",
      " [0.32173984 0.67826016]\n",
      " [0.89100595 0.10899405]\n",
      " [0.11050806 0.88949194]\n",
      " [0.02457123 0.97542877]\n",
      " [0.5208608  0.4791392 ]\n",
      " [0.91986874 0.08013126]\n",
      " [0.02149806 0.97850194]\n",
      " [0.01502793 0.98497207]\n",
      " [0.04822923 0.95177077]\n",
      " [0.06829404 0.93170596]\n",
      " [0.81149225 0.18850775]\n",
      " [1.         0.        ]\n",
      " [0.39793213 0.60206787]\n",
      " [0.84355194 0.15644806]]\n",
      "average:  [0.41798324 0.58201676]\n",
      "final Prediction:  [[0.41798324 0.58201676]]\n"
     ]
    }
   ],
   "source": [
    "predict = np.zeros([1,2])\n",
    "for model in CV.best_estimator_.estimators_:\n",
    "    predict = np.vstack((predict,model.predict_proba(X_test_final[0:1])))\n",
    "predict = predict[1:]\n",
    "print(predict)\n",
    "print(\"average: \",np.mean(predict,axis=0))\n",
    "print(\"final Prediction: \", \n",
    "      CV.best_estimator_.predict_proba(X_test_final[0:1]))"
   ]
  },
  {
   "cell_type": "code",
   "execution_count": 25,
   "metadata": {},
   "outputs": [
    {
     "name": "stdout",
     "output_type": "stream",
     "text": [
      "[[0.41798324 0.58201676]\n",
      " [0.88001385 0.11998615]\n",
      " [0.89605103 0.10394897]\n",
      " [0.87260339 0.12739661]\n",
      " [0.06184158 0.93815842]]\n",
      "[1 0 0 0 1]\n"
     ]
    }
   ],
   "source": [
    "# Preidct on Test data and check the confusion matrix\n",
    "predictProb = CV.predict_proba(X_test_final)\n",
    "print(predictProb[0:5])\n",
    "PProb = pd.DataFrame(predictProb,columns=[\"class0\",\"class1\"])\n",
    "predictTest = CV.predict(X_test_final)\n",
    "print(predictTest[0:5])"
   ]
  },
  {
   "cell_type": "code",
   "execution_count": 26,
   "metadata": {},
   "outputs": [
    {
     "name": "stdout",
     "output_type": "stream",
     "text": [
      "[[543  36]\n",
      " [ 16  72]]\n",
      "              precision    recall  f1-score   support\n",
      "\n",
      "           0       0.97      0.94      0.95       579\n",
      "           1       0.67      0.82      0.73        88\n",
      "\n",
      "    accuracy                           0.92       667\n",
      "   macro avg       0.82      0.88      0.84       667\n",
      "weighted avg       0.93      0.92      0.93       667\n",
      "\n"
     ]
    }
   ],
   "source": [
    "# generate confusion matrix\n",
    "# import confusion matrix and classification report\n",
    "from sklearn.metrics import confusion_matrix, classification_report\n",
    "print (confusion_matrix(Y_test,predictTest))\n",
    "print (classification_report(Y_test,predictTest))"
   ]
  },
  {
   "cell_type": "code",
   "execution_count": 27,
   "metadata": {},
   "outputs": [
    {
     "name": "stdout",
     "output_type": "stream",
     "text": [
      "0.9013090752080389\n"
     ]
    }
   ],
   "source": [
    "# generate ROC curve\n",
    "from sklearn.metrics import roc_auc_score, roc_curve\n",
    "# AUC for class 1\n",
    "AUC = roc_auc_score(Y_test, PProb.class1)\n",
    "print(AUC)"
   ]
  },
  {
   "cell_type": "code",
   "execution_count": 29,
   "metadata": {},
   "outputs": [
    {
     "data": {
      "image/png": "[encoded data removed]",
      "text/plain": [
       "<Figure size 432x288 with 1 Axes>"
      ]
     },
     "metadata": {
      "needs_background": "light"
     },
     "output_type": "display_data"
    }
   ],
   "source": [
    "FPR, TPR, THR = roc_curve(Y_test, PProb.class1)\n",
    "# plot the FPR as X-axis and TPR as Y-axis\n",
    "plt.plot(FPR, TPR)\n",
    "# plot the minimum line \n",
    "plt.plot([0,1], [0,1], color='navy', linestyle = '--')\n",
    "# set X and Y limits\n",
    "plt.xlim([0.0, 1.05])\n",
    "plt.ylim([0.0, 1.05])\n",
    "# mention lables for X and Y\n",
    "plt.xlabel('False Positive Rate')\n",
    "plt.ylabel('True Positive Rate')\n",
    "plt.title('ROC for RF')\n",
    "plt.show()"
   ]
  },
  {
   "cell_type": "code",
   "execution_count": 30,
   "metadata": {},
   "outputs": [],
   "source": [
    "ROC = pd.DataFrame({\"THR\":THR,\n",
    "                   \"TPR\":TPR,\n",
    "                   \"FPR\":FPR})\n",
    "ROC.to_excel('ROC_RF.xlsx')"
   ]
  },
  {
   "cell_type": "code",
   "execution_count": 32,
   "metadata": {},
   "outputs": [
    {
     "name": "stdout",
     "output_type": "stream",
     "text": [
      "0    0.582017\n",
      "1    0.119986\n",
      "2    0.103949\n",
      "3    0.127397\n",
      "4    0.938158\n",
      "Name: class1, dtype: float64\n",
      "[1, 0, 0, 0, 1]\n"
     ]
    }
   ],
   "source": [
    "pclass = list()\n",
    "for prob in PProb.class1:\n",
    "    if prob >= 0.5525:\n",
    "        pclass.append(1)\n",
    "    else:\n",
    "        pclass.append(0)\n",
    "print(PProb.class1.head())\n",
    "print(pclass[0:5])"
   ]
  },
  {
   "cell_type": "code",
   "execution_count": 33,
   "metadata": {},
   "outputs": [
    {
     "name": "stdout",
     "output_type": "stream",
     "text": [
      "[[551  28]\n",
      " [ 18  70]]\n",
      "              precision    recall  f1-score   support\n",
      "\n",
      "           0       0.97      0.95      0.96       579\n",
      "           1       0.71      0.80      0.75        88\n",
      "\n",
      "    accuracy                           0.93       667\n",
      "   macro avg       0.84      0.87      0.86       667\n",
      "weighted avg       0.93      0.93      0.93       667\n",
      "\n"
     ]
    }
   ],
   "source": [
    "print (confusion_matrix(Y_test,pclass))\n",
    "print (classification_report(Y_test,pclass))"
   ]
  },
  {
   "cell_type": "code",
   "execution_count": 34,
   "metadata": {},
   "outputs": [
    {
     "data": {
      "text/html": [
       "<div>\n",
       "<style scoped>\n",
       "    .dataframe tbody tr th:only-of-type {\n",
       "        vertical-align: middle;\n",
       "    }\n",
       "\n",
       "    .dataframe tbody tr th {\n",
       "        vertical-align: top;\n",
       "    }\n",
       "\n",
       "    .dataframe thead th {\n",
       "        text-align: right;\n",
       "    }\n",
       "</style>\n",
       "<table border=\"1\" class=\"dataframe\">\n",
       "  <thead>\n",
       "    <tr style=\"text-align: right;\">\n",
       "      <th></th>\n",
       "      <th>Unnamed: 0</th>\n",
       "      <th>Actuals</th>\n",
       "      <th>DTPred</th>\n",
       "      <th>BagPred</th>\n",
       "    </tr>\n",
       "  </thead>\n",
       "  <tbody>\n",
       "    <tr>\n",
       "      <th>0</th>\n",
       "      <td>405</td>\n",
       "      <td>0</td>\n",
       "      <td>1</td>\n",
       "      <td>1</td>\n",
       "    </tr>\n",
       "    <tr>\n",
       "      <th>1</th>\n",
       "      <td>118</td>\n",
       "      <td>0</td>\n",
       "      <td>0</td>\n",
       "      <td>0</td>\n",
       "    </tr>\n",
       "    <tr>\n",
       "      <th>2</th>\n",
       "      <td>710</td>\n",
       "      <td>0</td>\n",
       "      <td>0</td>\n",
       "      <td>0</td>\n",
       "    </tr>\n",
       "    <tr>\n",
       "      <th>3</th>\n",
       "      <td>499</td>\n",
       "      <td>0</td>\n",
       "      <td>0</td>\n",
       "      <td>0</td>\n",
       "    </tr>\n",
       "    <tr>\n",
       "      <th>4</th>\n",
       "      <td>2594</td>\n",
       "      <td>1</td>\n",
       "      <td>1</td>\n",
       "      <td>1</td>\n",
       "    </tr>\n",
       "  </tbody>\n",
       "</table>\n",
       "</div>"
      ],
      "text/plain": [
       "   Unnamed: 0  Actuals  DTPred  BagPred\n",
       "0         405        0       1        1\n",
       "1         118        0       0        0\n",
       "2         710        0       0        0\n",
       "3         499        0       0        0\n",
       "4        2594        1       1        1"
      ]
     },
     "execution_count": 34,
     "metadata": {},
     "output_type": "execute_result"
    }
   ],
   "source": [
    "testcomp = pd.read_excel('testcomp.xlsx')\n",
    "testcomp.head()"
   ]
  },
  {
   "cell_type": "code",
   "execution_count": 35,
   "metadata": {},
   "outputs": [],
   "source": [
    "testcomp[\"RFPred\"] = predictTest\n",
    "testcomp.to_excel('testcomp.xlsx',index=False)"
   ]
  },
  {
   "cell_type": "code",
   "execution_count": null,
   "metadata": {},
   "outputs": [],
   "source": []
  }
 ],
 "metadata": {
  "kernelspec": {
   "display_name": "Python 3",
   "language": "python",
   "name": "python3"
  },
  "language_info": {
   "codemirror_mode": {
    "name": "ipython",
    "version": 3
   },
   "file_extension": ".py",
   "mimetype": "text/x-python",
   "name": "python",
   "nbconvert_exporter": "python",
   "pygments_lexer": "ipython3",
   "version": "3.7.3"
  }
 },
 "nbformat": 4,
 "nbformat_minor": 2
}
