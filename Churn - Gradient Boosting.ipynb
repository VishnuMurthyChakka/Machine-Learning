{
 "cells": [
  {
   "cell_type": "code",
   "execution_count": 1,
   "metadata": {},
   "outputs": [],
   "source": [
    "# best parameters are identified using grid search with cross validation"
   ]
  },
  {
   "cell_type": "code",
   "execution_count": 1,
   "metadata": {},
   "outputs": [
    {
     "name": "stdout",
     "output_type": "stream",
     "text": [
      "C:\\Digital Nest\\Decision Trees\n"
     ]
    }
   ],
   "source": [
    "import numpy as np\n",
    "import pandas as pd\n",
    "import matplotlib.pyplot as plt\n",
    "import os\n",
    "os.chdir(\"C:\\Digital Nest\\Decision Trees\")\n",
    "print (os.getcwd())"
   ]
  },
  {
   "cell_type": "code",
   "execution_count": 2,
   "metadata": {},
   "outputs": [
    {
     "name": "stdout",
     "output_type": "stream",
     "text": [
      "(3333, 21)\n"
     ]
    }
   ],
   "source": [
    "churn = pd.read_csv('Churn.csv')\n",
    "print(churn.shape)\n",
    "#churn.head()"
   ]
  },
  {
   "cell_type": "code",
   "execution_count": 3,
   "metadata": {},
   "outputs": [
    {
     "data": {
      "text/plain": [
       "(array([0, 1], dtype=int64), array([2850,  483], dtype=int64))"
      ]
     },
     "execution_count": 3,
     "metadata": {},
     "output_type": "execute_result"
    }
   ],
   "source": [
    "# target class ratio\n",
    "np.unique(churn.Churn,return_counts=True)"
   ]
  },
  {
   "cell_type": "code",
   "execution_count": 4,
   "metadata": {},
   "outputs": [
    {
     "data": {
      "text/plain": [
       "0.8550855085508551"
      ]
     },
     "execution_count": 4,
     "metadata": {},
     "output_type": "execute_result"
    }
   ],
   "source": [
    "2850/(2850+483)"
   ]
  },
  {
   "cell_type": "code",
   "execution_count": 5,
   "metadata": {},
   "outputs": [
    {
     "data": {
      "text/plain": [
       "array(['AccountLength', 'VMailMessage', 'DayMins', 'EveMins', 'NightMins',\n",
       "       'IntlMins', 'CustServCalls', 'Churn', 'IntlPlan', 'VMailPlan',\n",
       "       'DayCalls', 'DayCharge', 'EveCalls', 'EveCharge', 'NightCalls',\n",
       "       'NightCharge', 'IntlCalls', 'IntlCharge', 'State', 'AreaCode',\n",
       "       'Phone'], dtype=object)"
      ]
     },
     "execution_count": 5,
     "metadata": {},
     "output_type": "execute_result"
    }
   ],
   "source": [
    "churn.columns.values"
   ]
  },
  {
   "cell_type": "code",
   "execution_count": 6,
   "metadata": {},
   "outputs": [
    {
     "data": {
      "text/plain": [
       "0"
      ]
     },
     "execution_count": 6,
     "metadata": {},
     "output_type": "execute_result"
    }
   ],
   "source": [
    "# check if any NA values\n",
    "churn.isnull().sum().sum()"
   ]
  },
  {
   "cell_type": "code",
   "execution_count": 7,
   "metadata": {},
   "outputs": [
    {
     "name": "stdout",
     "output_type": "stream",
     "text": [
      "(3333, 1)\n",
      "(3333, 19)\n"
     ]
    }
   ],
   "source": [
    "# split the file into Independent and dependent variables\n",
    "churnY = pd.DataFrame(churn,columns=[\"Churn\"])\n",
    "print(churnY.shape)\n",
    "churnX = churn.copy()\n",
    "churnX.drop(columns=['Churn','Phone'],axis=1,inplace=True)\n",
    "print(churnX.shape)"
   ]
  },
  {
   "cell_type": "code",
   "execution_count": 8,
   "metadata": {},
   "outputs": [
    {
     "name": "stdout",
     "output_type": "stream",
     "text": [
      "(2666, 19)\n",
      "(2666, 1)\n",
      "(667, 19)\n",
      "(667, 1)\n"
     ]
    }
   ],
   "source": [
    "# splitting the data into Train and Test\n",
    "from sklearn.model_selection import train_test_split\n",
    "X_train, X_test, Y_train, Y_test = train_test_split(churnX, churnY, test_size = 0.20, \n",
    "                                                    random_state = 0)\n",
    "print(X_train.shape)\n",
    "print(Y_train.shape)\n",
    "print(X_test.shape)\n",
    "print(Y_test.shape)"
   ]
  },
  {
   "cell_type": "code",
   "execution_count": 9,
   "metadata": {},
   "outputs": [
    {
     "data": {
      "text/plain": [
       "(array([408, 415, 510], dtype=int64), array([ 838, 1655,  840], dtype=int64))"
      ]
     },
     "execution_count": 9,
     "metadata": {},
     "output_type": "execute_result"
    }
   ],
   "source": [
    "np.unique(churn.AreaCode,return_counts=True)"
   ]
  },
  {
   "cell_type": "code",
   "execution_count": 10,
   "metadata": {},
   "outputs": [
    {
     "data": {
      "text/plain": [
       "(array(['AK', 'AL', 'AR', 'AZ', 'CA', 'CO', 'CT', 'DC', 'DE', 'FL', 'GA',\n",
       "        'HI', 'IA', 'ID', 'IL', 'IN', 'KS', 'KY', 'LA', 'MA', 'MD', 'ME',\n",
       "        'MI', 'MN', 'MO', 'MS', 'MT', 'NC', 'ND', 'NE', 'NH', 'NJ', 'NM',\n",
       "        'NV', 'NY', 'OH', 'OK', 'OR', 'PA', 'RI', 'SC', 'SD', 'TN', 'TX',\n",
       "        'UT', 'VA', 'VT', 'WA', 'WI', 'WV', 'WY'], dtype=object),\n",
       " array([ 52,  80,  55,  64,  34,  66,  74,  54,  61,  63,  54,  53,  44,\n",
       "         73,  58,  71,  70,  59,  51,  65,  70,  62,  73,  84,  63,  65,\n",
       "         68,  68,  62,  61,  56,  68,  62,  66,  83,  78,  61,  78,  45,\n",
       "         65,  60,  60,  53,  72,  72,  77,  73,  66,  78, 106,  77],\n",
       "       dtype=int64))"
      ]
     },
     "execution_count": 10,
     "metadata": {},
     "output_type": "execute_result"
    }
   ],
   "source": [
    "np.unique(churn.State,return_counts=True)"
   ]
  },
  {
   "cell_type": "code",
   "execution_count": 11,
   "metadata": {},
   "outputs": [
    {
     "name": "stdout",
     "output_type": "stream",
     "text": [
      "1460    26\n",
      "2000    38\n",
      "666     37\n",
      "2962    41\n",
      "2773    31\n",
      "Name: State, dtype: int32\n"
     ]
    },
    {
     "name": "stderr",
     "output_type": "stream",
     "text": [
      "C:\\Users\\Vishnu Murthy Chakka\\Anaconda3\\lib\\site-packages\\pandas\\core\\generic.py:5292: SettingWithCopyWarning: \n",
      "A value is trying to be set on a copy of a slice from a DataFrame.\n",
      "Try using .loc[row_indexer,col_indexer] = value instead\n",
      "\n",
      "See the caveats in the documentation: https://pandas.pydata.org/pandas-docs/stable/user_guide/indexing.html#returning-a-view-versus-a-copy\n",
      "  self[name] = value\n"
     ]
    }
   ],
   "source": [
    "# lable encoding for strings - state\n",
    "from sklearn.preprocessing import LabelEncoder\n",
    "le = LabelEncoder()\n",
    "X_train.State = le.fit_transform(X_train.State)\n",
    "X_test.State = le.transform(X_test.State)\n",
    "print(X_train.State.head())"
   ]
  },
  {
   "cell_type": "code",
   "execution_count": 12,
   "metadata": {},
   "outputs": [
    {
     "name": "stdout",
     "output_type": "stream",
     "text": [
      "(2666, 2)\n",
      "(2666, 17)\n"
     ]
    }
   ],
   "source": [
    "# split the Train data into Categorical and non-categorical\n",
    "catcols = ['State', 'AreaCode']\n",
    "X_train_cat = pd.DataFrame(X_train, columns=catcols)\n",
    "print(X_train_cat.shape)\n",
    "X_train_cont = X_train.copy()\n",
    "X_train_cont.drop(columns=['State', 'AreaCode'],axis=1,inplace=True)\n",
    "print(X_train_cont.shape)\n",
    "X_train_cont.reset_index(drop=True,inplace=True)"
   ]
  },
  {
   "cell_type": "code",
   "execution_count": 13,
   "metadata": {},
   "outputs": [
    {
     "name": "stdout",
     "output_type": "stream",
     "text": [
      "(667, 2)\n",
      "Index(['AccountLength', 'VMailMessage', 'DayMins', 'EveMins', 'NightMins',\n",
      "       'IntlMins', 'CustServCalls', 'IntlPlan', 'VMailPlan', 'DayCalls',\n",
      "       'DayCharge', 'EveCalls', 'EveCharge', 'NightCalls', 'NightCharge',\n",
      "       'IntlCalls', 'IntlCharge', 'State', 'AreaCode'],\n",
      "      dtype='object')\n",
      "(667, 17)\n"
     ]
    }
   ],
   "source": [
    "# split the Test data into Categorical and non-categorical\n",
    "X_test_cat = pd.DataFrame(X_test, columns=catcols)\n",
    "print(X_test_cat.shape)\n",
    "X_test_cont = X_test.copy()\n",
    "print(X_test_cont.columns)\n",
    "X_test_cont.drop(columns=['State', 'AreaCode'],axis=1,inplace=True)\n",
    "print(X_test_cont.shape)\n",
    "X_test_cont.reset_index(drop=True,inplace=True)"
   ]
  },
  {
   "cell_type": "code",
   "execution_count": 14,
   "metadata": {},
   "outputs": [
    {
     "name": "stdout",
     "output_type": "stream",
     "text": [
      "(2666, 54)\n",
      "(667, 54)\n"
     ]
    }
   ],
   "source": [
    "from sklearn.preprocessing import OneHotEncoder\n",
    "OHE = OneHotEncoder(sparse = False, handle_unknown = 'error')\n",
    "X_train_cat2 = OHE.fit_transform(X_train_cat)\n",
    "print(X_train_cat2.shape)\n",
    "X_test_cat2 = OHE.transform(X_test_cat)\n",
    "print(X_test_cat2.shape)"
   ]
  },
  {
   "cell_type": "code",
   "execution_count": 15,
   "metadata": {},
   "outputs": [
    {
     "name": "stdout",
     "output_type": "stream",
     "text": [
      "(2666, 54)\n",
      "(667, 54)\n"
     ]
    }
   ],
   "source": [
    "# convert back array into data frame\n",
    "X_train_cat3 = pd.DataFrame(X_train_cat2)\n",
    "print(X_train_cat3.shape)\n",
    "X_test_cat3 = pd.DataFrame(X_test_cat2)\n",
    "print(X_test_cat3.shape)"
   ]
  },
  {
   "cell_type": "code",
   "execution_count": 16,
   "metadata": {},
   "outputs": [
    {
     "name": "stdout",
     "output_type": "stream",
     "text": [
      "(2666, 71)\n",
      "(667, 71)\n"
     ]
    }
   ],
   "source": [
    "# merge continuous and onehotencoded categorical data\n",
    "X_train_final = pd.concat([X_train_cont,X_train_cat3],axis=1,join='outer',ignore_index=False)\n",
    "X_test_final = pd.concat([X_test_cont,X_test_cat3],axis=1,join='outer',ignore_index=False)\n",
    "print(X_train_final.shape)\n",
    "print(X_test_final.shape)"
   ]
  },
  {
   "cell_type": "code",
   "execution_count": 17,
   "metadata": {},
   "outputs": [
    {
     "name": "stdout",
     "output_type": "stream",
     "text": [
      "Fitting 3 folds for each of 81 candidates, totalling 243 fits\n",
      "[CV] learning_rate=0.05, max_depth=2, n_estimators=5, subsample=0.3 ..\n",
      "[CV]  learning_rate=0.05, max_depth=2, n_estimators=5, subsample=0.3, score=(train=0.460, test=0.460), total=   0.1s\n",
      "[CV] learning_rate=0.05, max_depth=2, n_estimators=5, subsample=0.3 ..\n",
      "[CV]  learning_rate=0.05, max_depth=2, n_estimators=5, subsample=0.3, score=(train=0.460, test=0.460), total=   0.0s"
     ]
    },
    {
     "name": "stderr",
     "output_type": "stream",
     "text": [
      "[Parallel(n_jobs=1)]: Using backend SequentialBackend with 1 concurrent workers.\n",
      "[Parallel(n_jobs=1)]: Done   1 out of   1 | elapsed:    0.0s remaining:    0.0s\n",
      "[Parallel(n_jobs=1)]: Done   2 out of   2 | elapsed:    0.1s remaining:    0.0s\n"
     ]
    },
    {
     "name": "stdout",
     "output_type": "stream",
     "text": [
      "\n",
      "[CV] learning_rate=0.05, max_depth=2, n_estimators=5, subsample=0.3 ..\n",
      "[CV]  learning_rate=0.05, max_depth=2, n_estimators=5, subsample=0.3, score=(train=0.460, test=0.460), total=   0.0s\n",
      "[CV] learning_rate=0.05, max_depth=2, n_estimators=5, subsample=0.6 ..\n",
      "[CV]  learning_rate=0.05, max_depth=2, n_estimators=5, subsample=0.6, score=(train=0.460, test=0.460), total=   0.0s\n",
      "[CV] learning_rate=0.05, max_depth=2, n_estimators=5, subsample=0.6 ..\n",
      "[CV]  learning_rate=0.05, max_depth=2, n_estimators=5, subsample=0.6, score=(train=0.460, test=0.460), total=   0.0s\n",
      "[CV] learning_rate=0.05, max_depth=2, n_estimators=5, subsample=0.6 ..\n"
     ]
    },
    {
     "name": "stderr",
     "output_type": "stream",
     "text": [
      "[Parallel(n_jobs=1)]: Done   3 out of   3 | elapsed:    0.1s remaining:    0.0s\n",
      "[Parallel(n_jobs=1)]: Done   4 out of   4 | elapsed:    0.2s remaining:    0.0s\n",
      "[Parallel(n_jobs=1)]: Done   5 out of   5 | elapsed:    0.2s remaining:    0.0s\n",
      "[Parallel(n_jobs=1)]: Done   6 out of   6 | elapsed:    0.3s remaining:    0.0s\n"
     ]
    },
    {
     "name": "stdout",
     "output_type": "stream",
     "text": [
      "[CV]  learning_rate=0.05, max_depth=2, n_estimators=5, subsample=0.6, score=(train=0.460, test=0.460), total=   0.1s\n",
      "[CV] learning_rate=0.05, max_depth=2, n_estimators=5, subsample=0.9 ..\n",
      "[CV]  learning_rate=0.05, max_depth=2, n_estimators=5, subsample=0.9, score=(train=0.460, test=0.460), total=   0.1s\n",
      "[CV] learning_rate=0.05, max_depth=2, n_estimators=5, subsample=0.9 ..\n",
      "[CV]  learning_rate=0.05, max_depth=2, n_estimators=5, subsample=0.9, score=(train=0.460, test=0.460), total=   0.1s\n",
      "[CV] learning_rate=0.05, max_depth=2, n_estimators=5, subsample=0.9 ..\n"
     ]
    },
    {
     "name": "stderr",
     "output_type": "stream",
     "text": [
      "[Parallel(n_jobs=1)]: Done   7 out of   7 | elapsed:    0.4s remaining:    0.0s\n",
      "[Parallel(n_jobs=1)]: Done   8 out of   8 | elapsed:    0.4s remaining:    0.0s\n",
      "[Parallel(n_jobs=1)]: Done   9 out of   9 | elapsed:    0.5s remaining:    0.0s\n"
     ]
    },
    {
     "name": "stdout",
     "output_type": "stream",
     "text": [
      "[CV]  learning_rate=0.05, max_depth=2, n_estimators=5, subsample=0.9, score=(train=0.460, test=0.460), total=   0.1s\n",
      "[CV] learning_rate=0.05, max_depth=2, n_estimators=10, subsample=0.3 .\n",
      "[CV]  learning_rate=0.05, max_depth=2, n_estimators=10, subsample=0.3, score=(train=0.460, test=0.460), total=   0.1s\n",
      "[CV] learning_rate=0.05, max_depth=2, n_estimators=10, subsample=0.3 .\n",
      "[CV]  learning_rate=0.05, max_depth=2, n_estimators=10, subsample=0.3, score=(train=0.460, test=0.468), total=   0.1s\n",
      "[CV] learning_rate=0.05, max_depth=2, n_estimators=10, subsample=0.3 .\n",
      "[CV]  learning_rate=0.05, max_depth=2, n_estimators=10, subsample=0.3, score=(train=0.460, test=0.460), total=   0.1s\n",
      "[CV] learning_rate=0.05, max_depth=2, n_estimators=10, subsample=0.6 .\n",
      "[CV]  learning_rate=0.05, max_depth=2, n_estimators=10, subsample=0.6, score=(train=0.460, test=0.460), total=   0.1s\n",
      "[CV] learning_rate=0.05, max_depth=2, n_estimators=10, subsample=0.6 .\n",
      "[CV]  learning_rate=0.05, max_depth=2, n_estimators=10, subsample=0.6, score=(train=0.460, test=0.460), total=   0.1s\n",
      "[CV] learning_rate=0.05, max_depth=2, n_estimators=10, subsample=0.6 .\n",
      "[CV]  learning_rate=0.05, max_depth=2, n_estimators=10, subsample=0.6, score=(train=0.460, test=0.460), total=   0.1s\n",
      "[CV] learning_rate=0.05, max_depth=2, n_estimators=10, subsample=0.9 .\n",
      "[CV]  learning_rate=0.05, max_depth=2, n_estimators=10, subsample=0.9, score=(train=0.460, test=0.460), total=   0.1s\n",
      "[CV] learning_rate=0.05, max_depth=2, n_estimators=10, subsample=0.9 .\n",
      "[CV]  learning_rate=0.05, max_depth=2, n_estimators=10, subsample=0.9, score=(train=0.460, test=0.460), total=   0.1s\n",
      "[CV] learning_rate=0.05, max_depth=2, n_estimators=10, subsample=0.9 .\n",
      "[CV]  learning_rate=0.05, max_depth=2, n_estimators=10, subsample=0.9, score=(train=0.460, test=0.460), total=   0.1s\n",
      "[CV] learning_rate=0.05, max_depth=2, n_estimators=20, subsample=0.3 .\n",
      "[CV]  learning_rate=0.05, max_depth=2, n_estimators=20, subsample=0.3, score=(train=0.540, test=0.532), total=   0.1s\n",
      "[CV] learning_rate=0.05, max_depth=2, n_estimators=20, subsample=0.3 .\n",
      "[CV]  learning_rate=0.05, max_depth=2, n_estimators=20, subsample=0.3, score=(train=0.621, test=0.570), total=   0.1s\n",
      "[CV] learning_rate=0.05, max_depth=2, n_estimators=20, subsample=0.3 .\n",
      "[CV]  learning_rate=0.05, max_depth=2, n_estimators=20, subsample=0.3, score=(train=0.569, test=0.574), total=   0.1s\n",
      "[CV] learning_rate=0.05, max_depth=2, n_estimators=20, subsample=0.6 .\n",
      "[CV]  learning_rate=0.05, max_depth=2, n_estimators=20, subsample=0.6, score=(train=0.509, test=0.490), total=   0.1s\n",
      "[CV] learning_rate=0.05, max_depth=2, n_estimators=20, subsample=0.6 .\n",
      "[CV]  learning_rate=0.05, max_depth=2, n_estimators=20, subsample=0.6, score=(train=0.643, test=0.605), total=   0.2s\n",
      "[CV] learning_rate=0.05, max_depth=2, n_estimators=20, subsample=0.6 .\n",
      "[CV]  learning_rate=0.05, max_depth=2, n_estimators=20, subsample=0.6, score=(train=0.543, test=0.547), total=   0.2s\n",
      "[CV] learning_rate=0.05, max_depth=2, n_estimators=20, subsample=0.9 .\n",
      "[CV]  learning_rate=0.05, max_depth=2, n_estimators=20, subsample=0.9, score=(train=0.618, test=0.598), total=   0.2s\n",
      "[CV] learning_rate=0.05, max_depth=2, n_estimators=20, subsample=0.9 .\n",
      "[CV]  learning_rate=0.05, max_depth=2, n_estimators=20, subsample=0.9, score=(train=0.635, test=0.594), total=   0.2s\n",
      "[CV] learning_rate=0.05, max_depth=2, n_estimators=20, subsample=0.9 .\n",
      "[CV]  learning_rate=0.05, max_depth=2, n_estimators=20, subsample=0.9, score=(train=0.501, test=0.491), total=   0.2s\n",
      "[CV] learning_rate=0.05, max_depth=3, n_estimators=5, subsample=0.3 ..\n",
      "[CV]  learning_rate=0.05, max_depth=3, n_estimators=5, subsample=0.3, score=(train=0.460, test=0.460), total=   0.1s\n",
      "[CV] learning_rate=0.05, max_depth=3, n_estimators=5, subsample=0.3 ..\n",
      "[CV]  learning_rate=0.05, max_depth=3, n_estimators=5, subsample=0.3, score=(train=0.460, test=0.460), total=   0.1s\n",
      "[CV] learning_rate=0.05, max_depth=3, n_estimators=5, subsample=0.3 ..\n",
      "[CV]  learning_rate=0.05, max_depth=3, n_estimators=5, subsample=0.3, score=(train=0.460, test=0.460), total=   0.1s\n",
      "[CV] learning_rate=0.05, max_depth=3, n_estimators=5, subsample=0.6 ..\n",
      "[CV]  learning_rate=0.05, max_depth=3, n_estimators=5, subsample=0.6, score=(train=0.460, test=0.460), total=   0.1s\n",
      "[CV] learning_rate=0.05, max_depth=3, n_estimators=5, subsample=0.6 ..\n",
      "[CV]  learning_rate=0.05, max_depth=3, n_estimators=5, subsample=0.6, score=(train=0.460, test=0.460), total=   0.1s\n",
      "[CV] learning_rate=0.05, max_depth=3, n_estimators=5, subsample=0.6 ..\n",
      "[CV]  learning_rate=0.05, max_depth=3, n_estimators=5, subsample=0.6, score=(train=0.460, test=0.460), total=   0.1s\n",
      "[CV] learning_rate=0.05, max_depth=3, n_estimators=5, subsample=0.9 ..\n",
      "[CV]  learning_rate=0.05, max_depth=3, n_estimators=5, subsample=0.9, score=(train=0.460, test=0.460), total=   0.1s\n",
      "[CV] learning_rate=0.05, max_depth=3, n_estimators=5, subsample=0.9 ..\n",
      "[CV]  learning_rate=0.05, max_depth=3, n_estimators=5, subsample=0.9, score=(train=0.460, test=0.460), total=   0.1s\n",
      "[CV] learning_rate=0.05, max_depth=3, n_estimators=5, subsample=0.9 ..\n",
      "[CV]  learning_rate=0.05, max_depth=3, n_estimators=5, subsample=0.9, score=(train=0.460, test=0.460), total=   0.1s\n",
      "[CV] learning_rate=0.05, max_depth=3, n_estimators=10, subsample=0.3 .\n",
      "[CV]  learning_rate=0.05, max_depth=3, n_estimators=10, subsample=0.3, score=(train=0.487, test=0.483), total=   0.1s\n",
      "[CV] learning_rate=0.05, max_depth=3, n_estimators=10, subsample=0.3 .\n",
      "[CV]  learning_rate=0.05, max_depth=3, n_estimators=10, subsample=0.3, score=(train=0.513, test=0.490), total=   0.1s\n",
      "[CV] learning_rate=0.05, max_depth=3, n_estimators=10, subsample=0.3 .\n",
      "[CV]  learning_rate=0.05, max_depth=3, n_estimators=10, subsample=0.3, score=(train=0.479, test=0.460), total=   0.1s\n",
      "[CV] learning_rate=0.05, max_depth=3, n_estimators=10, subsample=0.6 .\n",
      "[CV]  learning_rate=0.05, max_depth=3, n_estimators=10, subsample=0.6, score=(train=0.460, test=0.460), total=   0.1s\n",
      "[CV] learning_rate=0.05, max_depth=3, n_estimators=10, subsample=0.6 .\n",
      "[CV]  learning_rate=0.05, max_depth=3, n_estimators=10, subsample=0.6, score=(train=0.566, test=0.532), total=   0.1s\n",
      "[CV] learning_rate=0.05, max_depth=3, n_estimators=10, subsample=0.6 .\n",
      "[CV]  learning_rate=0.05, max_depth=3, n_estimators=10, subsample=0.6, score=(train=0.468, test=0.460), total=   0.1s\n",
      "[CV] learning_rate=0.05, max_depth=3, n_estimators=10, subsample=0.9 .\n",
      "[CV]  learning_rate=0.05, max_depth=3, n_estimators=10, subsample=0.9, score=(train=0.460, test=0.460), total=   0.2s\n",
      "[CV] learning_rate=0.05, max_depth=3, n_estimators=10, subsample=0.9 .\n",
      "[CV]  learning_rate=0.05, max_depth=3, n_estimators=10, subsample=0.9, score=(train=0.460, test=0.460), total=   0.2s\n",
      "[CV] learning_rate=0.05, max_depth=3, n_estimators=10, subsample=0.9 .\n",
      "[CV]  learning_rate=0.05, max_depth=3, n_estimators=10, subsample=0.9, score=(train=0.460, test=0.460), total=   0.2s\n",
      "[CV] learning_rate=0.05, max_depth=3, n_estimators=20, subsample=0.3 .\n",
      "[CV]  learning_rate=0.05, max_depth=3, n_estimators=20, subsample=0.3, score=(train=0.743, test=0.731), total=   0.1s\n",
      "[CV] learning_rate=0.05, max_depth=3, n_estimators=20, subsample=0.3 .\n",
      "[CV]  learning_rate=0.05, max_depth=3, n_estimators=20, subsample=0.3, score=(train=0.734, test=0.671), total=   0.2s\n",
      "[CV] learning_rate=0.05, max_depth=3, n_estimators=20, subsample=0.3 .\n",
      "[CV]  learning_rate=0.05, max_depth=3, n_estimators=20, subsample=0.3, score=(train=0.705, test=0.652), total=   0.2s\n",
      "[CV] learning_rate=0.05, max_depth=3, n_estimators=20, subsample=0.6 .\n",
      "[CV]  learning_rate=0.05, max_depth=3, n_estimators=20, subsample=0.6, score=(train=0.743, test=0.744), total=   0.3s\n",
      "[CV] learning_rate=0.05, max_depth=3, n_estimators=20, subsample=0.6 .\n",
      "[CV]  learning_rate=0.05, max_depth=3, n_estimators=20, subsample=0.6, score=(train=0.759, test=0.723), total=   0.2s\n",
      "[CV] learning_rate=0.05, max_depth=3, n_estimators=20, subsample=0.6 .\n",
      "[CV]  learning_rate=0.05, max_depth=3, n_estimators=20, subsample=0.6, score=(train=0.710, test=0.684), total=   0.2s\n",
      "[CV] learning_rate=0.05, max_depth=3, n_estimators=20, subsample=0.9 .\n",
      "[CV]  learning_rate=0.05, max_depth=3, n_estimators=20, subsample=0.9, score=(train=0.732, test=0.742), total=   0.4s\n",
      "[CV] learning_rate=0.05, max_depth=3, n_estimators=20, subsample=0.9 .\n"
     ]
    },
    {
     "name": "stdout",
     "output_type": "stream",
     "text": [
      "[CV]  learning_rate=0.05, max_depth=3, n_estimators=20, subsample=0.9, score=(train=0.776, test=0.735), total=   0.3s\n",
      "[CV] learning_rate=0.05, max_depth=3, n_estimators=20, subsample=0.9 .\n",
      "[CV]  learning_rate=0.05, max_depth=3, n_estimators=20, subsample=0.9, score=(train=0.762, test=0.722), total=   0.3s\n",
      "[CV] learning_rate=0.05, max_depth=4, n_estimators=5, subsample=0.3 ..\n",
      "[CV]  learning_rate=0.05, max_depth=4, n_estimators=5, subsample=0.3, score=(train=0.460, test=0.460), total=   0.1s\n",
      "[CV] learning_rate=0.05, max_depth=4, n_estimators=5, subsample=0.3 ..\n",
      "[CV]  learning_rate=0.05, max_depth=4, n_estimators=5, subsample=0.3, score=(train=0.460, test=0.460), total=   0.0s\n",
      "[CV] learning_rate=0.05, max_depth=4, n_estimators=5, subsample=0.3 ..\n",
      "[CV]  learning_rate=0.05, max_depth=4, n_estimators=5, subsample=0.3, score=(train=0.460, test=0.460), total=   0.1s\n",
      "[CV] learning_rate=0.05, max_depth=4, n_estimators=5, subsample=0.6 ..\n",
      "[CV]  learning_rate=0.05, max_depth=4, n_estimators=5, subsample=0.6, score=(train=0.460, test=0.460), total=   0.1s\n",
      "[CV] learning_rate=0.05, max_depth=4, n_estimators=5, subsample=0.6 ..\n",
      "[CV]  learning_rate=0.05, max_depth=4, n_estimators=5, subsample=0.6, score=(train=0.460, test=0.460), total=   0.1s\n",
      "[CV] learning_rate=0.05, max_depth=4, n_estimators=5, subsample=0.6 ..\n",
      "[CV]  learning_rate=0.05, max_depth=4, n_estimators=5, subsample=0.6, score=(train=0.460, test=0.460), total=   0.1s\n",
      "[CV] learning_rate=0.05, max_depth=4, n_estimators=5, subsample=0.9 ..\n",
      "[CV]  learning_rate=0.05, max_depth=4, n_estimators=5, subsample=0.9, score=(train=0.460, test=0.460), total=   0.1s\n",
      "[CV] learning_rate=0.05, max_depth=4, n_estimators=5, subsample=0.9 ..\n",
      "[CV]  learning_rate=0.05, max_depth=4, n_estimators=5, subsample=0.9, score=(train=0.460, test=0.460), total=   0.1s\n",
      "[CV] learning_rate=0.05, max_depth=4, n_estimators=5, subsample=0.9 ..\n",
      "[CV]  learning_rate=0.05, max_depth=4, n_estimators=5, subsample=0.9, score=(train=0.460, test=0.460), total=   0.1s\n",
      "[CV] learning_rate=0.05, max_depth=4, n_estimators=10, subsample=0.3 .\n",
      "[CV]  learning_rate=0.05, max_depth=4, n_estimators=10, subsample=0.3, score=(train=0.530, test=0.512), total=   0.1s\n",
      "[CV] learning_rate=0.05, max_depth=4, n_estimators=10, subsample=0.3 .\n",
      "[CV]  learning_rate=0.05, max_depth=4, n_estimators=10, subsample=0.3, score=(train=0.627, test=0.566), total=   0.1s\n",
      "[CV] learning_rate=0.05, max_depth=4, n_estimators=10, subsample=0.3 .\n",
      "[CV]  learning_rate=0.05, max_depth=4, n_estimators=10, subsample=0.3, score=(train=0.576, test=0.547), total=   0.1s\n",
      "[CV] learning_rate=0.05, max_depth=4, n_estimators=10, subsample=0.6 .\n",
      "[CV]  learning_rate=0.05, max_depth=4, n_estimators=10, subsample=0.6, score=(train=0.557, test=0.573), total=   0.2s\n",
      "[CV] learning_rate=0.05, max_depth=4, n_estimators=10, subsample=0.6 .\n",
      "[CV]  learning_rate=0.05, max_depth=4, n_estimators=10, subsample=0.6, score=(train=0.707, test=0.635), total=   0.2s\n",
      "[CV] learning_rate=0.05, max_depth=4, n_estimators=10, subsample=0.6 .\n",
      "[CV]  learning_rate=0.05, max_depth=4, n_estimators=10, subsample=0.6, score=(train=0.573, test=0.567), total=   0.2s\n",
      "[CV] learning_rate=0.05, max_depth=4, n_estimators=10, subsample=0.9 .\n",
      "[CV]  learning_rate=0.05, max_depth=4, n_estimators=10, subsample=0.9, score=(train=0.560, test=0.547), total=   0.2s\n",
      "[CV] learning_rate=0.05, max_depth=4, n_estimators=10, subsample=0.9 .\n",
      "[CV]  learning_rate=0.05, max_depth=4, n_estimators=10, subsample=0.9, score=(train=0.695, test=0.652), total=   0.2s\n",
      "[CV] learning_rate=0.05, max_depth=4, n_estimators=10, subsample=0.9 .\n",
      "[CV]  learning_rate=0.05, max_depth=4, n_estimators=10, subsample=0.9, score=(train=0.479, test=0.468), total=   0.2s\n",
      "[CV] learning_rate=0.05, max_depth=4, n_estimators=20, subsample=0.3 .\n",
      "[CV]  learning_rate=0.05, max_depth=4, n_estimators=20, subsample=0.3, score=(train=0.831, test=0.797), total=   0.1s\n",
      "[CV] learning_rate=0.05, max_depth=4, n_estimators=20, subsample=0.3 .\n",
      "[CV]  learning_rate=0.05, max_depth=4, n_estimators=20, subsample=0.3, score=(train=0.783, test=0.738), total=   0.2s\n",
      "[CV] learning_rate=0.05, max_depth=4, n_estimators=20, subsample=0.3 .\n",
      "[CV]  learning_rate=0.05, max_depth=4, n_estimators=20, subsample=0.3, score=(train=0.809, test=0.745), total=   0.2s\n",
      "[CV] learning_rate=0.05, max_depth=4, n_estimators=20, subsample=0.6 .\n",
      "[CV]  learning_rate=0.05, max_depth=4, n_estimators=20, subsample=0.6, score=(train=0.842, test=0.788), total=   0.3s\n",
      "[CV] learning_rate=0.05, max_depth=4, n_estimators=20, subsample=0.6 .\n",
      "[CV]  learning_rate=0.05, max_depth=4, n_estimators=20, subsample=0.6, score=(train=0.831, test=0.778), total=   0.3s\n",
      "[CV] learning_rate=0.05, max_depth=4, n_estimators=20, subsample=0.6 .\n",
      "[CV]  learning_rate=0.05, max_depth=4, n_estimators=20, subsample=0.6, score=(train=0.849, test=0.797), total=   0.3s\n",
      "[CV] learning_rate=0.05, max_depth=4, n_estimators=20, subsample=0.9 .\n",
      "[CV]  learning_rate=0.05, max_depth=4, n_estimators=20, subsample=0.9, score=(train=0.849, test=0.793), total=   0.3s\n",
      "[CV] learning_rate=0.05, max_depth=4, n_estimators=20, subsample=0.9 .\n",
      "[CV]  learning_rate=0.05, max_depth=4, n_estimators=20, subsample=0.9, score=(train=0.824, test=0.739), total=   0.4s\n",
      "[CV] learning_rate=0.05, max_depth=4, n_estimators=20, subsample=0.9 .\n",
      "[CV]  learning_rate=0.05, max_depth=4, n_estimators=20, subsample=0.9, score=(train=0.882, test=0.810), total=   0.4s\n",
      "[CV] learning_rate=0.1, max_depth=2, n_estimators=5, subsample=0.3 ...\n",
      "[CV]  learning_rate=0.1, max_depth=2, n_estimators=5, subsample=0.3, score=(train=0.460, test=0.460), total=   0.0s\n",
      "[CV] learning_rate=0.1, max_depth=2, n_estimators=5, subsample=0.3 ...\n",
      "[CV]  learning_rate=0.1, max_depth=2, n_estimators=5, subsample=0.3, score=(train=0.460, test=0.475), total=   0.0s\n",
      "[CV] learning_rate=0.1, max_depth=2, n_estimators=5, subsample=0.3 ...\n",
      "[CV]  learning_rate=0.1, max_depth=2, n_estimators=5, subsample=0.3, score=(train=0.460, test=0.460), total=   0.0s\n",
      "[CV] learning_rate=0.1, max_depth=2, n_estimators=5, subsample=0.6 ...\n",
      "[CV]  learning_rate=0.1, max_depth=2, n_estimators=5, subsample=0.6, score=(train=0.460, test=0.460), total=   0.0s\n",
      "[CV] learning_rate=0.1, max_depth=2, n_estimators=5, subsample=0.6 ...\n",
      "[CV]  learning_rate=0.1, max_depth=2, n_estimators=5, subsample=0.6, score=(train=0.460, test=0.460), total=   0.0s\n",
      "[CV] learning_rate=0.1, max_depth=2, n_estimators=5, subsample=0.6 ...\n",
      "[CV]  learning_rate=0.1, max_depth=2, n_estimators=5, subsample=0.6, score=(train=0.460, test=0.460), total=   0.1s\n",
      "[CV] learning_rate=0.1, max_depth=2, n_estimators=5, subsample=0.9 ...\n",
      "[CV]  learning_rate=0.1, max_depth=2, n_estimators=5, subsample=0.9, score=(train=0.468, test=0.460), total=   0.1s\n",
      "[CV] learning_rate=0.1, max_depth=2, n_estimators=5, subsample=0.9 ...\n",
      "[CV]  learning_rate=0.1, max_depth=2, n_estimators=5, subsample=0.9, score=(train=0.460, test=0.460), total=   0.1s\n",
      "[CV] learning_rate=0.1, max_depth=2, n_estimators=5, subsample=0.9 ...\n",
      "[CV]  learning_rate=0.1, max_depth=2, n_estimators=5, subsample=0.9, score=(train=0.460, test=0.460), total=   0.1s\n",
      "[CV] learning_rate=0.1, max_depth=2, n_estimators=10, subsample=0.3 ..\n",
      "[CV]  learning_rate=0.1, max_depth=2, n_estimators=10, subsample=0.3, score=(train=0.618, test=0.636), total=   0.1s\n",
      "[CV] learning_rate=0.1, max_depth=2, n_estimators=10, subsample=0.3 ..\n",
      "[CV]  learning_rate=0.1, max_depth=2, n_estimators=10, subsample=0.3, score=(train=0.597, test=0.545), total=   0.1s\n",
      "[CV] learning_rate=0.1, max_depth=2, n_estimators=10, subsample=0.3 ..\n",
      "[CV]  learning_rate=0.1, max_depth=2, n_estimators=10, subsample=0.3, score=(train=0.610, test=0.602), total=   0.1s\n",
      "[CV] learning_rate=0.1, max_depth=2, n_estimators=10, subsample=0.6 ..\n",
      "[CV]  learning_rate=0.1, max_depth=2, n_estimators=10, subsample=0.6, score=(train=0.544, test=0.553), total=   0.1s\n",
      "[CV] learning_rate=0.1, max_depth=2, n_estimators=10, subsample=0.6 ..\n",
      "[CV]  learning_rate=0.1, max_depth=2, n_estimators=10, subsample=0.6, score=(train=0.648, test=0.594), total=   0.1s\n",
      "[CV] learning_rate=0.1, max_depth=2, n_estimators=10, subsample=0.6 ..\n",
      "[CV]  learning_rate=0.1, max_depth=2, n_estimators=10, subsample=0.6, score=(train=0.563, test=0.553), total=   0.1s\n",
      "[CV] learning_rate=0.1, max_depth=2, n_estimators=10, subsample=0.9 ..\n"
     ]
    },
    {
     "name": "stdout",
     "output_type": "stream",
     "text": [
      "[CV]  learning_rate=0.1, max_depth=2, n_estimators=10, subsample=0.9, score=(train=0.621, test=0.598), total=   0.1s\n",
      "[CV] learning_rate=0.1, max_depth=2, n_estimators=10, subsample=0.9 ..\n",
      "[CV]  learning_rate=0.1, max_depth=2, n_estimators=10, subsample=0.9, score=(train=0.640, test=0.589), total=   0.1s\n",
      "[CV] learning_rate=0.1, max_depth=2, n_estimators=10, subsample=0.9 ..\n",
      "[CV]  learning_rate=0.1, max_depth=2, n_estimators=10, subsample=0.9, score=(train=0.519, test=0.513), total=   0.1s\n",
      "[CV] learning_rate=0.1, max_depth=2, n_estimators=20, subsample=0.3 ..\n",
      "[CV]  learning_rate=0.1, max_depth=2, n_estimators=20, subsample=0.3, score=(train=0.713, test=0.733), total=   0.1s\n",
      "[CV] learning_rate=0.1, max_depth=2, n_estimators=20, subsample=0.3 ..\n",
      "[CV]  learning_rate=0.1, max_depth=2, n_estimators=20, subsample=0.3, score=(train=0.767, test=0.723), total=   0.1s\n",
      "[CV] learning_rate=0.1, max_depth=2, n_estimators=20, subsample=0.3 ..\n",
      "[CV]  learning_rate=0.1, max_depth=2, n_estimators=20, subsample=0.3, score=(train=0.721, test=0.655), total=   0.1s\n",
      "[CV] learning_rate=0.1, max_depth=2, n_estimators=20, subsample=0.6 ..\n",
      "[CV]  learning_rate=0.1, max_depth=2, n_estimators=20, subsample=0.6, score=(train=0.757, test=0.757), total=   0.2s\n",
      "[CV] learning_rate=0.1, max_depth=2, n_estimators=20, subsample=0.6 ..\n",
      "[CV]  learning_rate=0.1, max_depth=2, n_estimators=20, subsample=0.6, score=(train=0.769, test=0.722), total=   0.2s\n",
      "[CV] learning_rate=0.1, max_depth=2, n_estimators=20, subsample=0.6 ..\n",
      "[CV]  learning_rate=0.1, max_depth=2, n_estimators=20, subsample=0.6, score=(train=0.786, test=0.765), total=   0.2s\n",
      "[CV] learning_rate=0.1, max_depth=2, n_estimators=20, subsample=0.9 ..\n",
      "[CV]  learning_rate=0.1, max_depth=2, n_estimators=20, subsample=0.9, score=(train=0.779, test=0.798), total=   0.2s\n",
      "[CV] learning_rate=0.1, max_depth=2, n_estimators=20, subsample=0.9 ..\n",
      "[CV]  learning_rate=0.1, max_depth=2, n_estimators=20, subsample=0.9, score=(train=0.748, test=0.686), total=   0.2s\n",
      "[CV] learning_rate=0.1, max_depth=2, n_estimators=20, subsample=0.9 ..\n",
      "[CV]  learning_rate=0.1, max_depth=2, n_estimators=20, subsample=0.9, score=(train=0.776, test=0.697), total=   0.2s\n",
      "[CV] learning_rate=0.1, max_depth=3, n_estimators=5, subsample=0.3 ...\n",
      "[CV]  learning_rate=0.1, max_depth=3, n_estimators=5, subsample=0.3, score=(train=0.523, test=0.505), total=   0.0s\n",
      "[CV] learning_rate=0.1, max_depth=3, n_estimators=5, subsample=0.3 ...\n",
      "[CV]  learning_rate=0.1, max_depth=3, n_estimators=5, subsample=0.3, score=(train=0.595, test=0.539), total=   0.0s\n",
      "[CV] learning_rate=0.1, max_depth=3, n_estimators=5, subsample=0.3 ...\n",
      "[CV]  learning_rate=0.1, max_depth=3, n_estimators=5, subsample=0.3, score=(train=0.505, test=0.513), total=   0.0s\n",
      "[CV] learning_rate=0.1, max_depth=3, n_estimators=5, subsample=0.6 ...\n",
      "[CV]  learning_rate=0.1, max_depth=3, n_estimators=5, subsample=0.6, score=(train=0.579, test=0.591), total=   0.1s\n",
      "[CV] learning_rate=0.1, max_depth=3, n_estimators=5, subsample=0.6 ...\n",
      "[CV]  learning_rate=0.1, max_depth=3, n_estimators=5, subsample=0.6, score=(train=0.618, test=0.570), total=   0.1s\n",
      "[CV] learning_rate=0.1, max_depth=3, n_estimators=5, subsample=0.6 ...\n",
      "[CV]  learning_rate=0.1, max_depth=3, n_estimators=5, subsample=0.6, score=(train=0.516, test=0.520), total=   0.1s\n",
      "[CV] learning_rate=0.1, max_depth=3, n_estimators=5, subsample=0.9 ...\n",
      "[CV]  learning_rate=0.1, max_depth=3, n_estimators=5, subsample=0.9, score=(train=0.460, test=0.460), total=   0.1s\n",
      "[CV] learning_rate=0.1, max_depth=3, n_estimators=5, subsample=0.9 ...\n",
      "[CV]  learning_rate=0.1, max_depth=3, n_estimators=5, subsample=0.9, score=(train=0.629, test=0.570), total=   0.1s\n",
      "[CV] learning_rate=0.1, max_depth=3, n_estimators=5, subsample=0.9 ...\n",
      "[CV]  learning_rate=0.1, max_depth=3, n_estimators=5, subsample=0.9, score=(train=0.578, test=0.566), total=   0.1s\n",
      "[CV] learning_rate=0.1, max_depth=3, n_estimators=10, subsample=0.3 ..\n",
      "[CV]  learning_rate=0.1, max_depth=3, n_estimators=10, subsample=0.3, score=(train=0.734, test=0.737), total=   0.1s\n",
      "[CV] learning_rate=0.1, max_depth=3, n_estimators=10, subsample=0.3 ..\n",
      "[CV]  learning_rate=0.1, max_depth=3, n_estimators=10, subsample=0.3, score=(train=0.764, test=0.724), total=   0.1s\n",
      "[CV] learning_rate=0.1, max_depth=3, n_estimators=10, subsample=0.3 ..\n",
      "[CV]  learning_rate=0.1, max_depth=3, n_estimators=10, subsample=0.3, score=(train=0.731, test=0.693), total=   0.1s\n",
      "[CV] learning_rate=0.1, max_depth=3, n_estimators=10, subsample=0.6 ..\n",
      "[CV]  learning_rate=0.1, max_depth=3, n_estimators=10, subsample=0.6, score=(train=0.754, test=0.711), total=   0.2s\n",
      "[CV] learning_rate=0.1, max_depth=3, n_estimators=10, subsample=0.6 ..\n",
      "[CV]  learning_rate=0.1, max_depth=3, n_estimators=10, subsample=0.6, score=(train=0.757, test=0.686), total=   0.1s\n",
      "[CV] learning_rate=0.1, max_depth=3, n_estimators=10, subsample=0.6 ..\n",
      "[CV]  learning_rate=0.1, max_depth=3, n_estimators=10, subsample=0.6, score=(train=0.730, test=0.668), total=   0.1s\n",
      "[CV] learning_rate=0.1, max_depth=3, n_estimators=10, subsample=0.9 ..\n",
      "[CV]  learning_rate=0.1, max_depth=3, n_estimators=10, subsample=0.9, score=(train=0.772, test=0.752), total=   0.2s\n",
      "[CV] learning_rate=0.1, max_depth=3, n_estimators=10, subsample=0.9 ..\n",
      "[CV]  learning_rate=0.1, max_depth=3, n_estimators=10, subsample=0.9, score=(train=0.768, test=0.730), total=   0.1s\n",
      "[CV] learning_rate=0.1, max_depth=3, n_estimators=10, subsample=0.9 ..\n",
      "[CV]  learning_rate=0.1, max_depth=3, n_estimators=10, subsample=0.9, score=(train=0.760, test=0.731), total=   0.2s\n",
      "[CV] learning_rate=0.1, max_depth=3, n_estimators=20, subsample=0.3 ..\n",
      "[CV]  learning_rate=0.1, max_depth=3, n_estimators=20, subsample=0.3, score=(train=0.875, test=0.826), total=   0.2s\n",
      "[CV] learning_rate=0.1, max_depth=3, n_estimators=20, subsample=0.3 ..\n",
      "[CV]  learning_rate=0.1, max_depth=3, n_estimators=20, subsample=0.3, score=(train=0.847, test=0.804), total=   0.2s\n",
      "[CV] learning_rate=0.1, max_depth=3, n_estimators=20, subsample=0.3 ..\n",
      "[CV]  learning_rate=0.1, max_depth=3, n_estimators=20, subsample=0.3, score=(train=0.869, test=0.786), total=   0.1s\n",
      "[CV] learning_rate=0.1, max_depth=3, n_estimators=20, subsample=0.6 ..\n",
      "[CV]  learning_rate=0.1, max_depth=3, n_estimators=20, subsample=0.6, score=(train=0.859, test=0.813), total=   0.2s\n",
      "[CV] learning_rate=0.1, max_depth=3, n_estimators=20, subsample=0.6 ..\n",
      "[CV]  learning_rate=0.1, max_depth=3, n_estimators=20, subsample=0.6, score=(train=0.834, test=0.797), total=   0.2s\n",
      "[CV] learning_rate=0.1, max_depth=3, n_estimators=20, subsample=0.6 ..\n",
      "[CV]  learning_rate=0.1, max_depth=3, n_estimators=20, subsample=0.6, score=(train=0.895, test=0.823), total=   0.3s\n",
      "[CV] learning_rate=0.1, max_depth=3, n_estimators=20, subsample=0.9 ..\n",
      "[CV]  learning_rate=0.1, max_depth=3, n_estimators=20, subsample=0.9, score=(train=0.845, test=0.817), total=   0.4s\n",
      "[CV] learning_rate=0.1, max_depth=3, n_estimators=20, subsample=0.9 ..\n",
      "[CV]  learning_rate=0.1, max_depth=3, n_estimators=20, subsample=0.9, score=(train=0.839, test=0.796), total=   0.3s\n",
      "[CV] learning_rate=0.1, max_depth=3, n_estimators=20, subsample=0.9 ..\n",
      "[CV]  learning_rate=0.1, max_depth=3, n_estimators=20, subsample=0.9, score=(train=0.887, test=0.823), total=   0.3s\n",
      "[CV] learning_rate=0.1, max_depth=4, n_estimators=5, subsample=0.3 ...\n",
      "[CV]  learning_rate=0.1, max_depth=4, n_estimators=5, subsample=0.3, score=(train=0.633, test=0.654), total=   0.1s\n",
      "[CV] learning_rate=0.1, max_depth=4, n_estimators=5, subsample=0.3 ...\n",
      "[CV]  learning_rate=0.1, max_depth=4, n_estimators=5, subsample=0.3, score=(train=0.678, test=0.636), total=   0.1s\n",
      "[CV] learning_rate=0.1, max_depth=4, n_estimators=5, subsample=0.3 ...\n",
      "[CV]  learning_rate=0.1, max_depth=4, n_estimators=5, subsample=0.3, score=(train=0.640, test=0.597), total=   0.1s\n",
      "[CV] learning_rate=0.1, max_depth=4, n_estimators=5, subsample=0.6 ...\n",
      "[CV]  learning_rate=0.1, max_depth=4, n_estimators=5, subsample=0.6, score=(train=0.683, test=0.639), total=   0.1s\n",
      "[CV] learning_rate=0.1, max_depth=4, n_estimators=5, subsample=0.6 ...\n",
      "[CV]  learning_rate=0.1, max_depth=4, n_estimators=5, subsample=0.6, score=(train=0.693, test=0.668), total=   0.1s\n",
      "[CV] learning_rate=0.1, max_depth=4, n_estimators=5, subsample=0.6 ...\n",
      "[CV]  learning_rate=0.1, max_depth=4, n_estimators=5, subsample=0.6, score=(train=0.677, test=0.663), total=   0.1s\n",
      "[CV] learning_rate=0.1, max_depth=4, n_estimators=5, subsample=0.9 ...\n"
     ]
    },
    {
     "name": "stdout",
     "output_type": "stream",
     "text": [
      "[CV]  learning_rate=0.1, max_depth=4, n_estimators=5, subsample=0.9, score=(train=0.598, test=0.585), total=   0.1s\n",
      "[CV] learning_rate=0.1, max_depth=4, n_estimators=5, subsample=0.9 ...\n",
      "[CV]  learning_rate=0.1, max_depth=4, n_estimators=5, subsample=0.9, score=(train=0.730, test=0.676), total=   0.1s\n",
      "[CV] learning_rate=0.1, max_depth=4, n_estimators=5, subsample=0.9 ...\n",
      "[CV]  learning_rate=0.1, max_depth=4, n_estimators=5, subsample=0.9, score=(train=0.626, test=0.597), total=   0.1s\n",
      "[CV] learning_rate=0.1, max_depth=4, n_estimators=10, subsample=0.3 ..\n",
      "[CV]  learning_rate=0.1, max_depth=4, n_estimators=10, subsample=0.3, score=(train=0.829, test=0.772), total=   0.1s\n",
      "[CV] learning_rate=0.1, max_depth=4, n_estimators=10, subsample=0.3 ..\n",
      "[CV]  learning_rate=0.1, max_depth=4, n_estimators=10, subsample=0.3, score=(train=0.797, test=0.739), total=   0.1s\n",
      "[CV] learning_rate=0.1, max_depth=4, n_estimators=10, subsample=0.3 ..\n",
      "[CV]  learning_rate=0.1, max_depth=4, n_estimators=10, subsample=0.3, score=(train=0.841, test=0.764), total=   0.1s\n",
      "[CV] learning_rate=0.1, max_depth=4, n_estimators=10, subsample=0.6 ..\n",
      "[CV]  learning_rate=0.1, max_depth=4, n_estimators=10, subsample=0.6, score=(train=0.840, test=0.801), total=   0.1s\n",
      "[CV] learning_rate=0.1, max_depth=4, n_estimators=10, subsample=0.6 ..\n",
      "[CV]  learning_rate=0.1, max_depth=4, n_estimators=10, subsample=0.6, score=(train=0.836, test=0.780), total=   0.1s\n",
      "[CV] learning_rate=0.1, max_depth=4, n_estimators=10, subsample=0.6 ..\n",
      "[CV]  learning_rate=0.1, max_depth=4, n_estimators=10, subsample=0.6, score=(train=0.877, test=0.820), total=   0.1s\n",
      "[CV] learning_rate=0.1, max_depth=4, n_estimators=10, subsample=0.9 ..\n",
      "[CV]  learning_rate=0.1, max_depth=4, n_estimators=10, subsample=0.9, score=(train=0.855, test=0.795), total=   0.2s\n",
      "[CV] learning_rate=0.1, max_depth=4, n_estimators=10, subsample=0.9 ..\n",
      "[CV]  learning_rate=0.1, max_depth=4, n_estimators=10, subsample=0.9, score=(train=0.830, test=0.750), total=   0.2s\n",
      "[CV] learning_rate=0.1, max_depth=4, n_estimators=10, subsample=0.9 ..\n",
      "[CV]  learning_rate=0.1, max_depth=4, n_estimators=10, subsample=0.9, score=(train=0.881, test=0.830), total=   0.2s\n",
      "[CV] learning_rate=0.1, max_depth=4, n_estimators=20, subsample=0.3 ..\n",
      "[CV]  learning_rate=0.1, max_depth=4, n_estimators=20, subsample=0.3, score=(train=0.888, test=0.837), total=   0.2s\n",
      "[CV] learning_rate=0.1, max_depth=4, n_estimators=20, subsample=0.3 ..\n",
      "[CV]  learning_rate=0.1, max_depth=4, n_estimators=20, subsample=0.3, score=(train=0.891, test=0.850), total=   0.2s\n",
      "[CV] learning_rate=0.1, max_depth=4, n_estimators=20, subsample=0.3 ..\n",
      "[CV]  learning_rate=0.1, max_depth=4, n_estimators=20, subsample=0.3, score=(train=0.898, test=0.837), total=   0.2s\n",
      "[CV] learning_rate=0.1, max_depth=4, n_estimators=20, subsample=0.6 ..\n",
      "[CV]  learning_rate=0.1, max_depth=4, n_estimators=20, subsample=0.6, score=(train=0.917, test=0.862), total=   0.3s\n",
      "[CV] learning_rate=0.1, max_depth=4, n_estimators=20, subsample=0.6 ..\n",
      "[CV]  learning_rate=0.1, max_depth=4, n_estimators=20, subsample=0.6, score=(train=0.923, test=0.861), total=   0.3s\n",
      "[CV] learning_rate=0.1, max_depth=4, n_estimators=20, subsample=0.6 ..\n",
      "[CV]  learning_rate=0.1, max_depth=4, n_estimators=20, subsample=0.6, score=(train=0.920, test=0.853), total=   0.3s\n",
      "[CV] learning_rate=0.1, max_depth=4, n_estimators=20, subsample=0.9 ..\n",
      "[CV]  learning_rate=0.1, max_depth=4, n_estimators=20, subsample=0.9, score=(train=0.926, test=0.871), total=   0.4s\n",
      "[CV] learning_rate=0.1, max_depth=4, n_estimators=20, subsample=0.9 ..\n",
      "[CV]  learning_rate=0.1, max_depth=4, n_estimators=20, subsample=0.9, score=(train=0.930, test=0.865), total=   0.4s\n",
      "[CV] learning_rate=0.1, max_depth=4, n_estimators=20, subsample=0.9 ..\n",
      "[CV]  learning_rate=0.1, max_depth=4, n_estimators=20, subsample=0.9, score=(train=0.932, test=0.854), total=   0.4s\n",
      "[CV] learning_rate=0.3, max_depth=2, n_estimators=5, subsample=0.3 ...\n",
      "[CV]  learning_rate=0.3, max_depth=2, n_estimators=5, subsample=0.3, score=(train=0.720, test=0.716), total=   0.0s\n",
      "[CV] learning_rate=0.3, max_depth=2, n_estimators=5, subsample=0.3 ...\n",
      "[CV]  learning_rate=0.3, max_depth=2, n_estimators=5, subsample=0.3, score=(train=0.689, test=0.686), total=   0.0s\n",
      "[CV] learning_rate=0.3, max_depth=2, n_estimators=5, subsample=0.3 ...\n",
      "[CV]  learning_rate=0.3, max_depth=2, n_estimators=5, subsample=0.3, score=(train=0.738, test=0.711), total=   0.0s\n",
      "[CV] learning_rate=0.3, max_depth=2, n_estimators=5, subsample=0.6 ...\n",
      "[CV]  learning_rate=0.3, max_depth=2, n_estimators=5, subsample=0.6, score=(train=0.763, test=0.779), total=   0.0s\n",
      "[CV] learning_rate=0.3, max_depth=2, n_estimators=5, subsample=0.6 ...\n",
      "[CV]  learning_rate=0.3, max_depth=2, n_estimators=5, subsample=0.6, score=(train=0.741, test=0.707), total=   0.1s\n",
      "[CV] learning_rate=0.3, max_depth=2, n_estimators=5, subsample=0.6 ...\n",
      "[CV]  learning_rate=0.3, max_depth=2, n_estimators=5, subsample=0.6, score=(train=0.774, test=0.742), total=   0.0s\n",
      "[CV] learning_rate=0.3, max_depth=2, n_estimators=5, subsample=0.9 ...\n",
      "[CV]  learning_rate=0.3, max_depth=2, n_estimators=5, subsample=0.9, score=(train=0.764, test=0.773), total=   0.1s\n",
      "[CV] learning_rate=0.3, max_depth=2, n_estimators=5, subsample=0.9 ...\n",
      "[CV]  learning_rate=0.3, max_depth=2, n_estimators=5, subsample=0.9, score=(train=0.667, test=0.628), total=   0.1s\n",
      "[CV] learning_rate=0.3, max_depth=2, n_estimators=5, subsample=0.9 ...\n",
      "[CV]  learning_rate=0.3, max_depth=2, n_estimators=5, subsample=0.9, score=(train=0.754, test=0.726), total=   0.1s\n",
      "[CV] learning_rate=0.3, max_depth=2, n_estimators=10, subsample=0.3 ..\n",
      "[CV]  learning_rate=0.3, max_depth=2, n_estimators=10, subsample=0.3, score=(train=0.801, test=0.779), total=   0.1s\n",
      "[CV] learning_rate=0.3, max_depth=2, n_estimators=10, subsample=0.3 ..\n",
      "[CV]  learning_rate=0.3, max_depth=2, n_estimators=10, subsample=0.3, score=(train=0.769, test=0.731), total=   0.1s\n",
      "[CV] learning_rate=0.3, max_depth=2, n_estimators=10, subsample=0.3 ..\n",
      "[CV]  learning_rate=0.3, max_depth=2, n_estimators=10, subsample=0.3, score=(train=0.801, test=0.712), total=   0.1s\n",
      "[CV] learning_rate=0.3, max_depth=2, n_estimators=10, subsample=0.6 ..\n",
      "[CV]  learning_rate=0.3, max_depth=2, n_estimators=10, subsample=0.6, score=(train=0.807, test=0.809), total=   0.1s\n",
      "[CV] learning_rate=0.3, max_depth=2, n_estimators=10, subsample=0.6 ..\n",
      "[CV]  learning_rate=0.3, max_depth=2, n_estimators=10, subsample=0.6, score=(train=0.805, test=0.796), total=   0.1s\n",
      "[CV] learning_rate=0.3, max_depth=2, n_estimators=10, subsample=0.6 ..\n",
      "[CV]  learning_rate=0.3, max_depth=2, n_estimators=10, subsample=0.6, score=(train=0.834, test=0.800), total=   0.1s\n",
      "[CV] learning_rate=0.3, max_depth=2, n_estimators=10, subsample=0.9 ..\n",
      "[CV]  learning_rate=0.3, max_depth=2, n_estimators=10, subsample=0.9, score=(train=0.776, test=0.779), total=   0.1s\n",
      "[CV] learning_rate=0.3, max_depth=2, n_estimators=10, subsample=0.9 ..\n",
      "[CV]  learning_rate=0.3, max_depth=2, n_estimators=10, subsample=0.9, score=(train=0.779, test=0.731), total=   0.1s\n",
      "[CV] learning_rate=0.3, max_depth=2, n_estimators=10, subsample=0.9 ..\n",
      "[CV]  learning_rate=0.3, max_depth=2, n_estimators=10, subsample=0.9, score=(train=0.843, test=0.795), total=   0.1s\n",
      "[CV] learning_rate=0.3, max_depth=2, n_estimators=20, subsample=0.3 ..\n",
      "[CV]  learning_rate=0.3, max_depth=2, n_estimators=20, subsample=0.3, score=(train=0.831, test=0.818), total=   0.1s\n",
      "[CV] learning_rate=0.3, max_depth=2, n_estimators=20, subsample=0.3 ..\n",
      "[CV]  learning_rate=0.3, max_depth=2, n_estimators=20, subsample=0.3, score=(train=0.794, test=0.742), total=   0.1s\n",
      "[CV] learning_rate=0.3, max_depth=2, n_estimators=20, subsample=0.3 ..\n",
      "[CV]  learning_rate=0.3, max_depth=2, n_estimators=20, subsample=0.3, score=(train=0.844, test=0.782), total=   0.2s\n",
      "[CV] learning_rate=0.3, max_depth=2, n_estimators=20, subsample=0.6 ..\n",
      "[CV]  learning_rate=0.3, max_depth=2, n_estimators=20, subsample=0.6, score=(train=0.866, test=0.846), total=   0.2s\n",
      "[CV] learning_rate=0.3, max_depth=2, n_estimators=20, subsample=0.6 ..\n",
      "[CV]  learning_rate=0.3, max_depth=2, n_estimators=20, subsample=0.6, score=(train=0.841, test=0.791), total=   0.2s\n",
      "[CV] learning_rate=0.3, max_depth=2, n_estimators=20, subsample=0.6 ..\n"
     ]
    },
    {
     "name": "stdout",
     "output_type": "stream",
     "text": [
      "[CV]  learning_rate=0.3, max_depth=2, n_estimators=20, subsample=0.6, score=(train=0.868, test=0.760), total=   0.2s\n",
      "[CV] learning_rate=0.3, max_depth=2, n_estimators=20, subsample=0.9 ..\n",
      "[CV]  learning_rate=0.3, max_depth=2, n_estimators=20, subsample=0.9, score=(train=0.867, test=0.841), total=   0.2s\n",
      "[CV] learning_rate=0.3, max_depth=2, n_estimators=20, subsample=0.9 ..\n",
      "[CV]  learning_rate=0.3, max_depth=2, n_estimators=20, subsample=0.9, score=(train=0.874, test=0.823), total=   0.2s\n",
      "[CV] learning_rate=0.3, max_depth=2, n_estimators=20, subsample=0.9 ..\n",
      "[CV]  learning_rate=0.3, max_depth=2, n_estimators=20, subsample=0.9, score=(train=0.878, test=0.815), total=   0.2s\n",
      "[CV] learning_rate=0.3, max_depth=3, n_estimators=5, subsample=0.3 ...\n",
      "[CV]  learning_rate=0.3, max_depth=3, n_estimators=5, subsample=0.3, score=(train=0.834, test=0.779), total=   0.0s\n",
      "[CV] learning_rate=0.3, max_depth=3, n_estimators=5, subsample=0.3 ...\n",
      "[CV]  learning_rate=0.3, max_depth=3, n_estimators=5, subsample=0.3, score=(train=0.806, test=0.730), total=   0.0s\n",
      "[CV] learning_rate=0.3, max_depth=3, n_estimators=5, subsample=0.3 ...\n",
      "[CV]  learning_rate=0.3, max_depth=3, n_estimators=5, subsample=0.3, score=(train=0.867, test=0.806), total=   0.1s\n",
      "[CV] learning_rate=0.3, max_depth=3, n_estimators=5, subsample=0.6 ...\n",
      "[CV]  learning_rate=0.3, max_depth=3, n_estimators=5, subsample=0.6, score=(train=0.874, test=0.853), total=   0.1s\n",
      "[CV] learning_rate=0.3, max_depth=3, n_estimators=5, subsample=0.6 ...\n",
      "[CV]  learning_rate=0.3, max_depth=3, n_estimators=5, subsample=0.6, score=(train=0.836, test=0.793), total=   0.1s\n",
      "[CV] learning_rate=0.3, max_depth=3, n_estimators=5, subsample=0.6 ...\n",
      "[CV]  learning_rate=0.3, max_depth=3, n_estimators=5, subsample=0.6, score=(train=0.845, test=0.793), total=   0.1s\n",
      "[CV] learning_rate=0.3, max_depth=3, n_estimators=5, subsample=0.9 ...\n",
      "[CV]  learning_rate=0.3, max_depth=3, n_estimators=5, subsample=0.9, score=(train=0.841, test=0.793), total=   0.1s\n",
      "[CV] learning_rate=0.3, max_depth=3, n_estimators=5, subsample=0.9 ...\n",
      "[CV]  learning_rate=0.3, max_depth=3, n_estimators=5, subsample=0.9, score=(train=0.809, test=0.758), total=   0.1s\n",
      "[CV] learning_rate=0.3, max_depth=3, n_estimators=5, subsample=0.9 ...\n",
      "[CV]  learning_rate=0.3, max_depth=3, n_estimators=5, subsample=0.9, score=(train=0.856, test=0.824), total=   0.1s\n",
      "[CV] learning_rate=0.3, max_depth=3, n_estimators=10, subsample=0.3 ..\n",
      "[CV]  learning_rate=0.3, max_depth=3, n_estimators=10, subsample=0.3, score=(train=0.877, test=0.837), total=   0.1s\n",
      "[CV] learning_rate=0.3, max_depth=3, n_estimators=10, subsample=0.3 ..\n",
      "[CV]  learning_rate=0.3, max_depth=3, n_estimators=10, subsample=0.3, score=(train=0.885, test=0.839), total=   0.1s\n",
      "[CV] learning_rate=0.3, max_depth=3, n_estimators=10, subsample=0.3 ..\n",
      "[CV]  learning_rate=0.3, max_depth=3, n_estimators=10, subsample=0.3, score=(train=0.882, test=0.808), total=   0.1s\n",
      "[CV] learning_rate=0.3, max_depth=3, n_estimators=10, subsample=0.6 ..\n",
      "[CV]  learning_rate=0.3, max_depth=3, n_estimators=10, subsample=0.6, score=(train=0.916, test=0.887), total=   0.1s\n",
      "[CV] learning_rate=0.3, max_depth=3, n_estimators=10, subsample=0.6 ..\n",
      "[CV]  learning_rate=0.3, max_depth=3, n_estimators=10, subsample=0.6, score=(train=0.891, test=0.848), total=   0.1s\n",
      "[CV] learning_rate=0.3, max_depth=3, n_estimators=10, subsample=0.6 ..\n",
      "[CV]  learning_rate=0.3, max_depth=3, n_estimators=10, subsample=0.6, score=(train=0.903, test=0.825), total=   0.1s\n",
      "[CV] learning_rate=0.3, max_depth=3, n_estimators=10, subsample=0.9 ..\n",
      "[CV]  learning_rate=0.3, max_depth=3, n_estimators=10, subsample=0.9, score=(train=0.906, test=0.848), total=   0.2s\n",
      "[CV] learning_rate=0.3, max_depth=3, n_estimators=10, subsample=0.9 ..\n",
      "[CV]  learning_rate=0.3, max_depth=3, n_estimators=10, subsample=0.9, score=(train=0.924, test=0.864), total=   0.2s\n",
      "[CV] learning_rate=0.3, max_depth=3, n_estimators=10, subsample=0.9 ..\n",
      "[CV]  learning_rate=0.3, max_depth=3, n_estimators=10, subsample=0.9, score=(train=0.911, test=0.851), total=   0.2s\n",
      "[CV] learning_rate=0.3, max_depth=3, n_estimators=20, subsample=0.3 ..\n",
      "[CV]  learning_rate=0.3, max_depth=3, n_estimators=20, subsample=0.3, score=(train=0.886, test=0.837), total=   0.1s\n",
      "[CV] learning_rate=0.3, max_depth=3, n_estimators=20, subsample=0.3 ..\n",
      "[CV]  learning_rate=0.3, max_depth=3, n_estimators=20, subsample=0.3, score=(train=0.868, test=0.810), total=   0.1s\n",
      "[CV] learning_rate=0.3, max_depth=3, n_estimators=20, subsample=0.3 ..\n",
      "[CV]  learning_rate=0.3, max_depth=3, n_estimators=20, subsample=0.3, score=(train=0.868, test=0.804), total=   0.2s\n",
      "[CV] learning_rate=0.3, max_depth=3, n_estimators=20, subsample=0.6 ..\n",
      "[CV]  learning_rate=0.3, max_depth=3, n_estimators=20, subsample=0.6, score=(train=0.917, test=0.846), total=   0.2s\n",
      "[CV] learning_rate=0.3, max_depth=3, n_estimators=20, subsample=0.6 ..\n",
      "[CV]  learning_rate=0.3, max_depth=3, n_estimators=20, subsample=0.6, score=(train=0.937, test=0.867), total=   0.2s\n",
      "[CV] learning_rate=0.3, max_depth=3, n_estimators=20, subsample=0.6 ..\n",
      "[CV]  learning_rate=0.3, max_depth=3, n_estimators=20, subsample=0.6, score=(train=0.937, test=0.841), total=   0.2s\n",
      "[CV] learning_rate=0.3, max_depth=3, n_estimators=20, subsample=0.9 ..\n",
      "[CV]  learning_rate=0.3, max_depth=3, n_estimators=20, subsample=0.9, score=(train=0.942, test=0.856), total=   0.3s\n",
      "[CV] learning_rate=0.3, max_depth=3, n_estimators=20, subsample=0.9 ..\n",
      "[CV]  learning_rate=0.3, max_depth=3, n_estimators=20, subsample=0.9, score=(train=0.941, test=0.856), total=   0.2s\n",
      "[CV] learning_rate=0.3, max_depth=3, n_estimators=20, subsample=0.9 ..\n",
      "[CV]  learning_rate=0.3, max_depth=3, n_estimators=20, subsample=0.9, score=(train=0.943, test=0.868), total=   0.3s\n",
      "[CV] learning_rate=0.3, max_depth=4, n_estimators=5, subsample=0.3 ...\n",
      "[CV]  learning_rate=0.3, max_depth=4, n_estimators=5, subsample=0.3, score=(train=0.896, test=0.853), total=   0.0s\n",
      "[CV] learning_rate=0.3, max_depth=4, n_estimators=5, subsample=0.3 ...\n",
      "[CV]  learning_rate=0.3, max_depth=4, n_estimators=5, subsample=0.3, score=(train=0.854, test=0.835), total=   0.1s\n",
      "[CV] learning_rate=0.3, max_depth=4, n_estimators=5, subsample=0.3 ...\n",
      "[CV]  learning_rate=0.3, max_depth=4, n_estimators=5, subsample=0.3, score=(train=0.887, test=0.838), total=   0.1s\n",
      "[CV] learning_rate=0.3, max_depth=4, n_estimators=5, subsample=0.6 ...\n",
      "[CV]  learning_rate=0.3, max_depth=4, n_estimators=5, subsample=0.6, score=(train=0.903, test=0.858), total=   0.1s\n",
      "[CV] learning_rate=0.3, max_depth=4, n_estimators=5, subsample=0.6 ...\n",
      "[CV]  learning_rate=0.3, max_depth=4, n_estimators=5, subsample=0.6, score=(train=0.889, test=0.841), total=   0.1s\n",
      "[CV] learning_rate=0.3, max_depth=4, n_estimators=5, subsample=0.6 ...\n",
      "[CV]  learning_rate=0.3, max_depth=4, n_estimators=5, subsample=0.6, score=(train=0.898, test=0.829), total=   0.1s\n",
      "[CV] learning_rate=0.3, max_depth=4, n_estimators=5, subsample=0.9 ...\n",
      "[CV]  learning_rate=0.3, max_depth=4, n_estimators=5, subsample=0.9, score=(train=0.919, test=0.869), total=   0.1s\n",
      "[CV] learning_rate=0.3, max_depth=4, n_estimators=5, subsample=0.9 ...\n",
      "[CV]  learning_rate=0.3, max_depth=4, n_estimators=5, subsample=0.9, score=(train=0.920, test=0.862), total=   0.1s\n",
      "[CV] learning_rate=0.3, max_depth=4, n_estimators=5, subsample=0.9 ...\n",
      "[CV]  learning_rate=0.3, max_depth=4, n_estimators=5, subsample=0.9, score=(train=0.920, test=0.831), total=   0.1s\n",
      "[CV] learning_rate=0.3, max_depth=4, n_estimators=10, subsample=0.3 ..\n",
      "[CV]  learning_rate=0.3, max_depth=4, n_estimators=10, subsample=0.3, score=(train=0.920, test=0.858), total=   0.1s\n",
      "[CV] learning_rate=0.3, max_depth=4, n_estimators=10, subsample=0.3 ..\n",
      "[CV]  learning_rate=0.3, max_depth=4, n_estimators=10, subsample=0.3, score=(train=0.856, test=0.769), total=   0.1s\n",
      "[CV] learning_rate=0.3, max_depth=4, n_estimators=10, subsample=0.3 ..\n",
      "[CV]  learning_rate=0.3, max_depth=4, n_estimators=10, subsample=0.3, score=(train=0.867, test=0.802), total=   0.1s\n",
      "[CV] learning_rate=0.3, max_depth=4, n_estimators=10, subsample=0.6 ..\n",
      "[CV]  learning_rate=0.3, max_depth=4, n_estimators=10, subsample=0.6, score=(train=0.934, test=0.876), total=   0.1s\n",
      "[CV] learning_rate=0.3, max_depth=4, n_estimators=10, subsample=0.6 ..\n",
      "[CV]  learning_rate=0.3, max_depth=4, n_estimators=10, subsample=0.6, score=(train=0.934, test=0.835), total=   0.2s\n",
      "[CV] learning_rate=0.3, max_depth=4, n_estimators=10, subsample=0.6 ..\n"
     ]
    },
    {
     "name": "stdout",
     "output_type": "stream",
     "text": [
      "[CV]  learning_rate=0.3, max_depth=4, n_estimators=10, subsample=0.6, score=(train=0.946, test=0.850), total=   0.2s\n",
      "[CV] learning_rate=0.3, max_depth=4, n_estimators=10, subsample=0.9 ..\n",
      "[CV]  learning_rate=0.3, max_depth=4, n_estimators=10, subsample=0.9, score=(train=0.953, test=0.861), total=   0.2s\n",
      "[CV] learning_rate=0.3, max_depth=4, n_estimators=10, subsample=0.9 ..\n",
      "[CV]  learning_rate=0.3, max_depth=4, n_estimators=10, subsample=0.9, score=(train=0.954, test=0.875), total=   0.2s\n",
      "[CV] learning_rate=0.3, max_depth=4, n_estimators=10, subsample=0.9 ..\n",
      "[CV]  learning_rate=0.3, max_depth=4, n_estimators=10, subsample=0.9, score=(train=0.941, test=0.854), total=   0.2s\n",
      "[CV] learning_rate=0.3, max_depth=4, n_estimators=20, subsample=0.3 ..\n",
      "[CV]  learning_rate=0.3, max_depth=4, n_estimators=20, subsample=0.3, score=(train=0.902, test=0.826), total=   0.2s\n",
      "[CV] learning_rate=0.3, max_depth=4, n_estimators=20, subsample=0.3 ..\n",
      "[CV]  learning_rate=0.3, max_depth=4, n_estimators=20, subsample=0.3, score=(train=0.901, test=0.796), total=   0.2s\n",
      "[CV] learning_rate=0.3, max_depth=4, n_estimators=20, subsample=0.3 ..\n",
      "[CV]  learning_rate=0.3, max_depth=4, n_estimators=20, subsample=0.3, score=(train=0.931, test=0.800), total=   0.2s\n",
      "[CV] learning_rate=0.3, max_depth=4, n_estimators=20, subsample=0.6 ..\n",
      "[CV]  learning_rate=0.3, max_depth=4, n_estimators=20, subsample=0.6, score=(train=0.961, test=0.845), total=   0.3s\n",
      "[CV] learning_rate=0.3, max_depth=4, n_estimators=20, subsample=0.6 ..\n",
      "[CV]  learning_rate=0.3, max_depth=4, n_estimators=20, subsample=0.6, score=(train=0.956, test=0.836), total=   0.3s\n",
      "[CV] learning_rate=0.3, max_depth=4, n_estimators=20, subsample=0.6 ..\n",
      "[CV]  learning_rate=0.3, max_depth=4, n_estimators=20, subsample=0.6, score=(train=0.964, test=0.851), total=   0.3s\n",
      "[CV] learning_rate=0.3, max_depth=4, n_estimators=20, subsample=0.9 ..\n",
      "[CV]  learning_rate=0.3, max_depth=4, n_estimators=20, subsample=0.9, score=(train=0.974, test=0.871), total=   0.4s\n",
      "[CV] learning_rate=0.3, max_depth=4, n_estimators=20, subsample=0.9 ..\n",
      "[CV]  learning_rate=0.3, max_depth=4, n_estimators=20, subsample=0.9, score=(train=0.975, test=0.864), total=   0.4s\n",
      "[CV] learning_rate=0.3, max_depth=4, n_estimators=20, subsample=0.9 ..\n",
      "[CV]  learning_rate=0.3, max_depth=4, n_estimators=20, subsample=0.9, score=(train=0.981, test=0.870), total=   0.4s\n"
     ]
    },
    {
     "name": "stderr",
     "output_type": "stream",
     "text": [
      "[Parallel(n_jobs=1)]: Done 243 out of 243 | elapsed:   36.5s finished\n"
     ]
    },
    {
     "data": {
      "text/plain": [
       "GridSearchCV(cv=3, error_score=nan,\n",
       "             estimator=GradientBoostingClassifier(ccp_alpha=0.0,\n",
       "                                                  criterion='friedman_mse',\n",
       "                                                  init=None, learning_rate=0.1,\n",
       "                                                  loss='deviance', max_depth=3,\n",
       "                                                  max_features=None,\n",
       "                                                  max_leaf_nodes=None,\n",
       "                                                  min_impurity_decrease=0.0,\n",
       "                                                  min_impurity_split=None,\n",
       "                                                  min_samples_leaf=1,\n",
       "                                                  min_samples_split=2,\n",
       "                                                  min_weight_fraction_leaf=0.0,\n",
       "                                                  n_estimators=100,\n",
       "                                                  n_iter_no_c...,\n",
       "                                                  presort='deprecated',\n",
       "                                                  random_state=None,\n",
       "                                                  subsample=1.0, tol=0.0001,\n",
       "                                                  validation_fraction=0.1,\n",
       "                                                  verbose=0, warm_start=False),\n",
       "             iid='deprecated', n_jobs=None,\n",
       "             param_grid={'learning_rate': [0.05, 0.1, 0.3],\n",
       "                         'max_depth': [2, 3, 4], 'n_estimators': [5, 10, 20],\n",
       "                         'subsample': [0.3, 0.6, 0.9]},\n",
       "             pre_dispatch='2*n_jobs', refit=True, return_train_score=True,\n",
       "             scoring='f1_macro', verbose=10)"
      ]
     },
     "execution_count": 17,
     "metadata": {},
     "output_type": "execute_result"
    }
   ],
   "source": [
    "# gradient boosting\n",
    "# build the gradientboost object\n",
    "from sklearn.ensemble import GradientBoostingClassifier\n",
    "GBM = GradientBoostingClassifier()\n",
    "\n",
    "# build grid search parameters\n",
    "parms = {'max_depth':[2,3,4],\n",
    "         'n_estimators': [5,10,20], \n",
    "         'learning_rate': [0.05,0.1,0.3],\n",
    "          'subsample':[0.3,0.6,0.9]} \n",
    "\n",
    "from sklearn.model_selection import GridSearchCV\n",
    "CV = GridSearchCV(estimator = GBM,param_grid = parms,\n",
    "                  scoring = 'f1_macro',cv=3,refit=True,\n",
    "                  return_train_score = True,verbose=10)\n",
    "CV.fit(X_train_final,Y_train.Churn)"
   ]
  },
  {
   "cell_type": "code",
   "execution_count": 18,
   "metadata": {},
   "outputs": [],
   "source": [
    "# check the results\n",
    "CVResults = pd.DataFrame(CV.cv_results_)\n",
    "CVResults.to_excel('CVResutls_GBoosting.xlsx')"
   ]
  },
  {
   "cell_type": "code",
   "execution_count": 16,
   "metadata": {},
   "outputs": [
    {
     "name": "stdout",
     "output_type": "stream",
     "text": [
      "GradientBoostingClassifier(criterion='friedman_mse', init=None,\n",
      "                           learning_rate=0.3, loss='deviance', max_depth=2,\n",
      "                           max_features=None, max_leaf_nodes=None,\n",
      "                           min_impurity_decrease=0.0, min_impurity_split=None,\n",
      "                           min_samples_leaf=1, min_samples_split=2,\n",
      "                           min_weight_fraction_leaf=0.0, n_estimators=20,\n",
      "                           n_iter_no_change=None, presort='auto',\n",
      "                           random_state=None, subsample=0.9, tol=0.0001,\n",
      "                           validation_fraction=0.1, verbose=0,\n",
      "                           warm_start=False)\n"
     ]
    }
   ],
   "source": [
    "print(CV.best_estimator_)"
   ]
  },
  {
   "cell_type": "code",
   "execution_count": 17,
   "metadata": {},
   "outputs": [
    {
     "name": "stdout",
     "output_type": "stream",
     "text": [
      "0.8158456587512459\n",
      "{'learning_rate': 0.3, 'max_depth': 2, 'n_estimators': 20, 'subsample': 0.9}\n"
     ]
    }
   ],
   "source": [
    "print(CV.best_score_)\n",
    "print(CV.best_params_)"
   ]
  },
  {
   "cell_type": "code",
   "execution_count": 19,
   "metadata": {},
   "outputs": [
    {
     "name": "stdout",
     "output_type": "stream",
     "text": [
      "[[0.91384852 0.08615148]\n",
      " [0.97994751 0.02005249]\n",
      " [0.97549975 0.02450025]\n",
      " [0.98185319 0.01814681]\n",
      " [0.12780842 0.87219158]]\n",
      "[0 0 0 0 1]\n"
     ]
    }
   ],
   "source": [
    "# Preidct on Test data and check the confusion matrix\n",
    "predictProb = CV.predict_proba(X_test_final)\n",
    "print(predictProb[0:5])\n",
    "PProb = pd.DataFrame(predictProb,columns=[\"Class0\",\"Class1\"])\n",
    "predictTest = CV.predict(X_test_final)\n",
    "print(predictTest[0:5])"
   ]
  },
  {
   "cell_type": "code",
   "execution_count": 21,
   "metadata": {},
   "outputs": [
    {
     "name": "stdout",
     "output_type": "stream",
     "text": [
      "[[ 6.05025245]\n",
      " [-0.84993961]\n",
      " [-0.64805045]\n",
      " [-1.39425969]\n",
      " [-0.4673744 ]\n",
      " [-0.68075506]\n",
      " [-0.04467546]\n",
      " [-0.86452901]\n",
      " [-0.58601889]\n",
      " [-0.50612772]\n",
      " [-0.508144  ]\n",
      " [-0.21914125]\n",
      " [ 0.12174343]\n",
      " [-0.35284755]\n",
      " [-0.08913058]\n",
      " [-0.337638  ]\n",
      " [ 0.59137061]\n",
      " [-0.81789807]\n",
      " [-0.35567702]\n",
      " [-0.08271961]]\n",
      "average:  [-2.04155987]\n",
      "final Prediction:  [0]\n"
     ]
    }
   ],
   "source": [
    "predict = np.zeros([1,1])\n",
    "for model in CV.best_estimator_.estimators_:\n",
    "    predict = np.vstack((predict,model[0].predict(X_test_final[0:1])))\n",
    "predict = predict[1:]\n",
    "print(predict)\n",
    "print(\"average: \",np.sum(predict,axis=0))\n",
    "print(\"final Prediction: \", CV.best_estimator_.predict(X_test_final[0:1]))"
   ]
  },
  {
   "cell_type": "code",
   "execution_count": 22,
   "metadata": {},
   "outputs": [
    {
     "name": "stdout",
     "output_type": "stream",
     "text": [
      "[[0.06598596]]\n",
      "[[-0.18899593]]\n",
      "[[-0.38341106]]\n",
      "[[-0.80168897]]\n",
      "[[-0.94190129]]\n",
      "[[-1.1461278]]\n",
      "[[-1.15953044]]\n",
      "[[-1.41888914]]\n",
      "[[-1.59469481]]\n",
      "[[-1.74653313]]\n",
      "[[-1.89897633]]\n",
      "[[-1.9647187]]\n",
      "[[-1.92819567]]\n",
      "[[-2.03404994]]\n",
      "[[-2.06078911]]\n",
      "[[-2.16208051]]\n",
      "[[-1.98466933]]\n",
      "[[-2.23003875]]\n",
      "[[-2.33674186]]\n",
      "[[-2.36155774]]\n"
     ]
    },
    {
     "data": {
      "text/plain": [
       "array([-2.36155774])"
      ]
     },
     "execution_count": 22,
     "metadata": {},
     "output_type": "execute_result"
    }
   ],
   "source": [
    "for m in CV.best_estimator_.staged_decision_function(X_test_final[0:1]):\n",
    "    print(m)\n",
    "CV.best_estimator_.decision_function(X_test_final[0:1])"
   ]
  },
  {
   "cell_type": "code",
   "execution_count": 39,
   "metadata": {},
   "outputs": [
    {
     "name": "stdout",
     "output_type": "stream",
     "text": [
      "[0]\n",
      "[0]\n",
      "[1]\n",
      "[1]\n",
      "[1]\n",
      "[1]\n",
      "[1]\n",
      "[1]\n",
      "[1]\n",
      "[1]\n",
      "[1]\n",
      "[1]\n",
      "[1]\n",
      "[1]\n",
      "[1]\n",
      "[1]\n",
      "[1]\n",
      "[1]\n",
      "[1]\n",
      "[1]\n"
     ]
    }
   ],
   "source": [
    "for m in CV.best_estimator_.staged_predict(X_test[0:1]):\n",
    "    print(m)"
   ]
  },
  {
   "cell_type": "code",
   "execution_count": 38,
   "metadata": {},
   "outputs": [
    {
     "name": "stdout",
     "output_type": "stream",
     "text": [
      "[[0.57296812 0.42703188]]\n",
      "[[0.50481788 0.49518212]]\n",
      "[[0.44119927 0.55880073]]\n",
      "[[0.42406277 0.57593723]]\n",
      "[[0.43943669 0.56056331]]\n",
      "[[0.3974883 0.6025117]]\n",
      "[[0.39151762 0.60848238]]\n",
      "[[0.3579884 0.6420116]]\n",
      "[[0.36939313 0.63060687]]\n",
      "[[0.38704908 0.61295092]]\n",
      "[[0.34070709 0.65929291]]\n",
      "[[0.34577567 0.65422433]]\n",
      "[[0.35970763 0.64029237]]\n",
      "[[0.32390687 0.67609313]]\n",
      "[[0.29203397 0.70796603]]\n",
      "[[0.29317545 0.70682455]]\n",
      "[[0.32549439 0.67450561]]\n",
      "[[0.31036896 0.68963104]]\n",
      "[[0.31422097 0.68577903]]\n",
      "[[0.32287592 0.67712408]]\n"
     ]
    }
   ],
   "source": [
    "for m in CV.best_estimator_.staged_predict_proba(X_test[0:1]):\n",
    "    print(m)"
   ]
  },
  {
   "cell_type": "code",
   "execution_count": 23,
   "metadata": {},
   "outputs": [
    {
     "name": "stdout",
     "output_type": "stream",
     "text": [
      "[[563  16]\n",
      " [ 16  72]]\n",
      "              precision    recall  f1-score   support\n",
      "\n",
      "           0       0.97      0.97      0.97       579\n",
      "           1       0.82      0.82      0.82        88\n",
      "\n",
      "    accuracy                           0.95       667\n",
      "   macro avg       0.90      0.90      0.90       667\n",
      "weighted avg       0.95      0.95      0.95       667\n",
      "\n"
     ]
    }
   ],
   "source": [
    "# generate confusion matrix\n",
    "# import confusion matrix and classification report\n",
    "from sklearn.metrics import confusion_matrix, classification_report\n",
    "print (confusion_matrix(Y_test,predictTest))\n",
    "print (classification_report(Y_test,predictTest))"
   ]
  },
  {
   "cell_type": "code",
   "execution_count": 25,
   "metadata": {},
   "outputs": [
    {
     "name": "stdout",
     "output_type": "stream",
     "text": [
      "0.918560606060606\n"
     ]
    }
   ],
   "source": [
    "# generate ROC curve\n",
    "from sklearn.metrics import roc_auc_score, roc_curve\n",
    "# AUC for class 1\n",
    "AUC = roc_auc_score(Y_test, PProb.Class1)\n",
    "print(AUC)"
   ]
  },
  {
   "cell_type": "code",
   "execution_count": 21,
   "metadata": {},
   "outputs": [
    {
     "data": {
      "image/png": "[encoded data removed]",
      "text/plain": [
       "<Figure size 432x288 with 1 Axes>"
      ]
     },
     "metadata": {
      "needs_background": "light"
     },
     "output_type": "display_data"
    }
   ],
   "source": [
    "# plot ROC curve\n",
    "FPR, TPR, THR = roc_curve(Y_test, PProb.Class1)\n",
    "# plot the FPR as X-axis and TPR as Y-axis\n",
    "plt.plot(FPR, TPR)\n",
    "# plot the minimum line \n",
    "plt.plot([0,1], [0,1], color='navy', linestyle = '--')\n",
    "# set X and Y limits\n",
    "plt.xlim([0.0, 1.05])\n",
    "plt.ylim([0.0, 1.05])\n",
    "# mention lables for X and Y\n",
    "plt.xlabel('False Positive Rate')\n",
    "plt.ylabel('True Positive Rate')\n",
    "plt.title('ROC')\n",
    "plt.show()"
   ]
  },
  {
   "cell_type": "code",
   "execution_count": 22,
   "metadata": {},
   "outputs": [],
   "source": [
    "ROC = pd.DataFrame({\"THR\":THR,\n",
    "                   \"TPR\":TPR,\n",
    "                   \"FPR\":FPR})\n",
    "ROC.to_excel('ROC_GBM.xlsx')"
   ]
  },
  {
   "cell_type": "code",
   "execution_count": 23,
   "metadata": {},
   "outputs": [
    {
     "name": "stdout",
     "output_type": "stream",
     "text": [
      "0    0.677124\n",
      "1    0.032931\n",
      "2    0.039866\n",
      "3    0.046535\n",
      "4    0.848770\n",
      "Name: Class1, dtype: float64\n",
      "[1, 0, 0, 0, 1]\n"
     ]
    }
   ],
   "source": [
    "pclass = list()\n",
    "for prob in PProb.Class1:\n",
    "    if prob >= 0.55:\n",
    "        pclass.append(1)\n",
    "    else:\n",
    "        pclass.append(0)\n",
    "print(PProb.Class1.head())\n",
    "print(pclass[0:5])"
   ]
  },
  {
   "cell_type": "code",
   "execution_count": 24,
   "metadata": {},
   "outputs": [
    {
     "name": "stdout",
     "output_type": "stream",
     "text": [
      "[[569  10]\n",
      " [ 39  49]]\n",
      "              precision    recall  f1-score   support\n",
      "\n",
      "           0       0.94      0.98      0.96       579\n",
      "           1       0.83      0.56      0.67        88\n",
      "\n",
      "    accuracy                           0.93       667\n",
      "   macro avg       0.88      0.77      0.81       667\n",
      "weighted avg       0.92      0.93      0.92       667\n",
      "\n"
     ]
    }
   ],
   "source": [
    "print (confusion_matrix(Y_test,pclass))\n",
    "print (classification_report(Y_test,pclass))"
   ]
  },
  {
   "cell_type": "code",
   "execution_count": 25,
   "metadata": {},
   "outputs": [
    {
     "data": {
      "text/html": [
       "<div>\n",
       "<style scoped>\n",
       "    .dataframe tbody tr th:only-of-type {\n",
       "        vertical-align: middle;\n",
       "    }\n",
       "\n",
       "    .dataframe tbody tr th {\n",
       "        vertical-align: top;\n",
       "    }\n",
       "\n",
       "    .dataframe thead th {\n",
       "        text-align: right;\n",
       "    }\n",
       "</style>\n",
       "<table border=\"1\" class=\"dataframe\">\n",
       "  <thead>\n",
       "    <tr style=\"text-align: right;\">\n",
       "      <th></th>\n",
       "      <th>Unnamed: 0</th>\n",
       "      <th>Actuals</th>\n",
       "      <th>DTPred</th>\n",
       "      <th>BagPred</th>\n",
       "      <th>RFPred</th>\n",
       "      <th>AdaboostPred</th>\n",
       "    </tr>\n",
       "  </thead>\n",
       "  <tbody>\n",
       "    <tr>\n",
       "      <th>0</th>\n",
       "      <td>405</td>\n",
       "      <td>0</td>\n",
       "      <td>1</td>\n",
       "      <td>1</td>\n",
       "      <td>1</td>\n",
       "      <td>1</td>\n",
       "    </tr>\n",
       "    <tr>\n",
       "      <th>1</th>\n",
       "      <td>118</td>\n",
       "      <td>0</td>\n",
       "      <td>0</td>\n",
       "      <td>0</td>\n",
       "      <td>0</td>\n",
       "      <td>0</td>\n",
       "    </tr>\n",
       "    <tr>\n",
       "      <th>2</th>\n",
       "      <td>710</td>\n",
       "      <td>0</td>\n",
       "      <td>0</td>\n",
       "      <td>0</td>\n",
       "      <td>0</td>\n",
       "      <td>0</td>\n",
       "    </tr>\n",
       "    <tr>\n",
       "      <th>3</th>\n",
       "      <td>499</td>\n",
       "      <td>0</td>\n",
       "      <td>0</td>\n",
       "      <td>0</td>\n",
       "      <td>0</td>\n",
       "      <td>0</td>\n",
       "    </tr>\n",
       "    <tr>\n",
       "      <th>4</th>\n",
       "      <td>2594</td>\n",
       "      <td>1</td>\n",
       "      <td>1</td>\n",
       "      <td>1</td>\n",
       "      <td>1</td>\n",
       "      <td>1</td>\n",
       "    </tr>\n",
       "  </tbody>\n",
       "</table>\n",
       "</div>"
      ],
      "text/plain": [
       "   Unnamed: 0  Actuals  DTPred  BagPred  RFPred  AdaboostPred\n",
       "0         405        0       1        1       1             1\n",
       "1         118        0       0        0       0             0\n",
       "2         710        0       0        0       0             0\n",
       "3         499        0       0        0       0             0\n",
       "4        2594        1       1        1       1             1"
      ]
     },
     "execution_count": 25,
     "metadata": {},
     "output_type": "execute_result"
    }
   ],
   "source": [
    "testcomp = pd.read_excel('testcomp.xlsx')\n",
    "testcomp.head()"
   ]
  },
  {
   "cell_type": "code",
   "execution_count": 26,
   "metadata": {},
   "outputs": [],
   "source": [
    "testcomp[\"GBMPred\"] = predictTest\n",
    "testcomp.to_excel('testcomp.xlsx',index=False)"
   ]
  },
  {
   "cell_type": "code",
   "execution_count": 28,
   "metadata": {},
   "outputs": [
    {
     "data": {
      "text/plain": [
       "DecisionTreeRegressor(criterion='friedman_mse', max_depth=2, max_features=None,\n",
       "                      max_leaf_nodes=None, min_impurity_decrease=0.0,\n",
       "                      min_impurity_split=None, min_samples_leaf=1,\n",
       "                      min_samples_split=2, min_weight_fraction_leaf=0.0,\n",
       "                      presort='auto',\n",
       "                      random_state=<mtrand.RandomState object at 0x00000294F651AAB0>,\n",
       "                      splitter='best')"
      ]
     },
     "execution_count": 28,
     "metadata": {},
     "output_type": "execute_result"
    }
   ],
   "source": [
    "CV.best_estimator_.estimators_[0][0]"
   ]
  },
  {
   "cell_type": "code",
   "execution_count": null,
   "metadata": {},
   "outputs": [],
   "source": []
  }
 ],
 "metadata": {
  "kernelspec": {
   "display_name": "Python 3",
   "language": "python",
   "name": "python3"
  },
  "language_info": {
   "codemirror_mode": {
    "name": "ipython",
    "version": 3
   },
   "file_extension": ".py",
   "mimetype": "text/x-python",
   "name": "python",
   "nbconvert_exporter": "python",
   "pygments_lexer": "ipython3",
   "version": "3.7.3"
  }
 },
 "nbformat": 4,
 "nbformat_minor": 2
}
