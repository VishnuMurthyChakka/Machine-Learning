{
 "cells": [
  {
   "cell_type": "code",
   "execution_count": 1,
   "metadata": {},
   "outputs": [
    {
     "name": "stdout",
     "output_type": "stream",
     "text": [
      "C:\\Digital Nest\\Naive Bayes\n"
     ]
    }
   ],
   "source": [
    "import numpy as np\n",
    "import pandas as pd\n",
    "import matplotlib.pyplot as plt\n",
    "import os\n",
    "os.chdir(\"C://Digital Nest/Naive Bayes\")\n",
    "print (os.getcwd())"
   ]
  },
  {
   "cell_type": "code",
   "execution_count": 2,
   "metadata": {},
   "outputs": [
    {
     "name": "stdout",
     "output_type": "stream",
     "text": [
      "(8416, 23)\n"
     ]
    }
   ],
   "source": [
    "mushroom = pd.read_csv('mushroom.csv')\n",
    "print(mushroom.shape)"
   ]
  },
  {
   "cell_type": "code",
   "execution_count": 3,
   "metadata": {},
   "outputs": [
    {
     "name": "stdout",
     "output_type": "stream",
     "text": [
      "['Typeofmushroom' 'capshape' 'capsurface' 'capcolor' 'bruises' 'odor'\n",
      " 'gillattachment' 'gillspacing' 'gillsize' 'gillcolor' 'stalkshape'\n",
      " 'stalkroot' 'stalksurfaceabovering' 'stalksurfacebelowring'\n",
      " 'stalkcolorabovering' 'stalkcolorbelowring' 'veiltype' 'veilcolor'\n",
      " 'ringnumber' 'ringtype' 'sporeprintcolor' 'population' 'habitat']\n"
     ]
    }
   ],
   "source": [
    "print(mushroom.columns.values)"
   ]
  },
  {
   "cell_type": "code",
   "execution_count": 4,
   "metadata": {},
   "outputs": [
    {
     "data": {
      "text/plain": [
       "Typeofmushroom           0\n",
       "capshape                 0\n",
       "capsurface               0\n",
       "capcolor                 0\n",
       "bruises                  0\n",
       "odor                     0\n",
       "gillattachment           0\n",
       "gillspacing              0\n",
       "gillsize                 0\n",
       "gillcolor                0\n",
       "stalkshape               0\n",
       "stalkroot                0\n",
       "stalksurfaceabovering    0\n",
       "stalksurfacebelowring    0\n",
       "stalkcolorabovering      0\n",
       "stalkcolorbelowring      0\n",
       "veiltype                 0\n",
       "veilcolor                0\n",
       "ringnumber               0\n",
       "ringtype                 0\n",
       "sporeprintcolor          0\n",
       "population               0\n",
       "habitat                  0\n",
       "dtype: int64"
      ]
     },
     "execution_count": 4,
     "metadata": {},
     "output_type": "execute_result"
    }
   ],
   "source": [
    "# find missing values\n",
    "mushroom.isnull().sum()"
   ]
  },
  {
   "cell_type": "code",
   "execution_count": 5,
   "metadata": {},
   "outputs": [
    {
     "name": "stdout",
     "output_type": "stream",
     "text": [
      "Typeofmushroom\n",
      "['EDIBLE' 'POISONOUS']\n",
      "capshape\n",
      "['BELL' 'CONICAL' 'CONVEX' 'FLAT' 'KNOBBED' 'SUNKEN']\n",
      "capsurface\n",
      "['FIBROUS' 'GROOVES' 'SCALY' 'SMOOTH']\n",
      "capcolor\n",
      "['BROWN' 'BUFF' 'CINNAMON' 'GRAY' 'GREEN' 'PINK' 'PURPLE' 'RED' 'WHITE'\n",
      " 'YELLOW']\n",
      "bruises\n",
      "['BRUISES' 'NO']\n",
      "odor\n",
      "['ALMOND' 'ANISE' 'CREOSOTE' 'FISHY' 'FOUL' 'MUSTY' 'NONE' 'PUNGENT'\n",
      " 'SPICY']\n",
      "gillattachment\n",
      "['ATTACHED' 'FREE']\n",
      "gillspacing\n",
      "['CLOSE' 'CROWDED']\n",
      "gillsize\n",
      "['BROAD' 'NARROW']\n",
      "gillcolor\n",
      "['BLACK' 'BROWN' 'BUFF' 'CHOCOLATE' 'GRAY' 'GREEN' 'ORANGE' 'PINK'\n",
      " 'PURPLE' 'RED' 'WHITE' 'YELLOW']\n",
      "stalkshape\n",
      "['ENLARGING' 'TAPERING']\n",
      "stalkroot\n",
      "['?' 'BULBOUS' 'CLUB' 'EQUAL' 'ROOTED']\n",
      "stalksurfaceabovering\n",
      "['FIBROUS' 'SCALY' 'SILKY' 'SMOOTH']\n",
      "stalksurfacebelowring\n",
      "['FIBROUS' 'SCALY' 'SILKY' 'SMOOTH']\n",
      "stalkcolorabovering\n",
      "['BROWN' 'BUFF' 'CINNAMON' 'GRAY' 'ORANGE' 'PINK' 'RED' 'WHITE' 'YELLOW']\n",
      "stalkcolorbelowring\n",
      "['BROWN' 'BUFF' 'CINNAMON' 'GRAY' 'ORANGE' 'PINK' 'RED' 'WHITE' 'YELLOW']\n",
      "veiltype\n",
      "['PARTIAL']\n",
      "veilcolor\n",
      "['BROWN' 'ORANGE' 'WHITE' 'YELLOW']\n",
      "ringnumber\n",
      "['NONE' 'ONE' 'TWO']\n",
      "ringtype\n",
      "['EVANESCENT' 'FLARING' 'LARGE' 'NONE' 'PENDANT']\n",
      "sporeprintcolor\n",
      "['BLACK' 'BROWN' 'BUFF' 'CHOCOLATE' 'GREEN' 'ORANGE' 'PURPLE' 'WHITE'\n",
      " 'YELLOW']\n",
      "population\n",
      "['ABUNDANT' 'CLUSTERED' 'NUMEROUS' 'SCATTERED' 'SEVERAL' 'SOLITARY']\n"
     ]
    }
   ],
   "source": [
    "# check if there are any invalid values\n",
    "for i in range(0,22,1):\n",
    "    print(mushroom.columns.values[i])\n",
    "    print(np.unique(mushroom.iloc[::,i:i+1:1]))"
   ]
  },
  {
   "cell_type": "code",
   "execution_count": 6,
   "metadata": {},
   "outputs": [
    {
     "name": "stdout",
     "output_type": "stream",
     "text": [
      "(array(['?', 'BULBOUS', 'CLUB', 'EQUAL', 'ROOTED'], dtype=object), array([2480, 3800,  568, 1376,  192], dtype=int64))\n",
      "0    BULBOUS\n",
      "dtype: object\n"
     ]
    }
   ],
   "source": [
    "# stalkroot has '?'. it has to be replaced with most frequent category\n",
    "print(np.unique(mushroom.stalkroot,return_counts=True))\n",
    "print(mushroom.stalkroot.mode())"
   ]
  },
  {
   "cell_type": "code",
   "execution_count": 7,
   "metadata": {},
   "outputs": [],
   "source": [
    "# replace '?' in stalkroom with 'BULBOUS'\n",
    "mushroom.loc[mushroom.stalkroot == \"?\",\"stalkroot\"] = 'BULBOUS'"
   ]
  },
  {
   "cell_type": "code",
   "execution_count": 8,
   "metadata": {},
   "outputs": [
    {
     "name": "stdout",
     "output_type": "stream",
     "text": [
      "(array(['BULBOUS', 'CLUB', 'EQUAL', 'ROOTED'], dtype=object), array([6280,  568, 1376,  192], dtype=int64))\n",
      "0    BULBOUS\n",
      "dtype: object\n"
     ]
    }
   ],
   "source": [
    "# stalkroot has '?'. it has to be replaced with most frequent category\n",
    "print(np.unique(mushroom.stalkroot,return_counts=True))\n",
    "print(mushroom.stalkroot.mode())"
   ]
  },
  {
   "cell_type": "code",
   "execution_count": 12,
   "metadata": {},
   "outputs": [],
   "source": [
    "# perform the encoding i.e. convert all categorical values into numbers\n",
    "from sklearn.preprocessing import LabelEncoder\n",
    "le = LabelEncoder()\n",
    "mushroom.Typeofmushroom = le.fit_transform(mushroom.Typeofmushroom)\n",
    "mushroom.capshape       = le.fit_transform(mushroom.capshape)\n",
    "mushroom.capsurface     = le.fit_transform(mushroom.capsurface)\n",
    "mushroom.capcolor       = le.fit_transform(mushroom.capcolor)\n",
    "mushroom.bruises        = le.fit_transform(mushroom.bruises)\n",
    "mushroom.odor           = le.fit_transform(mushroom.odor)\n",
    "mushroom.gillattachment = le.fit_transform(mushroom.gillattachment)\n",
    "mushroom.gillspacing    = le.fit_transform(mushroom.gillspacing)\n",
    "mushroom.gillsize       = le.fit_transform(mushroom.gillsize)\n",
    "mushroom.gillcolor      = le.fit_transform(mushroom.gillcolor)\n",
    "mushroom.stalkshape     = le.fit_transform(mushroom.stalkshape)\n",
    "mushroom.stalkroot      = le.fit_transform(mushroom.stalkroot)\n",
    "mushroom.stalksurfaceabovering = le.fit_transform(mushroom.stalksurfaceabovering)\n",
    "mushroom.stalksurfacebelowring = le.fit_transform(mushroom.stalksurfacebelowring)\n",
    "mushroom.stalkcolorabovering   = le.fit_transform(mushroom.stalkcolorabovering)\n",
    "mushroom.stalkcolorbelowring   = le.fit_transform(mushroom.stalkcolorbelowring)\n",
    "mushroom.veiltype       = le.fit_transform(mushroom.veiltype)\n",
    "mushroom.veilcolor      = le.fit_transform(mushroom.veilcolor)\n",
    "mushroom.ringnumber     = le.fit_transform(mushroom.ringnumber)\n",
    "mushroom.ringtype       = le.fit_transform(mushroom.ringtype)\n",
    "mushroom.sporeprintcolor = le.fit_transform(mushroom.sporeprintcolor)\n",
    "mushroom.population      = le.fit_transform(mushroom.population)\n",
    "mushroom.habitat         = le.fit_transform(mushroom.habitat)"
   ]
  },
  {
   "cell_type": "code",
   "execution_count": 13,
   "metadata": {},
   "outputs": [
    {
     "data": {
      "text/html": [
       "<div>\n",
       "<style scoped>\n",
       "    .dataframe tbody tr th:only-of-type {\n",
       "        vertical-align: middle;\n",
       "    }\n",
       "\n",
       "    .dataframe tbody tr th {\n",
       "        vertical-align: top;\n",
       "    }\n",
       "\n",
       "    .dataframe thead th {\n",
       "        text-align: right;\n",
       "    }\n",
       "</style>\n",
       "<table border=\"1\" class=\"dataframe\">\n",
       "  <thead>\n",
       "    <tr style=\"text-align: right;\">\n",
       "      <th></th>\n",
       "      <th>Typeofmushroom</th>\n",
       "      <th>capshape</th>\n",
       "      <th>capsurface</th>\n",
       "      <th>capcolor</th>\n",
       "      <th>bruises</th>\n",
       "      <th>odor</th>\n",
       "      <th>gillattachment</th>\n",
       "      <th>gillspacing</th>\n",
       "      <th>gillsize</th>\n",
       "      <th>gillcolor</th>\n",
       "      <th>...</th>\n",
       "      <th>stalksurfacebelowring</th>\n",
       "      <th>stalkcolorabovering</th>\n",
       "      <th>stalkcolorbelowring</th>\n",
       "      <th>veiltype</th>\n",
       "      <th>veilcolor</th>\n",
       "      <th>ringnumber</th>\n",
       "      <th>ringtype</th>\n",
       "      <th>sporeprintcolor</th>\n",
       "      <th>population</th>\n",
       "      <th>habitat</th>\n",
       "    </tr>\n",
       "  </thead>\n",
       "  <tbody>\n",
       "    <tr>\n",
       "      <th>0</th>\n",
       "      <td>0</td>\n",
       "      <td>2</td>\n",
       "      <td>3</td>\n",
       "      <td>8</td>\n",
       "      <td>0</td>\n",
       "      <td>0</td>\n",
       "      <td>1</td>\n",
       "      <td>1</td>\n",
       "      <td>1</td>\n",
       "      <td>10</td>\n",
       "      <td>...</td>\n",
       "      <td>3</td>\n",
       "      <td>7</td>\n",
       "      <td>7</td>\n",
       "      <td>0</td>\n",
       "      <td>2</td>\n",
       "      <td>1</td>\n",
       "      <td>4</td>\n",
       "      <td>6</td>\n",
       "      <td>4</td>\n",
       "      <td>6</td>\n",
       "    </tr>\n",
       "    <tr>\n",
       "      <th>1</th>\n",
       "      <td>0</td>\n",
       "      <td>2</td>\n",
       "      <td>3</td>\n",
       "      <td>8</td>\n",
       "      <td>0</td>\n",
       "      <td>0</td>\n",
       "      <td>1</td>\n",
       "      <td>1</td>\n",
       "      <td>1</td>\n",
       "      <td>10</td>\n",
       "      <td>...</td>\n",
       "      <td>3</td>\n",
       "      <td>7</td>\n",
       "      <td>7</td>\n",
       "      <td>0</td>\n",
       "      <td>2</td>\n",
       "      <td>1</td>\n",
       "      <td>4</td>\n",
       "      <td>1</td>\n",
       "      <td>4</td>\n",
       "      <td>6</td>\n",
       "    </tr>\n",
       "    <tr>\n",
       "      <th>2</th>\n",
       "      <td>0</td>\n",
       "      <td>2</td>\n",
       "      <td>3</td>\n",
       "      <td>8</td>\n",
       "      <td>0</td>\n",
       "      <td>0</td>\n",
       "      <td>1</td>\n",
       "      <td>1</td>\n",
       "      <td>1</td>\n",
       "      <td>7</td>\n",
       "      <td>...</td>\n",
       "      <td>3</td>\n",
       "      <td>7</td>\n",
       "      <td>7</td>\n",
       "      <td>0</td>\n",
       "      <td>2</td>\n",
       "      <td>1</td>\n",
       "      <td>4</td>\n",
       "      <td>6</td>\n",
       "      <td>4</td>\n",
       "      <td>6</td>\n",
       "    </tr>\n",
       "    <tr>\n",
       "      <th>3</th>\n",
       "      <td>0</td>\n",
       "      <td>2</td>\n",
       "      <td>3</td>\n",
       "      <td>8</td>\n",
       "      <td>0</td>\n",
       "      <td>0</td>\n",
       "      <td>1</td>\n",
       "      <td>1</td>\n",
       "      <td>1</td>\n",
       "      <td>7</td>\n",
       "      <td>...</td>\n",
       "      <td>3</td>\n",
       "      <td>7</td>\n",
       "      <td>7</td>\n",
       "      <td>0</td>\n",
       "      <td>2</td>\n",
       "      <td>1</td>\n",
       "      <td>4</td>\n",
       "      <td>1</td>\n",
       "      <td>4</td>\n",
       "      <td>6</td>\n",
       "    </tr>\n",
       "    <tr>\n",
       "      <th>4</th>\n",
       "      <td>0</td>\n",
       "      <td>2</td>\n",
       "      <td>3</td>\n",
       "      <td>8</td>\n",
       "      <td>0</td>\n",
       "      <td>0</td>\n",
       "      <td>1</td>\n",
       "      <td>1</td>\n",
       "      <td>1</td>\n",
       "      <td>1</td>\n",
       "      <td>...</td>\n",
       "      <td>3</td>\n",
       "      <td>7</td>\n",
       "      <td>7</td>\n",
       "      <td>0</td>\n",
       "      <td>2</td>\n",
       "      <td>1</td>\n",
       "      <td>4</td>\n",
       "      <td>6</td>\n",
       "      <td>4</td>\n",
       "      <td>6</td>\n",
       "    </tr>\n",
       "  </tbody>\n",
       "</table>\n",
       "<p>5 rows × 23 columns</p>\n",
       "</div>"
      ],
      "text/plain": [
       "   Typeofmushroom  capshape  capsurface  capcolor  bruises  odor  \\\n",
       "0               0         2           3         8        0     0   \n",
       "1               0         2           3         8        0     0   \n",
       "2               0         2           3         8        0     0   \n",
       "3               0         2           3         8        0     0   \n",
       "4               0         2           3         8        0     0   \n",
       "\n",
       "   gillattachment  gillspacing  gillsize  gillcolor  ...  \\\n",
       "0               1            1         1         10  ...   \n",
       "1               1            1         1         10  ...   \n",
       "2               1            1         1          7  ...   \n",
       "3               1            1         1          7  ...   \n",
       "4               1            1         1          1  ...   \n",
       "\n",
       "   stalksurfacebelowring  stalkcolorabovering  stalkcolorbelowring  veiltype  \\\n",
       "0                      3                    7                    7         0   \n",
       "1                      3                    7                    7         0   \n",
       "2                      3                    7                    7         0   \n",
       "3                      3                    7                    7         0   \n",
       "4                      3                    7                    7         0   \n",
       "\n",
       "   veilcolor  ringnumber  ringtype  sporeprintcolor  population  habitat  \n",
       "0          2           1         4                6           4        6  \n",
       "1          2           1         4                1           4        6  \n",
       "2          2           1         4                6           4        6  \n",
       "3          2           1         4                1           4        6  \n",
       "4          2           1         4                6           4        6  \n",
       "\n",
       "[5 rows x 23 columns]"
      ]
     },
     "execution_count": 13,
     "metadata": {},
     "output_type": "execute_result"
    }
   ],
   "source": [
    "mushroom.head()"
   ]
  },
  {
   "cell_type": "code",
   "execution_count": 14,
   "metadata": {},
   "outputs": [
    {
     "name": "stdout",
     "output_type": "stream",
     "text": [
      "(8416, 1)\n",
      "(8416, 22)\n"
     ]
    }
   ],
   "source": [
    "# split the file into Independent and dependent variables\n",
    "mushroomY = mushroom.iloc[::,0:1:1]\n",
    "print(mushroomY.shape)\n",
    "mushroomX = mushroom.iloc[::,1::]\n",
    "print(mushroomX.shape)"
   ]
  },
  {
   "cell_type": "code",
   "execution_count": 15,
   "metadata": {},
   "outputs": [
    {
     "name": "stdout",
     "output_type": "stream",
     "text": [
      "(5891, 22)\n",
      "(2525, 22)\n"
     ]
    }
   ],
   "source": [
    "# splitting the data into Train and Test\n",
    "from sklearn.model_selection import train_test_split\n",
    "X_train, X_test, Y_train, Y_test = train_test_split(mushroomX, mushroomY,\n",
    "                                                    test_size = 0.30,\n",
    "                                                    random_state = 0,\n",
    "                                                    stratify = mushroomY)\n",
    "print(X_train.shape)\n",
    "print(X_test.shape)"
   ]
  },
  {
   "cell_type": "code",
   "execution_count": 17,
   "metadata": {},
   "outputs": [
    {
     "data": {
      "text/plain": [
       "MultinomialNB(alpha=0.2, class_prior=None, fit_prior=True)"
      ]
     },
     "execution_count": 17,
     "metadata": {},
     "output_type": "execute_result"
    }
   ],
   "source": [
    "from sklearn.naive_bayes import MultinomialNB\n",
    "MNB = MultinomialNB(alpha=0.2)\n",
    "MNB.fit(X_train,Y_train.Typeofmushroom)"
   ]
  },
  {
   "cell_type": "code",
   "execution_count": 17,
   "metadata": {},
   "outputs": [
    {
     "data": {
      "text/plain": [
       "(array([0, 1]), array([3141, 2750], dtype=int64))"
      ]
     },
     "execution_count": 17,
     "metadata": {},
     "output_type": "execute_result"
    }
   ],
   "source": [
    "np.unique(Y_train.Typeofmushroom,return_counts=True)"
   ]
  },
  {
   "cell_type": "code",
   "execution_count": 18,
   "metadata": {},
   "outputs": [
    {
     "data": {
      "text/plain": [
       "0.5352232218638602"
      ]
     },
     "execution_count": 18,
     "metadata": {},
     "output_type": "execute_result"
    }
   ],
   "source": [
    "3153/(3153+2738)"
   ]
  },
  {
   "cell_type": "code",
   "execution_count": 18,
   "metadata": {},
   "outputs": [
    {
     "name": "stdout",
     "output_type": "stream",
     "text": [
      "[[4.13098366e-05 9.99958690e-01]\n",
      " [9.93835683e-01 6.16431707e-03]\n",
      " [9.95865077e-01 4.13492340e-03]\n",
      " [1.19451134e-01 8.80548866e-01]\n",
      " [9.99723884e-01 2.76115582e-04]]\n",
      "[1 0 0 1 0]\n"
     ]
    }
   ],
   "source": [
    "# apply the model on test\n",
    "predictProb = MNB.predict_proba(X_test)\n",
    "print(predictProb[0:5])\n",
    "PProb = pd.DataFrame(predictProb,columns=[\"class0\",\"class1\"])\n",
    "predict = MNB_model.predict(X_test)\n",
    "print(predict[0:5])"
   ]
  },
  {
   "cell_type": "code",
   "execution_count": 19,
   "metadata": {},
   "outputs": [
    {
     "name": "stdout",
     "output_type": "stream",
     "text": [
      "[[1137  210]\n",
      " [ 222  956]]\n",
      "              precision    recall  f1-score   support\n",
      "\n",
      "           0       0.84      0.84      0.84      1347\n",
      "           1       0.82      0.81      0.82      1178\n",
      "\n",
      "    accuracy                           0.83      2525\n",
      "   macro avg       0.83      0.83      0.83      2525\n",
      "weighted avg       0.83      0.83      0.83      2525\n",
      "\n"
     ]
    }
   ],
   "source": [
    "# generate confusion matrix\n",
    "from sklearn.metrics import confusion_matrix, classification_report\n",
    "print (confusion_matrix(Y_test,predict))\n",
    "print (classification_report(Y_test,predict))"
   ]
  },
  {
   "cell_type": "code",
   "execution_count": 20,
   "metadata": {},
   "outputs": [
    {
     "name": "stdout",
     "output_type": "stream",
     "text": [
      "0.9086147547905613\n"
     ]
    }
   ],
   "source": [
    "# generate ROC curve\n",
    "from sklearn.metrics import roc_auc_score, roc_curve\n",
    "AUC = roc_auc_score(Y_test, PProb.class1)\n",
    "print(AUC)"
   ]
  },
  {
   "cell_type": "code",
   "execution_count": 21,
   "metadata": {},
   "outputs": [
    {
     "data": {
      "image/png": "[encoded data removed]",
      "text/plain": [
       "<Figure size 432x288 with 1 Axes>"
      ]
     },
     "metadata": {
      "needs_background": "light"
     },
     "output_type": "display_data"
    }
   ],
   "source": [
    "# plot the ROC curve\n",
    "FPR, TPR, THR = roc_curve(Y_test, PProb.class1)\n",
    "# plot the FPR as X-axis and TPR as Y-axis\n",
    "plt.plot(FPR, TPR)\n",
    "# plot the minimum line \n",
    "plt.plot([0,1], [0,1], color='navy', linestyle = '--')\n",
    "# set X and Y limits\n",
    "plt.xlim([0.0, 1.05])\n",
    "plt.ylim([0.0, 1.05])\n",
    "# mention lables for X and Y\n",
    "plt.xlabel('False Positive Rate')\n",
    "plt.ylabel('True Positive Rate')\n",
    "plt.title('ROC')\n",
    "plt.show()"
   ]
  },
  {
   "cell_type": "code",
   "execution_count": 27,
   "metadata": {},
   "outputs": [],
   "source": [
    "ROC = pd.DataFrame({\"THR\":THR,\n",
    "                   \"TPR\":TPR,\n",
    "                   \"FPR\":FPR})\n",
    "ROC.to_excel('ROC_NB.xlsx')"
   ]
  },
  {
   "cell_type": "code",
   "execution_count": null,
   "metadata": {},
   "outputs": [],
   "source": []
  }
 ],
 "metadata": {
  "kernelspec": {
   "display_name": "Python 3",
   "language": "python",
   "name": "python3"
  },
  "language_info": {
   "codemirror_mode": {
    "name": "ipython",
    "version": 3
   },
   "file_extension": ".py",
   "mimetype": "text/x-python",
   "name": "python",
   "nbconvert_exporter": "python",
   "pygments_lexer": "ipython3",
   "version": "3.7.3"
  }
 },
 "nbformat": 4,
 "nbformat_minor": 2
}
