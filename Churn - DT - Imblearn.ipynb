{
 "cells": [
  {
   "cell_type": "code",
   "execution_count": 1,
   "metadata": {},
   "outputs": [],
   "source": [
    "# The following code includes decision tree\n",
    "# best parameters are identified using grid search with cross validation"
   ]
  },
  {
   "cell_type": "code",
   "execution_count": 1,
   "metadata": {},
   "outputs": [
    {
     "name": "stdout",
     "output_type": "stream",
     "text": [
      "C:\\Digital Nest\\Decision Trees\n"
     ]
    }
   ],
   "source": [
    "import numpy as np\n",
    "import pandas as pd\n",
    "from collections import Counter\n",
    "import matplotlib.pyplot as plt\n",
    "import os\n",
    "os.chdir(\"C:\\Digital Nest\\Decision Trees\")\n",
    "print (os.getcwd())"
   ]
  },
  {
   "cell_type": "code",
   "execution_count": 2,
   "metadata": {},
   "outputs": [
    {
     "data": {
      "text/html": [
       "<div>\n",
       "<style scoped>\n",
       "    .dataframe tbody tr th:only-of-type {\n",
       "        vertical-align: middle;\n",
       "    }\n",
       "\n",
       "    .dataframe tbody tr th {\n",
       "        vertical-align: top;\n",
       "    }\n",
       "\n",
       "    .dataframe thead th {\n",
       "        text-align: right;\n",
       "    }\n",
       "</style>\n",
       "<table border=\"1\" class=\"dataframe\">\n",
       "  <thead>\n",
       "    <tr style=\"text-align: right;\">\n",
       "      <th></th>\n",
       "      <th>AccountLength</th>\n",
       "      <th>VMailMessage</th>\n",
       "      <th>DayMins</th>\n",
       "      <th>EveMins</th>\n",
       "      <th>NightMins</th>\n",
       "      <th>IntlMins</th>\n",
       "      <th>CustServCalls</th>\n",
       "      <th>Churn</th>\n",
       "      <th>IntlPlan</th>\n",
       "      <th>VMailPlan</th>\n",
       "      <th>...</th>\n",
       "      <th>DayCharge</th>\n",
       "      <th>EveCalls</th>\n",
       "      <th>EveCharge</th>\n",
       "      <th>NightCalls</th>\n",
       "      <th>NightCharge</th>\n",
       "      <th>IntlCalls</th>\n",
       "      <th>IntlCharge</th>\n",
       "      <th>State</th>\n",
       "      <th>AreaCode</th>\n",
       "      <th>Phone</th>\n",
       "    </tr>\n",
       "  </thead>\n",
       "  <tbody>\n",
       "    <tr>\n",
       "      <th>0</th>\n",
       "      <td>128</td>\n",
       "      <td>25</td>\n",
       "      <td>265.1</td>\n",
       "      <td>197.4</td>\n",
       "      <td>244.7</td>\n",
       "      <td>10.0</td>\n",
       "      <td>1</td>\n",
       "      <td>0</td>\n",
       "      <td>0</td>\n",
       "      <td>1</td>\n",
       "      <td>...</td>\n",
       "      <td>45.07</td>\n",
       "      <td>99</td>\n",
       "      <td>16.78</td>\n",
       "      <td>91</td>\n",
       "      <td>11.01</td>\n",
       "      <td>3</td>\n",
       "      <td>2.70</td>\n",
       "      <td>KS</td>\n",
       "      <td>415</td>\n",
       "      <td>382-4657</td>\n",
       "    </tr>\n",
       "    <tr>\n",
       "      <th>1</th>\n",
       "      <td>107</td>\n",
       "      <td>26</td>\n",
       "      <td>161.6</td>\n",
       "      <td>195.5</td>\n",
       "      <td>254.4</td>\n",
       "      <td>13.7</td>\n",
       "      <td>1</td>\n",
       "      <td>0</td>\n",
       "      <td>0</td>\n",
       "      <td>1</td>\n",
       "      <td>...</td>\n",
       "      <td>27.47</td>\n",
       "      <td>103</td>\n",
       "      <td>16.62</td>\n",
       "      <td>103</td>\n",
       "      <td>11.45</td>\n",
       "      <td>3</td>\n",
       "      <td>3.70</td>\n",
       "      <td>OH</td>\n",
       "      <td>415</td>\n",
       "      <td>371-7191</td>\n",
       "    </tr>\n",
       "    <tr>\n",
       "      <th>2</th>\n",
       "      <td>137</td>\n",
       "      <td>0</td>\n",
       "      <td>243.4</td>\n",
       "      <td>121.2</td>\n",
       "      <td>162.6</td>\n",
       "      <td>12.2</td>\n",
       "      <td>0</td>\n",
       "      <td>0</td>\n",
       "      <td>0</td>\n",
       "      <td>0</td>\n",
       "      <td>...</td>\n",
       "      <td>41.38</td>\n",
       "      <td>110</td>\n",
       "      <td>10.30</td>\n",
       "      <td>104</td>\n",
       "      <td>7.32</td>\n",
       "      <td>5</td>\n",
       "      <td>3.29</td>\n",
       "      <td>NJ</td>\n",
       "      <td>415</td>\n",
       "      <td>358-1921</td>\n",
       "    </tr>\n",
       "    <tr>\n",
       "      <th>3</th>\n",
       "      <td>84</td>\n",
       "      <td>0</td>\n",
       "      <td>299.4</td>\n",
       "      <td>61.9</td>\n",
       "      <td>196.9</td>\n",
       "      <td>6.6</td>\n",
       "      <td>2</td>\n",
       "      <td>0</td>\n",
       "      <td>1</td>\n",
       "      <td>0</td>\n",
       "      <td>...</td>\n",
       "      <td>50.90</td>\n",
       "      <td>88</td>\n",
       "      <td>5.26</td>\n",
       "      <td>89</td>\n",
       "      <td>8.86</td>\n",
       "      <td>7</td>\n",
       "      <td>1.78</td>\n",
       "      <td>OH</td>\n",
       "      <td>408</td>\n",
       "      <td>375-9999</td>\n",
       "    </tr>\n",
       "    <tr>\n",
       "      <th>4</th>\n",
       "      <td>75</td>\n",
       "      <td>0</td>\n",
       "      <td>166.7</td>\n",
       "      <td>148.3</td>\n",
       "      <td>186.9</td>\n",
       "      <td>10.1</td>\n",
       "      <td>3</td>\n",
       "      <td>0</td>\n",
       "      <td>1</td>\n",
       "      <td>0</td>\n",
       "      <td>...</td>\n",
       "      <td>28.34</td>\n",
       "      <td>122</td>\n",
       "      <td>12.61</td>\n",
       "      <td>121</td>\n",
       "      <td>8.41</td>\n",
       "      <td>3</td>\n",
       "      <td>2.73</td>\n",
       "      <td>OK</td>\n",
       "      <td>415</td>\n",
       "      <td>330-6626</td>\n",
       "    </tr>\n",
       "  </tbody>\n",
       "</table>\n",
       "<p>5 rows × 21 columns</p>\n",
       "</div>"
      ],
      "text/plain": [
       "   AccountLength  VMailMessage  DayMins  EveMins  NightMins  IntlMins  \\\n",
       "0            128            25    265.1    197.4      244.7      10.0   \n",
       "1            107            26    161.6    195.5      254.4      13.7   \n",
       "2            137             0    243.4    121.2      162.6      12.2   \n",
       "3             84             0    299.4     61.9      196.9       6.6   \n",
       "4             75             0    166.7    148.3      186.9      10.1   \n",
       "\n",
       "   CustServCalls  Churn  IntlPlan  VMailPlan  ...  DayCharge  EveCalls  \\\n",
       "0              1      0         0          1  ...      45.07        99   \n",
       "1              1      0         0          1  ...      27.47       103   \n",
       "2              0      0         0          0  ...      41.38       110   \n",
       "3              2      0         1          0  ...      50.90        88   \n",
       "4              3      0         1          0  ...      28.34       122   \n",
       "\n",
       "   EveCharge  NightCalls  NightCharge  IntlCalls  IntlCharge  State AreaCode  \\\n",
       "0      16.78          91        11.01          3        2.70     KS      415   \n",
       "1      16.62         103        11.45          3        3.70     OH      415   \n",
       "2      10.30         104         7.32          5        3.29     NJ      415   \n",
       "3       5.26          89         8.86          7        1.78     OH      408   \n",
       "4      12.61         121         8.41          3        2.73     OK      415   \n",
       "\n",
       "      Phone  \n",
       "0  382-4657  \n",
       "1  371-7191  \n",
       "2  358-1921  \n",
       "3  375-9999  \n",
       "4  330-6626  \n",
       "\n",
       "[5 rows x 21 columns]"
      ]
     },
     "execution_count": 2,
     "metadata": {},
     "output_type": "execute_result"
    }
   ],
   "source": [
    "churn = pd.read_csv('Churn.csv')\n",
    "churn.head()"
   ]
  },
  {
   "cell_type": "code",
   "execution_count": 3,
   "metadata": {},
   "outputs": [
    {
     "data": {
      "text/plain": [
       "(3333, 21)"
      ]
     },
     "execution_count": 3,
     "metadata": {},
     "output_type": "execute_result"
    }
   ],
   "source": [
    "churn.shape"
   ]
  },
  {
   "cell_type": "code",
   "execution_count": 4,
   "metadata": {},
   "outputs": [
    {
     "data": {
      "text/plain": [
       "Counter({0: 2850, 1: 483})"
      ]
     },
     "execution_count": 4,
     "metadata": {},
     "output_type": "execute_result"
    }
   ],
   "source": [
    "# target class ratio\n",
    "Counter(churn.Churn)"
   ]
  },
  {
   "cell_type": "code",
   "execution_count": 5,
   "metadata": {},
   "outputs": [
    {
     "data": {
      "text/plain": [
       "0.8550855085508551"
      ]
     },
     "execution_count": 5,
     "metadata": {},
     "output_type": "execute_result"
    }
   ],
   "source": [
    "2850/(2850+483)"
   ]
  },
  {
   "cell_type": "code",
   "execution_count": 6,
   "metadata": {},
   "outputs": [
    {
     "data": {
      "text/plain": [
       "array(['AccountLength', 'VMailMessage', 'DayMins', 'EveMins', 'NightMins',\n",
       "       'IntlMins', 'CustServCalls', 'Churn', 'IntlPlan', 'VMailPlan',\n",
       "       'DayCalls', 'DayCharge', 'EveCalls', 'EveCharge', 'NightCalls',\n",
       "       'NightCharge', 'IntlCalls', 'IntlCharge', 'State', 'AreaCode',\n",
       "       'Phone'], dtype=object)"
      ]
     },
     "execution_count": 6,
     "metadata": {},
     "output_type": "execute_result"
    }
   ],
   "source": [
    "churn.columns.values"
   ]
  },
  {
   "cell_type": "code",
   "execution_count": 7,
   "metadata": {},
   "outputs": [
    {
     "name": "stdout",
     "output_type": "stream",
     "text": [
      "False\n",
      "AccountLength    0\n",
      "VMailMessage     0\n",
      "DayMins          0\n",
      "EveMins          0\n",
      "NightMins        0\n",
      "IntlMins         0\n",
      "CustServCalls    0\n",
      "Churn            0\n",
      "IntlPlan         0\n",
      "VMailPlan        0\n",
      "DayCalls         0\n",
      "DayCharge        0\n",
      "EveCalls         0\n",
      "EveCharge        0\n",
      "NightCalls       0\n",
      "NightCharge      0\n",
      "IntlCalls        0\n",
      "IntlCharge       0\n",
      "State            0\n",
      "AreaCode         0\n",
      "Phone            0\n",
      "dtype: int64\n"
     ]
    }
   ],
   "source": [
    "# check if any NA values\n",
    "print(churn.isnull().values.any())\n",
    "print(churn.isnull().sum())"
   ]
  },
  {
   "cell_type": "code",
   "execution_count": 8,
   "metadata": {},
   "outputs": [
    {
     "name": "stdout",
     "output_type": "stream",
     "text": [
      "(3333, 1)\n",
      "(3333, 19)\n"
     ]
    }
   ],
   "source": [
    "# split the file into Independent and dependent variables\n",
    "churnY = pd.DataFrame(churn,columns=[\"Churn\"])\n",
    "print(churnY.shape)\n",
    "churnX = churn.copy()\n",
    "churnX.drop(columns=['Churn','Phone'],axis=1,inplace=True)\n",
    "print(churnX.shape)"
   ]
  },
  {
   "cell_type": "code",
   "execution_count": 9,
   "metadata": {},
   "outputs": [
    {
     "name": "stdout",
     "output_type": "stream",
     "text": [
      "(2666, 19)\n",
      "(2666, 1)\n",
      "(667, 19)\n",
      "(667, 1)\n"
     ]
    }
   ],
   "source": [
    "# splitting the data into Train and Test\n",
    "from sklearn.model_selection import train_test_split\n",
    "X_train, X_test, Y_train, Y_test = train_test_split(churnX, churnY, \n",
    "                                                    test_size = 0.20, \n",
    "                                                    random_state = 0)\n",
    "print(X_train.shape)\n",
    "print(Y_train.shape)\n",
    "print(X_test.shape)\n",
    "print(Y_test.shape)"
   ]
  },
  {
   "cell_type": "code",
   "execution_count": 10,
   "metadata": {},
   "outputs": [
    {
     "name": "stdout",
     "output_type": "stream",
     "text": [
      "Counter({0: 2271, 1: 395})\n",
      "Counter({0: 579, 1: 88})\n"
     ]
    }
   ],
   "source": [
    "print(Counter(Y_train.Churn))\n",
    "print(Counter(Y_test.Churn))"
   ]
  },
  {
   "cell_type": "code",
   "execution_count": 11,
   "metadata": {},
   "outputs": [
    {
     "name": "stdout",
     "output_type": "stream",
     "text": [
      "0.8518379594898725\n",
      "0.8680659670164917\n"
     ]
    }
   ],
   "source": [
    "print(2271/2666)\n",
    "print(579/667)"
   ]
  },
  {
   "cell_type": "code",
   "execution_count": 12,
   "metadata": {},
   "outputs": [
    {
     "data": {
      "text/plain": [
       "Counter({415: 1655, 408: 838, 510: 840})"
      ]
     },
     "execution_count": 12,
     "metadata": {},
     "output_type": "execute_result"
    }
   ],
   "source": [
    "Counter(churn.AreaCode)"
   ]
  },
  {
   "cell_type": "code",
   "execution_count": 13,
   "metadata": {},
   "outputs": [
    {
     "name": "stdout",
     "output_type": "stream",
     "text": [
      "51\n",
      "Counter({'WV': 106, 'MN': 84, 'NY': 83, 'AL': 80, 'OH': 78, 'WI': 78, 'OR': 78, 'VA': 77, 'WY': 77, 'CT': 74, 'ID': 73, 'VT': 73, 'MI': 73, 'TX': 72, 'UT': 72, 'IN': 71, 'KS': 70, 'MD': 70, 'NJ': 68, 'MT': 68, 'NC': 68, 'CO': 66, 'WA': 66, 'NV': 66, 'MA': 65, 'RI': 65, 'MS': 65, 'AZ': 64, 'MO': 63, 'FL': 63, 'NM': 62, 'ME': 62, 'ND': 62, 'OK': 61, 'NE': 61, 'DE': 61, 'SC': 60, 'SD': 60, 'KY': 59, 'IL': 58, 'NH': 56, 'AR': 55, 'GA': 54, 'DC': 54, 'HI': 53, 'TN': 53, 'AK': 52, 'LA': 51, 'PA': 45, 'IA': 44, 'CA': 34})\n"
     ]
    }
   ],
   "source": [
    "print(len(np.unique(churn.State)))\n",
    "print(Counter(churn.State))"
   ]
  },
  {
   "cell_type": "code",
   "execution_count": 14,
   "metadata": {},
   "outputs": [
    {
     "name": "stdout",
     "output_type": "stream",
     "text": [
      "[ 0  1  2  3  4  5  6  7  8  9 10 11 12 13 14 15 16 17 18 19 20 21 22 23\n",
      " 24 25 26 27 28 29 30 31 32 33 34 35 36 37 38 39 40 41 42 43 44 45 46 47\n",
      " 48 49 50]\n"
     ]
    },
    {
     "name": "stderr",
     "output_type": "stream",
     "text": [
      "C:\\Users\\Vishnu Murthy Chakka\\Anaconda3\\lib\\site-packages\\pandas\\core\\generic.py:5292: SettingWithCopyWarning: \n",
      "A value is trying to be set on a copy of a slice from a DataFrame.\n",
      "Try using .loc[row_indexer,col_indexer] = value instead\n",
      "\n",
      "See the caveats in the documentation: https://pandas.pydata.org/pandas-docs/stable/user_guide/indexing.html#returning-a-view-versus-a-copy\n",
      "  self[name] = value\n"
     ]
    }
   ],
   "source": [
    "# lable encoding for strings - state\n",
    "from sklearn.preprocessing import LabelEncoder\n",
    "le = LabelEncoder()\n",
    "X_train.State = le.fit_transform(X_train.State)\n",
    "X_test.State = le.transform(X_test.State)\n",
    "print(np.unique(X_train.State))"
   ]
  },
  {
   "cell_type": "code",
   "execution_count": 20,
   "metadata": {},
   "outputs": [
    {
     "data": {
      "text/plain": [
       "array(['AccountLength', 'VMailMessage', 'DayMins', 'EveMins', 'NightMins',\n",
       "       'IntlMins', 'CustServCalls', 'IntlPlan', 'VMailPlan', 'DayCalls',\n",
       "       'DayCharge', 'EveCalls', 'EveCharge', 'NightCalls', 'NightCharge',\n",
       "       'IntlCalls', 'IntlCharge', 'State', 'AreaCode'], dtype=object)"
      ]
     },
     "execution_count": 20,
     "metadata": {},
     "output_type": "execute_result"
    }
   ],
   "source": [
    "X_train.columns.values"
   ]
  },
  {
   "cell_type": "code",
   "execution_count": 22,
   "metadata": {},
   "outputs": [
    {
     "data": {
      "text/plain": [
       "(2666, 19)"
      ]
     },
     "execution_count": 22,
     "metadata": {},
     "output_type": "execute_result"
    }
   ],
   "source": [
    "X_train.shape"
   ]
  },
  {
   "cell_type": "code",
   "execution_count": 19,
   "metadata": {},
   "outputs": [
    {
     "name": "stdout",
     "output_type": "stream",
     "text": [
      "['Churn']\n"
     ]
    }
   ],
   "source": [
    "print(Y_train.columns.values)"
   ]
  },
  {
   "cell_type": "code",
   "execution_count": 22,
   "metadata": {},
   "outputs": [
    {
     "data": {
      "text/plain": [
       "Counter({0: 2271, 1: 395})"
      ]
     },
     "execution_count": 22,
     "metadata": {},
     "output_type": "execute_result"
    }
   ],
   "source": [
    "Counter(Y_train.Churn)"
   ]
  },
  {
   "cell_type": "code",
   "execution_count": 56,
   "metadata": {},
   "outputs": [
    {
     "name": "stdout",
     "output_type": "stream",
     "text": [
      "after smotenc\n",
      "(4542, 19)\n",
      "(4542,)\n"
     ]
    }
   ],
   "source": [
    "from imblearn.over_sampling import BorderlineSMOTE\n",
    "adasyn = BorderlineSMOTE()\n",
    "#motenc = SMOTENC(categorical_features=[7,8,17,18])\n",
    "X_resampled, Y_resampled = adasyn.fit_sample(X_train, Y_train.Churn)\n",
    "print(\"after smotenc\")\n",
    "print(X_resampled.shape)\n",
    "print(Y_resampled.shape)"
   ]
  },
  {
   "cell_type": "code",
   "execution_count": 45,
   "metadata": {},
   "outputs": [
    {
     "data": {
      "text/plain": [
       "Counter({0: 2271, 1: 2297})"
      ]
     },
     "execution_count": 45,
     "metadata": {},
     "output_type": "execute_result"
    }
   ],
   "source": [
    "Counter(Y_resampled)"
   ]
  },
  {
   "cell_type": "code",
   "execution_count": 57,
   "metadata": {},
   "outputs": [
    {
     "name": "stdout",
     "output_type": "stream",
     "text": [
      "(4542, 2)\n",
      "(4542, 17)\n"
     ]
    }
   ],
   "source": [
    "# split the data into Categorical and non-categorical\n",
    "catcols = ['State', 'AreaCode']\n",
    "X_train_cat = pd.DataFrame(X_resampled, columns=catcols)\n",
    "print(X_train_cat.shape)\n",
    "X_train_cont = X_resampled.copy()\n",
    "X_train_cont.drop(columns=['State', 'AreaCode'],axis=1,inplace=True)\n",
    "print(X_train_cont.shape)\n",
    "X_train_cont.reset_index(drop=True,inplace=True)"
   ]
  },
  {
   "cell_type": "code",
   "execution_count": 58,
   "metadata": {},
   "outputs": [
    {
     "name": "stdout",
     "output_type": "stream",
     "text": [
      "(667, 2)\n",
      "(667, 17)\n"
     ]
    }
   ],
   "source": [
    "# split the data into Categorical and non-categorical\n",
    "X_test_cat = pd.DataFrame(X_test, columns=catcols)\n",
    "print(X_test_cat.shape)\n",
    "X_test_cont = X_test.copy()\n",
    "#print(X_test_cont.columns)\n",
    "X_test_cont.drop(columns=['State', 'AreaCode'],axis=1,inplace=True)\n",
    "print(X_test_cont.shape)\n",
    "X_test_cont.reset_index(drop=True,inplace=True)"
   ]
  },
  {
   "cell_type": "code",
   "execution_count": 59,
   "metadata": {},
   "outputs": [
    {
     "name": "stdout",
     "output_type": "stream",
     "text": [
      "(4542, 67)\n",
      "(667, 67)\n"
     ]
    }
   ],
   "source": [
    "# apply one hot encoding on state and area\n",
    "from sklearn.preprocessing import OneHotEncoder\n",
    "OHE = OneHotEncoder(sparse = False, handle_unknown = 'error')\n",
    "X_train_cat2 = OHE.fit_transform(X_train_cat)\n",
    "print(X_train_cat2.shape)\n",
    "X_test_cat2 = OHE.transform(X_test_cat)\n",
    "print(X_test_cat2.shape)"
   ]
  },
  {
   "cell_type": "code",
   "execution_count": 60,
   "metadata": {},
   "outputs": [
    {
     "name": "stdout",
     "output_type": "stream",
     "text": [
      "(4542, 67)\n",
      "(667, 67)\n"
     ]
    }
   ],
   "source": [
    "# convert back array into data frame\n",
    "X_train_cat3 = pd.DataFrame(X_train_cat2)\n",
    "print(X_train_cat3.shape)\n",
    "X_test_cat3 = pd.DataFrame(X_test_cat2)\n",
    "print(X_test_cat3.shape)"
   ]
  },
  {
   "cell_type": "code",
   "execution_count": 61,
   "metadata": {},
   "outputs": [
    {
     "name": "stdout",
     "output_type": "stream",
     "text": [
      "(4542, 84)\n",
      "(667, 84)\n"
     ]
    }
   ],
   "source": [
    "# merge continuous and onehotencoded categorical data\n",
    "X_train_final = pd.concat([X_train_cont,X_train_cat3],axis=1,join='outer',ignore_index=False)\n",
    "X_test_final = pd.concat([X_test_cont,X_test_cat3],axis=1,join='outer',ignore_index=False)\n",
    "print(X_train_final.shape)\n",
    "print(X_test_final.shape)"
   ]
  },
  {
   "cell_type": "code",
   "execution_count": 62,
   "metadata": {},
   "outputs": [
    {
     "data": {
      "text/plain": [
       "array(['AccountLength', 'VMailMessage', 'DayMins', 'EveMins', 'NightMins',\n",
       "       'IntlMins', 'CustServCalls', 'IntlPlan', 'VMailPlan', 'DayCalls',\n",
       "       'DayCharge', 'EveCalls', 'EveCharge', 'NightCalls', 'NightCharge',\n",
       "       'IntlCalls', 'IntlCharge'], dtype=object)"
      ]
     },
     "execution_count": 62,
     "metadata": {},
     "output_type": "execute_result"
    }
   ],
   "source": [
    "X_train_cont.columns.values"
   ]
  },
  {
   "cell_type": "code",
   "execution_count": 63,
   "metadata": {},
   "outputs": [
    {
     "data": {
      "text/plain": [
       "array(['AccountLength', 'VMailMessage', 'DayMins', 'EveMins', 'NightMins',\n",
       "       'IntlMins', 'CustServCalls', 'IntlPlan', 'VMailPlan', 'DayCalls',\n",
       "       'DayCharge', 'EveCalls', 'EveCharge', 'NightCalls', 'NightCharge',\n",
       "       'IntlCalls', 'IntlCharge', 0, 1, 2, 3, 4, 5, 6, 7, 8, 9, 10, 11,\n",
       "       12, 13, 14, 15, 16, 17, 18, 19, 20, 21, 22, 23, 24, 25, 26, 27, 28,\n",
       "       29, 30, 31, 32, 33, 34, 35, 36, 37, 38, 39, 40, 41, 42, 43, 44, 45,\n",
       "       46, 47, 48, 49, 50, 51, 52, 53, 54, 55, 56, 57, 58, 59, 60, 61, 62,\n",
       "       63, 64, 65, 66], dtype=object)"
      ]
     },
     "execution_count": 63,
     "metadata": {},
     "output_type": "execute_result"
    }
   ],
   "source": [
    "X_train_final.columns.values"
   ]
  },
  {
   "cell_type": "code",
   "execution_count": 64,
   "metadata": {},
   "outputs": [
    {
     "name": "stdout",
     "output_type": "stream",
     "text": [
      "Fitting 3 folds for each of 72 candidates, totalling 216 fits\n",
      "[CV] max_depth=3, min_impurity_decrease=0.01, min_samples_leaf=2, min_samples_split=10 \n",
      "[CV]  max_depth=3, min_impurity_decrease=0.01, min_samples_leaf=2, min_samples_split=10, score=(train=0.772, test=0.758), total=   0.0s\n",
      "[CV] max_depth=3, min_impurity_decrease=0.01, min_samples_leaf=2, min_samples_split=10 \n",
      "[CV]  max_depth=3, min_impurity_decrease=0.01, min_samples_leaf=2, min_samples_split=10, score=(train=0.764, test=0.743), total=   0.0s\n",
      "[CV] max_depth=3, min_impurity_decrease=0.01, min_samples_leaf=2, min_samples_split=10 \n",
      "[CV]  max_depth=3, min_impurity_decrease=0.01, min_samples_leaf=2, min_samples_split=10, score=(train=0.785, test=0.769), total=   0.0s\n",
      "[CV] max_depth=3, min_impurity_decrease=0.01, min_samples_leaf=2, min_samples_split=8 \n",
      "[CV]  max_depth=3, min_impurity_decrease=0.01, min_samples_leaf=2, min_samples_split=8, score=(train=0.772, test=0.758), total=   0.0s\n",
      "[CV] max_depth=3, min_impurity_decrease=0.01, min_samples_leaf=2, min_samples_split=8 \n"
     ]
    },
    {
     "name": "stderr",
     "output_type": "stream",
     "text": [
      "[Parallel(n_jobs=1)]: Using backend SequentialBackend with 1 concurrent workers.\n",
      "[Parallel(n_jobs=1)]: Done   1 out of   1 | elapsed:    0.0s remaining:    0.0s\n",
      "[Parallel(n_jobs=1)]: Done   2 out of   2 | elapsed:    0.0s remaining:    0.0s\n",
      "[Parallel(n_jobs=1)]: Done   3 out of   3 | elapsed:    0.0s remaining:    0.0s\n",
      "[Parallel(n_jobs=1)]: Done   4 out of   4 | elapsed:    0.1s remaining:    0.0s\n"
     ]
    },
    {
     "name": "stdout",
     "output_type": "stream",
     "text": [
      "[CV]  max_depth=3, min_impurity_decrease=0.01, min_samples_leaf=2, min_samples_split=8, score=(train=0.764, test=0.743), total=   0.0s\n",
      "[CV] max_depth=3, min_impurity_decrease=0.01, min_samples_leaf=2, min_samples_split=8 \n",
      "[CV]  max_depth=3, min_impurity_decrease=0.01, min_samples_leaf=2, min_samples_split=8, score=(train=0.785, test=0.769), total=   0.0s\n",
      "[CV] max_depth=3, min_impurity_decrease=0.01, min_samples_leaf=2, min_samples_split=5 \n",
      "[CV]  max_depth=3, min_impurity_decrease=0.01, min_samples_leaf=2, min_samples_split=5, score=(train=0.772, test=0.758), total=   0.0s\n",
      "[CV] max_depth=3, min_impurity_decrease=0.01, min_samples_leaf=2, min_samples_split=5 \n",
      "[CV]  max_depth=3, min_impurity_decrease=0.01, min_samples_leaf=2, min_samples_split=5, score=(train=0.764, test=0.743), total=   0.0s\n",
      "[CV] max_depth=3, min_impurity_decrease=0.01, min_samples_leaf=2, min_samples_split=5 \n",
      "[CV]  max_depth=3, min_impurity_decrease=0.01, min_samples_leaf=2, min_samples_split=5, score=(train=0.785, test=0.769), total=   0.0s\n",
      "[CV] max_depth=3, min_impurity_decrease=0.01, min_samples_leaf=3, min_samples_split=10 \n"
     ]
    },
    {
     "name": "stderr",
     "output_type": "stream",
     "text": [
      "[Parallel(n_jobs=1)]: Done   5 out of   5 | elapsed:    0.1s remaining:    0.0s\n",
      "[Parallel(n_jobs=1)]: Done   6 out of   6 | elapsed:    0.2s remaining:    0.0s\n",
      "[Parallel(n_jobs=1)]: Done   7 out of   7 | elapsed:    0.2s remaining:    0.0s\n",
      "[Parallel(n_jobs=1)]: Done   8 out of   8 | elapsed:    0.2s remaining:    0.0s\n",
      "[Parallel(n_jobs=1)]: Done   9 out of   9 | elapsed:    0.3s remaining:    0.0s\n"
     ]
    },
    {
     "name": "stdout",
     "output_type": "stream",
     "text": [
      "[CV]  max_depth=3, min_impurity_decrease=0.01, min_samples_leaf=3, min_samples_split=10, score=(train=0.772, test=0.758), total=   0.0s\n",
      "[CV] max_depth=3, min_impurity_decrease=0.01, min_samples_leaf=3, min_samples_split=10 \n",
      "[CV]  max_depth=3, min_impurity_decrease=0.01, min_samples_leaf=3, min_samples_split=10, score=(train=0.764, test=0.743), total=   0.0s\n",
      "[CV] max_depth=3, min_impurity_decrease=0.01, min_samples_leaf=3, min_samples_split=10 \n",
      "[CV]  max_depth=3, min_impurity_decrease=0.01, min_samples_leaf=3, min_samples_split=10, score=(train=0.785, test=0.769), total=   0.0s\n",
      "[CV] max_depth=3, min_impurity_decrease=0.01, min_samples_leaf=3, min_samples_split=8 \n",
      "[CV]  max_depth=3, min_impurity_decrease=0.01, min_samples_leaf=3, min_samples_split=8, score=(train=0.772, test=0.758), total=   0.0s\n",
      "[CV] max_depth=3, min_impurity_decrease=0.01, min_samples_leaf=3, min_samples_split=8 \n",
      "[CV]  max_depth=3, min_impurity_decrease=0.01, min_samples_leaf=3, min_samples_split=8, score=(train=0.764, test=0.743), total=   0.0s\n",
      "[CV] max_depth=3, min_impurity_decrease=0.01, min_samples_leaf=3, min_samples_split=8 \n",
      "[CV]  max_depth=3, min_impurity_decrease=0.01, min_samples_leaf=3, min_samples_split=8, score=(train=0.785, test=0.769), total=   0.0s\n",
      "[CV] max_depth=3, min_impurity_decrease=0.01, min_samples_leaf=3, min_samples_split=5 \n",
      "[CV]  max_depth=3, min_impurity_decrease=0.01, min_samples_leaf=3, min_samples_split=5, score=(train=0.772, test=0.758), total=   0.0s\n",
      "[CV] max_depth=3, min_impurity_decrease=0.01, min_samples_leaf=3, min_samples_split=5 \n",
      "[CV]  max_depth=3, min_impurity_decrease=0.01, min_samples_leaf=3, min_samples_split=5, score=(train=0.764, test=0.743), total=   0.0s\n",
      "[CV] max_depth=3, min_impurity_decrease=0.01, min_samples_leaf=3, min_samples_split=5 \n",
      "[CV]  max_depth=3, min_impurity_decrease=0.01, min_samples_leaf=3, min_samples_split=5, score=(train=0.785, test=0.769), total=   0.0s\n",
      "[CV] max_depth=3, min_impurity_decrease=0.01, min_samples_leaf=5, min_samples_split=10 \n",
      "[CV]  max_depth=3, min_impurity_decrease=0.01, min_samples_leaf=5, min_samples_split=10, score=(train=0.772, test=0.758), total=   0.0s\n",
      "[CV] max_depth=3, min_impurity_decrease=0.01, min_samples_leaf=5, min_samples_split=10 \n",
      "[CV]  max_depth=3, min_impurity_decrease=0.01, min_samples_leaf=5, min_samples_split=10, score=(train=0.764, test=0.743), total=   0.0s\n",
      "[CV] max_depth=3, min_impurity_decrease=0.01, min_samples_leaf=5, min_samples_split=10 \n",
      "[CV]  max_depth=3, min_impurity_decrease=0.01, min_samples_leaf=5, min_samples_split=10, score=(train=0.785, test=0.769), total=   0.0s\n",
      "[CV] max_depth=3, min_impurity_decrease=0.01, min_samples_leaf=5, min_samples_split=8 \n",
      "[CV]  max_depth=3, min_impurity_decrease=0.01, min_samples_leaf=5, min_samples_split=8, score=(train=0.772, test=0.758), total=   0.0s\n",
      "[CV] max_depth=3, min_impurity_decrease=0.01, min_samples_leaf=5, min_samples_split=8 \n",
      "[CV]  max_depth=3, min_impurity_decrease=0.01, min_samples_leaf=5, min_samples_split=8, score=(train=0.764, test=0.743), total=   0.0s\n",
      "[CV] max_depth=3, min_impurity_decrease=0.01, min_samples_leaf=5, min_samples_split=8 \n",
      "[CV]  max_depth=3, min_impurity_decrease=0.01, min_samples_leaf=5, min_samples_split=8, score=(train=0.785, test=0.769), total=   0.0s\n",
      "[CV] max_depth=3, min_impurity_decrease=0.01, min_samples_leaf=5, min_samples_split=5 \n",
      "[CV]  max_depth=3, min_impurity_decrease=0.01, min_samples_leaf=5, min_samples_split=5, score=(train=0.772, test=0.758), total=   0.0s\n",
      "[CV] max_depth=3, min_impurity_decrease=0.01, min_samples_leaf=5, min_samples_split=5 \n",
      "[CV]  max_depth=3, min_impurity_decrease=0.01, min_samples_leaf=5, min_samples_split=5, score=(train=0.764, test=0.743), total=   0.0s\n",
      "[CV] max_depth=3, min_impurity_decrease=0.01, min_samples_leaf=5, min_samples_split=5 \n",
      "[CV]  max_depth=3, min_impurity_decrease=0.01, min_samples_leaf=5, min_samples_split=5, score=(train=0.785, test=0.769), total=   0.0s\n",
      "[CV] max_depth=3, min_impurity_decrease=0.05, min_samples_leaf=2, min_samples_split=10 \n",
      "[CV]  max_depth=3, min_impurity_decrease=0.05, min_samples_leaf=2, min_samples_split=10, score=(train=0.333, test=0.333), total=   0.0s\n",
      "[CV] max_depth=3, min_impurity_decrease=0.05, min_samples_leaf=2, min_samples_split=10 \n",
      "[CV]  max_depth=3, min_impurity_decrease=0.05, min_samples_leaf=2, min_samples_split=10, score=(train=0.720, test=0.712), total=   0.0s\n",
      "[CV] max_depth=3, min_impurity_decrease=0.05, min_samples_leaf=2, min_samples_split=10 \n",
      "[CV]  max_depth=3, min_impurity_decrease=0.05, min_samples_leaf=2, min_samples_split=10, score=(train=0.743, test=0.725), total=   0.0s\n",
      "[CV] max_depth=3, min_impurity_decrease=0.05, min_samples_leaf=2, min_samples_split=8 \n",
      "[CV]  max_depth=3, min_impurity_decrease=0.05, min_samples_leaf=2, min_samples_split=8, score=(train=0.333, test=0.333), total=   0.0s\n",
      "[CV] max_depth=3, min_impurity_decrease=0.05, min_samples_leaf=2, min_samples_split=8 \n",
      "[CV]  max_depth=3, min_impurity_decrease=0.05, min_samples_leaf=2, min_samples_split=8, score=(train=0.720, test=0.712), total=   0.0s\n",
      "[CV] max_depth=3, min_impurity_decrease=0.05, min_samples_leaf=2, min_samples_split=8 \n",
      "[CV]  max_depth=3, min_impurity_decrease=0.05, min_samples_leaf=2, min_samples_split=8, score=(train=0.743, test=0.725), total=   0.0s\n",
      "[CV] max_depth=3, min_impurity_decrease=0.05, min_samples_leaf=2, min_samples_split=5 \n",
      "[CV]  max_depth=3, min_impurity_decrease=0.05, min_samples_leaf=2, min_samples_split=5, score=(train=0.333, test=0.333), total=   0.0s\n",
      "[CV] max_depth=3, min_impurity_decrease=0.05, min_samples_leaf=2, min_samples_split=5 \n",
      "[CV]  max_depth=3, min_impurity_decrease=0.05, min_samples_leaf=2, min_samples_split=5, score=(train=0.720, test=0.712), total=   0.0s\n",
      "[CV] max_depth=3, min_impurity_decrease=0.05, min_samples_leaf=2, min_samples_split=5 \n",
      "[CV]  max_depth=3, min_impurity_decrease=0.05, min_samples_leaf=2, min_samples_split=5, score=(train=0.743, test=0.725), total=   0.0s\n",
      "[CV] max_depth=3, min_impurity_decrease=0.05, min_samples_leaf=3, min_samples_split=10 \n",
      "[CV]  max_depth=3, min_impurity_decrease=0.05, min_samples_leaf=3, min_samples_split=10, score=(train=0.333, test=0.333), total=   0.0s\n",
      "[CV] max_depth=3, min_impurity_decrease=0.05, min_samples_leaf=3, min_samples_split=10 \n",
      "[CV]  max_depth=3, min_impurity_decrease=0.05, min_samples_leaf=3, min_samples_split=10, score=(train=0.720, test=0.712), total=   0.0s\n",
      "[CV] max_depth=3, min_impurity_decrease=0.05, min_samples_leaf=3, min_samples_split=10 \n",
      "[CV]  max_depth=3, min_impurity_decrease=0.05, min_samples_leaf=3, min_samples_split=10, score=(train=0.743, test=0.725), total=   0.0s\n",
      "[CV] max_depth=3, min_impurity_decrease=0.05, min_samples_leaf=3, min_samples_split=8 \n",
      "[CV]  max_depth=3, min_impurity_decrease=0.05, min_samples_leaf=3, min_samples_split=8, score=(train=0.333, test=0.333), total=   0.0s\n",
      "[CV] max_depth=3, min_impurity_decrease=0.05, min_samples_leaf=3, min_samples_split=8 \n",
      "[CV]  max_depth=3, min_impurity_decrease=0.05, min_samples_leaf=3, min_samples_split=8, score=(train=0.720, test=0.712), total=   0.0s\n",
      "[CV] max_depth=3, min_impurity_decrease=0.05, min_samples_leaf=3, min_samples_split=8 \n",
      "[CV]  max_depth=3, min_impurity_decrease=0.05, min_samples_leaf=3, min_samples_split=8, score=(train=0.743, test=0.725), total=   0.0s\n",
      "[CV] max_depth=3, min_impurity_decrease=0.05, min_samples_leaf=3, min_samples_split=5 \n",
      "[CV]  max_depth=3, min_impurity_decrease=0.05, min_samples_leaf=3, min_samples_split=5, score=(train=0.333, test=0.333), total=   0.0s\n",
      "[CV] max_depth=3, min_impurity_decrease=0.05, min_samples_leaf=3, min_samples_split=5 \n",
      "[CV]  max_depth=3, min_impurity_decrease=0.05, min_samples_leaf=3, min_samples_split=5, score=(train=0.720, test=0.712), total=   0.0s\n",
      "[CV] max_depth=3, min_impurity_decrease=0.05, min_samples_leaf=3, min_samples_split=5 \n",
      "[CV]  max_depth=3, min_impurity_decrease=0.05, min_samples_leaf=3, min_samples_split=5, score=(train=0.743, test=0.725), total=   0.0s\n",
      "[CV] max_depth=3, min_impurity_decrease=0.05, min_samples_leaf=5, min_samples_split=10 \n",
      "[CV]  max_depth=3, min_impurity_decrease=0.05, min_samples_leaf=5, min_samples_split=10, score=(train=0.333, test=0.333), total=   0.0s\n",
      "[CV] max_depth=3, min_impurity_decrease=0.05, min_samples_leaf=5, min_samples_split=10 \n",
      "[CV]  max_depth=3, min_impurity_decrease=0.05, min_samples_leaf=5, min_samples_split=10, score=(train=0.720, test=0.712), total=   0.0s\n",
      "[CV] max_depth=3, min_impurity_decrease=0.05, min_samples_leaf=5, min_samples_split=10 \n"
     ]
    },
    {
     "name": "stdout",
     "output_type": "stream",
     "text": [
      "[CV]  max_depth=3, min_impurity_decrease=0.05, min_samples_leaf=5, min_samples_split=10, score=(train=0.743, test=0.725), total=   0.0s\n",
      "[CV] max_depth=3, min_impurity_decrease=0.05, min_samples_leaf=5, min_samples_split=8 \n",
      "[CV]  max_depth=3, min_impurity_decrease=0.05, min_samples_leaf=5, min_samples_split=8, score=(train=0.333, test=0.333), total=   0.0s\n",
      "[CV] max_depth=3, min_impurity_decrease=0.05, min_samples_leaf=5, min_samples_split=8 \n",
      "[CV]  max_depth=3, min_impurity_decrease=0.05, min_samples_leaf=5, min_samples_split=8, score=(train=0.720, test=0.712), total=   0.0s\n",
      "[CV] max_depth=3, min_impurity_decrease=0.05, min_samples_leaf=5, min_samples_split=8 \n",
      "[CV]  max_depth=3, min_impurity_decrease=0.05, min_samples_leaf=5, min_samples_split=8, score=(train=0.743, test=0.725), total=   0.0s\n",
      "[CV] max_depth=3, min_impurity_decrease=0.05, min_samples_leaf=5, min_samples_split=5 \n",
      "[CV]  max_depth=3, min_impurity_decrease=0.05, min_samples_leaf=5, min_samples_split=5, score=(train=0.333, test=0.333), total=   0.0s\n",
      "[CV] max_depth=3, min_impurity_decrease=0.05, min_samples_leaf=5, min_samples_split=5 \n",
      "[CV]  max_depth=3, min_impurity_decrease=0.05, min_samples_leaf=5, min_samples_split=5, score=(train=0.720, test=0.712), total=   0.0s\n",
      "[CV] max_depth=3, min_impurity_decrease=0.05, min_samples_leaf=5, min_samples_split=5 \n",
      "[CV]  max_depth=3, min_impurity_decrease=0.05, min_samples_leaf=5, min_samples_split=5, score=(train=0.743, test=0.725), total=   0.0s\n",
      "[CV] max_depth=4, min_impurity_decrease=0.01, min_samples_leaf=2, min_samples_split=10 \n",
      "[CV]  max_depth=4, min_impurity_decrease=0.01, min_samples_leaf=2, min_samples_split=10, score=(train=0.784, test=0.764), total=   0.0s\n",
      "[CV] max_depth=4, min_impurity_decrease=0.01, min_samples_leaf=2, min_samples_split=10 \n",
      "[CV]  max_depth=4, min_impurity_decrease=0.01, min_samples_leaf=2, min_samples_split=10, score=(train=0.776, test=0.763), total=   0.0s\n",
      "[CV] max_depth=4, min_impurity_decrease=0.01, min_samples_leaf=2, min_samples_split=10 \n",
      "[CV]  max_depth=4, min_impurity_decrease=0.01, min_samples_leaf=2, min_samples_split=10, score=(train=0.785, test=0.769), total=   0.0s\n",
      "[CV] max_depth=4, min_impurity_decrease=0.01, min_samples_leaf=2, min_samples_split=8 \n",
      "[CV]  max_depth=4, min_impurity_decrease=0.01, min_samples_leaf=2, min_samples_split=8, score=(train=0.784, test=0.764), total=   0.0s\n",
      "[CV] max_depth=4, min_impurity_decrease=0.01, min_samples_leaf=2, min_samples_split=8 \n",
      "[CV]  max_depth=4, min_impurity_decrease=0.01, min_samples_leaf=2, min_samples_split=8, score=(train=0.776, test=0.763), total=   0.0s\n",
      "[CV] max_depth=4, min_impurity_decrease=0.01, min_samples_leaf=2, min_samples_split=8 \n",
      "[CV]  max_depth=4, min_impurity_decrease=0.01, min_samples_leaf=2, min_samples_split=8, score=(train=0.785, test=0.769), total=   0.0s\n",
      "[CV] max_depth=4, min_impurity_decrease=0.01, min_samples_leaf=2, min_samples_split=5 \n",
      "[CV]  max_depth=4, min_impurity_decrease=0.01, min_samples_leaf=2, min_samples_split=5, score=(train=0.784, test=0.764), total=   0.0s\n",
      "[CV] max_depth=4, min_impurity_decrease=0.01, min_samples_leaf=2, min_samples_split=5 \n",
      "[CV]  max_depth=4, min_impurity_decrease=0.01, min_samples_leaf=2, min_samples_split=5, score=(train=0.776, test=0.763), total=   0.0s\n",
      "[CV] max_depth=4, min_impurity_decrease=0.01, min_samples_leaf=2, min_samples_split=5 \n",
      "[CV]  max_depth=4, min_impurity_decrease=0.01, min_samples_leaf=2, min_samples_split=5, score=(train=0.785, test=0.769), total=   0.0s\n",
      "[CV] max_depth=4, min_impurity_decrease=0.01, min_samples_leaf=3, min_samples_split=10 \n",
      "[CV]  max_depth=4, min_impurity_decrease=0.01, min_samples_leaf=3, min_samples_split=10, score=(train=0.784, test=0.764), total=   0.0s\n",
      "[CV] max_depth=4, min_impurity_decrease=0.01, min_samples_leaf=3, min_samples_split=10 \n",
      "[CV]  max_depth=4, min_impurity_decrease=0.01, min_samples_leaf=3, min_samples_split=10, score=(train=0.776, test=0.763), total=   0.0s\n",
      "[CV] max_depth=4, min_impurity_decrease=0.01, min_samples_leaf=3, min_samples_split=10 \n",
      "[CV]  max_depth=4, min_impurity_decrease=0.01, min_samples_leaf=3, min_samples_split=10, score=(train=0.785, test=0.769), total=   0.0s\n",
      "[CV] max_depth=4, min_impurity_decrease=0.01, min_samples_leaf=3, min_samples_split=8 \n",
      "[CV]  max_depth=4, min_impurity_decrease=0.01, min_samples_leaf=3, min_samples_split=8, score=(train=0.784, test=0.764), total=   0.0s\n",
      "[CV] max_depth=4, min_impurity_decrease=0.01, min_samples_leaf=3, min_samples_split=8 \n",
      "[CV]  max_depth=4, min_impurity_decrease=0.01, min_samples_leaf=3, min_samples_split=8, score=(train=0.776, test=0.763), total=   0.0s\n",
      "[CV] max_depth=4, min_impurity_decrease=0.01, min_samples_leaf=3, min_samples_split=8 \n",
      "[CV]  max_depth=4, min_impurity_decrease=0.01, min_samples_leaf=3, min_samples_split=8, score=(train=0.785, test=0.769), total=   0.0s\n",
      "[CV] max_depth=4, min_impurity_decrease=0.01, min_samples_leaf=3, min_samples_split=5 \n",
      "[CV]  max_depth=4, min_impurity_decrease=0.01, min_samples_leaf=3, min_samples_split=5, score=(train=0.784, test=0.764), total=   0.0s\n",
      "[CV] max_depth=4, min_impurity_decrease=0.01, min_samples_leaf=3, min_samples_split=5 \n",
      "[CV]  max_depth=4, min_impurity_decrease=0.01, min_samples_leaf=3, min_samples_split=5, score=(train=0.776, test=0.763), total=   0.0s\n",
      "[CV] max_depth=4, min_impurity_decrease=0.01, min_samples_leaf=3, min_samples_split=5 \n",
      "[CV]  max_depth=4, min_impurity_decrease=0.01, min_samples_leaf=3, min_samples_split=5, score=(train=0.785, test=0.769), total=   0.0s\n",
      "[CV] max_depth=4, min_impurity_decrease=0.01, min_samples_leaf=5, min_samples_split=10 \n",
      "[CV]  max_depth=4, min_impurity_decrease=0.01, min_samples_leaf=5, min_samples_split=10, score=(train=0.784, test=0.764), total=   0.0s\n",
      "[CV] max_depth=4, min_impurity_decrease=0.01, min_samples_leaf=5, min_samples_split=10 \n",
      "[CV]  max_depth=4, min_impurity_decrease=0.01, min_samples_leaf=5, min_samples_split=10, score=(train=0.776, test=0.763), total=   0.0s\n",
      "[CV] max_depth=4, min_impurity_decrease=0.01, min_samples_leaf=5, min_samples_split=10 \n",
      "[CV]  max_depth=4, min_impurity_decrease=0.01, min_samples_leaf=5, min_samples_split=10, score=(train=0.785, test=0.769), total=   0.0s\n",
      "[CV] max_depth=4, min_impurity_decrease=0.01, min_samples_leaf=5, min_samples_split=8 \n",
      "[CV]  max_depth=4, min_impurity_decrease=0.01, min_samples_leaf=5, min_samples_split=8, score=(train=0.784, test=0.764), total=   0.0s\n",
      "[CV] max_depth=4, min_impurity_decrease=0.01, min_samples_leaf=5, min_samples_split=8 \n",
      "[CV]  max_depth=4, min_impurity_decrease=0.01, min_samples_leaf=5, min_samples_split=8, score=(train=0.776, test=0.763), total=   0.0s\n",
      "[CV] max_depth=4, min_impurity_decrease=0.01, min_samples_leaf=5, min_samples_split=8 \n",
      "[CV]  max_depth=4, min_impurity_decrease=0.01, min_samples_leaf=5, min_samples_split=8, score=(train=0.785, test=0.769), total=   0.0s\n",
      "[CV] max_depth=4, min_impurity_decrease=0.01, min_samples_leaf=5, min_samples_split=5 \n",
      "[CV]  max_depth=4, min_impurity_decrease=0.01, min_samples_leaf=5, min_samples_split=5, score=(train=0.784, test=0.764), total=   0.0s\n",
      "[CV] max_depth=4, min_impurity_decrease=0.01, min_samples_leaf=5, min_samples_split=5 \n",
      "[CV]  max_depth=4, min_impurity_decrease=0.01, min_samples_leaf=5, min_samples_split=5, score=(train=0.776, test=0.763), total=   0.0s\n",
      "[CV] max_depth=4, min_impurity_decrease=0.01, min_samples_leaf=5, min_samples_split=5 \n",
      "[CV]  max_depth=4, min_impurity_decrease=0.01, min_samples_leaf=5, min_samples_split=5, score=(train=0.785, test=0.769), total=   0.0s\n",
      "[CV] max_depth=4, min_impurity_decrease=0.05, min_samples_leaf=2, min_samples_split=10 \n",
      "[CV]  max_depth=4, min_impurity_decrease=0.05, min_samples_leaf=2, min_samples_split=10, score=(train=0.333, test=0.333), total=   0.0s\n",
      "[CV] max_depth=4, min_impurity_decrease=0.05, min_samples_leaf=2, min_samples_split=10 \n",
      "[CV]  max_depth=4, min_impurity_decrease=0.05, min_samples_leaf=2, min_samples_split=10, score=(train=0.720, test=0.712), total=   0.0s\n",
      "[CV] max_depth=4, min_impurity_decrease=0.05, min_samples_leaf=2, min_samples_split=10 \n",
      "[CV]  max_depth=4, min_impurity_decrease=0.05, min_samples_leaf=2, min_samples_split=10, score=(train=0.743, test=0.725), total=   0.0s\n",
      "[CV] max_depth=4, min_impurity_decrease=0.05, min_samples_leaf=2, min_samples_split=8 \n",
      "[CV]  max_depth=4, min_impurity_decrease=0.05, min_samples_leaf=2, min_samples_split=8, score=(train=0.333, test=0.333), total=   0.0s\n",
      "[CV] max_depth=4, min_impurity_decrease=0.05, min_samples_leaf=2, min_samples_split=8 \n",
      "[CV]  max_depth=4, min_impurity_decrease=0.05, min_samples_leaf=2, min_samples_split=8, score=(train=0.720, test=0.712), total=   0.0s\n",
      "[CV] max_depth=4, min_impurity_decrease=0.05, min_samples_leaf=2, min_samples_split=8 \n",
      "[CV]  max_depth=4, min_impurity_decrease=0.05, min_samples_leaf=2, min_samples_split=8, score=(train=0.743, test=0.725), total=   0.0s\n",
      "[CV] max_depth=4, min_impurity_decrease=0.05, min_samples_leaf=2, min_samples_split=5 \n",
      "[CV]  max_depth=4, min_impurity_decrease=0.05, min_samples_leaf=2, min_samples_split=5, score=(train=0.333, test=0.333), total=   0.0s\n",
      "[CV] max_depth=4, min_impurity_decrease=0.05, min_samples_leaf=2, min_samples_split=5 \n",
      "[CV]  max_depth=4, min_impurity_decrease=0.05, min_samples_leaf=2, min_samples_split=5, score=(train=0.720, test=0.712), total=   0.0s\n",
      "[CV] max_depth=4, min_impurity_decrease=0.05, min_samples_leaf=2, min_samples_split=5 \n",
      "[CV]  max_depth=4, min_impurity_decrease=0.05, min_samples_leaf=2, min_samples_split=5, score=(train=0.743, test=0.725), total=   0.0s\n",
      "[CV] max_depth=4, min_impurity_decrease=0.05, min_samples_leaf=3, min_samples_split=10 \n"
     ]
    },
    {
     "name": "stdout",
     "output_type": "stream",
     "text": [
      "[CV]  max_depth=4, min_impurity_decrease=0.05, min_samples_leaf=3, min_samples_split=10, score=(train=0.333, test=0.333), total=   0.0s\n",
      "[CV] max_depth=4, min_impurity_decrease=0.05, min_samples_leaf=3, min_samples_split=10 \n",
      "[CV]  max_depth=4, min_impurity_decrease=0.05, min_samples_leaf=3, min_samples_split=10, score=(train=0.720, test=0.712), total=   0.0s\n",
      "[CV] max_depth=4, min_impurity_decrease=0.05, min_samples_leaf=3, min_samples_split=10 \n",
      "[CV]  max_depth=4, min_impurity_decrease=0.05, min_samples_leaf=3, min_samples_split=10, score=(train=0.743, test=0.725), total=   0.0s\n",
      "[CV] max_depth=4, min_impurity_decrease=0.05, min_samples_leaf=3, min_samples_split=8 \n",
      "[CV]  max_depth=4, min_impurity_decrease=0.05, min_samples_leaf=3, min_samples_split=8, score=(train=0.333, test=0.333), total=   0.0s\n",
      "[CV] max_depth=4, min_impurity_decrease=0.05, min_samples_leaf=3, min_samples_split=8 \n",
      "[CV]  max_depth=4, min_impurity_decrease=0.05, min_samples_leaf=3, min_samples_split=8, score=(train=0.720, test=0.712), total=   0.0s\n",
      "[CV] max_depth=4, min_impurity_decrease=0.05, min_samples_leaf=3, min_samples_split=8 \n",
      "[CV]  max_depth=4, min_impurity_decrease=0.05, min_samples_leaf=3, min_samples_split=8, score=(train=0.743, test=0.725), total=   0.0s\n",
      "[CV] max_depth=4, min_impurity_decrease=0.05, min_samples_leaf=3, min_samples_split=5 \n",
      "[CV]  max_depth=4, min_impurity_decrease=0.05, min_samples_leaf=3, min_samples_split=5, score=(train=0.333, test=0.333), total=   0.0s\n",
      "[CV] max_depth=4, min_impurity_decrease=0.05, min_samples_leaf=3, min_samples_split=5 \n",
      "[CV]  max_depth=4, min_impurity_decrease=0.05, min_samples_leaf=3, min_samples_split=5, score=(train=0.720, test=0.712), total=   0.0s\n",
      "[CV] max_depth=4, min_impurity_decrease=0.05, min_samples_leaf=3, min_samples_split=5 \n",
      "[CV]  max_depth=4, min_impurity_decrease=0.05, min_samples_leaf=3, min_samples_split=5, score=(train=0.743, test=0.725), total=   0.0s\n",
      "[CV] max_depth=4, min_impurity_decrease=0.05, min_samples_leaf=5, min_samples_split=10 \n",
      "[CV]  max_depth=4, min_impurity_decrease=0.05, min_samples_leaf=5, min_samples_split=10, score=(train=0.333, test=0.333), total=   0.0s\n",
      "[CV] max_depth=4, min_impurity_decrease=0.05, min_samples_leaf=5, min_samples_split=10 \n",
      "[CV]  max_depth=4, min_impurity_decrease=0.05, min_samples_leaf=5, min_samples_split=10, score=(train=0.720, test=0.712), total=   0.0s\n",
      "[CV] max_depth=4, min_impurity_decrease=0.05, min_samples_leaf=5, min_samples_split=10 \n",
      "[CV]  max_depth=4, min_impurity_decrease=0.05, min_samples_leaf=5, min_samples_split=10, score=(train=0.743, test=0.725), total=   0.0s\n",
      "[CV] max_depth=4, min_impurity_decrease=0.05, min_samples_leaf=5, min_samples_split=8 \n",
      "[CV]  max_depth=4, min_impurity_decrease=0.05, min_samples_leaf=5, min_samples_split=8, score=(train=0.333, test=0.333), total=   0.0s\n",
      "[CV] max_depth=4, min_impurity_decrease=0.05, min_samples_leaf=5, min_samples_split=8 \n",
      "[CV]  max_depth=4, min_impurity_decrease=0.05, min_samples_leaf=5, min_samples_split=8, score=(train=0.720, test=0.712), total=   0.0s\n",
      "[CV] max_depth=4, min_impurity_decrease=0.05, min_samples_leaf=5, min_samples_split=8 \n",
      "[CV]  max_depth=4, min_impurity_decrease=0.05, min_samples_leaf=5, min_samples_split=8, score=(train=0.743, test=0.725), total=   0.0s\n",
      "[CV] max_depth=4, min_impurity_decrease=0.05, min_samples_leaf=5, min_samples_split=5 \n",
      "[CV]  max_depth=4, min_impurity_decrease=0.05, min_samples_leaf=5, min_samples_split=5, score=(train=0.333, test=0.333), total=   0.0s\n",
      "[CV] max_depth=4, min_impurity_decrease=0.05, min_samples_leaf=5, min_samples_split=5 \n",
      "[CV]  max_depth=4, min_impurity_decrease=0.05, min_samples_leaf=5, min_samples_split=5, score=(train=0.720, test=0.712), total=   0.0s\n",
      "[CV] max_depth=4, min_impurity_decrease=0.05, min_samples_leaf=5, min_samples_split=5 \n",
      "[CV]  max_depth=4, min_impurity_decrease=0.05, min_samples_leaf=5, min_samples_split=5, score=(train=0.743, test=0.725), total=   0.1s\n",
      "[CV] max_depth=5, min_impurity_decrease=0.01, min_samples_leaf=2, min_samples_split=10 \n",
      "[CV]  max_depth=5, min_impurity_decrease=0.01, min_samples_leaf=2, min_samples_split=10, score=(train=0.795, test=0.770), total=   0.1s\n",
      "[CV] max_depth=5, min_impurity_decrease=0.01, min_samples_leaf=2, min_samples_split=10 \n",
      "[CV]  max_depth=5, min_impurity_decrease=0.01, min_samples_leaf=2, min_samples_split=10, score=(train=0.798, test=0.772), total=   0.1s\n",
      "[CV] max_depth=5, min_impurity_decrease=0.01, min_samples_leaf=2, min_samples_split=10 \n",
      "[CV]  max_depth=5, min_impurity_decrease=0.01, min_samples_leaf=2, min_samples_split=10, score=(train=0.785, test=0.769), total=   0.0s\n",
      "[CV] max_depth=5, min_impurity_decrease=0.01, min_samples_leaf=2, min_samples_split=8 \n",
      "[CV]  max_depth=5, min_impurity_decrease=0.01, min_samples_leaf=2, min_samples_split=8, score=(train=0.795, test=0.770), total=   0.1s\n",
      "[CV] max_depth=5, min_impurity_decrease=0.01, min_samples_leaf=2, min_samples_split=8 \n",
      "[CV]  max_depth=5, min_impurity_decrease=0.01, min_samples_leaf=2, min_samples_split=8, score=(train=0.798, test=0.772), total=   0.0s\n",
      "[CV] max_depth=5, min_impurity_decrease=0.01, min_samples_leaf=2, min_samples_split=8 \n",
      "[CV]  max_depth=5, min_impurity_decrease=0.01, min_samples_leaf=2, min_samples_split=8, score=(train=0.785, test=0.769), total=   0.0s\n",
      "[CV] max_depth=5, min_impurity_decrease=0.01, min_samples_leaf=2, min_samples_split=5 \n",
      "[CV]  max_depth=5, min_impurity_decrease=0.01, min_samples_leaf=2, min_samples_split=5, score=(train=0.795, test=0.770), total=   0.0s\n",
      "[CV] max_depth=5, min_impurity_decrease=0.01, min_samples_leaf=2, min_samples_split=5 \n",
      "[CV]  max_depth=5, min_impurity_decrease=0.01, min_samples_leaf=2, min_samples_split=5, score=(train=0.798, test=0.772), total=   0.0s\n",
      "[CV] max_depth=5, min_impurity_decrease=0.01, min_samples_leaf=2, min_samples_split=5 \n",
      "[CV]  max_depth=5, min_impurity_decrease=0.01, min_samples_leaf=2, min_samples_split=5, score=(train=0.785, test=0.769), total=   0.0s\n",
      "[CV] max_depth=5, min_impurity_decrease=0.01, min_samples_leaf=3, min_samples_split=10 \n",
      "[CV]  max_depth=5, min_impurity_decrease=0.01, min_samples_leaf=3, min_samples_split=10, score=(train=0.795, test=0.770), total=   0.0s\n",
      "[CV] max_depth=5, min_impurity_decrease=0.01, min_samples_leaf=3, min_samples_split=10 \n",
      "[CV]  max_depth=5, min_impurity_decrease=0.01, min_samples_leaf=3, min_samples_split=10, score=(train=0.798, test=0.772), total=   0.0s\n",
      "[CV] max_depth=5, min_impurity_decrease=0.01, min_samples_leaf=3, min_samples_split=10 \n",
      "[CV]  max_depth=5, min_impurity_decrease=0.01, min_samples_leaf=3, min_samples_split=10, score=(train=0.785, test=0.769), total=   0.0s\n",
      "[CV] max_depth=5, min_impurity_decrease=0.01, min_samples_leaf=3, min_samples_split=8 \n",
      "[CV]  max_depth=5, min_impurity_decrease=0.01, min_samples_leaf=3, min_samples_split=8, score=(train=0.795, test=0.770), total=   0.0s\n",
      "[CV] max_depth=5, min_impurity_decrease=0.01, min_samples_leaf=3, min_samples_split=8 \n",
      "[CV]  max_depth=5, min_impurity_decrease=0.01, min_samples_leaf=3, min_samples_split=8, score=(train=0.798, test=0.772), total=   0.0s\n",
      "[CV] max_depth=5, min_impurity_decrease=0.01, min_samples_leaf=3, min_samples_split=8 \n",
      "[CV]  max_depth=5, min_impurity_decrease=0.01, min_samples_leaf=3, min_samples_split=8, score=(train=0.785, test=0.769), total=   0.0s\n",
      "[CV] max_depth=5, min_impurity_decrease=0.01, min_samples_leaf=3, min_samples_split=5 \n",
      "[CV]  max_depth=5, min_impurity_decrease=0.01, min_samples_leaf=3, min_samples_split=5, score=(train=0.795, test=0.770), total=   0.0s\n",
      "[CV] max_depth=5, min_impurity_decrease=0.01, min_samples_leaf=3, min_samples_split=5 \n",
      "[CV]  max_depth=5, min_impurity_decrease=0.01, min_samples_leaf=3, min_samples_split=5, score=(train=0.798, test=0.772), total=   0.0s\n",
      "[CV] max_depth=5, min_impurity_decrease=0.01, min_samples_leaf=3, min_samples_split=5 \n",
      "[CV]  max_depth=5, min_impurity_decrease=0.01, min_samples_leaf=3, min_samples_split=5, score=(train=0.785, test=0.769), total=   0.1s\n",
      "[CV] max_depth=5, min_impurity_decrease=0.01, min_samples_leaf=5, min_samples_split=10 \n",
      "[CV]  max_depth=5, min_impurity_decrease=0.01, min_samples_leaf=5, min_samples_split=10, score=(train=0.795, test=0.770), total=   0.0s\n",
      "[CV] max_depth=5, min_impurity_decrease=0.01, min_samples_leaf=5, min_samples_split=10 \n",
      "[CV]  max_depth=5, min_impurity_decrease=0.01, min_samples_leaf=5, min_samples_split=10, score=(train=0.798, test=0.772), total=   0.0s\n",
      "[CV] max_depth=5, min_impurity_decrease=0.01, min_samples_leaf=5, min_samples_split=10 \n"
     ]
    },
    {
     "name": "stdout",
     "output_type": "stream",
     "text": [
      "[CV]  max_depth=5, min_impurity_decrease=0.01, min_samples_leaf=5, min_samples_split=10, score=(train=0.785, test=0.769), total=   0.0s\n",
      "[CV] max_depth=5, min_impurity_decrease=0.01, min_samples_leaf=5, min_samples_split=8 \n",
      "[CV]  max_depth=5, min_impurity_decrease=0.01, min_samples_leaf=5, min_samples_split=8, score=(train=0.795, test=0.770), total=   0.0s\n",
      "[CV] max_depth=5, min_impurity_decrease=0.01, min_samples_leaf=5, min_samples_split=8 \n",
      "[CV]  max_depth=5, min_impurity_decrease=0.01, min_samples_leaf=5, min_samples_split=8, score=(train=0.798, test=0.772), total=   0.0s\n",
      "[CV] max_depth=5, min_impurity_decrease=0.01, min_samples_leaf=5, min_samples_split=8 \n",
      "[CV]  max_depth=5, min_impurity_decrease=0.01, min_samples_leaf=5, min_samples_split=8, score=(train=0.785, test=0.769), total=   0.0s\n",
      "[CV] max_depth=5, min_impurity_decrease=0.01, min_samples_leaf=5, min_samples_split=5 \n",
      "[CV]  max_depth=5, min_impurity_decrease=0.01, min_samples_leaf=5, min_samples_split=5, score=(train=0.795, test=0.770), total=   0.0s\n",
      "[CV] max_depth=5, min_impurity_decrease=0.01, min_samples_leaf=5, min_samples_split=5 \n",
      "[CV]  max_depth=5, min_impurity_decrease=0.01, min_samples_leaf=5, min_samples_split=5, score=(train=0.798, test=0.772), total=   0.0s\n",
      "[CV] max_depth=5, min_impurity_decrease=0.01, min_samples_leaf=5, min_samples_split=5 \n",
      "[CV]  max_depth=5, min_impurity_decrease=0.01, min_samples_leaf=5, min_samples_split=5, score=(train=0.785, test=0.769), total=   0.0s\n",
      "[CV] max_depth=5, min_impurity_decrease=0.05, min_samples_leaf=2, min_samples_split=10 \n",
      "[CV]  max_depth=5, min_impurity_decrease=0.05, min_samples_leaf=2, min_samples_split=10, score=(train=0.333, test=0.333), total=   0.0s\n",
      "[CV] max_depth=5, min_impurity_decrease=0.05, min_samples_leaf=2, min_samples_split=10 \n",
      "[CV]  max_depth=5, min_impurity_decrease=0.05, min_samples_leaf=2, min_samples_split=10, score=(train=0.720, test=0.712), total=   0.0s\n",
      "[CV] max_depth=5, min_impurity_decrease=0.05, min_samples_leaf=2, min_samples_split=10 \n",
      "[CV]  max_depth=5, min_impurity_decrease=0.05, min_samples_leaf=2, min_samples_split=10, score=(train=0.743, test=0.725), total=   0.0s\n",
      "[CV] max_depth=5, min_impurity_decrease=0.05, min_samples_leaf=2, min_samples_split=8 \n",
      "[CV]  max_depth=5, min_impurity_decrease=0.05, min_samples_leaf=2, min_samples_split=8, score=(train=0.333, test=0.333), total=   0.0s\n",
      "[CV] max_depth=5, min_impurity_decrease=0.05, min_samples_leaf=2, min_samples_split=8 \n",
      "[CV]  max_depth=5, min_impurity_decrease=0.05, min_samples_leaf=2, min_samples_split=8, score=(train=0.720, test=0.712), total=   0.0s\n",
      "[CV] max_depth=5, min_impurity_decrease=0.05, min_samples_leaf=2, min_samples_split=8 \n",
      "[CV]  max_depth=5, min_impurity_decrease=0.05, min_samples_leaf=2, min_samples_split=8, score=(train=0.743, test=0.725), total=   0.0s\n",
      "[CV] max_depth=5, min_impurity_decrease=0.05, min_samples_leaf=2, min_samples_split=5 \n",
      "[CV]  max_depth=5, min_impurity_decrease=0.05, min_samples_leaf=2, min_samples_split=5, score=(train=0.333, test=0.333), total=   0.0s\n",
      "[CV] max_depth=5, min_impurity_decrease=0.05, min_samples_leaf=2, min_samples_split=5 \n",
      "[CV]  max_depth=5, min_impurity_decrease=0.05, min_samples_leaf=2, min_samples_split=5, score=(train=0.720, test=0.712), total=   0.0s\n",
      "[CV] max_depth=5, min_impurity_decrease=0.05, min_samples_leaf=2, min_samples_split=5 \n",
      "[CV]  max_depth=5, min_impurity_decrease=0.05, min_samples_leaf=2, min_samples_split=5, score=(train=0.743, test=0.725), total=   0.0s\n",
      "[CV] max_depth=5, min_impurity_decrease=0.05, min_samples_leaf=3, min_samples_split=10 \n",
      "[CV]  max_depth=5, min_impurity_decrease=0.05, min_samples_leaf=3, min_samples_split=10, score=(train=0.333, test=0.333), total=   0.0s\n",
      "[CV] max_depth=5, min_impurity_decrease=0.05, min_samples_leaf=3, min_samples_split=10 \n",
      "[CV]  max_depth=5, min_impurity_decrease=0.05, min_samples_leaf=3, min_samples_split=10, score=(train=0.720, test=0.712), total=   0.0s\n",
      "[CV] max_depth=5, min_impurity_decrease=0.05, min_samples_leaf=3, min_samples_split=10 \n",
      "[CV]  max_depth=5, min_impurity_decrease=0.05, min_samples_leaf=3, min_samples_split=10, score=(train=0.743, test=0.725), total=   0.0s\n",
      "[CV] max_depth=5, min_impurity_decrease=0.05, min_samples_leaf=3, min_samples_split=8 \n",
      "[CV]  max_depth=5, min_impurity_decrease=0.05, min_samples_leaf=3, min_samples_split=8, score=(train=0.333, test=0.333), total=   0.0s\n",
      "[CV] max_depth=5, min_impurity_decrease=0.05, min_samples_leaf=3, min_samples_split=8 \n",
      "[CV]  max_depth=5, min_impurity_decrease=0.05, min_samples_leaf=3, min_samples_split=8, score=(train=0.720, test=0.712), total=   0.0s\n",
      "[CV] max_depth=5, min_impurity_decrease=0.05, min_samples_leaf=3, min_samples_split=8 \n",
      "[CV]  max_depth=5, min_impurity_decrease=0.05, min_samples_leaf=3, min_samples_split=8, score=(train=0.743, test=0.725), total=   0.0s\n",
      "[CV] max_depth=5, min_impurity_decrease=0.05, min_samples_leaf=3, min_samples_split=5 \n",
      "[CV]  max_depth=5, min_impurity_decrease=0.05, min_samples_leaf=3, min_samples_split=5, score=(train=0.333, test=0.333), total=   0.0s\n",
      "[CV] max_depth=5, min_impurity_decrease=0.05, min_samples_leaf=3, min_samples_split=5 \n",
      "[CV]  max_depth=5, min_impurity_decrease=0.05, min_samples_leaf=3, min_samples_split=5, score=(train=0.720, test=0.712), total=   0.0s\n",
      "[CV] max_depth=5, min_impurity_decrease=0.05, min_samples_leaf=3, min_samples_split=5 \n",
      "[CV]  max_depth=5, min_impurity_decrease=0.05, min_samples_leaf=3, min_samples_split=5, score=(train=0.743, test=0.725), total=   0.0s\n",
      "[CV] max_depth=5, min_impurity_decrease=0.05, min_samples_leaf=5, min_samples_split=10 \n",
      "[CV]  max_depth=5, min_impurity_decrease=0.05, min_samples_leaf=5, min_samples_split=10, score=(train=0.333, test=0.333), total=   0.0s\n",
      "[CV] max_depth=5, min_impurity_decrease=0.05, min_samples_leaf=5, min_samples_split=10 \n",
      "[CV]  max_depth=5, min_impurity_decrease=0.05, min_samples_leaf=5, min_samples_split=10, score=(train=0.720, test=0.712), total=   0.0s\n",
      "[CV] max_depth=5, min_impurity_decrease=0.05, min_samples_leaf=5, min_samples_split=10 \n",
      "[CV]  max_depth=5, min_impurity_decrease=0.05, min_samples_leaf=5, min_samples_split=10, score=(train=0.743, test=0.725), total=   0.0s\n",
      "[CV] max_depth=5, min_impurity_decrease=0.05, min_samples_leaf=5, min_samples_split=8 \n",
      "[CV]  max_depth=5, min_impurity_decrease=0.05, min_samples_leaf=5, min_samples_split=8, score=(train=0.333, test=0.333), total=   0.0s\n",
      "[CV] max_depth=5, min_impurity_decrease=0.05, min_samples_leaf=5, min_samples_split=8 \n",
      "[CV]  max_depth=5, min_impurity_decrease=0.05, min_samples_leaf=5, min_samples_split=8, score=(train=0.720, test=0.712), total=   0.0s\n",
      "[CV] max_depth=5, min_impurity_decrease=0.05, min_samples_leaf=5, min_samples_split=8 \n",
      "[CV]  max_depth=5, min_impurity_decrease=0.05, min_samples_leaf=5, min_samples_split=8, score=(train=0.743, test=0.725), total=   0.0s\n",
      "[CV] max_depth=5, min_impurity_decrease=0.05, min_samples_leaf=5, min_samples_split=5 \n",
      "[CV]  max_depth=5, min_impurity_decrease=0.05, min_samples_leaf=5, min_samples_split=5, score=(train=0.333, test=0.333), total=   0.0s\n",
      "[CV] max_depth=5, min_impurity_decrease=0.05, min_samples_leaf=5, min_samples_split=5 \n",
      "[CV]  max_depth=5, min_impurity_decrease=0.05, min_samples_leaf=5, min_samples_split=5, score=(train=0.720, test=0.712), total=   0.0s\n",
      "[CV] max_depth=5, min_impurity_decrease=0.05, min_samples_leaf=5, min_samples_split=5 \n",
      "[CV]  max_depth=5, min_impurity_decrease=0.05, min_samples_leaf=5, min_samples_split=5, score=(train=0.743, test=0.725), total=   0.0s\n",
      "[CV] max_depth=6, min_impurity_decrease=0.01, min_samples_leaf=2, min_samples_split=10 \n",
      "[CV]  max_depth=6, min_impurity_decrease=0.01, min_samples_leaf=2, min_samples_split=10, score=(train=0.805, test=0.775), total=   0.0s\n",
      "[CV] max_depth=6, min_impurity_decrease=0.01, min_samples_leaf=2, min_samples_split=10 \n",
      "[CV]  max_depth=6, min_impurity_decrease=0.01, min_samples_leaf=2, min_samples_split=10, score=(train=0.798, test=0.772), total=   0.0s\n",
      "[CV] max_depth=6, min_impurity_decrease=0.01, min_samples_leaf=2, min_samples_split=10 \n",
      "[CV]  max_depth=6, min_impurity_decrease=0.01, min_samples_leaf=2, min_samples_split=10, score=(train=0.785, test=0.769), total=   0.0s\n",
      "[CV] max_depth=6, min_impurity_decrease=0.01, min_samples_leaf=2, min_samples_split=8 \n",
      "[CV]  max_depth=6, min_impurity_decrease=0.01, min_samples_leaf=2, min_samples_split=8, score=(train=0.805, test=0.776), total=   0.0s\n",
      "[CV] max_depth=6, min_impurity_decrease=0.01, min_samples_leaf=2, min_samples_split=8 \n",
      "[CV]  max_depth=6, min_impurity_decrease=0.01, min_samples_leaf=2, min_samples_split=8, score=(train=0.798, test=0.772), total=   0.0s\n",
      "[CV] max_depth=6, min_impurity_decrease=0.01, min_samples_leaf=2, min_samples_split=8 \n",
      "[CV]  max_depth=6, min_impurity_decrease=0.01, min_samples_leaf=2, min_samples_split=8, score=(train=0.785, test=0.769), total=   0.0s\n",
      "[CV] max_depth=6, min_impurity_decrease=0.01, min_samples_leaf=2, min_samples_split=5 \n",
      "[CV]  max_depth=6, min_impurity_decrease=0.01, min_samples_leaf=2, min_samples_split=5, score=(train=0.805, test=0.776), total=   0.0s\n",
      "[CV] max_depth=6, min_impurity_decrease=0.01, min_samples_leaf=2, min_samples_split=5 \n"
     ]
    },
    {
     "name": "stdout",
     "output_type": "stream",
     "text": [
      "[CV]  max_depth=6, min_impurity_decrease=0.01, min_samples_leaf=2, min_samples_split=5, score=(train=0.798, test=0.772), total=   0.0s\n",
      "[CV] max_depth=6, min_impurity_decrease=0.01, min_samples_leaf=2, min_samples_split=5 \n",
      "[CV]  max_depth=6, min_impurity_decrease=0.01, min_samples_leaf=2, min_samples_split=5, score=(train=0.785, test=0.769), total=   0.0s\n",
      "[CV] max_depth=6, min_impurity_decrease=0.01, min_samples_leaf=3, min_samples_split=10 \n",
      "[CV]  max_depth=6, min_impurity_decrease=0.01, min_samples_leaf=3, min_samples_split=10, score=(train=0.805, test=0.775), total=   0.0s\n",
      "[CV] max_depth=6, min_impurity_decrease=0.01, min_samples_leaf=3, min_samples_split=10 \n",
      "[CV]  max_depth=6, min_impurity_decrease=0.01, min_samples_leaf=3, min_samples_split=10, score=(train=0.798, test=0.772), total=   0.0s\n",
      "[CV] max_depth=6, min_impurity_decrease=0.01, min_samples_leaf=3, min_samples_split=10 \n",
      "[CV]  max_depth=6, min_impurity_decrease=0.01, min_samples_leaf=3, min_samples_split=10, score=(train=0.785, test=0.769), total=   0.0s\n",
      "[CV] max_depth=6, min_impurity_decrease=0.01, min_samples_leaf=3, min_samples_split=8 \n",
      "[CV]  max_depth=6, min_impurity_decrease=0.01, min_samples_leaf=3, min_samples_split=8, score=(train=0.805, test=0.776), total=   0.0s\n",
      "[CV] max_depth=6, min_impurity_decrease=0.01, min_samples_leaf=3, min_samples_split=8 \n",
      "[CV]  max_depth=6, min_impurity_decrease=0.01, min_samples_leaf=3, min_samples_split=8, score=(train=0.798, test=0.772), total=   0.0s\n",
      "[CV] max_depth=6, min_impurity_decrease=0.01, min_samples_leaf=3, min_samples_split=8 \n",
      "[CV]  max_depth=6, min_impurity_decrease=0.01, min_samples_leaf=3, min_samples_split=8, score=(train=0.785, test=0.769), total=   0.0s\n",
      "[CV] max_depth=6, min_impurity_decrease=0.01, min_samples_leaf=3, min_samples_split=5 \n",
      "[CV]  max_depth=6, min_impurity_decrease=0.01, min_samples_leaf=3, min_samples_split=5, score=(train=0.805, test=0.776), total=   0.0s\n",
      "[CV] max_depth=6, min_impurity_decrease=0.01, min_samples_leaf=3, min_samples_split=5 \n",
      "[CV]  max_depth=6, min_impurity_decrease=0.01, min_samples_leaf=3, min_samples_split=5, score=(train=0.798, test=0.772), total=   0.0s\n",
      "[CV] max_depth=6, min_impurity_decrease=0.01, min_samples_leaf=3, min_samples_split=5 \n",
      "[CV]  max_depth=6, min_impurity_decrease=0.01, min_samples_leaf=3, min_samples_split=5, score=(train=0.785, test=0.769), total=   0.0s\n",
      "[CV] max_depth=6, min_impurity_decrease=0.01, min_samples_leaf=5, min_samples_split=10 \n",
      "[CV]  max_depth=6, min_impurity_decrease=0.01, min_samples_leaf=5, min_samples_split=10, score=(train=0.805, test=0.775), total=   0.0s\n",
      "[CV] max_depth=6, min_impurity_decrease=0.01, min_samples_leaf=5, min_samples_split=10 \n",
      "[CV]  max_depth=6, min_impurity_decrease=0.01, min_samples_leaf=5, min_samples_split=10, score=(train=0.798, test=0.772), total=   0.0s\n",
      "[CV] max_depth=6, min_impurity_decrease=0.01, min_samples_leaf=5, min_samples_split=10 \n",
      "[CV]  max_depth=6, min_impurity_decrease=0.01, min_samples_leaf=5, min_samples_split=10, score=(train=0.785, test=0.769), total=   0.0s\n",
      "[CV] max_depth=6, min_impurity_decrease=0.01, min_samples_leaf=5, min_samples_split=8 \n",
      "[CV]  max_depth=6, min_impurity_decrease=0.01, min_samples_leaf=5, min_samples_split=8, score=(train=0.805, test=0.776), total=   0.0s\n",
      "[CV] max_depth=6, min_impurity_decrease=0.01, min_samples_leaf=5, min_samples_split=8 \n",
      "[CV]  max_depth=6, min_impurity_decrease=0.01, min_samples_leaf=5, min_samples_split=8, score=(train=0.798, test=0.772), total=   0.0s\n",
      "[CV] max_depth=6, min_impurity_decrease=0.01, min_samples_leaf=5, min_samples_split=8 \n",
      "[CV]  max_depth=6, min_impurity_decrease=0.01, min_samples_leaf=5, min_samples_split=8, score=(train=0.785, test=0.769), total=   0.0s\n",
      "[CV] max_depth=6, min_impurity_decrease=0.01, min_samples_leaf=5, min_samples_split=5 \n",
      "[CV]  max_depth=6, min_impurity_decrease=0.01, min_samples_leaf=5, min_samples_split=5, score=(train=0.805, test=0.776), total=   0.0s\n",
      "[CV] max_depth=6, min_impurity_decrease=0.01, min_samples_leaf=5, min_samples_split=5 \n",
      "[CV]  max_depth=6, min_impurity_decrease=0.01, min_samples_leaf=5, min_samples_split=5, score=(train=0.798, test=0.772), total=   0.0s\n",
      "[CV] max_depth=6, min_impurity_decrease=0.01, min_samples_leaf=5, min_samples_split=5 \n",
      "[CV]  max_depth=6, min_impurity_decrease=0.01, min_samples_leaf=5, min_samples_split=5, score=(train=0.785, test=0.769), total=   0.0s\n",
      "[CV] max_depth=6, min_impurity_decrease=0.05, min_samples_leaf=2, min_samples_split=10 \n",
      "[CV]  max_depth=6, min_impurity_decrease=0.05, min_samples_leaf=2, min_samples_split=10, score=(train=0.333, test=0.333), total=   0.0s\n",
      "[CV] max_depth=6, min_impurity_decrease=0.05, min_samples_leaf=2, min_samples_split=10 \n",
      "[CV]  max_depth=6, min_impurity_decrease=0.05, min_samples_leaf=2, min_samples_split=10, score=(train=0.720, test=0.712), total=   0.0s\n",
      "[CV] max_depth=6, min_impurity_decrease=0.05, min_samples_leaf=2, min_samples_split=10 \n",
      "[CV]  max_depth=6, min_impurity_decrease=0.05, min_samples_leaf=2, min_samples_split=10, score=(train=0.743, test=0.725), total=   0.0s\n",
      "[CV] max_depth=6, min_impurity_decrease=0.05, min_samples_leaf=2, min_samples_split=8 \n",
      "[CV]  max_depth=6, min_impurity_decrease=0.05, min_samples_leaf=2, min_samples_split=8, score=(train=0.333, test=0.333), total=   0.0s\n",
      "[CV] max_depth=6, min_impurity_decrease=0.05, min_samples_leaf=2, min_samples_split=8 \n",
      "[CV]  max_depth=6, min_impurity_decrease=0.05, min_samples_leaf=2, min_samples_split=8, score=(train=0.720, test=0.712), total=   0.0s\n",
      "[CV] max_depth=6, min_impurity_decrease=0.05, min_samples_leaf=2, min_samples_split=8 \n",
      "[CV]  max_depth=6, min_impurity_decrease=0.05, min_samples_leaf=2, min_samples_split=8, score=(train=0.743, test=0.725), total=   0.0s\n",
      "[CV] max_depth=6, min_impurity_decrease=0.05, min_samples_leaf=2, min_samples_split=5 \n",
      "[CV]  max_depth=6, min_impurity_decrease=0.05, min_samples_leaf=2, min_samples_split=5, score=(train=0.333, test=0.333), total=   0.0s\n",
      "[CV] max_depth=6, min_impurity_decrease=0.05, min_samples_leaf=2, min_samples_split=5 \n",
      "[CV]  max_depth=6, min_impurity_decrease=0.05, min_samples_leaf=2, min_samples_split=5, score=(train=0.720, test=0.712), total=   0.0s\n",
      "[CV] max_depth=6, min_impurity_decrease=0.05, min_samples_leaf=2, min_samples_split=5 \n",
      "[CV]  max_depth=6, min_impurity_decrease=0.05, min_samples_leaf=2, min_samples_split=5, score=(train=0.743, test=0.725), total=   0.0s\n",
      "[CV] max_depth=6, min_impurity_decrease=0.05, min_samples_leaf=3, min_samples_split=10 \n",
      "[CV]  max_depth=6, min_impurity_decrease=0.05, min_samples_leaf=3, min_samples_split=10, score=(train=0.333, test=0.333), total=   0.0s\n",
      "[CV] max_depth=6, min_impurity_decrease=0.05, min_samples_leaf=3, min_samples_split=10 \n",
      "[CV]  max_depth=6, min_impurity_decrease=0.05, min_samples_leaf=3, min_samples_split=10, score=(train=0.720, test=0.712), total=   0.0s\n",
      "[CV] max_depth=6, min_impurity_decrease=0.05, min_samples_leaf=3, min_samples_split=10 \n",
      "[CV]  max_depth=6, min_impurity_decrease=0.05, min_samples_leaf=3, min_samples_split=10, score=(train=0.743, test=0.725), total=   0.0s\n",
      "[CV] max_depth=6, min_impurity_decrease=0.05, min_samples_leaf=3, min_samples_split=8 \n",
      "[CV]  max_depth=6, min_impurity_decrease=0.05, min_samples_leaf=3, min_samples_split=8, score=(train=0.333, test=0.333), total=   0.0s\n",
      "[CV] max_depth=6, min_impurity_decrease=0.05, min_samples_leaf=3, min_samples_split=8 \n",
      "[CV]  max_depth=6, min_impurity_decrease=0.05, min_samples_leaf=3, min_samples_split=8, score=(train=0.720, test=0.712), total=   0.0s\n",
      "[CV] max_depth=6, min_impurity_decrease=0.05, min_samples_leaf=3, min_samples_split=8 \n",
      "[CV]  max_depth=6, min_impurity_decrease=0.05, min_samples_leaf=3, min_samples_split=8, score=(train=0.743, test=0.725), total=   0.0s\n",
      "[CV] max_depth=6, min_impurity_decrease=0.05, min_samples_leaf=3, min_samples_split=5 \n",
      "[CV]  max_depth=6, min_impurity_decrease=0.05, min_samples_leaf=3, min_samples_split=5, score=(train=0.333, test=0.333), total=   0.0s\n",
      "[CV] max_depth=6, min_impurity_decrease=0.05, min_samples_leaf=3, min_samples_split=5 \n",
      "[CV]  max_depth=6, min_impurity_decrease=0.05, min_samples_leaf=3, min_samples_split=5, score=(train=0.720, test=0.712), total=   0.0s\n",
      "[CV] max_depth=6, min_impurity_decrease=0.05, min_samples_leaf=3, min_samples_split=5 \n",
      "[CV]  max_depth=6, min_impurity_decrease=0.05, min_samples_leaf=3, min_samples_split=5, score=(train=0.743, test=0.725), total=   0.0s\n",
      "[CV] max_depth=6, min_impurity_decrease=0.05, min_samples_leaf=5, min_samples_split=10 \n"
     ]
    },
    {
     "name": "stdout",
     "output_type": "stream",
     "text": [
      "[CV]  max_depth=6, min_impurity_decrease=0.05, min_samples_leaf=5, min_samples_split=10, score=(train=0.333, test=0.333), total=   0.0s\n",
      "[CV] max_depth=6, min_impurity_decrease=0.05, min_samples_leaf=5, min_samples_split=10 \n",
      "[CV]  max_depth=6, min_impurity_decrease=0.05, min_samples_leaf=5, min_samples_split=10, score=(train=0.720, test=0.712), total=   0.0s\n",
      "[CV] max_depth=6, min_impurity_decrease=0.05, min_samples_leaf=5, min_samples_split=10 \n",
      "[CV]  max_depth=6, min_impurity_decrease=0.05, min_samples_leaf=5, min_samples_split=10, score=(train=0.743, test=0.725), total=   0.0s\n",
      "[CV] max_depth=6, min_impurity_decrease=0.05, min_samples_leaf=5, min_samples_split=8 \n",
      "[CV]  max_depth=6, min_impurity_decrease=0.05, min_samples_leaf=5, min_samples_split=8, score=(train=0.333, test=0.333), total=   0.0s\n",
      "[CV] max_depth=6, min_impurity_decrease=0.05, min_samples_leaf=5, min_samples_split=8 \n",
      "[CV]  max_depth=6, min_impurity_decrease=0.05, min_samples_leaf=5, min_samples_split=8, score=(train=0.720, test=0.712), total=   0.0s\n",
      "[CV] max_depth=6, min_impurity_decrease=0.05, min_samples_leaf=5, min_samples_split=8 \n",
      "[CV]  max_depth=6, min_impurity_decrease=0.05, min_samples_leaf=5, min_samples_split=8, score=(train=0.743, test=0.725), total=   0.0s\n",
      "[CV] max_depth=6, min_impurity_decrease=0.05, min_samples_leaf=5, min_samples_split=5 \n",
      "[CV]  max_depth=6, min_impurity_decrease=0.05, min_samples_leaf=5, min_samples_split=5, score=(train=0.333, test=0.333), total=   0.0s\n",
      "[CV] max_depth=6, min_impurity_decrease=0.05, min_samples_leaf=5, min_samples_split=5 \n",
      "[CV]  max_depth=6, min_impurity_decrease=0.05, min_samples_leaf=5, min_samples_split=5, score=(train=0.720, test=0.712), total=   0.0s\n",
      "[CV] max_depth=6, min_impurity_decrease=0.05, min_samples_leaf=5, min_samples_split=5 \n",
      "[CV]  max_depth=6, min_impurity_decrease=0.05, min_samples_leaf=5, min_samples_split=5, score=(train=0.743, test=0.725), total=   0.0s\n"
     ]
    },
    {
     "name": "stderr",
     "output_type": "stream",
     "text": [
      "[Parallel(n_jobs=1)]: Done 216 out of 216 | elapsed:    7.8s finished\n"
     ]
    },
    {
     "data": {
      "text/plain": [
       "GridSearchCV(cv=3, error_score=nan,\n",
       "             estimator=DecisionTreeClassifier(ccp_alpha=0.0,\n",
       "                                              class_weight='balanced',\n",
       "                                              criterion='gini', max_depth=None,\n",
       "                                              max_features=None,\n",
       "                                              max_leaf_nodes=None,\n",
       "                                              min_impurity_decrease=0.0,\n",
       "                                              min_impurity_split=None,\n",
       "                                              min_samples_leaf=1,\n",
       "                                              min_samples_split=2,\n",
       "                                              min_weight_fraction_leaf=0.0,\n",
       "                                              presort='deprecated',\n",
       "                                              random_state=None,\n",
       "                                              splitter='best'),\n",
       "             iid='deprecated', n_jobs=None,\n",
       "             param_grid={'max_depth': [3, 4, 5, 6],\n",
       "                         'min_impurity_decrease': [0.01, 0.05],\n",
       "                         'min_samples_leaf': [2, 3, 5],\n",
       "                         'min_samples_split': [10, 8, 5]},\n",
       "             pre_dispatch='2*n_jobs', refit=True, return_train_score=True,\n",
       "             scoring='f1_macro', verbose=10)"
      ]
     },
     "execution_count": 64,
     "metadata": {},
     "output_type": "execute_result"
    }
   ],
   "source": [
    "# DecisionTree Classifier\n",
    "from sklearn.tree import DecisionTreeClassifier\n",
    "CART = DecisionTreeClassifier(class_weight='balanced')\n",
    "# build grid search parameters\n",
    "#parms = {'max_depth':[2,3,4,5,6,7,8,9,10]} \n",
    "#parms = {'min_samples_split': [3,5,8,10,13,15,20]}\n",
    "#parms = {'min_samples_leaf': [3,5,8,10,13,15,20]}\n",
    "#parms = {'min_impurity_decrease':[0.01,0.05,0.08,0.10,0.12]}\n",
    "parms = {'min_samples_split': [10,8,5], \n",
    "         'min_samples_leaf': [2,3,5],\n",
    "         'max_depth':[3,4,5,6],\n",
    "         'min_impurity_decrease':[0.01,0.05]} \n",
    "# grid search\n",
    "from sklearn.model_selection import GridSearchCV\n",
    "CV = GridSearchCV(estimator = CART,param_grid = parms, \n",
    "                  scoring = 'f1_macro',\n",
    "                  cv=3,refit=True,\n",
    "                  return_train_score = True,verbose=10)\n",
    "CV.fit(X_train_final,Y_resampled)"
   ]
  },
  {
   "cell_type": "code",
   "execution_count": 41,
   "metadata": {},
   "outputs": [],
   "source": [
    "CVResults = pd.DataFrame(CV.cv_results_)\n",
    "CVResults.to_excel('CVResutls_CART6.xlsx')"
   ]
  },
  {
   "cell_type": "code",
   "execution_count": 36,
   "metadata": {},
   "outputs": [
    {
     "name": "stdout",
     "output_type": "stream",
     "text": [
      "DecisionTreeClassifier(ccp_alpha=0.0, class_weight='balanced', criterion='gini',\n",
      "                       max_depth=5, max_features=None, max_leaf_nodes=None,\n",
      "                       min_impurity_decrease=0.01, min_impurity_split=None,\n",
      "                       min_samples_leaf=2, min_samples_split=10,\n",
      "                       min_weight_fraction_leaf=0.0, presort='deprecated',\n",
      "                       random_state=None, splitter='best')\n"
     ]
    }
   ],
   "source": [
    "print(CV.best_estimator_)"
   ]
  },
  {
   "cell_type": "code",
   "execution_count": 48,
   "metadata": {},
   "outputs": [
    {
     "data": {
      "text/plain": [
       "array(['AccountLength', 'VMailMessage', 'DayMins', 'EveMins', 'NightMins',\n",
       "       'IntlMins', 'CustServCalls', 'IntlPlan', 'VMailPlan', 'DayCalls',\n",
       "       'DayCharge', 'EveCalls', 'EveCharge', 'NightCalls', 'NightCharge',\n",
       "       'IntlCalls', 'IntlCharge'], dtype=object)"
      ]
     },
     "execution_count": 48,
     "metadata": {},
     "output_type": "execute_result"
    }
   ],
   "source": [
    "X_train_cont.columns.values"
   ]
  },
  {
   "cell_type": "code",
   "execution_count": 14,
   "metadata": {},
   "outputs": [
    {
     "name": "stdout",
     "output_type": "stream",
     "text": [
      "[0.         0.         0.         0.03994177 0.         0.\n",
      " 0.34929375 0.23496181 0.07057962 0.         0.30522306 0.\n",
      " 0.         0.         0.         0.         0.         0.\n",
      " 0.         0.         0.         0.         0.         0.\n",
      " 0.         0.         0.         0.         0.         0.\n",
      " 0.         0.         0.         0.         0.         0.\n",
      " 0.         0.         0.         0.         0.         0.\n",
      " 0.         0.         0.         0.         0.         0.\n",
      " 0.         0.         0.         0.         0.         0.\n",
      " 0.         0.         0.         0.         0.         0.\n",
      " 0.         0.         0.         0.         0.         0.\n",
      " 0.         0.         0.         0.         0.        ]\n"
     ]
    }
   ],
   "source": [
    "print(CV.best_estimator_.feature_importances_)"
   ]
  },
  {
   "cell_type": "code",
   "execution_count": 65,
   "metadata": {},
   "outputs": [
    {
     "name": "stdout",
     "output_type": "stream",
     "text": [
      "0.7720565496061161\n",
      "{'max_depth': 6, 'min_impurity_decrease': 0.01, 'min_samples_leaf': 2, 'min_samples_split': 8}\n"
     ]
    }
   ],
   "source": [
    "print(CV.best_score_)\n",
    "print(CV.best_params_)"
   ]
  },
  {
   "cell_type": "code",
   "execution_count": 17,
   "metadata": {},
   "outputs": [
    {
     "name": "stderr",
     "output_type": "stream",
     "text": [
      "C:\\Users\\Vishnu Murthy Chakka\\Anaconda3\\lib\\site-packages\\sklearn\\externals\\six.py:31: FutureWarning: The module is deprecated in version 0.21 and will be removed in version 0.23 since we've dropped support for Python 2.7. Please rely on the official version of six (https://pypi.org/project/six/).\n",
      "  \"(https://pypi.org/project/six/).\", FutureWarning)\n"
     ]
    },
    {
     "data": {
      "image/png": "[encoded data removed]",
      "text/plain": [
       "<IPython.core.display.Image object>"
      ]
     },
     "execution_count": 17,
     "metadata": {},
     "output_type": "execute_result"
    }
   ],
   "source": [
    "from sklearn.externals.six import StringIO  \n",
    "from IPython.display import Image  \n",
    "from sklearn.tree import export_graphviz\n",
    "import pydotplus\n",
    "dot_data = StringIO()\n",
    "export_graphviz(CV.best_estimator_, out_file=dot_data,  \n",
    "                filled=True, rounded=True,\n",
    "                special_characters=True)\n",
    "graph = pydotplus.graph_from_dot_data(dot_data.getvalue())  \n",
    "Image(graph.create_png())"
   ]
  },
  {
   "cell_type": "code",
   "execution_count": 20,
   "metadata": {},
   "outputs": [
    {
     "data": {
      "text/plain": [
       "[Text(186.0, 195.696, 'node #0\\nDayCharge <= 38.26\\ngini = 0.5\\nsamples = 2666\\nvalue = [1333.0, 1333.0]\\nclass = y[0]'),\n",
       " Text(111.60000000000001, 152.208, 'node #1\\nCustServCalls <= 3.5\\ngini = 0.469\\nsamples = 2138\\nvalue = [1136.366, 681.686]\\nclass = y[0]'),\n",
       " Text(74.4, 108.72, 'node #2\\nIntlPlan <= 0.5\\ngini = 0.373\\nsamples = 1972\\nvalue = [1094.692, 361.091]\\nclass = y[0]'),\n",
       " Text(37.2, 65.232, 'node #3\\ngini = 0.242\\nsamples = 1808\\nvalue = [1031.886, 168.734]\\nclass = y[0]'),\n",
       " Text(111.60000000000001, 65.232, 'node #4\\ngini = 0.371\\nsamples = 164\\nvalue = [62.805, 192.357]\\nclass = y[1]'),\n",
       " Text(148.8, 108.72, 'node #5\\ngini = 0.204\\nsamples = 166\\nvalue = [41.675, 320.595]\\nclass = y[1]'),\n",
       " Text(260.40000000000003, 152.208, 'node #6\\nVMailPlan <= 0.5\\ngini = 0.356\\nsamples = 528\\nvalue = [196.634, 651.314]\\nclass = y[1]'),\n",
       " Text(223.20000000000002, 108.72, 'node #7\\nEveMins <= 201.05\\ngini = 0.281\\nsamples = 397\\nvalue = [125.611, 617.567]\\nclass = y[1]'),\n",
       " Text(186.0, 65.232, 'node #8\\nDayCharge <= 44.805\\ngini = 0.462\\nsamples = 196\\nvalue = [88.045, 155.235]\\nclass = y[1]'),\n",
       " Text(148.8, 21.744, 'node #9\\ngini = 0.479\\nsamples = 136\\nvalue = [71.61, 47.246]\\nclass = y[0]'),\n",
       " Text(223.20000000000002, 21.744, 'node #10\\ngini = 0.229\\nsamples = 60\\nvalue = [16.435, 107.99]\\nclass = y[1]'),\n",
       " Text(260.40000000000003, 65.232, 'node #11\\ngini = 0.139\\nsamples = 201\\nvalue = [37.566, 462.332]\\nclass = y[1]'),\n",
       " Text(297.6, 108.72, 'node #12\\ngini = 0.437\\nsamples = 131\\nvalue = [71.023, 33.747]\\nclass = y[0]')]"
      ]
     },
     "execution_count": 20,
     "metadata": {},
     "output_type": "execute_result"
    },
    {
     "data": {
      "image/png": "[encoded data removed]",
      "text/plain": [
       "<Figure size 432x288 with 1 Axes>"
      ]
     },
     "metadata": {
      "needs_background": "light"
     },
     "output_type": "display_data"
    }
   ],
   "source": [
    "from sklearn import tree\n",
    "tree.plot_tree(decision_tree = CV.best_estimator_,\n",
    "               feature_names = X_train_final.columns.values,\n",
    "               class_names = True,\n",
    "               filled=True,\n",
    "               node_ids=True,\n",
    "               proportion=False)"
   ]
  },
  {
   "cell_type": "code",
   "execution_count": 66,
   "metadata": {},
   "outputs": [
    {
     "name": "stdout",
     "output_type": "stream",
     "text": [
      "[1 0 0 0 1]\n"
     ]
    }
   ],
   "source": [
    "# Preidct on Test data and check the confusion matrix\n",
    "predictTest = CV.predict(X_test_final)\n",
    "print(predictTest[0:5])"
   ]
  },
  {
   "cell_type": "code",
   "execution_count": 67,
   "metadata": {},
   "outputs": [
    {
     "name": "stdout",
     "output_type": "stream",
     "text": [
      "[[0.49356223 0.50643777]\n",
      " [0.74692144 0.25307856]\n",
      " [0.74692144 0.25307856]\n",
      " [0.74692144 0.25307856]\n",
      " [0.10337553 0.89662447]]\n"
     ]
    }
   ],
   "source": [
    "predictProb = CV.predict_proba(X_test_final)\n",
    "print(predictProb[0:5])\n",
    "PProb = pd.DataFrame(predictProb)"
   ]
  },
  {
   "cell_type": "code",
   "execution_count": 68,
   "metadata": {},
   "outputs": [
    {
     "name": "stdout",
     "output_type": "stream",
     "text": [
      "[[466 113]\n",
      " [ 15  73]]\n",
      "              precision    recall  f1-score   support\n",
      "\n",
      "           0       0.97      0.80      0.88       579\n",
      "           1       0.39      0.83      0.53        88\n",
      "\n",
      "    accuracy                           0.81       667\n",
      "   macro avg       0.68      0.82      0.71       667\n",
      "weighted avg       0.89      0.81      0.83       667\n",
      "\n"
     ]
    }
   ],
   "source": [
    "# generate confusion matrix\n",
    "# import confusion matrix and classification report\n",
    "from sklearn.metrics import confusion_matrix, classification_report\n",
    "print (confusion_matrix(Y_test,predictTest))\n",
    "print (classification_report(Y_test,predictTest))"
   ]
  },
  {
   "cell_type": "code",
   "execution_count": 42,
   "metadata": {},
   "outputs": [
    {
     "name": "stdout",
     "output_type": "stream",
     "text": [
      "0.8407913330193124\n"
     ]
    }
   ],
   "source": [
    "# generate ROC curve\n",
    "from sklearn.metrics import roc_auc_score, roc_curve\n",
    "# AUC for class 1\n",
    "AUC = roc_auc_score(Y_test, PProb[1])\n",
    "print(AUC)\n",
    "# define variables for True Positive Rate and Falst Positive Rate & threshold value\n",
    "#TPR = dict()\n",
    "#FPR = dict()\n",
    "#THR = dict()\n",
    "FPR, TPR, THR = roc_curve(Y_test, PProb[1])"
   ]
  },
  {
   "cell_type": "code",
   "execution_count": 26,
   "metadata": {},
   "outputs": [
    {
     "name": "stdout",
     "output_type": "stream",
     "text": [
      "[1.92485293 0.92485293 0.88496247 0.86791191 0.75386112 0.3975045\n",
      " 0.32210482 0.14053914]\n",
      "[0.         0.28409091 0.55681818 0.60227273 0.79545455 0.82954545\n",
      " 0.84090909 1.        ]\n",
      "[0.         0.03108808 0.07081174 0.08290155 0.13816926 0.19689119\n",
      " 0.2642487  1.        ]\n"
     ]
    }
   ],
   "source": [
    "print(THR)\n",
    "print(TPR)\n",
    "print(FPR)"
   ]
  },
  {
   "cell_type": "code",
   "execution_count": 43,
   "metadata": {},
   "outputs": [
    {
     "data": {
      "image/png": "[encoded data removed]",
      "text/plain": [
       "<Figure size 432x288 with 1 Axes>"
      ]
     },
     "metadata": {
      "needs_background": "light"
     },
     "output_type": "display_data"
    }
   ],
   "source": [
    "# plot the FPR as X-axis and TPR as Y-axis\n",
    "plt.plot(FPR, TPR)\n",
    "# plot the minimum line \n",
    "plt.plot([0,1], [0,1], color='navy', linestyle = '--')\n",
    "# set X and Y limits\n",
    "plt.xlim([0.0, 1.05])\n",
    "plt.ylim([0.0, 1.05])\n",
    "# mention lables for X and Y\n",
    "plt.xlabel('False Positive Rate')\n",
    "plt.ylabel('True Positive Rate')\n",
    "plt.title('ROC')\n",
    "plt.show()"
   ]
  },
  {
   "cell_type": "code",
   "execution_count": 28,
   "metadata": {},
   "outputs": [],
   "source": [
    "ROC = pd.DataFrame({'THR': THR,\n",
    "                    'TPR': TPR,\n",
    "                    'FPR': FPR})\n",
    "ROC.to_excel(\"ROC_DT.xlsx\",index=False)"
   ]
  },
  {
   "cell_type": "code",
   "execution_count": 43,
   "metadata": {},
   "outputs": [
    {
     "name": "stdout",
     "output_type": "stream",
     "text": [
      "667\n",
      "Counter({0: 440, 1: 227})\n"
     ]
    }
   ],
   "source": [
    "predict1 = list()\n",
    "for prob in PProb[1]:\n",
    "    if prob >= 0.15:\n",
    "        predict1.append(1)\n",
    "    else:\n",
    "        predict1.append(0)\n",
    "print(len(predict1))\n",
    "print(Counter(predict1))"
   ]
  },
  {
   "cell_type": "code",
   "execution_count": 44,
   "metadata": {},
   "outputs": [
    {
     "name": "stdout",
     "output_type": "stream",
     "text": [
      "[[426 153]\n",
      " [ 14  74]]\n",
      "              precision    recall  f1-score   support\n",
      "\n",
      "           0       0.97      0.74      0.84       579\n",
      "           1       0.33      0.84      0.47        88\n",
      "\n",
      "    accuracy                           0.75       667\n",
      "   macro avg       0.65      0.79      0.65       667\n",
      "weighted avg       0.88      0.75      0.79       667\n",
      "\n"
     ]
    }
   ],
   "source": [
    "print (confusion_matrix(Y_test,predict1))\n",
    "print (classification_report(Y_test,predict1))"
   ]
  },
  {
   "cell_type": "code",
   "execution_count": null,
   "metadata": {},
   "outputs": [],
   "source": []
  }
 ],
 "metadata": {
  "kernelspec": {
   "display_name": "Python 3",
   "language": "python",
   "name": "python3"
  },
  "language_info": {
   "codemirror_mode": {
    "name": "ipython",
    "version": 3
   },
   "file_extension": ".py",
   "mimetype": "text/x-python",
   "name": "python",
   "nbconvert_exporter": "python",
   "pygments_lexer": "ipython3",
   "version": "3.7.3"
  }
 },
 "nbformat": 4,
 "nbformat_minor": 2
}
