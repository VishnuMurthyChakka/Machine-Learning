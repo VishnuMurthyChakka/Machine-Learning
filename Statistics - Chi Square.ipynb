{
 "cells": [
  {
   "cell_type": "code",
   "execution_count": 1,
   "metadata": {},
   "outputs": [
    {
     "name": "stdout",
     "output_type": "stream",
     "text": [
      "C:\\Digital Nest\\Logistic Regression\n"
     ]
    }
   ],
   "source": [
    "import numpy as np\n",
    "import pandas as pd\n",
    "import os\n",
    "os.chdir(\"C:/Digital Nest/Logistic Regression\")\n",
    "print (os.getcwd())"
   ]
  },
  {
   "cell_type": "code",
   "execution_count": 2,
   "metadata": {},
   "outputs": [
    {
     "name": "stdout",
     "output_type": "stream",
     "text": [
      "Wall time: 574 ms\n"
     ]
    }
   ],
   "source": [
    "# read churn file\n",
    "churn = pd.read_csv('churn.csv')"
   ]
  },
  {
   "cell_type": "code",
   "execution_count": 3,
   "metadata": {},
   "outputs": [
    {
     "name": "stdout",
     "output_type": "stream",
     "text": [
      "Index(['AccountLength', 'VMailMessage', 'DayMins', 'EveMins', 'NightMins',\n",
      "       'IntlMins', 'CustServCalls', 'Churn', 'IntlPlan', 'VMailPlan',\n",
      "       'DayCalls', 'DayCharge', 'EveCalls', 'EveCharge', 'NightCalls',\n",
      "       'NightCharge', 'IntlCalls', 'IntlCharge', 'State', 'AreaCode', 'Phone'],\n",
      "      dtype='object')\n"
     ]
    }
   ],
   "source": [
    "print(churn.columns)"
   ]
  },
  {
   "cell_type": "code",
   "execution_count": 4,
   "metadata": {},
   "outputs": [
    {
     "name": "stdout",
     "output_type": "stream",
     "text": [
      "Churn        0    1\n",
      "IntlPlan           \n",
      "0         2664  346\n",
      "1          186  137\n"
     ]
    }
   ],
   "source": [
    "# create frequence table for Internation plan and churn\n",
    "table = pd.crosstab(churn.IntlPlan,churn.Churn)\n",
    "print(table)"
   ]
  },
  {
   "cell_type": "code",
   "execution_count": 6,
   "metadata": {},
   "outputs": [
    {
     "name": "stdout",
     "output_type": "stream",
     "text": [
      "dof:  1\n",
      "chisquare:  222.5657566499376\n",
      "p:  2.4931077033159556e-50\n"
     ]
    }
   ],
   "source": [
    "from scipy.stats import chi2_contingency\n",
    "from scipy.stats import chi2\n",
    "chisquare, p, dof, expected = chi2_contingency(table)\n",
    "print('dof: ', dof)\n",
    "print('chisquare: ', chisquare)\n",
    "print('p: ' , p)"
   ]
  },
  {
   "cell_type": "code",
   "execution_count": 46,
   "metadata": {},
   "outputs": [
    {
     "name": "stdout",
     "output_type": "stream",
     "text": [
      "3.8414588206941236\n"
     ]
    }
   ],
   "source": [
    "# calculate critical value at 95%\n",
    "prob = 0.95\n",
    "critical = chi2.ppf(prob, dof)\n",
    "print(critical)"
   ]
  },
  {
   "cell_type": "markdown",
   "metadata": {},
   "source": [
    "# As calculated chi square is less than critical value, we accept null hypothesis i.e. both international plan and churn are independent "
   ]
  }
 ],
 "metadata": {
  "kernelspec": {
   "display_name": "Python 3",
   "language": "python",
   "name": "python3"
  },
  "language_info": {
   "codemirror_mode": {
    "name": "ipython",
    "version": 3
   },
   "file_extension": ".py",
   "mimetype": "text/x-python",
   "name": "python",
   "nbconvert_exporter": "python",
   "pygments_lexer": "ipython3",
   "version": "3.7.3"
  }
 },
 "nbformat": 4,
 "nbformat_minor": 2
}
