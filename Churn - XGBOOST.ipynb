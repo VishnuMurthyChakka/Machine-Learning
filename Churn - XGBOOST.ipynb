{
 "cells": [
  {
   "cell_type": "code",
   "execution_count": 1,
   "metadata": {
    "collapsed": true
   },
   "outputs": [],
   "source": [
    "# best parameters are identified using grid search with cross validation"
   ]
  },
  {
   "cell_type": "code",
   "execution_count": 1,
   "metadata": {},
   "outputs": [
    {
     "name": "stdout",
     "output_type": "stream",
     "text": [
      "C:\\Digital Nest\\Decision Trees\n"
     ]
    }
   ],
   "source": [
    "import numpy as np\n",
    "import pandas as pd\n",
    "import matplotlib.pyplot as plt\n",
    "from collections import Counter\n",
    "import os\n",
    "os.chdir(\"C:\\Digital Nest\\Decision Trees\")\n",
    "print (os.getcwd())"
   ]
  },
  {
   "cell_type": "code",
   "execution_count": 2,
   "metadata": {},
   "outputs": [
    {
     "data": {
      "text/html": [
       "<div>\n",
       "<style scoped>\n",
       "    .dataframe tbody tr th:only-of-type {\n",
       "        vertical-align: middle;\n",
       "    }\n",
       "\n",
       "    .dataframe tbody tr th {\n",
       "        vertical-align: top;\n",
       "    }\n",
       "\n",
       "    .dataframe thead th {\n",
       "        text-align: right;\n",
       "    }\n",
       "</style>\n",
       "<table border=\"1\" class=\"dataframe\">\n",
       "  <thead>\n",
       "    <tr style=\"text-align: right;\">\n",
       "      <th></th>\n",
       "      <th>AccountLength</th>\n",
       "      <th>VMailMessage</th>\n",
       "      <th>DayMins</th>\n",
       "      <th>EveMins</th>\n",
       "      <th>NightMins</th>\n",
       "      <th>IntlMins</th>\n",
       "      <th>CustServCalls</th>\n",
       "      <th>Churn</th>\n",
       "      <th>IntlPlan</th>\n",
       "      <th>VMailPlan</th>\n",
       "      <th>...</th>\n",
       "      <th>DayCharge</th>\n",
       "      <th>EveCalls</th>\n",
       "      <th>EveCharge</th>\n",
       "      <th>NightCalls</th>\n",
       "      <th>NightCharge</th>\n",
       "      <th>IntlCalls</th>\n",
       "      <th>IntlCharge</th>\n",
       "      <th>State</th>\n",
       "      <th>AreaCode</th>\n",
       "      <th>Phone</th>\n",
       "    </tr>\n",
       "  </thead>\n",
       "  <tbody>\n",
       "    <tr>\n",
       "      <th>0</th>\n",
       "      <td>128</td>\n",
       "      <td>25</td>\n",
       "      <td>265.1</td>\n",
       "      <td>197.4</td>\n",
       "      <td>244.7</td>\n",
       "      <td>10.0</td>\n",
       "      <td>1</td>\n",
       "      <td>0</td>\n",
       "      <td>0</td>\n",
       "      <td>1</td>\n",
       "      <td>...</td>\n",
       "      <td>45.07</td>\n",
       "      <td>99</td>\n",
       "      <td>16.78</td>\n",
       "      <td>91</td>\n",
       "      <td>11.01</td>\n",
       "      <td>3</td>\n",
       "      <td>2.70</td>\n",
       "      <td>KS</td>\n",
       "      <td>415</td>\n",
       "      <td>382-4657</td>\n",
       "    </tr>\n",
       "    <tr>\n",
       "      <th>1</th>\n",
       "      <td>107</td>\n",
       "      <td>26</td>\n",
       "      <td>161.6</td>\n",
       "      <td>195.5</td>\n",
       "      <td>254.4</td>\n",
       "      <td>13.7</td>\n",
       "      <td>1</td>\n",
       "      <td>0</td>\n",
       "      <td>0</td>\n",
       "      <td>1</td>\n",
       "      <td>...</td>\n",
       "      <td>27.47</td>\n",
       "      <td>103</td>\n",
       "      <td>16.62</td>\n",
       "      <td>103</td>\n",
       "      <td>11.45</td>\n",
       "      <td>3</td>\n",
       "      <td>3.70</td>\n",
       "      <td>OH</td>\n",
       "      <td>415</td>\n",
       "      <td>371-7191</td>\n",
       "    </tr>\n",
       "    <tr>\n",
       "      <th>2</th>\n",
       "      <td>137</td>\n",
       "      <td>0</td>\n",
       "      <td>243.4</td>\n",
       "      <td>121.2</td>\n",
       "      <td>162.6</td>\n",
       "      <td>12.2</td>\n",
       "      <td>0</td>\n",
       "      <td>0</td>\n",
       "      <td>0</td>\n",
       "      <td>0</td>\n",
       "      <td>...</td>\n",
       "      <td>41.38</td>\n",
       "      <td>110</td>\n",
       "      <td>10.30</td>\n",
       "      <td>104</td>\n",
       "      <td>7.32</td>\n",
       "      <td>5</td>\n",
       "      <td>3.29</td>\n",
       "      <td>NJ</td>\n",
       "      <td>415</td>\n",
       "      <td>358-1921</td>\n",
       "    </tr>\n",
       "    <tr>\n",
       "      <th>3</th>\n",
       "      <td>84</td>\n",
       "      <td>0</td>\n",
       "      <td>299.4</td>\n",
       "      <td>61.9</td>\n",
       "      <td>196.9</td>\n",
       "      <td>6.6</td>\n",
       "      <td>2</td>\n",
       "      <td>0</td>\n",
       "      <td>1</td>\n",
       "      <td>0</td>\n",
       "      <td>...</td>\n",
       "      <td>50.90</td>\n",
       "      <td>88</td>\n",
       "      <td>5.26</td>\n",
       "      <td>89</td>\n",
       "      <td>8.86</td>\n",
       "      <td>7</td>\n",
       "      <td>1.78</td>\n",
       "      <td>OH</td>\n",
       "      <td>408</td>\n",
       "      <td>375-9999</td>\n",
       "    </tr>\n",
       "    <tr>\n",
       "      <th>4</th>\n",
       "      <td>75</td>\n",
       "      <td>0</td>\n",
       "      <td>166.7</td>\n",
       "      <td>148.3</td>\n",
       "      <td>186.9</td>\n",
       "      <td>10.1</td>\n",
       "      <td>3</td>\n",
       "      <td>0</td>\n",
       "      <td>1</td>\n",
       "      <td>0</td>\n",
       "      <td>...</td>\n",
       "      <td>28.34</td>\n",
       "      <td>122</td>\n",
       "      <td>12.61</td>\n",
       "      <td>121</td>\n",
       "      <td>8.41</td>\n",
       "      <td>3</td>\n",
       "      <td>2.73</td>\n",
       "      <td>OK</td>\n",
       "      <td>415</td>\n",
       "      <td>330-6626</td>\n",
       "    </tr>\n",
       "  </tbody>\n",
       "</table>\n",
       "<p>5 rows × 21 columns</p>\n",
       "</div>"
      ],
      "text/plain": [
       "   AccountLength  VMailMessage  DayMins  EveMins  NightMins  IntlMins  \\\n",
       "0            128            25    265.1    197.4      244.7      10.0   \n",
       "1            107            26    161.6    195.5      254.4      13.7   \n",
       "2            137             0    243.4    121.2      162.6      12.2   \n",
       "3             84             0    299.4     61.9      196.9       6.6   \n",
       "4             75             0    166.7    148.3      186.9      10.1   \n",
       "\n",
       "   CustServCalls  Churn  IntlPlan  VMailPlan  ...  DayCharge  EveCalls  \\\n",
       "0              1      0         0          1  ...      45.07        99   \n",
       "1              1      0         0          1  ...      27.47       103   \n",
       "2              0      0         0          0  ...      41.38       110   \n",
       "3              2      0         1          0  ...      50.90        88   \n",
       "4              3      0         1          0  ...      28.34       122   \n",
       "\n",
       "   EveCharge  NightCalls  NightCharge  IntlCalls  IntlCharge  State AreaCode  \\\n",
       "0      16.78          91        11.01          3        2.70     KS      415   \n",
       "1      16.62         103        11.45          3        3.70     OH      415   \n",
       "2      10.30         104         7.32          5        3.29     NJ      415   \n",
       "3       5.26          89         8.86          7        1.78     OH      408   \n",
       "4      12.61         121         8.41          3        2.73     OK      415   \n",
       "\n",
       "      Phone  \n",
       "0  382-4657  \n",
       "1  371-7191  \n",
       "2  358-1921  \n",
       "3  375-9999  \n",
       "4  330-6626  \n",
       "\n",
       "[5 rows x 21 columns]"
      ]
     },
     "execution_count": 2,
     "metadata": {},
     "output_type": "execute_result"
    }
   ],
   "source": [
    "churn = pd.read_csv('Churn.csv')\n",
    "churn.head()"
   ]
  },
  {
   "cell_type": "code",
   "execution_count": 3,
   "metadata": {},
   "outputs": [
    {
     "data": {
      "text/html": [
       "<div>\n",
       "<style scoped>\n",
       "    .dataframe tbody tr th:only-of-type {\n",
       "        vertical-align: middle;\n",
       "    }\n",
       "\n",
       "    .dataframe tbody tr th {\n",
       "        vertical-align: top;\n",
       "    }\n",
       "\n",
       "    .dataframe thead th {\n",
       "        text-align: right;\n",
       "    }\n",
       "</style>\n",
       "<table border=\"1\" class=\"dataframe\">\n",
       "  <thead>\n",
       "    <tr style=\"text-align: right;\">\n",
       "      <th></th>\n",
       "      <th>AccountLength</th>\n",
       "      <th>VMailMessage</th>\n",
       "      <th>DayMins</th>\n",
       "      <th>EveMins</th>\n",
       "      <th>NightMins</th>\n",
       "      <th>IntlMins</th>\n",
       "      <th>CustServCalls</th>\n",
       "      <th>Churn</th>\n",
       "      <th>IntlPlan</th>\n",
       "      <th>VMailPlan</th>\n",
       "      <th>DayCalls</th>\n",
       "      <th>DayCharge</th>\n",
       "      <th>EveCalls</th>\n",
       "      <th>EveCharge</th>\n",
       "      <th>NightCalls</th>\n",
       "      <th>NightCharge</th>\n",
       "      <th>IntlCalls</th>\n",
       "      <th>IntlCharge</th>\n",
       "      <th>AreaCode</th>\n",
       "    </tr>\n",
       "  </thead>\n",
       "  <tbody>\n",
       "    <tr>\n",
       "      <th>count</th>\n",
       "      <td>3333.000000</td>\n",
       "      <td>3333.000000</td>\n",
       "      <td>3333.000000</td>\n",
       "      <td>3333.000000</td>\n",
       "      <td>3333.000000</td>\n",
       "      <td>3333.000000</td>\n",
       "      <td>3333.000000</td>\n",
       "      <td>3333.000000</td>\n",
       "      <td>3333.000000</td>\n",
       "      <td>3333.000000</td>\n",
       "      <td>3333.000000</td>\n",
       "      <td>3333.000000</td>\n",
       "      <td>3333.000000</td>\n",
       "      <td>3333.000000</td>\n",
       "      <td>3333.000000</td>\n",
       "      <td>3333.000000</td>\n",
       "      <td>3333.000000</td>\n",
       "      <td>3333.000000</td>\n",
       "      <td>3333.000000</td>\n",
       "    </tr>\n",
       "    <tr>\n",
       "      <th>mean</th>\n",
       "      <td>101.064806</td>\n",
       "      <td>8.099010</td>\n",
       "      <td>179.775098</td>\n",
       "      <td>200.980348</td>\n",
       "      <td>200.872037</td>\n",
       "      <td>10.237294</td>\n",
       "      <td>1.562856</td>\n",
       "      <td>0.144914</td>\n",
       "      <td>0.096910</td>\n",
       "      <td>0.276628</td>\n",
       "      <td>100.435644</td>\n",
       "      <td>30.562307</td>\n",
       "      <td>100.114311</td>\n",
       "      <td>17.083540</td>\n",
       "      <td>100.107711</td>\n",
       "      <td>9.039325</td>\n",
       "      <td>4.479448</td>\n",
       "      <td>2.764581</td>\n",
       "      <td>437.182418</td>\n",
       "    </tr>\n",
       "    <tr>\n",
       "      <th>std</th>\n",
       "      <td>39.822106</td>\n",
       "      <td>13.688365</td>\n",
       "      <td>54.467389</td>\n",
       "      <td>50.713844</td>\n",
       "      <td>50.573847</td>\n",
       "      <td>2.791840</td>\n",
       "      <td>1.315491</td>\n",
       "      <td>0.352067</td>\n",
       "      <td>0.295879</td>\n",
       "      <td>0.447398</td>\n",
       "      <td>20.069084</td>\n",
       "      <td>9.259435</td>\n",
       "      <td>19.922625</td>\n",
       "      <td>4.310668</td>\n",
       "      <td>19.568609</td>\n",
       "      <td>2.275873</td>\n",
       "      <td>2.461214</td>\n",
       "      <td>0.753773</td>\n",
       "      <td>42.371290</td>\n",
       "    </tr>\n",
       "    <tr>\n",
       "      <th>min</th>\n",
       "      <td>1.000000</td>\n",
       "      <td>0.000000</td>\n",
       "      <td>0.000000</td>\n",
       "      <td>0.000000</td>\n",
       "      <td>23.200000</td>\n",
       "      <td>0.000000</td>\n",
       "      <td>0.000000</td>\n",
       "      <td>0.000000</td>\n",
       "      <td>0.000000</td>\n",
       "      <td>0.000000</td>\n",
       "      <td>0.000000</td>\n",
       "      <td>0.000000</td>\n",
       "      <td>0.000000</td>\n",
       "      <td>0.000000</td>\n",
       "      <td>33.000000</td>\n",
       "      <td>1.040000</td>\n",
       "      <td>0.000000</td>\n",
       "      <td>0.000000</td>\n",
       "      <td>408.000000</td>\n",
       "    </tr>\n",
       "    <tr>\n",
       "      <th>25%</th>\n",
       "      <td>74.000000</td>\n",
       "      <td>0.000000</td>\n",
       "      <td>143.700000</td>\n",
       "      <td>166.600000</td>\n",
       "      <td>167.000000</td>\n",
       "      <td>8.500000</td>\n",
       "      <td>1.000000</td>\n",
       "      <td>0.000000</td>\n",
       "      <td>0.000000</td>\n",
       "      <td>0.000000</td>\n",
       "      <td>87.000000</td>\n",
       "      <td>24.430000</td>\n",
       "      <td>87.000000</td>\n",
       "      <td>14.160000</td>\n",
       "      <td>87.000000</td>\n",
       "      <td>7.520000</td>\n",
       "      <td>3.000000</td>\n",
       "      <td>2.300000</td>\n",
       "      <td>408.000000</td>\n",
       "    </tr>\n",
       "    <tr>\n",
       "      <th>50%</th>\n",
       "      <td>101.000000</td>\n",
       "      <td>0.000000</td>\n",
       "      <td>179.400000</td>\n",
       "      <td>201.400000</td>\n",
       "      <td>201.200000</td>\n",
       "      <td>10.300000</td>\n",
       "      <td>1.000000</td>\n",
       "      <td>0.000000</td>\n",
       "      <td>0.000000</td>\n",
       "      <td>0.000000</td>\n",
       "      <td>101.000000</td>\n",
       "      <td>30.500000</td>\n",
       "      <td>100.000000</td>\n",
       "      <td>17.120000</td>\n",
       "      <td>100.000000</td>\n",
       "      <td>9.050000</td>\n",
       "      <td>4.000000</td>\n",
       "      <td>2.780000</td>\n",
       "      <td>415.000000</td>\n",
       "    </tr>\n",
       "    <tr>\n",
       "      <th>75%</th>\n",
       "      <td>127.000000</td>\n",
       "      <td>20.000000</td>\n",
       "      <td>216.400000</td>\n",
       "      <td>235.300000</td>\n",
       "      <td>235.300000</td>\n",
       "      <td>12.100000</td>\n",
       "      <td>2.000000</td>\n",
       "      <td>0.000000</td>\n",
       "      <td>0.000000</td>\n",
       "      <td>1.000000</td>\n",
       "      <td>114.000000</td>\n",
       "      <td>36.790000</td>\n",
       "      <td>114.000000</td>\n",
       "      <td>20.000000</td>\n",
       "      <td>113.000000</td>\n",
       "      <td>10.590000</td>\n",
       "      <td>6.000000</td>\n",
       "      <td>3.270000</td>\n",
       "      <td>510.000000</td>\n",
       "    </tr>\n",
       "    <tr>\n",
       "      <th>max</th>\n",
       "      <td>243.000000</td>\n",
       "      <td>51.000000</td>\n",
       "      <td>350.800000</td>\n",
       "      <td>363.700000</td>\n",
       "      <td>395.000000</td>\n",
       "      <td>20.000000</td>\n",
       "      <td>9.000000</td>\n",
       "      <td>1.000000</td>\n",
       "      <td>1.000000</td>\n",
       "      <td>1.000000</td>\n",
       "      <td>165.000000</td>\n",
       "      <td>59.640000</td>\n",
       "      <td>170.000000</td>\n",
       "      <td>30.910000</td>\n",
       "      <td>175.000000</td>\n",
       "      <td>17.770000</td>\n",
       "      <td>20.000000</td>\n",
       "      <td>5.400000</td>\n",
       "      <td>510.000000</td>\n",
       "    </tr>\n",
       "  </tbody>\n",
       "</table>\n",
       "</div>"
      ],
      "text/plain": [
       "       AccountLength  VMailMessage      DayMins      EveMins    NightMins  \\\n",
       "count    3333.000000   3333.000000  3333.000000  3333.000000  3333.000000   \n",
       "mean      101.064806      8.099010   179.775098   200.980348   200.872037   \n",
       "std        39.822106     13.688365    54.467389    50.713844    50.573847   \n",
       "min         1.000000      0.000000     0.000000     0.000000    23.200000   \n",
       "25%        74.000000      0.000000   143.700000   166.600000   167.000000   \n",
       "50%       101.000000      0.000000   179.400000   201.400000   201.200000   \n",
       "75%       127.000000     20.000000   216.400000   235.300000   235.300000   \n",
       "max       243.000000     51.000000   350.800000   363.700000   395.000000   \n",
       "\n",
       "          IntlMins  CustServCalls        Churn     IntlPlan    VMailPlan  \\\n",
       "count  3333.000000    3333.000000  3333.000000  3333.000000  3333.000000   \n",
       "mean     10.237294       1.562856     0.144914     0.096910     0.276628   \n",
       "std       2.791840       1.315491     0.352067     0.295879     0.447398   \n",
       "min       0.000000       0.000000     0.000000     0.000000     0.000000   \n",
       "25%       8.500000       1.000000     0.000000     0.000000     0.000000   \n",
       "50%      10.300000       1.000000     0.000000     0.000000     0.000000   \n",
       "75%      12.100000       2.000000     0.000000     0.000000     1.000000   \n",
       "max      20.000000       9.000000     1.000000     1.000000     1.000000   \n",
       "\n",
       "          DayCalls    DayCharge     EveCalls    EveCharge   NightCalls  \\\n",
       "count  3333.000000  3333.000000  3333.000000  3333.000000  3333.000000   \n",
       "mean    100.435644    30.562307   100.114311    17.083540   100.107711   \n",
       "std      20.069084     9.259435    19.922625     4.310668    19.568609   \n",
       "min       0.000000     0.000000     0.000000     0.000000    33.000000   \n",
       "25%      87.000000    24.430000    87.000000    14.160000    87.000000   \n",
       "50%     101.000000    30.500000   100.000000    17.120000   100.000000   \n",
       "75%     114.000000    36.790000   114.000000    20.000000   113.000000   \n",
       "max     165.000000    59.640000   170.000000    30.910000   175.000000   \n",
       "\n",
       "       NightCharge    IntlCalls   IntlCharge     AreaCode  \n",
       "count  3333.000000  3333.000000  3333.000000  3333.000000  \n",
       "mean      9.039325     4.479448     2.764581   437.182418  \n",
       "std       2.275873     2.461214     0.753773    42.371290  \n",
       "min       1.040000     0.000000     0.000000   408.000000  \n",
       "25%       7.520000     3.000000     2.300000   408.000000  \n",
       "50%       9.050000     4.000000     2.780000   415.000000  \n",
       "75%      10.590000     6.000000     3.270000   510.000000  \n",
       "max      17.770000    20.000000     5.400000   510.000000  "
      ]
     },
     "execution_count": 3,
     "metadata": {},
     "output_type": "execute_result"
    }
   ],
   "source": [
    "churn.describe()"
   ]
  },
  {
   "cell_type": "code",
   "execution_count": 4,
   "metadata": {},
   "outputs": [
    {
     "data": {
      "text/plain": [
       "(array([ 34,  60,  74, 134, 174, 273, 298, 386, 355, 384, 335, 280, 190,\n",
       "        145,  85,  64,  31,  14,  10,   5,   2], dtype=int64),\n",
       " array([  1.        ,  12.52380952,  24.04761905,  35.57142857,\n",
       "         47.0952381 ,  58.61904762,  70.14285714,  81.66666667,\n",
       "         93.19047619, 104.71428571, 116.23809524, 127.76190476,\n",
       "        139.28571429, 150.80952381, 162.33333333, 173.85714286,\n",
       "        185.38095238, 196.9047619 , 208.42857143, 219.95238095,\n",
       "        231.47619048, 243.        ]))"
      ]
     },
     "execution_count": 4,
     "metadata": {},
     "output_type": "execute_result"
    }
   ],
   "source": [
    "np.histogram(churn.AccountLength,bins=21)"
   ]
  },
  {
   "cell_type": "code",
   "execution_count": 34,
   "metadata": {},
   "outputs": [
    {
     "data": {
      "text/plain": [
       "(array([0, 1], dtype=int64), array([2850,  483], dtype=int64))"
      ]
     },
     "execution_count": 34,
     "metadata": {},
     "output_type": "execute_result"
    }
   ],
   "source": [
    "# target class ratio\n",
    "np.unique(churn.Churn,return_counts=True)"
   ]
  },
  {
   "cell_type": "code",
   "execution_count": 35,
   "metadata": {},
   "outputs": [
    {
     "data": {
      "text/plain": [
       "0.8550855085508551"
      ]
     },
     "execution_count": 35,
     "metadata": {},
     "output_type": "execute_result"
    }
   ],
   "source": [
    "2850/(2850+483)"
   ]
  },
  {
   "cell_type": "code",
   "execution_count": 36,
   "metadata": {},
   "outputs": [
    {
     "data": {
      "text/plain": [
       "array(['AccountLength', 'VMailMessage', 'DayMins', 'EveMins', 'NightMins',\n",
       "       'IntlMins', 'CustServCalls', 'Churn', 'IntlPlan', 'VMailPlan',\n",
       "       'DayCalls', 'DayCharge', 'EveCalls', 'EveCharge', 'NightCalls',\n",
       "       'NightCharge', 'IntlCalls', 'IntlCharge', 'State', 'AreaCode',\n",
       "       'Phone'], dtype=object)"
      ]
     },
     "execution_count": 36,
     "metadata": {},
     "output_type": "execute_result"
    }
   ],
   "source": [
    "churn.columns.values"
   ]
  },
  {
   "cell_type": "code",
   "execution_count": 37,
   "metadata": {},
   "outputs": [
    {
     "data": {
      "text/plain": [
       "False"
      ]
     },
     "execution_count": 37,
     "metadata": {},
     "output_type": "execute_result"
    }
   ],
   "source": [
    "# check if any NA values\n",
    "churn.isnull().values.any()"
   ]
  },
  {
   "cell_type": "code",
   "execution_count": 38,
   "metadata": {},
   "outputs": [
    {
     "name": "stdout",
     "output_type": "stream",
     "text": [
      "(3333, 1)\n",
      "(3333, 19)\n"
     ]
    }
   ],
   "source": [
    "# split the file into Independent and dependent variables\n",
    "churnY = pd.DataFrame(churn,columns=[\"Churn\"])\n",
    "print(churnY.shape)\n",
    "churnX = churn.copy()\n",
    "churnX.drop(columns=['Churn','Phone'],axis=1,inplace=True)\n",
    "print(churnX.shape)"
   ]
  },
  {
   "cell_type": "code",
   "execution_count": 39,
   "metadata": {},
   "outputs": [
    {
     "name": "stdout",
     "output_type": "stream",
     "text": [
      "(2666, 19)\n",
      "(2666, 1)\n",
      "(667, 19)\n",
      "(667, 1)\n"
     ]
    }
   ],
   "source": [
    "# splitting the data into Train and Test\n",
    "from sklearn.model_selection import train_test_split\n",
    "X_train, X_test, Y_train, Y_test = train_test_split(churnX, churnY, \n",
    "                                                    test_size = 0.20, \n",
    "                                                    random_state = 0)\n",
    "print(X_train.shape)\n",
    "print(Y_train.shape)\n",
    "print(X_test.shape)\n",
    "print(Y_test.shape)"
   ]
  },
  {
   "cell_type": "code",
   "execution_count": 40,
   "metadata": {},
   "outputs": [
    {
     "data": {
      "text/plain": [
       "Counter({415: 1655, 408: 838, 510: 840})"
      ]
     },
     "execution_count": 40,
     "metadata": {},
     "output_type": "execute_result"
    }
   ],
   "source": [
    "Counter(churn.AreaCode)"
   ]
  },
  {
   "cell_type": "code",
   "execution_count": 42,
   "metadata": {},
   "outputs": [
    {
     "name": "stdout",
     "output_type": "stream",
     "text": [
      "Counter({'WV': 106, 'MN': 84, 'NY': 83, 'AL': 80, 'OH': 78, 'WI': 78, 'OR': 78, 'VA': 77, 'WY': 77, 'CT': 74, 'ID': 73, 'VT': 73, 'MI': 73, 'TX': 72, 'UT': 72, 'IN': 71, 'KS': 70, 'MD': 70, 'NJ': 68, 'MT': 68, 'NC': 68, 'CO': 66, 'WA': 66, 'NV': 66, 'MA': 65, 'RI': 65, 'MS': 65, 'AZ': 64, 'MO': 63, 'FL': 63, 'NM': 62, 'ME': 62, 'ND': 62, 'OK': 61, 'NE': 61, 'DE': 61, 'SC': 60, 'SD': 60, 'KY': 59, 'IL': 58, 'NH': 56, 'AR': 55, 'GA': 54, 'DC': 54, 'HI': 53, 'TN': 53, 'AK': 52, 'LA': 51, 'PA': 45, 'IA': 44, 'CA': 34, 'return_counts': 1})\n"
     ]
    }
   ],
   "source": [
    "print(Counter(churn.State,return_counts=True))"
   ]
  },
  {
   "cell_type": "code",
   "execution_count": 43,
   "metadata": {},
   "outputs": [
    {
     "name": "stdout",
     "output_type": "stream",
     "text": [
      "Counter({49: 82, 23: 69, 50: 66, 34: 63, 1: 63, 37: 62, 16: 62, 35: 62, 48: 62, 45: 62, 26: 60, 22: 59, 6: 59, 13: 58, 44: 55, 19: 54, 27: 54, 47: 54, 29: 53, 46: 52, 8: 52, 36: 52, 31: 51, 32: 51, 25: 51, 15: 51, 24: 51, 9: 51, 33: 50, 20: 50, 39: 50, 43: 50, 21: 50, 5: 49, 40: 49, 41: 48, 28: 48, 3: 48, 30: 48, 10: 47, 2: 47, 14: 46, 17: 45, 11: 45, 0: 45, 42: 44, 7: 43, 18: 41, 12: 38, 38: 37, 4: 27})\n"
     ]
    },
    {
     "name": "stderr",
     "output_type": "stream",
     "text": [
      "C:\\Users\\Vishnu Murthy Chakka\\Anaconda3\\lib\\site-packages\\pandas\\core\\generic.py:5292: SettingWithCopyWarning: \n",
      "A value is trying to be set on a copy of a slice from a DataFrame.\n",
      "Try using .loc[row_indexer,col_indexer] = value instead\n",
      "\n",
      "See the caveats in the documentation: https://pandas.pydata.org/pandas-docs/stable/user_guide/indexing.html#returning-a-view-versus-a-copy\n",
      "  self[name] = value\n"
     ]
    }
   ],
   "source": [
    "# lable encoding for strings - state\n",
    "from sklearn.preprocessing import LabelEncoder\n",
    "le = LabelEncoder()\n",
    "X_train.State = le.fit_transform(X_train.State)\n",
    "X_test.State = le.transform(X_test.State)\n",
    "print(Counter(X_train.State))"
   ]
  },
  {
   "cell_type": "code",
   "execution_count": 44,
   "metadata": {},
   "outputs": [
    {
     "data": {
      "text/plain": [
       "(2666, 19)"
      ]
     },
     "execution_count": 44,
     "metadata": {},
     "output_type": "execute_result"
    }
   ],
   "source": [
    "X_train.shape"
   ]
  },
  {
   "cell_type": "code",
   "execution_count": 45,
   "metadata": {},
   "outputs": [
    {
     "name": "stdout",
     "output_type": "stream",
     "text": [
      "(2666, 2)\n",
      "(2666, 17)\n"
     ]
    }
   ],
   "source": [
    "# split the Train data into Categorical and non-categorical\n",
    "catcols = ['State', 'AreaCode']\n",
    "X_train_cat = pd.DataFrame(X_train, columns=catcols)\n",
    "print(X_train_cat.shape)\n",
    "X_train_cont = X_train.copy()\n",
    "X_train_cont.drop(columns=['State', 'AreaCode'],axis=1,inplace=True)\n",
    "print(X_train_cont.shape)\n",
    "X_train_cont.reset_index(drop=True,inplace=True)"
   ]
  },
  {
   "cell_type": "code",
   "execution_count": 46,
   "metadata": {},
   "outputs": [
    {
     "name": "stdout",
     "output_type": "stream",
     "text": [
      "(667, 2)\n",
      "Index(['AccountLength', 'VMailMessage', 'DayMins', 'EveMins', 'NightMins',\n",
      "       'IntlMins', 'CustServCalls', 'IntlPlan', 'VMailPlan', 'DayCalls',\n",
      "       'DayCharge', 'EveCalls', 'EveCharge', 'NightCalls', 'NightCharge',\n",
      "       'IntlCalls', 'IntlCharge', 'State', 'AreaCode'],\n",
      "      dtype='object')\n",
      "(667, 17)\n"
     ]
    }
   ],
   "source": [
    "# split the Test data into Categorical and non-categorical\n",
    "X_test_cat = pd.DataFrame(X_test, columns=catcols)\n",
    "print(X_test_cat.shape)\n",
    "X_test_cont = X_test.copy()\n",
    "print(X_test_cont.columns)\n",
    "X_test_cont.drop(columns=['State', 'AreaCode'],axis=1,inplace=True)\n",
    "print(X_test_cont.shape)\n",
    "X_test_cont.reset_index(drop=True,inplace=True)"
   ]
  },
  {
   "cell_type": "code",
   "execution_count": 47,
   "metadata": {},
   "outputs": [
    {
     "name": "stdout",
     "output_type": "stream",
     "text": [
      "(2666, 54)\n",
      "(667, 54)\n"
     ]
    }
   ],
   "source": [
    "# apply one hot encoding on state and area\n",
    "from sklearn.preprocessing import OneHotEncoder\n",
    "OHE = OneHotEncoder(sparse = False, handle_unknown = 'error')\n",
    "X_train_cat2 = OHE.fit_transform(X_train_cat)\n",
    "print(X_train_cat2.shape)\n",
    "X_test_cat2 = OHE.transform(X_test_cat)\n",
    "print(X_test_cat2.shape)"
   ]
  },
  {
   "cell_type": "code",
   "execution_count": 48,
   "metadata": {},
   "outputs": [
    {
     "name": "stdout",
     "output_type": "stream",
     "text": [
      "(2666, 54)\n",
      "(667, 54)\n"
     ]
    }
   ],
   "source": [
    "# convert back array into data frame\n",
    "X_train_cat3 = pd.DataFrame(X_train_cat2)\n",
    "print(X_train_cat3.shape)\n",
    "X_test_cat3 = pd.DataFrame(X_test_cat2)\n",
    "print(X_test_cat3.shape)"
   ]
  },
  {
   "cell_type": "code",
   "execution_count": 49,
   "metadata": {},
   "outputs": [
    {
     "name": "stdout",
     "output_type": "stream",
     "text": [
      "(2666, 71)\n",
      "(667, 71)\n"
     ]
    }
   ],
   "source": [
    "# merge continuous and onehotencoded categorical data\n",
    "X_train_final = pd.concat([X_train_cont,X_train_cat3],axis=1,join='outer',ignore_index=False)\n",
    "X_test_final = pd.concat([X_test_cont,X_test_cat3],axis=1,join='outer',ignore_index=False)\n",
    "print(X_train_final.shape)\n",
    "print(X_test_final.shape)"
   ]
  },
  {
   "cell_type": "code",
   "execution_count": 50,
   "metadata": {},
   "outputs": [],
   "source": [
    "#include mingw64 path for xgboost\n",
    "import os\n",
    "mingw_path = 'C:/Program Files/mingw-w64/x86_64-8.1.0-posix-seh-rt_v6-rev0/mingw64/bin'\n",
    "os.environ['PATH'] = mingw_path + ';' + os.environ['PATH']\n",
    "#print(os.environ['PATH'])"
   ]
  },
  {
   "cell_type": "code",
   "execution_count": 51,
   "metadata": {},
   "outputs": [
    {
     "name": "stdout",
     "output_type": "stream",
     "text": [
      "Fitting 3 folds for each of 81 candidates, totalling 243 fits\n",
      "[CV] learning_rate=0.1, max_depth=2, n_estimators=5, subsample=0.1 ...\n",
      "[CV]  learning_rate=0.1, max_depth=2, n_estimators=5, subsample=0.1, score=(train=0.626, test=0.645), total=   0.0s\n",
      "[CV] learning_rate=0.1, max_depth=2, n_estimators=5, subsample=0.1 ...\n",
      "[CV]  learning_rate=0.1, max_depth=2, n_estimators=5, subsample=0.1, score=(train=0.621, test=0.631), total=   0.0s\n",
      "[CV] learning_rate=0.1, max_depth=2, n_estimators=5, subsample=0.1 ...\n",
      "[CV]  learning_rate=0.1, max_depth=2, n_estimators=5, subsample=0.1, score=(train=0.646, test=0.613), total=   0.0s\n",
      "[CV] learning_rate=0.1, max_depth=2, n_estimators=5, subsample=0.5 ...\n",
      "[CV]  learning_rate=0.1, max_depth=2, n_estimators=5, subsample=0.5, score=(train=0.753, test=0.753), total=   0.0s\n",
      "[CV] learning_rate=0.1, max_depth=2, n_estimators=5, subsample=0.5 ...\n"
     ]
    },
    {
     "name": "stderr",
     "output_type": "stream",
     "text": [
      "[Parallel(n_jobs=1)]: Using backend SequentialBackend with 1 concurrent workers.\n",
      "[Parallel(n_jobs=1)]: Done   1 out of   1 | elapsed:    0.0s remaining:    0.0s\n",
      "[Parallel(n_jobs=1)]: Done   2 out of   2 | elapsed:    0.0s remaining:    0.0s\n",
      "[Parallel(n_jobs=1)]: Done   3 out of   3 | elapsed:    0.0s remaining:    0.0s\n",
      "[Parallel(n_jobs=1)]: Done   4 out of   4 | elapsed:    0.1s remaining:    0.0s\n"
     ]
    },
    {
     "name": "stdout",
     "output_type": "stream",
     "text": [
      "[CV]  learning_rate=0.1, max_depth=2, n_estimators=5, subsample=0.5, score=(train=0.740, test=0.708), total=   0.1s\n",
      "[CV] learning_rate=0.1, max_depth=2, n_estimators=5, subsample=0.5 ...\n",
      "[CV]  learning_rate=0.1, max_depth=2, n_estimators=5, subsample=0.5, score=(train=0.686, test=0.657), total=   0.0s\n",
      "[CV] learning_rate=0.1, max_depth=2, n_estimators=5, subsample=0.9 ...\n",
      "[CV]  learning_rate=0.1, max_depth=2, n_estimators=5, subsample=0.9, score=(train=0.749, test=0.762), total=   0.0s\n",
      "[CV] learning_rate=0.1, max_depth=2, n_estimators=5, subsample=0.9 ...\n",
      "[CV]  learning_rate=0.1, max_depth=2, n_estimators=5, subsample=0.9, score=(train=0.755, test=0.742), total=   0.0s\n",
      "[CV] learning_rate=0.1, max_depth=2, n_estimators=5, subsample=0.9 ...\n",
      "[CV]  learning_rate=0.1, max_depth=2, n_estimators=5, subsample=0.9, score=(train=0.694, test=0.682), total=   0.0s\n"
     ]
    },
    {
     "name": "stderr",
     "output_type": "stream",
     "text": [
      "[Parallel(n_jobs=1)]: Done   5 out of   5 | elapsed:    0.1s remaining:    0.0s\n",
      "[Parallel(n_jobs=1)]: Done   6 out of   6 | elapsed:    0.2s remaining:    0.0s\n",
      "[Parallel(n_jobs=1)]: Done   7 out of   7 | elapsed:    0.2s remaining:    0.0s\n",
      "[Parallel(n_jobs=1)]: Done   8 out of   8 | elapsed:    0.3s remaining:    0.0s\n",
      "[Parallel(n_jobs=1)]: Done   9 out of   9 | elapsed:    0.3s remaining:    0.0s\n"
     ]
    },
    {
     "name": "stdout",
     "output_type": "stream",
     "text": [
      "[CV] learning_rate=0.1, max_depth=2, n_estimators=8, subsample=0.1 ...\n",
      "[CV]  learning_rate=0.1, max_depth=2, n_estimators=8, subsample=0.1, score=(train=0.665, test=0.677), total=   0.0s\n",
      "[CV] learning_rate=0.1, max_depth=2, n_estimators=8, subsample=0.1 ...\n",
      "[CV]  learning_rate=0.1, max_depth=2, n_estimators=8, subsample=0.1, score=(train=0.601, test=0.589), total=   0.0s\n",
      "[CV] learning_rate=0.1, max_depth=2, n_estimators=8, subsample=0.1 ...\n",
      "[CV]  learning_rate=0.1, max_depth=2, n_estimators=8, subsample=0.1, score=(train=0.702, test=0.657), total=   0.0s\n",
      "[CV] learning_rate=0.1, max_depth=2, n_estimators=8, subsample=0.5 ...\n",
      "[CV]  learning_rate=0.1, max_depth=2, n_estimators=8, subsample=0.5, score=(train=0.760, test=0.753), total=   0.1s\n",
      "[CV] learning_rate=0.1, max_depth=2, n_estimators=8, subsample=0.5 ...\n",
      "[CV]  learning_rate=0.1, max_depth=2, n_estimators=8, subsample=0.5, score=(train=0.702, test=0.659), total=   0.1s\n",
      "[CV] learning_rate=0.1, max_depth=2, n_estimators=8, subsample=0.5 ...\n",
      "[CV]  learning_rate=0.1, max_depth=2, n_estimators=8, subsample=0.5, score=(train=0.697, test=0.654), total=   0.1s\n",
      "[CV] learning_rate=0.1, max_depth=2, n_estimators=8, subsample=0.9 ...\n",
      "[CV]  learning_rate=0.1, max_depth=2, n_estimators=8, subsample=0.9, score=(train=0.741, test=0.740), total=   0.1s\n",
      "[CV] learning_rate=0.1, max_depth=2, n_estimators=8, subsample=0.9 ...\n",
      "[CV]  learning_rate=0.1, max_depth=2, n_estimators=8, subsample=0.9, score=(train=0.697, test=0.662), total=   0.0s\n",
      "[CV] learning_rate=0.1, max_depth=2, n_estimators=8, subsample=0.9 ...\n",
      "[CV]  learning_rate=0.1, max_depth=2, n_estimators=8, subsample=0.9, score=(train=0.701, test=0.674), total=   0.1s\n",
      "[CV] learning_rate=0.1, max_depth=2, n_estimators=12, subsample=0.1 ..\n",
      "[CV]  learning_rate=0.1, max_depth=2, n_estimators=12, subsample=0.1, score=(train=0.667, test=0.696), total=   0.1s\n",
      "[CV] learning_rate=0.1, max_depth=2, n_estimators=12, subsample=0.1 ..\n",
      "[CV]  learning_rate=0.1, max_depth=2, n_estimators=12, subsample=0.1, score=(train=0.651, test=0.609), total=   0.0s\n",
      "[CV] learning_rate=0.1, max_depth=2, n_estimators=12, subsample=0.1 ..\n",
      "[CV]  learning_rate=0.1, max_depth=2, n_estimators=12, subsample=0.1, score=(train=0.721, test=0.673), total=   0.0s\n",
      "[CV] learning_rate=0.1, max_depth=2, n_estimators=12, subsample=0.5 ..\n",
      "[CV]  learning_rate=0.1, max_depth=2, n_estimators=12, subsample=0.5, score=(train=0.765, test=0.756), total=   0.1s\n",
      "[CV] learning_rate=0.1, max_depth=2, n_estimators=12, subsample=0.5 ..\n",
      "[CV]  learning_rate=0.1, max_depth=2, n_estimators=12, subsample=0.5, score=(train=0.766, test=0.719), total=   0.1s\n",
      "[CV] learning_rate=0.1, max_depth=2, n_estimators=12, subsample=0.5 ..\n",
      "[CV]  learning_rate=0.1, max_depth=2, n_estimators=12, subsample=0.5, score=(train=0.726, test=0.693), total=   0.1s\n",
      "[CV] learning_rate=0.1, max_depth=2, n_estimators=12, subsample=0.9 ..\n",
      "[CV]  learning_rate=0.1, max_depth=2, n_estimators=12, subsample=0.9, score=(train=0.766, test=0.771), total=   0.1s\n",
      "[CV] learning_rate=0.1, max_depth=2, n_estimators=12, subsample=0.9 ..\n",
      "[CV]  learning_rate=0.1, max_depth=2, n_estimators=12, subsample=0.9, score=(train=0.706, test=0.650), total=   0.1s\n",
      "[CV] learning_rate=0.1, max_depth=2, n_estimators=12, subsample=0.9 ..\n",
      "[CV]  learning_rate=0.1, max_depth=2, n_estimators=12, subsample=0.9, score=(train=0.665, test=0.628), total=   0.1s\n",
      "[CV] learning_rate=0.1, max_depth=3, n_estimators=5, subsample=0.1 ...\n",
      "[CV]  learning_rate=0.1, max_depth=3, n_estimators=5, subsample=0.1, score=(train=0.736, test=0.730), total=   0.0s\n",
      "[CV] learning_rate=0.1, max_depth=3, n_estimators=5, subsample=0.1 ...\n",
      "[CV]  learning_rate=0.1, max_depth=3, n_estimators=5, subsample=0.1, score=(train=0.748, test=0.706), total=   0.1s\n",
      "[CV] learning_rate=0.1, max_depth=3, n_estimators=5, subsample=0.1 ...\n",
      "[CV]  learning_rate=0.1, max_depth=3, n_estimators=5, subsample=0.1, score=(train=0.738, test=0.713), total=   0.0s\n",
      "[CV] learning_rate=0.1, max_depth=3, n_estimators=5, subsample=0.5 ...\n",
      "[CV]  learning_rate=0.1, max_depth=3, n_estimators=5, subsample=0.5, score=(train=0.785, test=0.752), total=   0.1s\n",
      "[CV] learning_rate=0.1, max_depth=3, n_estimators=5, subsample=0.5 ...\n",
      "[CV]  learning_rate=0.1, max_depth=3, n_estimators=5, subsample=0.5, score=(train=0.793, test=0.740), total=   0.1s\n",
      "[CV] learning_rate=0.1, max_depth=3, n_estimators=5, subsample=0.5 ...\n",
      "[CV]  learning_rate=0.1, max_depth=3, n_estimators=5, subsample=0.5, score=(train=0.821, test=0.793), total=   0.1s\n",
      "[CV] learning_rate=0.1, max_depth=3, n_estimators=5, subsample=0.9 ...\n",
      "[CV]  learning_rate=0.1, max_depth=3, n_estimators=5, subsample=0.9, score=(train=0.797, test=0.770), total=   0.1s\n",
      "[CV] learning_rate=0.1, max_depth=3, n_estimators=5, subsample=0.9 ...\n",
      "[CV]  learning_rate=0.1, max_depth=3, n_estimators=5, subsample=0.9, score=(train=0.796, test=0.748), total=   0.1s\n",
      "[CV] learning_rate=0.1, max_depth=3, n_estimators=5, subsample=0.9 ...\n",
      "[CV]  learning_rate=0.1, max_depth=3, n_estimators=5, subsample=0.9, score=(train=0.820, test=0.780), total=   0.0s\n",
      "[CV] learning_rate=0.1, max_depth=3, n_estimators=8, subsample=0.1 ...\n",
      "[CV]  learning_rate=0.1, max_depth=3, n_estimators=8, subsample=0.1, score=(train=0.759, test=0.748), total=   0.0s\n",
      "[CV] learning_rate=0.1, max_depth=3, n_estimators=8, subsample=0.1 ...\n",
      "[CV]  learning_rate=0.1, max_depth=3, n_estimators=8, subsample=0.1, score=(train=0.719, test=0.693), total=   0.0s\n",
      "[CV] learning_rate=0.1, max_depth=3, n_estimators=8, subsample=0.1 ...\n",
      "[CV]  learning_rate=0.1, max_depth=3, n_estimators=8, subsample=0.1, score=(train=0.721, test=0.703), total=   0.1s\n",
      "[CV] learning_rate=0.1, max_depth=3, n_estimators=8, subsample=0.5 ...\n",
      "[CV]  learning_rate=0.1, max_depth=3, n_estimators=8, subsample=0.5, score=(train=0.797, test=0.793), total=   0.1s\n",
      "[CV] learning_rate=0.1, max_depth=3, n_estimators=8, subsample=0.5 ...\n",
      "[CV]  learning_rate=0.1, max_depth=3, n_estimators=8, subsample=0.5, score=(train=0.791, test=0.749), total=   0.1s\n",
      "[CV] learning_rate=0.1, max_depth=3, n_estimators=8, subsample=0.5 ...\n",
      "[CV]  learning_rate=0.1, max_depth=3, n_estimators=8, subsample=0.5, score=(train=0.843, test=0.806), total=   0.1s\n",
      "[CV] learning_rate=0.1, max_depth=3, n_estimators=8, subsample=0.9 ...\n",
      "[CV]  learning_rate=0.1, max_depth=3, n_estimators=8, subsample=0.9, score=(train=0.791, test=0.764), total=   0.1s\n",
      "[CV] learning_rate=0.1, max_depth=3, n_estimators=8, subsample=0.9 ...\n",
      "[CV]  learning_rate=0.1, max_depth=3, n_estimators=8, subsample=0.9, score=(train=0.795, test=0.743), total=   0.1s\n",
      "[CV] learning_rate=0.1, max_depth=3, n_estimators=8, subsample=0.9 ...\n",
      "[CV]  learning_rate=0.1, max_depth=3, n_estimators=8, subsample=0.9, score=(train=0.794, test=0.759), total=   0.1s\n",
      "[CV] learning_rate=0.1, max_depth=3, n_estimators=12, subsample=0.1 ..\n",
      "[CV]  learning_rate=0.1, max_depth=3, n_estimators=12, subsample=0.1, score=(train=0.746, test=0.739), total=   0.1s\n",
      "[CV] learning_rate=0.1, max_depth=3, n_estimators=12, subsample=0.1 ..\n",
      "[CV]  learning_rate=0.1, max_depth=3, n_estimators=12, subsample=0.1, score=(train=0.726, test=0.703), total=   0.1s\n",
      "[CV] learning_rate=0.1, max_depth=3, n_estimators=12, subsample=0.1 ..\n",
      "[CV]  learning_rate=0.1, max_depth=3, n_estimators=12, subsample=0.1, score=(train=0.750, test=0.711), total=   0.1s\n",
      "[CV] learning_rate=0.1, max_depth=3, n_estimators=12, subsample=0.5 ..\n",
      "[CV]  learning_rate=0.1, max_depth=3, n_estimators=12, subsample=0.5, score=(train=0.810, test=0.804), total=   0.1s\n",
      "[CV] learning_rate=0.1, max_depth=3, n_estimators=12, subsample=0.5 ..\n",
      "[CV]  learning_rate=0.1, max_depth=3, n_estimators=12, subsample=0.5, score=(train=0.809, test=0.764), total=   0.1s\n",
      "[CV] learning_rate=0.1, max_depth=3, n_estimators=12, subsample=0.5 ..\n",
      "[CV]  learning_rate=0.1, max_depth=3, n_estimators=12, subsample=0.5, score=(train=0.827, test=0.782), total=   0.1s\n",
      "[CV] learning_rate=0.1, max_depth=3, n_estimators=12, subsample=0.9 ..\n",
      "[CV]  learning_rate=0.1, max_depth=3, n_estimators=12, subsample=0.9, score=(train=0.808, test=0.777), total=   0.1s\n",
      "[CV] learning_rate=0.1, max_depth=3, n_estimators=12, subsample=0.9 ..\n",
      "[CV]  learning_rate=0.1, max_depth=3, n_estimators=12, subsample=0.9, score=(train=0.812, test=0.771), total=   0.1s\n",
      "[CV] learning_rate=0.1, max_depth=3, n_estimators=12, subsample=0.9 ..\n",
      "[CV]  learning_rate=0.1, max_depth=3, n_estimators=12, subsample=0.9, score=(train=0.802, test=0.766), total=   0.1s\n",
      "[CV] learning_rate=0.1, max_depth=4, n_estimators=5, subsample=0.1 ...\n",
      "[CV]  learning_rate=0.1, max_depth=4, n_estimators=5, subsample=0.1, score=(train=0.741, test=0.727), total=   0.0s\n",
      "[CV] learning_rate=0.1, max_depth=4, n_estimators=5, subsample=0.1 ...\n"
     ]
    },
    {
     "name": "stdout",
     "output_type": "stream",
     "text": [
      "[CV]  learning_rate=0.1, max_depth=4, n_estimators=5, subsample=0.1, score=(train=0.751, test=0.704), total=   0.1s\n",
      "[CV] learning_rate=0.1, max_depth=4, n_estimators=5, subsample=0.1 ...\n",
      "[CV]  learning_rate=0.1, max_depth=4, n_estimators=5, subsample=0.1, score=(train=0.753, test=0.692), total=   0.0s\n",
      "[CV] learning_rate=0.1, max_depth=4, n_estimators=5, subsample=0.5 ...\n",
      "[CV]  learning_rate=0.1, max_depth=4, n_estimators=5, subsample=0.5, score=(train=0.857, test=0.815), total=   0.1s\n",
      "[CV] learning_rate=0.1, max_depth=4, n_estimators=5, subsample=0.5 ...\n",
      "[CV]  learning_rate=0.1, max_depth=4, n_estimators=5, subsample=0.5, score=(train=0.855, test=0.779), total=   0.1s\n",
      "[CV] learning_rate=0.1, max_depth=4, n_estimators=5, subsample=0.5 ...\n",
      "[CV]  learning_rate=0.1, max_depth=4, n_estimators=5, subsample=0.5, score=(train=0.878, test=0.824), total=   0.1s\n",
      "[CV] learning_rate=0.1, max_depth=4, n_estimators=5, subsample=0.9 ...\n",
      "[CV]  learning_rate=0.1, max_depth=4, n_estimators=5, subsample=0.9, score=(train=0.859, test=0.811), total=   0.1s\n",
      "[CV] learning_rate=0.1, max_depth=4, n_estimators=5, subsample=0.9 ...\n",
      "[CV]  learning_rate=0.1, max_depth=4, n_estimators=5, subsample=0.9, score=(train=0.865, test=0.787), total=   0.1s\n",
      "[CV] learning_rate=0.1, max_depth=4, n_estimators=5, subsample=0.9 ...\n",
      "[CV]  learning_rate=0.1, max_depth=4, n_estimators=5, subsample=0.9, score=(train=0.892, test=0.854), total=   0.1s\n",
      "[CV] learning_rate=0.1, max_depth=4, n_estimators=8, subsample=0.1 ...\n",
      "[CV]  learning_rate=0.1, max_depth=4, n_estimators=8, subsample=0.1, score=(train=0.751, test=0.747), total=   0.1s\n",
      "[CV] learning_rate=0.1, max_depth=4, n_estimators=8, subsample=0.1 ...\n",
      "[CV]  learning_rate=0.1, max_depth=4, n_estimators=8, subsample=0.1, score=(train=0.731, test=0.690), total=   0.1s\n",
      "[CV] learning_rate=0.1, max_depth=4, n_estimators=8, subsample=0.1 ...\n",
      "[CV]  learning_rate=0.1, max_depth=4, n_estimators=8, subsample=0.1, score=(train=0.747, test=0.707), total=   0.1s\n",
      "[CV] learning_rate=0.1, max_depth=4, n_estimators=8, subsample=0.5 ...\n",
      "[CV]  learning_rate=0.1, max_depth=4, n_estimators=8, subsample=0.5, score=(train=0.864, test=0.838), total=   0.1s\n",
      "[CV] learning_rate=0.1, max_depth=4, n_estimators=8, subsample=0.5 ...\n",
      "[CV]  learning_rate=0.1, max_depth=4, n_estimators=8, subsample=0.5, score=(train=0.861, test=0.796), total=   0.1s\n",
      "[CV] learning_rate=0.1, max_depth=4, n_estimators=8, subsample=0.5 ...\n",
      "[CV]  learning_rate=0.1, max_depth=4, n_estimators=8, subsample=0.5, score=(train=0.889, test=0.833), total=   0.1s\n",
      "[CV] learning_rate=0.1, max_depth=4, n_estimators=8, subsample=0.9 ...\n",
      "[CV]  learning_rate=0.1, max_depth=4, n_estimators=8, subsample=0.9, score=(train=0.884, test=0.856), total=   0.1s\n",
      "[CV] learning_rate=0.1, max_depth=4, n_estimators=8, subsample=0.9 ...\n",
      "[CV]  learning_rate=0.1, max_depth=4, n_estimators=8, subsample=0.9, score=(train=0.890, test=0.858), total=   0.1s\n",
      "[CV] learning_rate=0.1, max_depth=4, n_estimators=8, subsample=0.9 ...\n",
      "[CV]  learning_rate=0.1, max_depth=4, n_estimators=8, subsample=0.9, score=(train=0.896, test=0.858), total=   0.1s\n",
      "[CV] learning_rate=0.1, max_depth=4, n_estimators=12, subsample=0.1 ..\n",
      "[CV]  learning_rate=0.1, max_depth=4, n_estimators=12, subsample=0.1, score=(train=0.748, test=0.750), total=   0.1s\n",
      "[CV] learning_rate=0.1, max_depth=4, n_estimators=12, subsample=0.1 ..\n",
      "[CV]  learning_rate=0.1, max_depth=4, n_estimators=12, subsample=0.1, score=(train=0.752, test=0.711), total=   0.1s\n",
      "[CV] learning_rate=0.1, max_depth=4, n_estimators=12, subsample=0.1 ..\n",
      "[CV]  learning_rate=0.1, max_depth=4, n_estimators=12, subsample=0.1, score=(train=0.761, test=0.708), total=   0.1s\n",
      "[CV] learning_rate=0.1, max_depth=4, n_estimators=12, subsample=0.5 ..\n",
      "[CV]  learning_rate=0.1, max_depth=4, n_estimators=12, subsample=0.5, score=(train=0.898, test=0.883), total=   0.2s\n",
      "[CV] learning_rate=0.1, max_depth=4, n_estimators=12, subsample=0.5 ..\n",
      "[CV]  learning_rate=0.1, max_depth=4, n_estimators=12, subsample=0.5, score=(train=0.881, test=0.808), total=   0.1s\n",
      "[CV] learning_rate=0.1, max_depth=4, n_estimators=12, subsample=0.5 ..\n",
      "[CV]  learning_rate=0.1, max_depth=4, n_estimators=12, subsample=0.5, score=(train=0.902, test=0.847), total=   0.1s\n",
      "[CV] learning_rate=0.1, max_depth=4, n_estimators=12, subsample=0.9 ..\n",
      "[CV]  learning_rate=0.1, max_depth=4, n_estimators=12, subsample=0.9, score=(train=0.891, test=0.854), total=   0.1s\n",
      "[CV] learning_rate=0.1, max_depth=4, n_estimators=12, subsample=0.9 ..\n",
      "[CV]  learning_rate=0.1, max_depth=4, n_estimators=12, subsample=0.9, score=(train=0.907, test=0.857), total=   0.2s\n",
      "[CV] learning_rate=0.1, max_depth=4, n_estimators=12, subsample=0.9 ..\n",
      "[CV]  learning_rate=0.1, max_depth=4, n_estimators=12, subsample=0.9, score=(train=0.908, test=0.861), total=   0.1s\n",
      "[CV] learning_rate=0.5, max_depth=2, n_estimators=5, subsample=0.1 ...\n",
      "[CV]  learning_rate=0.5, max_depth=2, n_estimators=5, subsample=0.1, score=(train=0.654, test=0.659), total=   0.0s\n",
      "[CV] learning_rate=0.5, max_depth=2, n_estimators=5, subsample=0.1 ...\n",
      "[CV]  learning_rate=0.5, max_depth=2, n_estimators=5, subsample=0.1, score=(train=0.690, test=0.667), total=   0.0s\n",
      "[CV] learning_rate=0.5, max_depth=2, n_estimators=5, subsample=0.1 ...\n",
      "[CV]  learning_rate=0.5, max_depth=2, n_estimators=5, subsample=0.1, score=(train=0.760, test=0.726), total=   0.0s\n",
      "[CV] learning_rate=0.5, max_depth=2, n_estimators=5, subsample=0.5 ...\n",
      "[CV]  learning_rate=0.5, max_depth=2, n_estimators=5, subsample=0.5, score=(train=0.792, test=0.755), total=   0.0s\n",
      "[CV] learning_rate=0.5, max_depth=2, n_estimators=5, subsample=0.5 ...\n",
      "[CV]  learning_rate=0.5, max_depth=2, n_estimators=5, subsample=0.5, score=(train=0.776, test=0.749), total=   0.0s\n",
      "[CV] learning_rate=0.5, max_depth=2, n_estimators=5, subsample=0.5 ...\n",
      "[CV]  learning_rate=0.5, max_depth=2, n_estimators=5, subsample=0.5, score=(train=0.773, test=0.730), total=   0.1s\n",
      "[CV] learning_rate=0.5, max_depth=2, n_estimators=5, subsample=0.9 ...\n",
      "[CV]  learning_rate=0.5, max_depth=2, n_estimators=5, subsample=0.9, score=(train=0.731, test=0.719), total=   0.0s\n",
      "[CV] learning_rate=0.5, max_depth=2, n_estimators=5, subsample=0.9 ...\n",
      "[CV]  learning_rate=0.5, max_depth=2, n_estimators=5, subsample=0.9, score=(train=0.813, test=0.780), total=   0.0s\n",
      "[CV] learning_rate=0.5, max_depth=2, n_estimators=5, subsample=0.9 ...\n",
      "[CV]  learning_rate=0.5, max_depth=2, n_estimators=5, subsample=0.9, score=(train=0.840, test=0.772), total=   0.0s\n",
      "[CV] learning_rate=0.5, max_depth=2, n_estimators=8, subsample=0.1 ...\n",
      "[CV]  learning_rate=0.5, max_depth=2, n_estimators=8, subsample=0.1, score=(train=0.713, test=0.669), total=   0.0s\n",
      "[CV] learning_rate=0.5, max_depth=2, n_estimators=8, subsample=0.1 ...\n",
      "[CV]  learning_rate=0.5, max_depth=2, n_estimators=8, subsample=0.1, score=(train=0.712, test=0.663), total=   0.0s\n",
      "[CV] learning_rate=0.5, max_depth=2, n_estimators=8, subsample=0.1 ...\n",
      "[CV]  learning_rate=0.5, max_depth=2, n_estimators=8, subsample=0.1, score=(train=0.747, test=0.735), total=   0.0s\n",
      "[CV] learning_rate=0.5, max_depth=2, n_estimators=8, subsample=0.5 ...\n",
      "[CV]  learning_rate=0.5, max_depth=2, n_estimators=8, subsample=0.5, score=(train=0.817, test=0.800), total=   0.1s\n",
      "[CV] learning_rate=0.5, max_depth=2, n_estimators=8, subsample=0.5 ...\n",
      "[CV]  learning_rate=0.5, max_depth=2, n_estimators=8, subsample=0.5, score=(train=0.798, test=0.786), total=   0.1s\n",
      "[CV] learning_rate=0.5, max_depth=2, n_estimators=8, subsample=0.5 ...\n",
      "[CV]  learning_rate=0.5, max_depth=2, n_estimators=8, subsample=0.5, score=(train=0.850, test=0.805), total=   0.1s\n",
      "[CV] learning_rate=0.5, max_depth=2, n_estimators=8, subsample=0.9 ...\n",
      "[CV]  learning_rate=0.5, max_depth=2, n_estimators=8, subsample=0.9, score=(train=0.809, test=0.805), total=   0.1s\n",
      "[CV] learning_rate=0.5, max_depth=2, n_estimators=8, subsample=0.9 ...\n",
      "[CV]  learning_rate=0.5, max_depth=2, n_estimators=8, subsample=0.9, score=(train=0.821, test=0.780), total=   0.1s\n",
      "[CV] learning_rate=0.5, max_depth=2, n_estimators=8, subsample=0.9 ...\n",
      "[CV]  learning_rate=0.5, max_depth=2, n_estimators=8, subsample=0.9, score=(train=0.843, test=0.775), total=   0.1s\n",
      "[CV] learning_rate=0.5, max_depth=2, n_estimators=12, subsample=0.1 ..\n",
      "[CV]  learning_rate=0.5, max_depth=2, n_estimators=12, subsample=0.1, score=(train=0.740, test=0.751), total=   0.1s\n",
      "[CV] learning_rate=0.5, max_depth=2, n_estimators=12, subsample=0.1 ..\n",
      "[CV]  learning_rate=0.5, max_depth=2, n_estimators=12, subsample=0.1, score=(train=0.744, test=0.739), total=   0.1s\n",
      "[CV] learning_rate=0.5, max_depth=2, n_estimators=12, subsample=0.1 ..\n"
     ]
    },
    {
     "name": "stdout",
     "output_type": "stream",
     "text": [
      "[CV]  learning_rate=0.5, max_depth=2, n_estimators=12, subsample=0.1, score=(train=0.779, test=0.722), total=   0.1s\n",
      "[CV] learning_rate=0.5, max_depth=2, n_estimators=12, subsample=0.5 ..\n",
      "[CV]  learning_rate=0.5, max_depth=2, n_estimators=12, subsample=0.5, score=(train=0.841, test=0.821), total=   0.1s\n",
      "[CV] learning_rate=0.5, max_depth=2, n_estimators=12, subsample=0.5 ..\n",
      "[CV]  learning_rate=0.5, max_depth=2, n_estimators=12, subsample=0.5, score=(train=0.837, test=0.826), total=   0.1s\n",
      "[CV] learning_rate=0.5, max_depth=2, n_estimators=12, subsample=0.5 ..\n",
      "[CV]  learning_rate=0.5, max_depth=2, n_estimators=12, subsample=0.5, score=(train=0.859, test=0.784), total=   0.1s\n",
      "[CV] learning_rate=0.5, max_depth=2, n_estimators=12, subsample=0.9 ..\n",
      "[CV]  learning_rate=0.5, max_depth=2, n_estimators=12, subsample=0.9, score=(train=0.841, test=0.796), total=   0.1s\n",
      "[CV] learning_rate=0.5, max_depth=2, n_estimators=12, subsample=0.9 ..\n",
      "[CV]  learning_rate=0.5, max_depth=2, n_estimators=12, subsample=0.9, score=(train=0.878, test=0.838), total=   0.1s\n",
      "[CV] learning_rate=0.5, max_depth=2, n_estimators=12, subsample=0.9 ..\n",
      "[CV]  learning_rate=0.5, max_depth=2, n_estimators=12, subsample=0.9, score=(train=0.855, test=0.802), total=   0.1s\n",
      "[CV] learning_rate=0.5, max_depth=3, n_estimators=5, subsample=0.1 ...\n",
      "[CV]  learning_rate=0.5, max_depth=3, n_estimators=5, subsample=0.1, score=(train=0.686, test=0.674), total=   0.0s\n",
      "[CV] learning_rate=0.5, max_depth=3, n_estimators=5, subsample=0.1 ...\n",
      "[CV]  learning_rate=0.5, max_depth=3, n_estimators=5, subsample=0.1, score=(train=0.730, test=0.687), total=   0.0s\n",
      "[CV] learning_rate=0.5, max_depth=3, n_estimators=5, subsample=0.1 ...\n",
      "[CV]  learning_rate=0.5, max_depth=3, n_estimators=5, subsample=0.1, score=(train=0.741, test=0.715), total=   0.0s\n",
      "[CV] learning_rate=0.5, max_depth=3, n_estimators=5, subsample=0.5 ...\n",
      "[CV]  learning_rate=0.5, max_depth=3, n_estimators=5, subsample=0.5, score=(train=0.889, test=0.878), total=   0.1s\n",
      "[CV] learning_rate=0.5, max_depth=3, n_estimators=5, subsample=0.5 ...\n",
      "[CV]  learning_rate=0.5, max_depth=3, n_estimators=5, subsample=0.5, score=(train=0.875, test=0.834), total=   0.1s\n",
      "[CV] learning_rate=0.5, max_depth=3, n_estimators=5, subsample=0.5 ...\n",
      "[CV]  learning_rate=0.5, max_depth=3, n_estimators=5, subsample=0.5, score=(train=0.882, test=0.843), total=   0.1s\n",
      "[CV] learning_rate=0.5, max_depth=3, n_estimators=5, subsample=0.9 ...\n",
      "[CV]  learning_rate=0.5, max_depth=3, n_estimators=5, subsample=0.9, score=(train=0.883, test=0.825), total=   0.1s\n",
      "[CV] learning_rate=0.5, max_depth=3, n_estimators=5, subsample=0.9 ...\n",
      "[CV]  learning_rate=0.5, max_depth=3, n_estimators=5, subsample=0.9, score=(train=0.869, test=0.855), total=   0.1s\n",
      "[CV] learning_rate=0.5, max_depth=3, n_estimators=5, subsample=0.9 ...\n",
      "[CV]  learning_rate=0.5, max_depth=3, n_estimators=5, subsample=0.9, score=(train=0.894, test=0.832), total=   0.1s\n",
      "[CV] learning_rate=0.5, max_depth=3, n_estimators=8, subsample=0.1 ...\n",
      "[CV]  learning_rate=0.5, max_depth=3, n_estimators=8, subsample=0.1, score=(train=0.743, test=0.735), total=   0.0s\n",
      "[CV] learning_rate=0.5, max_depth=3, n_estimators=8, subsample=0.1 ...\n",
      "[CV]  learning_rate=0.5, max_depth=3, n_estimators=8, subsample=0.1, score=(train=0.751, test=0.692), total=   0.0s\n",
      "[CV] learning_rate=0.5, max_depth=3, n_estimators=8, subsample=0.1 ...\n",
      "[CV]  learning_rate=0.5, max_depth=3, n_estimators=8, subsample=0.1, score=(train=0.764, test=0.729), total=   0.1s\n",
      "[CV] learning_rate=0.5, max_depth=3, n_estimators=8, subsample=0.5 ...\n",
      "[CV]  learning_rate=0.5, max_depth=3, n_estimators=8, subsample=0.5, score=(train=0.881, test=0.839), total=   0.1s\n",
      "[CV] learning_rate=0.5, max_depth=3, n_estimators=8, subsample=0.5 ...\n",
      "[CV]  learning_rate=0.5, max_depth=3, n_estimators=8, subsample=0.5, score=(train=0.890, test=0.867), total=   0.1s\n",
      "[CV] learning_rate=0.5, max_depth=3, n_estimators=8, subsample=0.5 ...\n",
      "[CV]  learning_rate=0.5, max_depth=3, n_estimators=8, subsample=0.5, score=(train=0.900, test=0.859), total=   0.1s\n",
      "[CV] learning_rate=0.5, max_depth=3, n_estimators=8, subsample=0.9 ...\n",
      "[CV]  learning_rate=0.5, max_depth=3, n_estimators=8, subsample=0.9, score=(train=0.909, test=0.874), total=   0.1s\n",
      "[CV] learning_rate=0.5, max_depth=3, n_estimators=8, subsample=0.9 ...\n",
      "[CV]  learning_rate=0.5, max_depth=3, n_estimators=8, subsample=0.9, score=(train=0.896, test=0.864), total=   0.1s\n",
      "[CV] learning_rate=0.5, max_depth=3, n_estimators=8, subsample=0.9 ...\n",
      "[CV]  learning_rate=0.5, max_depth=3, n_estimators=8, subsample=0.9, score=(train=0.916, test=0.867), total=   0.1s\n",
      "[CV] learning_rate=0.5, max_depth=3, n_estimators=12, subsample=0.1 ..\n",
      "[CV]  learning_rate=0.5, max_depth=3, n_estimators=12, subsample=0.1, score=(train=0.776, test=0.756), total=   0.1s\n",
      "[CV] learning_rate=0.5, max_depth=3, n_estimators=12, subsample=0.1 ..\n",
      "[CV]  learning_rate=0.5, max_depth=3, n_estimators=12, subsample=0.1, score=(train=0.784, test=0.731), total=   0.1s\n",
      "[CV] learning_rate=0.5, max_depth=3, n_estimators=12, subsample=0.1 ..\n",
      "[CV]  learning_rate=0.5, max_depth=3, n_estimators=12, subsample=0.1, score=(train=0.758, test=0.699), total=   0.1s\n",
      "[CV] learning_rate=0.5, max_depth=3, n_estimators=12, subsample=0.5 ..\n",
      "[CV]  learning_rate=0.5, max_depth=3, n_estimators=12, subsample=0.5, score=(train=0.915, test=0.867), total=   0.1s\n",
      "[CV] learning_rate=0.5, max_depth=3, n_estimators=12, subsample=0.5 ..\n",
      "[CV]  learning_rate=0.5, max_depth=3, n_estimators=12, subsample=0.5, score=(train=0.911, test=0.864), total=   0.1s\n",
      "[CV] learning_rate=0.5, max_depth=3, n_estimators=12, subsample=0.5 ..\n",
      "[CV]  learning_rate=0.5, max_depth=3, n_estimators=12, subsample=0.5, score=(train=0.919, test=0.837), total=   0.1s\n",
      "[CV] learning_rate=0.5, max_depth=3, n_estimators=12, subsample=0.9 ..\n",
      "[CV]  learning_rate=0.5, max_depth=3, n_estimators=12, subsample=0.9, score=(train=0.925, test=0.876), total=   0.1s\n",
      "[CV] learning_rate=0.5, max_depth=3, n_estimators=12, subsample=0.9 ..\n",
      "[CV]  learning_rate=0.5, max_depth=3, n_estimators=12, subsample=0.9, score=(train=0.930, test=0.866), total=   0.1s\n",
      "[CV] learning_rate=0.5, max_depth=3, n_estimators=12, subsample=0.9 ..\n",
      "[CV]  learning_rate=0.5, max_depth=3, n_estimators=12, subsample=0.9, score=(train=0.924, test=0.885), total=   0.1s\n",
      "[CV] learning_rate=0.5, max_depth=4, n_estimators=5, subsample=0.1 ...\n",
      "[CV]  learning_rate=0.5, max_depth=4, n_estimators=5, subsample=0.1, score=(train=0.689, test=0.671), total=   0.0s\n",
      "[CV] learning_rate=0.5, max_depth=4, n_estimators=5, subsample=0.1 ...\n",
      "[CV]  learning_rate=0.5, max_depth=4, n_estimators=5, subsample=0.1, score=(train=0.698, test=0.659), total=   0.1s\n",
      "[CV] learning_rate=0.5, max_depth=4, n_estimators=5, subsample=0.1 ...\n",
      "[CV]  learning_rate=0.5, max_depth=4, n_estimators=5, subsample=0.1, score=(train=0.774, test=0.744), total=   0.1s\n",
      "[CV] learning_rate=0.5, max_depth=4, n_estimators=5, subsample=0.5 ...\n",
      "[CV]  learning_rate=0.5, max_depth=4, n_estimators=5, subsample=0.5, score=(train=0.893, test=0.870), total=   0.1s\n",
      "[CV] learning_rate=0.5, max_depth=4, n_estimators=5, subsample=0.5 ...\n",
      "[CV]  learning_rate=0.5, max_depth=4, n_estimators=5, subsample=0.5, score=(train=0.899, test=0.841), total=   0.1s\n",
      "[CV] learning_rate=0.5, max_depth=4, n_estimators=5, subsample=0.5 ...\n",
      "[CV]  learning_rate=0.5, max_depth=4, n_estimators=5, subsample=0.5, score=(train=0.906, test=0.862), total=   0.1s\n",
      "[CV] learning_rate=0.5, max_depth=4, n_estimators=5, subsample=0.9 ...\n",
      "[CV]  learning_rate=0.5, max_depth=4, n_estimators=5, subsample=0.9, score=(train=0.926, test=0.902), total=   0.1s\n",
      "[CV] learning_rate=0.5, max_depth=4, n_estimators=5, subsample=0.9 ...\n",
      "[CV]  learning_rate=0.5, max_depth=4, n_estimators=5, subsample=0.9, score=(train=0.934, test=0.891), total=   0.1s\n",
      "[CV] learning_rate=0.5, max_depth=4, n_estimators=5, subsample=0.9 ...\n",
      "[CV]  learning_rate=0.5, max_depth=4, n_estimators=5, subsample=0.9, score=(train=0.911, test=0.856), total=   0.1s\n",
      "[CV] learning_rate=0.5, max_depth=4, n_estimators=8, subsample=0.1 ...\n",
      "[CV]  learning_rate=0.5, max_depth=4, n_estimators=8, subsample=0.1, score=(train=0.773, test=0.752), total=   0.1s\n",
      "[CV] learning_rate=0.5, max_depth=4, n_estimators=8, subsample=0.1 ...\n"
     ]
    },
    {
     "name": "stdout",
     "output_type": "stream",
     "text": [
      "[CV]  learning_rate=0.5, max_depth=4, n_estimators=8, subsample=0.1, score=(train=0.741, test=0.722), total=   0.1s\n",
      "[CV] learning_rate=0.5, max_depth=4, n_estimators=8, subsample=0.1 ...\n",
      "[CV]  learning_rate=0.5, max_depth=4, n_estimators=8, subsample=0.1, score=(train=0.791, test=0.755), total=   0.1s\n",
      "[CV] learning_rate=0.5, max_depth=4, n_estimators=8, subsample=0.5 ...\n",
      "[CV]  learning_rate=0.5, max_depth=4, n_estimators=8, subsample=0.5, score=(train=0.921, test=0.884), total=   0.1s\n",
      "[CV] learning_rate=0.5, max_depth=4, n_estimators=8, subsample=0.5 ...\n",
      "[CV]  learning_rate=0.5, max_depth=4, n_estimators=8, subsample=0.5, score=(train=0.913, test=0.852), total=   0.1s\n",
      "[CV] learning_rate=0.5, max_depth=4, n_estimators=8, subsample=0.5 ...\n",
      "[CV]  learning_rate=0.5, max_depth=4, n_estimators=8, subsample=0.5, score=(train=0.927, test=0.885), total=   0.1s\n",
      "[CV] learning_rate=0.5, max_depth=4, n_estimators=8, subsample=0.9 ...\n",
      "[CV]  learning_rate=0.5, max_depth=4, n_estimators=8, subsample=0.9, score=(train=0.934, test=0.899), total=   0.1s\n",
      "[CV] learning_rate=0.5, max_depth=4, n_estimators=8, subsample=0.9 ...\n",
      "[CV]  learning_rate=0.5, max_depth=4, n_estimators=8, subsample=0.9, score=(train=0.932, test=0.890), total=   0.1s\n",
      "[CV] learning_rate=0.5, max_depth=4, n_estimators=8, subsample=0.9 ...\n",
      "[CV]  learning_rate=0.5, max_depth=4, n_estimators=8, subsample=0.9, score=(train=0.936, test=0.871), total=   0.1s\n",
      "[CV] learning_rate=0.5, max_depth=4, n_estimators=12, subsample=0.1 ..\n",
      "[CV]  learning_rate=0.5, max_depth=4, n_estimators=12, subsample=0.1, score=(train=0.809, test=0.775), total=   0.1s\n",
      "[CV] learning_rate=0.5, max_depth=4, n_estimators=12, subsample=0.1 ..\n",
      "[CV]  learning_rate=0.5, max_depth=4, n_estimators=12, subsample=0.1, score=(train=0.778, test=0.755), total=   0.1s\n",
      "[CV] learning_rate=0.5, max_depth=4, n_estimators=12, subsample=0.1 ..\n",
      "[CV]  learning_rate=0.5, max_depth=4, n_estimators=12, subsample=0.1, score=(train=0.807, test=0.758), total=   0.1s\n",
      "[CV] learning_rate=0.5, max_depth=4, n_estimators=12, subsample=0.5 ..\n",
      "[CV]  learning_rate=0.5, max_depth=4, n_estimators=12, subsample=0.5, score=(train=0.941, test=0.886), total=   0.1s\n",
      "[CV] learning_rate=0.5, max_depth=4, n_estimators=12, subsample=0.5 ..\n",
      "[CV]  learning_rate=0.5, max_depth=4, n_estimators=12, subsample=0.5, score=(train=0.935, test=0.857), total=   0.1s\n",
      "[CV] learning_rate=0.5, max_depth=4, n_estimators=12, subsample=0.5 ..\n",
      "[CV]  learning_rate=0.5, max_depth=4, n_estimators=12, subsample=0.5, score=(train=0.941, test=0.883), total=   0.1s\n",
      "[CV] learning_rate=0.5, max_depth=4, n_estimators=12, subsample=0.9 ..\n",
      "[CV]  learning_rate=0.5, max_depth=4, n_estimators=12, subsample=0.9, score=(train=0.948, test=0.883), total=   0.1s\n",
      "[CV] learning_rate=0.5, max_depth=4, n_estimators=12, subsample=0.9 ..\n",
      "[CV]  learning_rate=0.5, max_depth=4, n_estimators=12, subsample=0.9, score=(train=0.945, test=0.893), total=   0.1s\n",
      "[CV] learning_rate=0.5, max_depth=4, n_estimators=12, subsample=0.9 ..\n",
      "[CV]  learning_rate=0.5, max_depth=4, n_estimators=12, subsample=0.9, score=(train=0.950, test=0.878), total=   0.1s\n",
      "[CV] learning_rate=0.7, max_depth=2, n_estimators=5, subsample=0.1 ...\n",
      "[CV]  learning_rate=0.7, max_depth=2, n_estimators=5, subsample=0.1, score=(train=0.642, test=0.590), total=   0.0s\n",
      "[CV] learning_rate=0.7, max_depth=2, n_estimators=5, subsample=0.1 ...\n",
      "[CV]  learning_rate=0.7, max_depth=2, n_estimators=5, subsample=0.1, score=(train=0.743, test=0.710), total=   0.0s\n",
      "[CV] learning_rate=0.7, max_depth=2, n_estimators=5, subsample=0.1 ...\n",
      "[CV]  learning_rate=0.7, max_depth=2, n_estimators=5, subsample=0.1, score=(train=0.734, test=0.715), total=   0.1s\n",
      "[CV] learning_rate=0.7, max_depth=2, n_estimators=5, subsample=0.5 ...\n",
      "[CV]  learning_rate=0.7, max_depth=2, n_estimators=5, subsample=0.5, score=(train=0.790, test=0.749), total=   0.1s\n",
      "[CV] learning_rate=0.7, max_depth=2, n_estimators=5, subsample=0.5 ...\n",
      "[CV]  learning_rate=0.7, max_depth=2, n_estimators=5, subsample=0.5, score=(train=0.788, test=0.742), total=   0.0s\n",
      "[CV] learning_rate=0.7, max_depth=2, n_estimators=5, subsample=0.5 ...\n",
      "[CV]  learning_rate=0.7, max_depth=2, n_estimators=5, subsample=0.5, score=(train=0.799, test=0.764), total=   0.0s\n",
      "[CV] learning_rate=0.7, max_depth=2, n_estimators=5, subsample=0.9 ...\n",
      "[CV]  learning_rate=0.7, max_depth=2, n_estimators=5, subsample=0.9, score=(train=0.804, test=0.805), total=   0.0s\n",
      "[CV] learning_rate=0.7, max_depth=2, n_estimators=5, subsample=0.9 ...\n",
      "[CV]  learning_rate=0.7, max_depth=2, n_estimators=5, subsample=0.9, score=(train=0.836, test=0.796), total=   0.0s\n",
      "[CV] learning_rate=0.7, max_depth=2, n_estimators=5, subsample=0.9 ...\n",
      "[CV]  learning_rate=0.7, max_depth=2, n_estimators=5, subsample=0.9, score=(train=0.847, test=0.773), total=   0.0s\n",
      "[CV] learning_rate=0.7, max_depth=2, n_estimators=8, subsample=0.1 ...\n",
      "[CV]  learning_rate=0.7, max_depth=2, n_estimators=8, subsample=0.1, score=(train=0.727, test=0.727), total=   0.0s\n",
      "[CV] learning_rate=0.7, max_depth=2, n_estimators=8, subsample=0.1 ...\n",
      "[CV]  learning_rate=0.7, max_depth=2, n_estimators=8, subsample=0.1, score=(train=0.693, test=0.682), total=   0.0s\n",
      "[CV] learning_rate=0.7, max_depth=2, n_estimators=8, subsample=0.1 ...\n",
      "[CV]  learning_rate=0.7, max_depth=2, n_estimators=8, subsample=0.1, score=(train=0.768, test=0.750), total=   0.0s\n",
      "[CV] learning_rate=0.7, max_depth=2, n_estimators=8, subsample=0.5 ...\n",
      "[CV]  learning_rate=0.7, max_depth=2, n_estimators=8, subsample=0.5, score=(train=0.839, test=0.813), total=   0.1s\n",
      "[CV] learning_rate=0.7, max_depth=2, n_estimators=8, subsample=0.5 ...\n",
      "[CV]  learning_rate=0.7, max_depth=2, n_estimators=8, subsample=0.5, score=(train=0.797, test=0.756), total=   0.0s\n",
      "[CV] learning_rate=0.7, max_depth=2, n_estimators=8, subsample=0.5 ...\n",
      "[CV]  learning_rate=0.7, max_depth=2, n_estimators=8, subsample=0.5, score=(train=0.835, test=0.784), total=   0.1s\n",
      "[CV] learning_rate=0.7, max_depth=2, n_estimators=8, subsample=0.9 ...\n",
      "[CV]  learning_rate=0.7, max_depth=2, n_estimators=8, subsample=0.9, score=(train=0.848, test=0.843), total=   0.1s\n",
      "[CV] learning_rate=0.7, max_depth=2, n_estimators=8, subsample=0.9 ...\n",
      "[CV]  learning_rate=0.7, max_depth=2, n_estimators=8, subsample=0.9, score=(train=0.871, test=0.837), total=   0.1s\n",
      "[CV] learning_rate=0.7, max_depth=2, n_estimators=8, subsample=0.9 ...\n",
      "[CV]  learning_rate=0.7, max_depth=2, n_estimators=8, subsample=0.9, score=(train=0.845, test=0.775), total=   0.0s\n",
      "[CV] learning_rate=0.7, max_depth=2, n_estimators=12, subsample=0.1 ..\n",
      "[CV]  learning_rate=0.7, max_depth=2, n_estimators=12, subsample=0.1, score=(train=0.752, test=0.729), total=   0.1s\n",
      "[CV] learning_rate=0.7, max_depth=2, n_estimators=12, subsample=0.1 ..\n",
      "[CV]  learning_rate=0.7, max_depth=2, n_estimators=12, subsample=0.1, score=(train=0.744, test=0.732), total=   0.0s\n",
      "[CV] learning_rate=0.7, max_depth=2, n_estimators=12, subsample=0.1 ..\n",
      "[CV]  learning_rate=0.7, max_depth=2, n_estimators=12, subsample=0.1, score=(train=0.782, test=0.715), total=   0.1s\n",
      "[CV] learning_rate=0.7, max_depth=2, n_estimators=12, subsample=0.5 ..\n",
      "[CV]  learning_rate=0.7, max_depth=2, n_estimators=12, subsample=0.5, score=(train=0.871, test=0.814), total=   0.1s\n",
      "[CV] learning_rate=0.7, max_depth=2, n_estimators=12, subsample=0.5 ..\n",
      "[CV]  learning_rate=0.7, max_depth=2, n_estimators=12, subsample=0.5, score=(train=0.831, test=0.768), total=   0.1s\n",
      "[CV] learning_rate=0.7, max_depth=2, n_estimators=12, subsample=0.5 ..\n",
      "[CV]  learning_rate=0.7, max_depth=2, n_estimators=12, subsample=0.5, score=(train=0.856, test=0.777), total=   0.1s\n",
      "[CV] learning_rate=0.7, max_depth=2, n_estimators=12, subsample=0.9 ..\n",
      "[CV]  learning_rate=0.7, max_depth=2, n_estimators=12, subsample=0.9, score=(train=0.878, test=0.833), total=   0.1s\n",
      "[CV] learning_rate=0.7, max_depth=2, n_estimators=12, subsample=0.9 ..\n",
      "[CV]  learning_rate=0.7, max_depth=2, n_estimators=12, subsample=0.9, score=(train=0.889, test=0.844), total=   0.1s\n",
      "[CV] learning_rate=0.7, max_depth=2, n_estimators=12, subsample=0.9 ..\n",
      "[CV]  learning_rate=0.7, max_depth=2, n_estimators=12, subsample=0.9, score=(train=0.866, test=0.789), total=   0.0s\n",
      "[CV] learning_rate=0.7, max_depth=3, n_estimators=5, subsample=0.1 ...\n",
      "[CV]  learning_rate=0.7, max_depth=3, n_estimators=5, subsample=0.1, score=(train=0.729, test=0.696), total=   0.0s\n"
     ]
    },
    {
     "name": "stdout",
     "output_type": "stream",
     "text": [
      "[CV] learning_rate=0.7, max_depth=3, n_estimators=5, subsample=0.1 ...\n",
      "[CV]  learning_rate=0.7, max_depth=3, n_estimators=5, subsample=0.1, score=(train=0.761, test=0.738), total=   0.0s\n",
      "[CV] learning_rate=0.7, max_depth=3, n_estimators=5, subsample=0.1 ...\n",
      "[CV]  learning_rate=0.7, max_depth=3, n_estimators=5, subsample=0.1, score=(train=0.731, test=0.726), total=   0.1s\n",
      "[CV] learning_rate=0.7, max_depth=3, n_estimators=5, subsample=0.5 ...\n",
      "[CV]  learning_rate=0.7, max_depth=3, n_estimators=5, subsample=0.5, score=(train=0.858, test=0.828), total=   0.0s\n",
      "[CV] learning_rate=0.7, max_depth=3, n_estimators=5, subsample=0.5 ...\n",
      "[CV]  learning_rate=0.7, max_depth=3, n_estimators=5, subsample=0.5, score=(train=0.881, test=0.874), total=   0.0s\n",
      "[CV] learning_rate=0.7, max_depth=3, n_estimators=5, subsample=0.5 ...\n",
      "[CV]  learning_rate=0.7, max_depth=3, n_estimators=5, subsample=0.5, score=(train=0.876, test=0.842), total=   0.1s\n",
      "[CV] learning_rate=0.7, max_depth=3, n_estimators=5, subsample=0.9 ...\n",
      "[CV]  learning_rate=0.7, max_depth=3, n_estimators=5, subsample=0.9, score=(train=0.892, test=0.887), total=   0.1s\n",
      "[CV] learning_rate=0.7, max_depth=3, n_estimators=5, subsample=0.9 ...\n",
      "[CV]  learning_rate=0.7, max_depth=3, n_estimators=5, subsample=0.9, score=(train=0.908, test=0.877), total=   0.1s\n",
      "[CV] learning_rate=0.7, max_depth=3, n_estimators=5, subsample=0.9 ...\n",
      "[CV]  learning_rate=0.7, max_depth=3, n_estimators=5, subsample=0.9, score=(train=0.903, test=0.835), total=   0.0s\n",
      "[CV] learning_rate=0.7, max_depth=3, n_estimators=8, subsample=0.1 ...\n",
      "[CV]  learning_rate=0.7, max_depth=3, n_estimators=8, subsample=0.1, score=(train=0.788, test=0.726), total=   0.0s\n",
      "[CV] learning_rate=0.7, max_depth=3, n_estimators=8, subsample=0.1 ...\n",
      "[CV]  learning_rate=0.7, max_depth=3, n_estimators=8, subsample=0.1, score=(train=0.742, test=0.704), total=   0.0s\n",
      "[CV] learning_rate=0.7, max_depth=3, n_estimators=8, subsample=0.1 ...\n",
      "[CV]  learning_rate=0.7, max_depth=3, n_estimators=8, subsample=0.1, score=(train=0.729, test=0.713), total=   0.0s\n",
      "[CV] learning_rate=0.7, max_depth=3, n_estimators=8, subsample=0.5 ...\n",
      "[CV]  learning_rate=0.7, max_depth=3, n_estimators=8, subsample=0.5, score=(train=0.902, test=0.883), total=   0.1s\n",
      "[CV] learning_rate=0.7, max_depth=3, n_estimators=8, subsample=0.5 ...\n",
      "[CV]  learning_rate=0.7, max_depth=3, n_estimators=8, subsample=0.5, score=(train=0.876, test=0.844), total=   0.1s\n",
      "[CV] learning_rate=0.7, max_depth=3, n_estimators=8, subsample=0.5 ...\n",
      "[CV]  learning_rate=0.7, max_depth=3, n_estimators=8, subsample=0.5, score=(train=0.905, test=0.855), total=   0.1s\n",
      "[CV] learning_rate=0.7, max_depth=3, n_estimators=8, subsample=0.9 ...\n",
      "[CV]  learning_rate=0.7, max_depth=3, n_estimators=8, subsample=0.9, score=(train=0.906, test=0.885), total=   0.1s\n",
      "[CV] learning_rate=0.7, max_depth=3, n_estimators=8, subsample=0.9 ...\n",
      "[CV]  learning_rate=0.7, max_depth=3, n_estimators=8, subsample=0.9, score=(train=0.914, test=0.877), total=   0.1s\n",
      "[CV] learning_rate=0.7, max_depth=3, n_estimators=8, subsample=0.9 ...\n",
      "[CV]  learning_rate=0.7, max_depth=3, n_estimators=8, subsample=0.9, score=(train=0.921, test=0.850), total=   0.1s\n",
      "[CV] learning_rate=0.7, max_depth=3, n_estimators=12, subsample=0.1 ..\n",
      "[CV]  learning_rate=0.7, max_depth=3, n_estimators=12, subsample=0.1, score=(train=0.809, test=0.744), total=   0.1s\n",
      "[CV] learning_rate=0.7, max_depth=3, n_estimators=12, subsample=0.1 ..\n",
      "[CV]  learning_rate=0.7, max_depth=3, n_estimators=12, subsample=0.1, score=(train=0.769, test=0.722), total=   0.1s\n",
      "[CV] learning_rate=0.7, max_depth=3, n_estimators=12, subsample=0.1 ..\n",
      "[CV]  learning_rate=0.7, max_depth=3, n_estimators=12, subsample=0.1, score=(train=0.772, test=0.760), total=   0.1s\n",
      "[CV] learning_rate=0.7, max_depth=3, n_estimators=12, subsample=0.5 ..\n",
      "[CV]  learning_rate=0.7, max_depth=3, n_estimators=12, subsample=0.5, score=(train=0.918, test=0.889), total=   0.1s\n",
      "[CV] learning_rate=0.7, max_depth=3, n_estimators=12, subsample=0.5 ..\n",
      "[CV]  learning_rate=0.7, max_depth=3, n_estimators=12, subsample=0.5, score=(train=0.908, test=0.853), total=   0.1s\n",
      "[CV] learning_rate=0.7, max_depth=3, n_estimators=12, subsample=0.5 ..\n",
      "[CV]  learning_rate=0.7, max_depth=3, n_estimators=12, subsample=0.5, score=(train=0.907, test=0.858), total=   0.1s\n",
      "[CV] learning_rate=0.7, max_depth=3, n_estimators=12, subsample=0.9 ..\n",
      "[CV]  learning_rate=0.7, max_depth=3, n_estimators=12, subsample=0.9, score=(train=0.921, test=0.867), total=   0.1s\n",
      "[CV] learning_rate=0.7, max_depth=3, n_estimators=12, subsample=0.9 ..\n",
      "[CV]  learning_rate=0.7, max_depth=3, n_estimators=12, subsample=0.9, score=(train=0.924, test=0.882), total=   0.1s\n",
      "[CV] learning_rate=0.7, max_depth=3, n_estimators=12, subsample=0.9 ..\n",
      "[CV]  learning_rate=0.7, max_depth=3, n_estimators=12, subsample=0.9, score=(train=0.931, test=0.863), total=   0.1s\n",
      "[CV] learning_rate=0.7, max_depth=4, n_estimators=5, subsample=0.1 ...\n",
      "[CV]  learning_rate=0.7, max_depth=4, n_estimators=5, subsample=0.1, score=(train=0.719, test=0.710), total=   0.0s\n",
      "[CV] learning_rate=0.7, max_depth=4, n_estimators=5, subsample=0.1 ...\n",
      "[CV]  learning_rate=0.7, max_depth=4, n_estimators=5, subsample=0.1, score=(train=0.764, test=0.726), total=   0.0s\n",
      "[CV] learning_rate=0.7, max_depth=4, n_estimators=5, subsample=0.1 ...\n",
      "[CV]  learning_rate=0.7, max_depth=4, n_estimators=5, subsample=0.1, score=(train=0.769, test=0.729), total=   0.0s\n",
      "[CV] learning_rate=0.7, max_depth=4, n_estimators=5, subsample=0.5 ...\n",
      "[CV]  learning_rate=0.7, max_depth=4, n_estimators=5, subsample=0.5, score=(train=0.898, test=0.883), total=   0.1s\n",
      "[CV] learning_rate=0.7, max_depth=4, n_estimators=5, subsample=0.5 ...\n",
      "[CV]  learning_rate=0.7, max_depth=4, n_estimators=5, subsample=0.5, score=(train=0.889, test=0.830), total=   0.1s\n",
      "[CV] learning_rate=0.7, max_depth=4, n_estimators=5, subsample=0.5 ...\n",
      "[CV]  learning_rate=0.7, max_depth=4, n_estimators=5, subsample=0.5, score=(train=0.919, test=0.875), total=   0.1s\n",
      "[CV] learning_rate=0.7, max_depth=4, n_estimators=5, subsample=0.9 ...\n",
      "[CV]  learning_rate=0.7, max_depth=4, n_estimators=5, subsample=0.9, score=(train=0.930, test=0.902), total=   0.1s\n",
      "[CV] learning_rate=0.7, max_depth=4, n_estimators=5, subsample=0.9 ...\n",
      "[CV]  learning_rate=0.7, max_depth=4, n_estimators=5, subsample=0.9, score=(train=0.934, test=0.890), total=   0.1s\n",
      "[CV] learning_rate=0.7, max_depth=4, n_estimators=5, subsample=0.9 ...\n",
      "[CV]  learning_rate=0.7, max_depth=4, n_estimators=5, subsample=0.9, score=(train=0.919, test=0.857), total=   0.1s\n",
      "[CV] learning_rate=0.7, max_depth=4, n_estimators=8, subsample=0.1 ...\n",
      "[CV]  learning_rate=0.7, max_depth=4, n_estimators=8, subsample=0.1, score=(train=0.779, test=0.707), total=   0.1s\n",
      "[CV] learning_rate=0.7, max_depth=4, n_estimators=8, subsample=0.1 ...\n",
      "[CV]  learning_rate=0.7, max_depth=4, n_estimators=8, subsample=0.1, score=(train=0.712, test=0.659), total=   0.1s\n",
      "[CV] learning_rate=0.7, max_depth=4, n_estimators=8, subsample=0.1 ...\n",
      "[CV]  learning_rate=0.7, max_depth=4, n_estimators=8, subsample=0.1, score=(train=0.805, test=0.742), total=   0.1s\n",
      "[CV] learning_rate=0.7, max_depth=4, n_estimators=8, subsample=0.5 ...\n",
      "[CV]  learning_rate=0.7, max_depth=4, n_estimators=8, subsample=0.5, score=(train=0.921, test=0.868), total=   0.1s\n",
      "[CV] learning_rate=0.7, max_depth=4, n_estimators=8, subsample=0.5 ...\n",
      "[CV]  learning_rate=0.7, max_depth=4, n_estimators=8, subsample=0.5, score=(train=0.923, test=0.850), total=   0.1s\n",
      "[CV] learning_rate=0.7, max_depth=4, n_estimators=8, subsample=0.5 ...\n",
      "[CV]  learning_rate=0.7, max_depth=4, n_estimators=8, subsample=0.5, score=(train=0.926, test=0.859), total=   0.1s\n",
      "[CV] learning_rate=0.7, max_depth=4, n_estimators=8, subsample=0.9 ...\n",
      "[CV]  learning_rate=0.7, max_depth=4, n_estimators=8, subsample=0.9, score=(train=0.942, test=0.896), total=   0.1s\n",
      "[CV] learning_rate=0.7, max_depth=4, n_estimators=8, subsample=0.9 ...\n",
      "[CV]  learning_rate=0.7, max_depth=4, n_estimators=8, subsample=0.9, score=(train=0.942, test=0.878), total=   0.1s\n",
      "[CV] learning_rate=0.7, max_depth=4, n_estimators=8, subsample=0.9 ...\n",
      "[CV]  learning_rate=0.7, max_depth=4, n_estimators=8, subsample=0.9, score=(train=0.942, test=0.891), total=   0.1s\n",
      "[CV] learning_rate=0.7, max_depth=4, n_estimators=12, subsample=0.1 ..\n"
     ]
    },
    {
     "name": "stdout",
     "output_type": "stream",
     "text": [
      "[CV]  learning_rate=0.7, max_depth=4, n_estimators=12, subsample=0.1, score=(train=0.776, test=0.702), total=   0.1s\n",
      "[CV] learning_rate=0.7, max_depth=4, n_estimators=12, subsample=0.1 ..\n",
      "[CV]  learning_rate=0.7, max_depth=4, n_estimators=12, subsample=0.1, score=(train=0.737, test=0.689), total=   0.1s\n",
      "[CV] learning_rate=0.7, max_depth=4, n_estimators=12, subsample=0.1 ..\n",
      "[CV]  learning_rate=0.7, max_depth=4, n_estimators=12, subsample=0.1, score=(train=0.764, test=0.759), total=   0.1s\n",
      "[CV] learning_rate=0.7, max_depth=4, n_estimators=12, subsample=0.5 ..\n",
      "[CV]  learning_rate=0.7, max_depth=4, n_estimators=12, subsample=0.5, score=(train=0.934, test=0.830), total=   0.1s\n",
      "[CV] learning_rate=0.7, max_depth=4, n_estimators=12, subsample=0.5 ..\n",
      "[CV]  learning_rate=0.7, max_depth=4, n_estimators=12, subsample=0.5, score=(train=0.942, test=0.862), total=   0.1s\n",
      "[CV] learning_rate=0.7, max_depth=4, n_estimators=12, subsample=0.5 ..\n",
      "[CV]  learning_rate=0.7, max_depth=4, n_estimators=12, subsample=0.5, score=(train=0.941, test=0.850), total=   0.1s\n",
      "[CV] learning_rate=0.7, max_depth=4, n_estimators=12, subsample=0.9 ..\n",
      "[CV]  learning_rate=0.7, max_depth=4, n_estimators=12, subsample=0.9, score=(train=0.955, test=0.896), total=   0.1s\n",
      "[CV] learning_rate=0.7, max_depth=4, n_estimators=12, subsample=0.9 ..\n",
      "[CV]  learning_rate=0.7, max_depth=4, n_estimators=12, subsample=0.9, score=(train=0.950, test=0.880), total=   0.1s\n",
      "[CV] learning_rate=0.7, max_depth=4, n_estimators=12, subsample=0.9 ..\n",
      "[CV]  learning_rate=0.7, max_depth=4, n_estimators=12, subsample=0.9, score=(train=0.963, test=0.870), total=   0.1s\n"
     ]
    },
    {
     "name": "stderr",
     "output_type": "stream",
     "text": [
      "[Parallel(n_jobs=1)]: Done 243 out of 243 | elapsed:   19.9s finished\n"
     ]
    },
    {
     "data": {
      "text/plain": [
       "GridSearchCV(cv=3, error_score=nan,\n",
       "             estimator=XGBClassifier(base_score=0.5, booster='gbtree',\n",
       "                                     colsample_bylevel=1, colsample_bytree=1,\n",
       "                                     gamma=0, learning_rate=0.1,\n",
       "                                     max_delta_step=0, max_depth=3,\n",
       "                                     min_child_weight=1, missing=None,\n",
       "                                     n_estimators=100, n_jobs=1, nthread=None,\n",
       "                                     objective='binary:logistic',\n",
       "                                     random_state=0, reg_alpha=0, reg_lambda=1,\n",
       "                                     scale_pos_weight=1, seed=None, silent=True,\n",
       "                                     subsample=1, verbosity=1),\n",
       "             iid='deprecated', n_jobs=1,\n",
       "             param_grid={'learning_rate': [0.1, 0.5, 0.7],\n",
       "                         'max_depth': [2, 3, 4], 'n_estimators': [5, 8, 12],\n",
       "                         'subsample': [0.1, 0.5, 0.9]},\n",
       "             pre_dispatch='2*n_jobs', refit=True, return_train_score=True,\n",
       "             scoring='f1_macro', verbose=10)"
      ]
     },
     "execution_count": 51,
     "metadata": {},
     "output_type": "execute_result"
    }
   ],
   "source": [
    "# check the parameter list from \n",
    "# https://xgboost.readthedocs.io/en/latest/parameter.html#parameters-for-tree-booster\n",
    "# https://xgboost.readthedocs.io/en/latest/python/python_api.html\n",
    "\n",
    "# create xgbClassifier object\n",
    "from xgboost import XGBClassifier\n",
    "XGB = XGBClassifier(booster='gbtree',  \n",
    "                        objective='binary:logistic',verbosity=1)\n",
    "# A parameter grid for XGBoost\n",
    "parms = {'max_depth': [2,3,4],\n",
    "        'n_estimators': [5, 8, 12],\n",
    "        'subsample': [0.1,0.5,0.9],        # sampling of rows \n",
    "        'learning_rate': [0.1, 0.5, 0.7]   # shrinkage rate or learning rate \n",
    "        }\n",
    "\n",
    "from sklearn.model_selection import GridSearchCV\n",
    "CV = GridSearchCV(estimator = XGB,param_grid = parms, \n",
    "                  scoring = 'f1_macro',cv=3,refit=True,\n",
    "                 return_train_score = True,verbose=10,n_jobs=1)\n",
    "CV.fit(X_train_final,Y_train.Churn)"
   ]
  },
  {
   "cell_type": "code",
   "execution_count": 52,
   "metadata": {},
   "outputs": [],
   "source": [
    "# analyse CV results\n",
    "CVResults = pd.DataFrame(CV.cv_results_)\n",
    "CVResults.to_excel('CVResutls_XGBoost.xlsx')"
   ]
  },
  {
   "cell_type": "code",
   "execution_count": 55,
   "metadata": {},
   "outputs": [
    {
     "name": "stdout",
     "output_type": "stream",
     "text": [
      "XGBClassifier(base_score=0.5, booster='gbtree', colsample_bylevel=1,\n",
      "              colsample_bytree=1, gamma=0, learning_rate=0.7, max_delta_step=0,\n",
      "              max_depth=4, min_child_weight=1, missing=None, n_estimators=8,\n",
      "              n_jobs=1, nthread=None, objective='binary:logistic',\n",
      "              random_state=0, reg_alpha=0, reg_lambda=1, scale_pos_weight=1,\n",
      "              seed=None, silent=True, subsample=0.9, verbosity=1)\n"
     ]
    }
   ],
   "source": [
    "print(CV.best_estimator_)"
   ]
  },
  {
   "cell_type": "code",
   "execution_count": 53,
   "metadata": {},
   "outputs": [
    {
     "name": "stdout",
     "output_type": "stream",
     "text": [
      "0.888359420590216\n",
      "{'learning_rate': 0.7, 'max_depth': 4, 'n_estimators': 8, 'subsample': 0.9}\n"
     ]
    }
   ],
   "source": [
    "print(CV.best_score_)\n",
    "print(CV.best_params_)"
   ]
  },
  {
   "cell_type": "code",
   "execution_count": 54,
   "metadata": {},
   "outputs": [
    {
     "name": "stdout",
     "output_type": "stream",
     "text": [
      "[[0.95783585 0.04216417]\n",
      " [0.975391   0.02460904]\n",
      " [0.9732148  0.02678518]\n",
      " [0.98099405 0.01900595]\n",
      " [0.06671649 0.9332835 ]]\n",
      "[0 0 0 0 1]\n"
     ]
    }
   ],
   "source": [
    "# Preidct on Test data and check the confusion matrix\n",
    "predictProb = CV.predict_proba(X_test_final)\n",
    "print(predictProb[0:5])\n",
    "PProb = pd.DataFrame(predictProb,columns=[\"Class0\",\"Class1\"])\n",
    "predictTest = CV.predict(X_test_final)\n",
    "print(predictTest[0:5])"
   ]
  },
  {
   "cell_type": "code",
   "execution_count": 56,
   "metadata": {},
   "outputs": [
    {
     "name": "stdout",
     "output_type": "stream",
     "text": [
      "[[564  15]\n",
      " [ 19  69]]\n",
      "              precision    recall  f1-score   support\n",
      "\n",
      "           0       0.97      0.97      0.97       579\n",
      "           1       0.82      0.78      0.80        88\n",
      "\n",
      "    accuracy                           0.95       667\n",
      "   macro avg       0.89      0.88      0.89       667\n",
      "weighted avg       0.95      0.95      0.95       667\n",
      "\n"
     ]
    }
   ],
   "source": [
    "# generate confusion matrix\n",
    "# import confusion matrix and classification report\n",
    "from sklearn.metrics import confusion_matrix, classification_report\n",
    "print (confusion_matrix(Y_test,predictTest))\n",
    "print (classification_report(Y_test,predictTest))"
   ]
  },
  {
   "cell_type": "code",
   "execution_count": 57,
   "metadata": {},
   "outputs": [
    {
     "name": "stdout",
     "output_type": "stream",
     "text": [
      "0.9125549536818967\n"
     ]
    }
   ],
   "source": [
    "# generate ROC curve\n",
    "from sklearn.metrics import roc_auc_score, roc_curve\n",
    "# AUC for class 1\n",
    "AUC = roc_auc_score(Y_test, PProb.Class1)\n",
    "print(AUC)"
   ]
  },
  {
   "cell_type": "code",
   "execution_count": 58,
   "metadata": {},
   "outputs": [
    {
     "data": {
      "image/png": "[encoded data removed]",
      "text/plain": [
       "<Figure size 432x288 with 1 Axes>"
      ]
     },
     "metadata": {
      "needs_background": "light"
     },
     "output_type": "display_data"
    }
   ],
   "source": [
    "# plot ROC curve\n",
    "FPR, TPR, THR = roc_curve(Y_test, PProb.Class1)\n",
    "# plot the FPR as X-axis and TPR as Y-axis\n",
    "plt.plot(FPR, TPR)\n",
    "# plot the minimum line \n",
    "plt.plot([0,1], [0,1], color='navy', linestyle = '--')\n",
    "# set X and Y limits\n",
    "plt.xlim([0.0, 1.05])\n",
    "plt.ylim([0.0, 1.05])\n",
    "# mention lables for X and Y\n",
    "plt.xlabel('False Positive Rate')\n",
    "plt.ylabel('True Positive Rate')\n",
    "plt.title('ROC')\n",
    "plt.show()"
   ]
  },
  {
   "cell_type": "code",
   "execution_count": 59,
   "metadata": {},
   "outputs": [],
   "source": [
    "ROC = pd.DataFrame({\"THR\":THR,\n",
    "                   \"TPR\":TPR,\n",
    "                   \"FPR\":FPR})\n",
    "ROC.to_excel('ROC_XGBM.xlsx')"
   ]
  },
  {
   "cell_type": "code",
   "execution_count": 62,
   "metadata": {},
   "outputs": [
    {
     "name": "stdout",
     "output_type": "stream",
     "text": [
      "0    0.042164\n",
      "1    0.024609\n",
      "2    0.026785\n",
      "3    0.019006\n",
      "4    0.933284\n",
      "Name: Class1, dtype: float32\n",
      "[0, 0, 0, 0, 1]\n"
     ]
    }
   ],
   "source": [
    "pclass = list()\n",
    "for prob in PProb.Class1:\n",
    "    if prob >= 0.2343:\n",
    "        pclass.append(1)\n",
    "    else:\n",
    "        pclass.append(0)\n",
    "print(PProb.Class1.head())\n",
    "print(pclass[0:5])"
   ]
  },
  {
   "cell_type": "code",
   "execution_count": 63,
   "metadata": {},
   "outputs": [
    {
     "name": "stdout",
     "output_type": "stream",
     "text": [
      "[[543  36]\n",
      " [ 14  74]]\n",
      "              precision    recall  f1-score   support\n",
      "\n",
      "           0       0.97      0.94      0.96       579\n",
      "           1       0.67      0.84      0.75        88\n",
      "\n",
      "    accuracy                           0.93       667\n",
      "   macro avg       0.82      0.89      0.85       667\n",
      "weighted avg       0.94      0.93      0.93       667\n",
      "\n"
     ]
    }
   ],
   "source": [
    "print (confusion_matrix(Y_test,pclass))\n",
    "print (classification_report(Y_test,pclass))"
   ]
  }
 ],
 "metadata": {
  "kernelspec": {
   "display_name": "Python 3 (ipykernel)",
   "language": "python",
   "name": "python3"
  },
  "language_info": {
   "codemirror_mode": {
    "name": "ipython",
    "version": 3
   },
   "file_extension": ".py",
   "mimetype": "text/x-python",
   "name": "python",
   "nbconvert_exporter": "python",
   "pygments_lexer": "ipython3",
   "version": "3.9.12"
  }
 },
 "nbformat": 4,
 "nbformat_minor": 2
}
