{
 "cells": [
  {
   "cell_type": "code",
   "execution_count": 1,
   "metadata": {},
   "outputs": [
    {
     "name": "stdout",
     "output_type": "stream",
     "text": [
      "C:\\Users\\Vishnu Murthy Chakka\n",
      "C:\\Vishnu Murthy Chakka\\Knowledge Base\\Data Science\\Manuals\\Clustering\n"
     ]
    }
   ],
   "source": [
    "import numpy as np\n",
    "import pandas as pd\n",
    "import os\n",
    "print (os.getcwd())\n",
    "os.chdir(\"C://Vishnu Murthy Chakka/Knowledge Base/Data Science/Manuals/Clustering\")\n",
    "print (os.getcwd())"
   ]
  },
  {
   "cell_type": "code",
   "execution_count": 2,
   "metadata": {},
   "outputs": [
    {
     "data": {
      "text/html": [
       "<div>\n",
       "<style>\n",
       "    .dataframe thead tr:only-child th {\n",
       "        text-align: right;\n",
       "    }\n",
       "\n",
       "    .dataframe thead th {\n",
       "        text-align: left;\n",
       "    }\n",
       "\n",
       "    .dataframe tbody tr th {\n",
       "        vertical-align: top;\n",
       "    }\n",
       "</style>\n",
       "<table border=\"1\" class=\"dataframe\">\n",
       "  <thead>\n",
       "    <tr style=\"text-align: right;\">\n",
       "      <th></th>\n",
       "      <th>volume_id</th>\n",
       "      <th>layer_id</th>\n",
       "      <th>module_id</th>\n",
       "      <th>cx</th>\n",
       "      <th>cy</th>\n",
       "      <th>cz</th>\n",
       "    </tr>\n",
       "  </thead>\n",
       "  <tbody>\n",
       "    <tr>\n",
       "      <th>count</th>\n",
       "      <td>18728.000000</td>\n",
       "      <td>18728.000000</td>\n",
       "      <td>18728.000000</td>\n",
       "      <td>1.872800e+04</td>\n",
       "      <td>1.872800e+04</td>\n",
       "      <td>18728.000000</td>\n",
       "    </tr>\n",
       "    <tr>\n",
       "      <th>mean</th>\n",
       "      <td>13.402179</td>\n",
       "      <td>5.398761</td>\n",
       "      <td>108.851773</td>\n",
       "      <td>-3.035210e-17</td>\n",
       "      <td>1.312728e-16</td>\n",
       "      <td>0.000000</td>\n",
       "    </tr>\n",
       "    <tr>\n",
       "      <th>std</th>\n",
       "      <td>3.364657</td>\n",
       "      <td>2.865323</td>\n",
       "      <td>71.480521</td>\n",
       "      <td>4.637194e+02</td>\n",
       "      <td>4.637194e+02</td>\n",
       "      <td>1050.729994</td>\n",
       "    </tr>\n",
       "    <tr>\n",
       "      <th>min</th>\n",
       "      <td>7.000000</td>\n",
       "      <td>2.000000</td>\n",
       "      <td>0.000000</td>\n",
       "      <td>-1.021280e+03</td>\n",
       "      <td>-1.021280e+03</td>\n",
       "      <td>-2955.500000</td>\n",
       "    </tr>\n",
       "    <tr>\n",
       "      <th>25%</th>\n",
       "      <td>12.000000</td>\n",
       "      <td>4.000000</td>\n",
       "      <td>48.000000</td>\n",
       "      <td>-2.994700e+02</td>\n",
       "      <td>-2.948250e+02</td>\n",
       "      <td>-618.000000</td>\n",
       "    </tr>\n",
       "    <tr>\n",
       "      <th>50%</th>\n",
       "      <td>13.000000</td>\n",
       "      <td>4.000000</td>\n",
       "      <td>97.000000</td>\n",
       "      <td>3.050000e-14</td>\n",
       "      <td>0.000000e+00</td>\n",
       "      <td>0.000000</td>\n",
       "    </tr>\n",
       "    <tr>\n",
       "      <th>75%</th>\n",
       "      <td>17.000000</td>\n",
       "      <td>8.000000</td>\n",
       "      <td>165.000000</td>\n",
       "      <td>2.994700e+02</td>\n",
       "      <td>2.948250e+02</td>\n",
       "      <td>618.000000</td>\n",
       "    </tr>\n",
       "    <tr>\n",
       "      <th>max</th>\n",
       "      <td>18.000000</td>\n",
       "      <td>14.000000</td>\n",
       "      <td>255.000000</td>\n",
       "      <td>1.021280e+03</td>\n",
       "      <td>1.021280e+03</td>\n",
       "      <td>2955.500000</td>\n",
       "    </tr>\n",
       "  </tbody>\n",
       "</table>\n",
       "</div>"
      ],
      "text/plain": [
       "          volume_id      layer_id     module_id            cx            cy  \\\n",
       "count  18728.000000  18728.000000  18728.000000  1.872800e+04  1.872800e+04   \n",
       "mean      13.402179      5.398761    108.851773 -3.035210e-17  1.312728e-16   \n",
       "std        3.364657      2.865323     71.480521  4.637194e+02  4.637194e+02   \n",
       "min        7.000000      2.000000      0.000000 -1.021280e+03 -1.021280e+03   \n",
       "25%       12.000000      4.000000     48.000000 -2.994700e+02 -2.948250e+02   \n",
       "50%       13.000000      4.000000     97.000000  3.050000e-14  0.000000e+00   \n",
       "75%       17.000000      8.000000    165.000000  2.994700e+02  2.948250e+02   \n",
       "max       18.000000     14.000000    255.000000  1.021280e+03  1.021280e+03   \n",
       "\n",
       "                 cz  \n",
       "count  18728.000000  \n",
       "mean       0.000000  \n",
       "std     1050.729994  \n",
       "min    -2955.500000  \n",
       "25%     -618.000000  \n",
       "50%        0.000000  \n",
       "75%      618.000000  \n",
       "max     2955.500000  "
      ]
     },
     "execution_count": 2,
     "metadata": {},
     "output_type": "execute_result"
    }
   ],
   "source": [
    "dtypes = {'volume_id':np.uint8,\n",
    "          'layer_id':np.uint8,\n",
    "          'module_id':np.uint8,\n",
    "          'cx':np.float64,\n",
    "          'cy':np.float64,\n",
    "          'cz':np.float64}\n",
    "Detector = pd.read_csv('DBSCAN.csv',dtype=dtypes)\n",
    "Detector.describe()"
   ]
  },
  {
   "cell_type": "code",
   "execution_count": 60,
   "metadata": {},
   "outputs": [
    {
     "name": "stdout",
     "output_type": "stream",
     "text": [
      "       volume_id  layer_id  module_id            cx            cy           cz\n",
      "count      108.0     108.0  108.00000  1.080000e+02  1.080000e+02   108.000000\n",
      "mean         7.0       2.0   54.50000 -2.368476e-15 -3.445803e-15 -1500.000000\n",
      "std          0.0       0.0   31.32092  8.391803e+01  8.391803e+01     2.111384\n",
      "min          7.0       2.0    1.00000 -1.398510e+02 -1.398510e+02 -1502.500000\n",
      "25%          7.0       2.0   27.75000 -6.417640e+01 -6.417640e+01 -1502.000000\n",
      "50%          7.0       2.0   54.50000  0.000000e+00  0.000000e+00 -1500.000000\n",
      "75%          7.0       2.0   81.25000  6.417640e+01  6.417640e+01 -1498.000000\n",
      "max          7.0       2.0  108.00000  1.398510e+02  1.398510e+02 -1497.500000\n",
      "                 cx            cy\n",
      "count  1.080000e+02  1.080000e+02\n",
      "mean  -2.368476e-15 -3.445803e-15\n",
      "std    8.391803e+01  8.391803e+01\n",
      "min   -1.398510e+02 -1.398510e+02\n",
      "25%   -6.417640e+01 -6.417640e+01\n",
      "50%    0.000000e+00  0.000000e+00\n",
      "75%    6.417640e+01  6.417640e+01\n",
      "max    1.398510e+02  1.398510e+02\n"
     ]
    }
   ],
   "source": [
    "# extract subset where volume id = 7 and layer = 2\n",
    "detector1 = Detector[(Detector.volume_id == 7) & (Detector.layer_id == 2)]\n",
    "print(detector1.describe())\n",
    "detector1 = detector1[['cx','cy']]\n",
    "print(detector1.describe())"
   ]
  },
  {
   "cell_type": "code",
   "execution_count": 4,
   "metadata": {},
   "outputs": [
    {
     "data": {
      "image/png": "[encoded data removed]",
      "text/plain": [
       "<matplotlib.figure.Figure at 0x196cf64b588>"
      ]
     },
     "metadata": {},
     "output_type": "display_data"
    }
   ],
   "source": [
    "from matplotlib import pyplot as plt\n",
    "plt.scatter(detector1.cx,detector1.cy,marker = 'o')\n",
    "plt.show()"
   ]
  },
  {
   "cell_type": "code",
   "execution_count": 20,
   "metadata": {},
   "outputs": [
    {
     "data": {
      "text/plain": [
       "array([[  48.89599401,  128.86864224],\n",
       "       [  96.14586593,  200.60444581],\n",
       "       [ 102.41030426,  197.47868707],\n",
       "       [  58.78976513,  124.6664224 ],\n",
       "       [ 108.87375998,  193.99042638],\n",
       "       [  68.34068419,  119.69751465],\n",
       "       [ 115.45146113,  190.14903785],\n",
       "       [ 122.0738958 ,  185.96730628],\n",
       "       [  77.48266391,  113.99299937],\n",
       "       [ 128.68159219,  181.45779497],\n",
       "       [ 135.22482571,  176.63625692],\n",
       "       [  86.1554205 ,  107.58813361],\n",
       "       [ 141.66007944,  171.51822267],\n",
       "       [  94.30306493,  100.5231064 ],\n",
       "       [ 147.95013677,  166.12246901],\n",
       "       [ 154.06299482,  160.47016059],\n",
       "       [ 101.87403188,   92.84206343],\n",
       "       [ 159.96908852,  154.58334795],\n",
       "       [ 165.64236967,  148.4873358 ],\n",
       "       [ 108.82045862,   84.59345079],\n",
       "       [ 171.0609468 ,  142.21120744],\n",
       "       [ 176.20336969,  135.78685129],\n",
       "       [ 115.09911576,   75.82972313],\n",
       "       [ 181.05191699,  129.25163245],\n",
       "       [ 120.67064683,   66.60735828],\n",
       "       [ 185.58905137,  122.64748786],\n",
       "       [ 189.80093261,  116.02489902],\n",
       "       [ 125.50043987,   56.9875844 ],\n",
       "       [ 193.6722393 ,  109.44055436],\n",
       "       [ 197.19092885,  102.96329368],\n",
       "       [ 129.55847412,   47.03780546],\n",
       "       [ 200.34794259,   96.67721055],\n",
       "       [ 132.81945945,   36.836603  ],\n",
       "       [ 203.13263506,   90.67981609],\n",
       "       [ 205.53751113,   85.08940333],\n",
       "       [ 135.26333363,   26.49146443],\n",
       "       [ 207.55489859,   80.04278603],\n",
       "       [ 209.17964864,   75.6967327 ],\n",
       "       [ 136.87475043,   16.22546365],\n",
       "       [ 210.40630935,   72.21678338],\n",
       "       [ 211.23165197,   69.76465356],\n",
       "       [ 137.64380666,    7.22118158],\n",
       "       [ 211.65413746,   68.47338833],\n",
       "       [ 137.56574817,    8.58091157],\n",
       "       [ 211.6717949 ,   68.41909084],\n",
       "       [ 211.28430592,   69.60478141],\n",
       "       [ 136.64094331,   18.08858037],\n",
       "       [ 210.49364818,   71.96039964],\n",
       "       [ 209.30135535,   75.35674571],\n",
       "       [ 134.87534078,   28.40063044],\n",
       "       [ 207.71152976,   79.63480107],\n",
       "       [ 132.2797029 ,   38.73016115],\n",
       "       [ 205.72795662,   84.62688775],\n",
       "       [ 203.35755638,   90.1769121 ],\n",
       "       [ 128.86864224,   48.89599401],\n",
       "       [ 200.60444581,   96.14586593],\n",
       "       [ 197.47868707,  102.41030426],\n",
       "       [ 124.6664224 ,   58.78976513],\n",
       "       [ 193.99042638,  108.87375998],\n",
       "       [ 119.69751465,   68.34068419],\n",
       "       [ 190.14903785,  115.45146113],\n",
       "       [ 185.96730628,  122.0738958 ],\n",
       "       [ 113.99299937,   77.48266391],\n",
       "       [ 181.45779497,  128.68159219],\n",
       "       [ 176.63625692,  135.22482571],\n",
       "       [ 107.58813361,   86.1554205 ],\n",
       "       [ 171.51822267,  141.66007944],\n",
       "       [ 100.5231064 ,   94.30306493],\n",
       "       [ 166.12246901,  147.95013677],\n",
       "       [ 160.47016059,  154.06299482],\n",
       "       [  92.84206343,  101.87403188],\n",
       "       [ 154.58334795,  159.96908852],\n",
       "       [ 148.4873358 ,  165.64236967],\n",
       "       [  84.59345079,  108.82045862],\n",
       "       [ 142.21120744,  171.0609468 ],\n",
       "       [ 135.78685129,  176.20336969],\n",
       "       [  75.82972313,  115.09911576],\n",
       "       [ 129.25163245,  181.05191699],\n",
       "       [  66.60735828,  120.67064683],\n",
       "       [ 122.64748786,  185.58905137],\n",
       "       [ 116.02489902,  189.80093261],\n",
       "       [  56.9875844 ,  125.50043987],\n",
       "       [ 109.44055436,  193.6722393 ],\n",
       "       [ 102.96329368,  197.19092885],\n",
       "       [  47.03780546,  129.55847412],\n",
       "       [  96.67721055,  200.34794259],\n",
       "       [  36.836603  ,  132.81945945],\n",
       "       [  90.67981609,  203.13263506],\n",
       "       [  85.08940333,  205.53751113],\n",
       "       [  26.49146443,  135.26333363],\n",
       "       [  80.04278603,  207.55489859],\n",
       "       [  75.6967327 ,  209.17964864],\n",
       "       [  16.22546365,  136.87475043],\n",
       "       [  72.21678338,  210.40630935],\n",
       "       [  69.76465356,  211.23165197],\n",
       "       [   7.22118158,  137.64380666],\n",
       "       [  68.47338833,  211.65413746],\n",
       "       [   8.58091157,  137.56574817],\n",
       "       [  68.41909084,  211.6717949 ],\n",
       "       [  69.60478141,  211.28430592],\n",
       "       [  18.08858037,  136.64094331],\n",
       "       [  71.96039964,  210.49364818],\n",
       "       [  75.35674571,  209.30135535],\n",
       "       [  28.40063044,  134.87534078],\n",
       "       [  79.63480107,  207.71152976],\n",
       "       [  38.73016115,  132.2797029 ],\n",
       "       [  84.62688775,  205.72795662],\n",
       "       [  90.1769121 ,  203.35755638]])"
      ]
     },
     "execution_count": 20,
     "metadata": {},
     "output_type": "execute_result"
    }
   ],
   "source": [
    "# perform clustering with KNN\n",
    "from sklearn.cluster import KMeans\n",
    "KMN = KMeans(n_clusters = 2)\n",
    "KMN.fit_transform(detector1)"
   ]
  },
  {
   "cell_type": "code",
   "execution_count": 21,
   "metadata": {},
   "outputs": [
    {
     "data": {
      "text/plain": [
       "array([0, 0, 0, 0, 0, 0, 0, 0, 0, 0, 0, 0, 0, 0, 0, 0, 1, 1, 1, 1, 1, 1, 1,\n",
       "       1, 1, 1, 1, 1, 1, 1, 1, 1, 1, 1, 1, 1, 1, 1, 1, 1, 1, 1, 1, 1, 1, 1,\n",
       "       1, 1, 1, 1, 1, 1, 1, 1, 1, 1, 1, 1, 1, 1, 1, 1, 1, 1, 1, 1, 1, 1, 1,\n",
       "       1, 0, 0, 0, 0, 0, 0, 0, 0, 0, 0, 0, 0, 0, 0, 0, 0, 0, 0, 0, 0, 0, 0,\n",
       "       0, 0, 0, 0, 0, 0, 0, 0, 0, 0, 0, 0, 0, 0, 0, 0])"
      ]
     },
     "execution_count": 21,
     "metadata": {},
     "output_type": "execute_result"
    }
   ],
   "source": [
    "KMN.labels_"
   ]
  },
  {
   "cell_type": "code",
   "execution_count": 22,
   "metadata": {},
   "outputs": [
    {
     "data": {
      "text/html": [
       "<div>\n",
       "<style>\n",
       "    .dataframe thead tr:only-child th {\n",
       "        text-align: right;\n",
       "    }\n",
       "\n",
       "    .dataframe thead th {\n",
       "        text-align: left;\n",
       "    }\n",
       "\n",
       "    .dataframe tbody tr th {\n",
       "        vertical-align: top;\n",
       "    }\n",
       "</style>\n",
       "<table border=\"1\" class=\"dataframe\">\n",
       "  <thead>\n",
       "    <tr style=\"text-align: right;\">\n",
       "      <th></th>\n",
       "      <th>cx</th>\n",
       "      <th>cy</th>\n",
       "      <th>cluster</th>\n",
       "    </tr>\n",
       "  </thead>\n",
       "  <tbody>\n",
       "    <tr>\n",
       "      <th>count</th>\n",
       "      <td>1.080000e+02</td>\n",
       "      <td>1.080000e+02</td>\n",
       "      <td>108.000000</td>\n",
       "    </tr>\n",
       "    <tr>\n",
       "      <th>mean</th>\n",
       "      <td>-2.368476e-15</td>\n",
       "      <td>-3.445803e-15</td>\n",
       "      <td>0.500000</td>\n",
       "    </tr>\n",
       "    <tr>\n",
       "      <th>std</th>\n",
       "      <td>8.391803e+01</td>\n",
       "      <td>8.391803e+01</td>\n",
       "      <td>0.502331</td>\n",
       "    </tr>\n",
       "    <tr>\n",
       "      <th>min</th>\n",
       "      <td>-1.398510e+02</td>\n",
       "      <td>-1.398510e+02</td>\n",
       "      <td>0.000000</td>\n",
       "    </tr>\n",
       "    <tr>\n",
       "      <th>25%</th>\n",
       "      <td>-6.417640e+01</td>\n",
       "      <td>-6.417640e+01</td>\n",
       "      <td>0.000000</td>\n",
       "    </tr>\n",
       "    <tr>\n",
       "      <th>50%</th>\n",
       "      <td>0.000000e+00</td>\n",
       "      <td>0.000000e+00</td>\n",
       "      <td>0.500000</td>\n",
       "    </tr>\n",
       "    <tr>\n",
       "      <th>75%</th>\n",
       "      <td>6.417640e+01</td>\n",
       "      <td>6.417640e+01</td>\n",
       "      <td>1.000000</td>\n",
       "    </tr>\n",
       "    <tr>\n",
       "      <th>max</th>\n",
       "      <td>1.398510e+02</td>\n",
       "      <td>1.398510e+02</td>\n",
       "      <td>1.000000</td>\n",
       "    </tr>\n",
       "  </tbody>\n",
       "</table>\n",
       "</div>"
      ],
      "text/plain": [
       "                 cx            cy     cluster\n",
       "count  1.080000e+02  1.080000e+02  108.000000\n",
       "mean  -2.368476e-15 -3.445803e-15    0.500000\n",
       "std    8.391803e+01  8.391803e+01    0.502331\n",
       "min   -1.398510e+02 -1.398510e+02    0.000000\n",
       "25%   -6.417640e+01 -6.417640e+01    0.000000\n",
       "50%    0.000000e+00  0.000000e+00    0.500000\n",
       "75%    6.417640e+01  6.417640e+01    1.000000\n",
       "max    1.398510e+02  1.398510e+02    1.000000"
      ]
     },
     "execution_count": 22,
     "metadata": {},
     "output_type": "execute_result"
    }
   ],
   "source": [
    "detector2 = detector1\n",
    "detector2['cluster'] = KMN.labels_\n",
    "detector2.describe()"
   ]
  },
  {
   "cell_type": "code",
   "execution_count": 23,
   "metadata": {},
   "outputs": [
    {
     "name": "stdout",
     "output_type": "stream",
     "text": [
      "[[-57.40085556  42.98637778   0.2962963 ]\n",
      " [ 57.40085556 -42.98637778   0.7037037 ]]\n",
      "[-57.40085556  57.40085556]\n",
      "[ 42.98637778 -42.98637778]\n"
     ]
    }
   ],
   "source": [
    "centers = KMN.cluster_centers_\n",
    "print(centers)\n",
    "centerx = np.array([centers[0,0],centers[1,0]])\n",
    "centery = np.array([centers[0,1],centers[1,1]])\n",
    "print(centerx)\n",
    "print(centery)"
   ]
  },
  {
   "cell_type": "code",
   "execution_count": 24,
   "metadata": {},
   "outputs": [
    {
     "data": {
      "image/png": "[encoded data removed]",
      "text/plain": [
       "<matplotlib.figure.Figure at 0x196d26dddd8>"
      ]
     },
     "metadata": {},
     "output_type": "display_data"
    }
   ],
   "source": [
    "plt.scatter(detector2.cx,detector2.cy,c = detector1.cluster)\n",
    "plt.scatter(centerx,centery)\n",
    "plt.show()"
   ]
  },
  {
   "cell_type": "code",
   "execution_count": 47,
   "metadata": {},
   "outputs": [
    {
     "data": {
      "text/html": [
       "<div>\n",
       "<style>\n",
       "    .dataframe thead tr:only-child th {\n",
       "        text-align: right;\n",
       "    }\n",
       "\n",
       "    .dataframe thead th {\n",
       "        text-align: left;\n",
       "    }\n",
       "\n",
       "    .dataframe tbody tr th {\n",
       "        vertical-align: top;\n",
       "    }\n",
       "</style>\n",
       "<table border=\"1\" class=\"dataframe\">\n",
       "  <thead>\n",
       "    <tr style=\"text-align: right;\">\n",
       "      <th></th>\n",
       "      <th>cx</th>\n",
       "      <th>cy</th>\n",
       "    </tr>\n",
       "  </thead>\n",
       "  <tbody>\n",
       "    <tr>\n",
       "      <th>count</th>\n",
       "      <td>108.000000</td>\n",
       "      <td>108.000000</td>\n",
       "    </tr>\n",
       "    <tr>\n",
       "      <th>mean</th>\n",
       "      <td>71.714625</td>\n",
       "      <td>71.714625</td>\n",
       "    </tr>\n",
       "    <tr>\n",
       "      <th>std</th>\n",
       "      <td>43.025379</td>\n",
       "      <td>43.025379</td>\n",
       "    </tr>\n",
       "    <tr>\n",
       "      <th>min</th>\n",
       "      <td>5.178300</td>\n",
       "      <td>5.178300</td>\n",
       "    </tr>\n",
       "    <tr>\n",
       "      <th>25%</th>\n",
       "      <td>34.484900</td>\n",
       "      <td>34.484900</td>\n",
       "    </tr>\n",
       "    <tr>\n",
       "      <th>50%</th>\n",
       "      <td>64.176400</td>\n",
       "      <td>64.176400</td>\n",
       "    </tr>\n",
       "    <tr>\n",
       "      <th>75%</th>\n",
       "      <td>115.500000</td>\n",
       "      <td>115.500000</td>\n",
       "    </tr>\n",
       "    <tr>\n",
       "      <th>max</th>\n",
       "      <td>139.851000</td>\n",
       "      <td>139.851000</td>\n",
       "    </tr>\n",
       "  </tbody>\n",
       "</table>\n",
       "</div>"
      ],
      "text/plain": [
       "               cx          cy\n",
       "count  108.000000  108.000000\n",
       "mean    71.714625   71.714625\n",
       "std     43.025379   43.025379\n",
       "min      5.178300    5.178300\n",
       "25%     34.484900   34.484900\n",
       "50%     64.176400   64.176400\n",
       "75%    115.500000  115.500000\n",
       "max    139.851000  139.851000"
      ]
     },
     "execution_count": 47,
     "metadata": {},
     "output_type": "execute_result"
    }
   ],
   "source": [
    "# transform the data - get the absolute value of 'cx' and cy' and try the KMeans\n",
    "detector3 = detector1\n",
    "detector3.cx = np.abs(detector3.cx)\n",
    "detector3.cy = np.abs(detector3.cy)\n",
    "detector3.describe()"
   ]
  },
  {
   "cell_type": "code",
   "execution_count": 48,
   "metadata": {},
   "outputs": [
    {
     "data": {
      "text/html": [
       "<div>\n",
       "<style>\n",
       "    .dataframe thead tr:only-child th {\n",
       "        text-align: right;\n",
       "    }\n",
       "\n",
       "    .dataframe thead th {\n",
       "        text-align: left;\n",
       "    }\n",
       "\n",
       "    .dataframe tbody tr th {\n",
       "        vertical-align: top;\n",
       "    }\n",
       "</style>\n",
       "<table border=\"1\" class=\"dataframe\">\n",
       "  <thead>\n",
       "    <tr style=\"text-align: right;\">\n",
       "      <th></th>\n",
       "      <th>cx</th>\n",
       "      <th>cy</th>\n",
       "      <th>cluster</th>\n",
       "    </tr>\n",
       "  </thead>\n",
       "  <tbody>\n",
       "    <tr>\n",
       "      <th>count</th>\n",
       "      <td>108.000000</td>\n",
       "      <td>108.000000</td>\n",
       "      <td>108.000000</td>\n",
       "    </tr>\n",
       "    <tr>\n",
       "      <th>mean</th>\n",
       "      <td>71.714625</td>\n",
       "      <td>71.714625</td>\n",
       "      <td>0.481481</td>\n",
       "    </tr>\n",
       "    <tr>\n",
       "      <th>std</th>\n",
       "      <td>43.025379</td>\n",
       "      <td>43.025379</td>\n",
       "      <td>0.501986</td>\n",
       "    </tr>\n",
       "    <tr>\n",
       "      <th>min</th>\n",
       "      <td>5.178300</td>\n",
       "      <td>5.178300</td>\n",
       "      <td>0.000000</td>\n",
       "    </tr>\n",
       "    <tr>\n",
       "      <th>25%</th>\n",
       "      <td>34.484900</td>\n",
       "      <td>34.484900</td>\n",
       "      <td>0.000000</td>\n",
       "    </tr>\n",
       "    <tr>\n",
       "      <th>50%</th>\n",
       "      <td>64.176400</td>\n",
       "      <td>64.176400</td>\n",
       "      <td>0.000000</td>\n",
       "    </tr>\n",
       "    <tr>\n",
       "      <th>75%</th>\n",
       "      <td>115.500000</td>\n",
       "      <td>115.500000</td>\n",
       "      <td>1.000000</td>\n",
       "    </tr>\n",
       "    <tr>\n",
       "      <th>max</th>\n",
       "      <td>139.851000</td>\n",
       "      <td>139.851000</td>\n",
       "      <td>1.000000</td>\n",
       "    </tr>\n",
       "  </tbody>\n",
       "</table>\n",
       "</div>"
      ],
      "text/plain": [
       "               cx          cy     cluster\n",
       "count  108.000000  108.000000  108.000000\n",
       "mean    71.714625   71.714625    0.481481\n",
       "std     43.025379   43.025379    0.501986\n",
       "min      5.178300    5.178300    0.000000\n",
       "25%     34.484900   34.484900    0.000000\n",
       "50%     64.176400   64.176400    0.000000\n",
       "75%    115.500000  115.500000    1.000000\n",
       "max    139.851000  139.851000    1.000000"
      ]
     },
     "execution_count": 48,
     "metadata": {},
     "output_type": "execute_result"
    }
   ],
   "source": [
    "KMN2 = KMeans(n_clusters = 2)\n",
    "KMN2.fit_transform(detector3)\n",
    "detector4 = detector3\n",
    "detector4['cluster'] = KMN2.labels_\n",
    "detector4.describe()"
   ]
  },
  {
   "cell_type": "code",
   "execution_count": 49,
   "metadata": {},
   "outputs": [
    {
     "name": "stdout",
     "output_type": "stream",
     "text": [
      "[[ 101.25149286   44.12634857]\n",
      " [  39.90569077  101.42507692]]\n",
      "[ 101.25149286   39.90569077]\n",
      "[  44.12634857  101.42507692]\n"
     ]
    },
    {
     "data": {
      "image/png": "[encoded data removed]",
      "text/plain": [
       "<matplotlib.figure.Figure at 0x196d2754eb8>"
      ]
     },
     "metadata": {},
     "output_type": "display_data"
    }
   ],
   "source": [
    "centers = KMN2.cluster_centers_\n",
    "print(centers)\n",
    "centerx = np.array([centers[0,0],centers[1,0]])\n",
    "centery = np.array([centers[0,1],centers[1,1]])\n",
    "print(centerx)\n",
    "print(centery)\n",
    "plt.scatter(detector4.cx,detector4.cy,c = detector4.cluster)\n",
    "plt.scatter(centerx,centery)\n",
    "plt.show()"
   ]
  },
  {
   "cell_type": "code",
   "execution_count": 53,
   "metadata": {},
   "outputs": [
    {
     "data": {
      "text/html": [
       "<div>\n",
       "<style>\n",
       "    .dataframe thead tr:only-child th {\n",
       "        text-align: right;\n",
       "    }\n",
       "\n",
       "    .dataframe thead th {\n",
       "        text-align: left;\n",
       "    }\n",
       "\n",
       "    .dataframe tbody tr th {\n",
       "        vertical-align: top;\n",
       "    }\n",
       "</style>\n",
       "<table border=\"1\" class=\"dataframe\">\n",
       "  <thead>\n",
       "    <tr style=\"text-align: right;\">\n",
       "      <th></th>\n",
       "      <th>cx</th>\n",
       "      <th>cy</th>\n",
       "    </tr>\n",
       "  </thead>\n",
       "  <tbody>\n",
       "    <tr>\n",
       "      <th>count</th>\n",
       "      <td>108.000000</td>\n",
       "      <td>108.000000</td>\n",
       "    </tr>\n",
       "    <tr>\n",
       "      <th>mean</th>\n",
       "      <td>6977.030080</td>\n",
       "      <td>6977.030080</td>\n",
       "    </tr>\n",
       "    <tr>\n",
       "      <th>std</th>\n",
       "      <td>6714.013998</td>\n",
       "      <td>6714.013998</td>\n",
       "    </tr>\n",
       "    <tr>\n",
       "      <th>min</th>\n",
       "      <td>26.814791</td>\n",
       "      <td>26.814791</td>\n",
       "    </tr>\n",
       "    <tr>\n",
       "      <th>25%</th>\n",
       "      <td>1189.208328</td>\n",
       "      <td>1189.208328</td>\n",
       "    </tr>\n",
       "    <tr>\n",
       "      <th>50%</th>\n",
       "      <td>4118.610317</td>\n",
       "      <td>4118.610317</td>\n",
       "    </tr>\n",
       "    <tr>\n",
       "      <th>75%</th>\n",
       "      <td>13340.250000</td>\n",
       "      <td>13340.250000</td>\n",
       "    </tr>\n",
       "    <tr>\n",
       "      <th>max</th>\n",
       "      <td>19558.302201</td>\n",
       "      <td>19558.302201</td>\n",
       "    </tr>\n",
       "  </tbody>\n",
       "</table>\n",
       "</div>"
      ],
      "text/plain": [
       "                 cx            cy\n",
       "count    108.000000    108.000000\n",
       "mean    6977.030080   6977.030080\n",
       "std     6714.013998   6714.013998\n",
       "min       26.814791     26.814791\n",
       "25%     1189.208328   1189.208328\n",
       "50%     4118.610317   4118.610317\n",
       "75%    13340.250000  13340.250000\n",
       "max    19558.302201  19558.302201"
      ]
     },
     "execution_count": 53,
     "metadata": {},
     "output_type": "execute_result"
    }
   ],
   "source": [
    "# sqaure the cx & cy variable and try KMeans\n",
    "detector5 = detector1\n",
    "detector5.cx = np.square(detector5.cx)\n",
    "detector5.cy = np.square(detector5.cy)\n",
    "detector5.describe()"
   ]
  },
  {
   "cell_type": "code",
   "execution_count": 55,
   "metadata": {},
   "outputs": [
    {
     "data": {
      "image/png": "[encoded data removed]",
      "text/plain": [
       "<matplotlib.figure.Figure at 0x196d272a780>"
      ]
     },
     "metadata": {},
     "output_type": "display_data"
    }
   ],
   "source": [
    "plt.scatter(detector5.cx,detector5.cy,marker = 'o')\n",
    "plt.show()"
   ]
  },
  {
   "cell_type": "code",
   "execution_count": 56,
   "metadata": {},
   "outputs": [
    {
     "data": {
      "text/html": [
       "<div>\n",
       "<style>\n",
       "    .dataframe thead tr:only-child th {\n",
       "        text-align: right;\n",
       "    }\n",
       "\n",
       "    .dataframe thead th {\n",
       "        text-align: left;\n",
       "    }\n",
       "\n",
       "    .dataframe tbody tr th {\n",
       "        vertical-align: top;\n",
       "    }\n",
       "</style>\n",
       "<table border=\"1\" class=\"dataframe\">\n",
       "  <thead>\n",
       "    <tr style=\"text-align: right;\">\n",
       "      <th></th>\n",
       "      <th>cx</th>\n",
       "      <th>cy</th>\n",
       "      <th>cluster</th>\n",
       "    </tr>\n",
       "  </thead>\n",
       "  <tbody>\n",
       "    <tr>\n",
       "      <th>count</th>\n",
       "      <td>108.000000</td>\n",
       "      <td>108.000000</td>\n",
       "      <td>108.000000</td>\n",
       "    </tr>\n",
       "    <tr>\n",
       "      <th>mean</th>\n",
       "      <td>6977.030080</td>\n",
       "      <td>6977.030080</td>\n",
       "      <td>0.296296</td>\n",
       "    </tr>\n",
       "    <tr>\n",
       "      <th>std</th>\n",
       "      <td>6714.013998</td>\n",
       "      <td>6714.013998</td>\n",
       "      <td>0.458752</td>\n",
       "    </tr>\n",
       "    <tr>\n",
       "      <th>min</th>\n",
       "      <td>26.814791</td>\n",
       "      <td>26.814791</td>\n",
       "      <td>0.000000</td>\n",
       "    </tr>\n",
       "    <tr>\n",
       "      <th>25%</th>\n",
       "      <td>1189.208328</td>\n",
       "      <td>1189.208328</td>\n",
       "      <td>0.000000</td>\n",
       "    </tr>\n",
       "    <tr>\n",
       "      <th>50%</th>\n",
       "      <td>4118.610317</td>\n",
       "      <td>4118.610317</td>\n",
       "      <td>0.000000</td>\n",
       "    </tr>\n",
       "    <tr>\n",
       "      <th>75%</th>\n",
       "      <td>13340.250000</td>\n",
       "      <td>13340.250000</td>\n",
       "      <td>1.000000</td>\n",
       "    </tr>\n",
       "    <tr>\n",
       "      <th>max</th>\n",
       "      <td>19558.302201</td>\n",
       "      <td>19558.302201</td>\n",
       "      <td>1.000000</td>\n",
       "    </tr>\n",
       "  </tbody>\n",
       "</table>\n",
       "</div>"
      ],
      "text/plain": [
       "                 cx            cy     cluster\n",
       "count    108.000000    108.000000  108.000000\n",
       "mean    6977.030080   6977.030080    0.296296\n",
       "std     6714.013998   6714.013998    0.458752\n",
       "min       26.814791     26.814791    0.000000\n",
       "25%     1189.208328   1189.208328    0.000000\n",
       "50%     4118.610317   4118.610317    0.000000\n",
       "75%    13340.250000  13340.250000    1.000000\n",
       "max    19558.302201  19558.302201    1.000000"
      ]
     },
     "execution_count": 56,
     "metadata": {},
     "output_type": "execute_result"
    }
   ],
   "source": [
    "KMN3 = KMeans(n_clusters = 2)\n",
    "KMN3.fit_transform(detector5)\n",
    "detector6 = detector5\n",
    "detector6['cluster'] = KMN3.labels_\n",
    "detector6.describe()"
   ]
  },
  {
   "cell_type": "code",
   "execution_count": 57,
   "metadata": {},
   "outputs": [
    {
     "name": "stdout",
     "output_type": "stream",
     "text": [
      "[[  8571.5384831    3005.29292915]\n",
      " [  3190.07262361  16409.90581425]]\n",
      "[ 8571.5384831   3190.07262361]\n",
      "[  3005.29292915  16409.90581425]\n"
     ]
    },
    {
     "data": {
      "image/png": "[encoded data removed]",
      "text/plain": [
       "<matplotlib.figure.Figure at 0x196d277a5c0>"
      ]
     },
     "metadata": {},
     "output_type": "display_data"
    }
   ],
   "source": [
    "centers = KMN3.cluster_centers_\n",
    "print(centers)\n",
    "centerx = np.array([centers[0,0],centers[1,0]])\n",
    "centery = np.array([centers[0,1],centers[1,1]])\n",
    "print(centerx)\n",
    "print(centery)\n",
    "plt.scatter(detector6.cx,detector6.cy,c = detector6.cluster)\n",
    "plt.scatter(centerx,centery)\n",
    "plt.show()"
   ]
  },
  {
   "cell_type": "code",
   "execution_count": 62,
   "metadata": {},
   "outputs": [
    {
     "data": {
      "text/plain": [
       "array([-1, -1, -1, -1, -1, -1, -1, -1, -1, -1, -1, -1, -1, -1, -1, -1, -1,\n",
       "       -1, -1, -1, -1, -1, -1, -1, -1, -1, -1, -1, -1, -1, -1, -1, -1, -1,\n",
       "       -1, -1, -1, -1, -1, -1, -1, -1, -1, -1, -1, -1, -1, -1, -1, -1, -1,\n",
       "       -1, -1, -1, -1, -1, -1, -1, -1, -1, -1, -1, -1, -1, -1, -1, -1, -1,\n",
       "       -1, -1, -1, -1, -1, -1, -1, -1, -1, -1, -1, -1, -1, -1, -1, -1, -1,\n",
       "       -1, -1, -1, -1, -1, -1, -1, -1, -1, -1, -1, -1, -1, -1, -1, -1, -1,\n",
       "       -1, -1, -1, -1, -1, -1], dtype=int64)"
      ]
     },
     "execution_count": 62,
     "metadata": {},
     "output_type": "execute_result"
    }
   ],
   "source": [
    "# DBSCAN\n",
    "from sklearn.cluster import DBSCAN\n",
    "DBS = DBSCAN(eps=40,min_samples=10)\n",
    "DBS.fit(detector1)\n",
    "DBS.labels_"
   ]
  },
  {
   "cell_type": "code",
   "execution_count": null,
   "metadata": {
    "collapsed": true
   },
   "outputs": [],
   "source": []
  }
 ],
 "metadata": {
  "kernelspec": {
   "display_name": "Python 3",
   "language": "python",
   "name": "python3"
  },
  "language_info": {
   "codemirror_mode": {
    "name": "ipython",
    "version": 3
   },
   "file_extension": ".py",
   "mimetype": "text/x-python",
   "name": "python",
   "nbconvert_exporter": "python",
   "pygments_lexer": "ipython3",
   "version": "3.6.3"
  }
 },
 "nbformat": 4,
 "nbformat_minor": 2
}
